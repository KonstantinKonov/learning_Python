{
 "cells": [
  {
   "cell_type": "code",
   "execution_count": 3,
   "id": "weighted-trouble",
   "metadata": {},
   "outputs": [
    {
     "data": {
      "application/vnd.jupyter.widget-view+json": {
       "model_id": "789ac5c1f95a4d748186e0aa4fdff345",
       "version_major": 2,
       "version_minor": 0
      },
      "text/plain": [
       "GridspecLayout(children=(Button(button_style='danger', description='Button 0 - 0', layout=Layout(grid_area='wi…"
      ]
     },
     "metadata": {},
     "output_type": "display_data"
    }
   ],
   "source": [
    "# Grid Layout\n",
    "import ipywidgets as wgts\n",
    "\n",
    "def create_expanded_button(description, button_style):\n",
    "    return wgts.Button(description = description, button_style = button_style, layout = wgts.Layout(height = \"auto\", width = \"auto\"))\n",
    "\n",
    "grd = wgts.GridspecLayout(4, 3)\n",
    "\n",
    "for i in range(4):\n",
    "    for j in range(3):\n",
    "        grd[i, j] = create_expanded_button(\"Button {} - {}\".format(i, j), \"danger\")\n",
    "\n",
    "display(grd)"
   ]
  },
  {
   "cell_type": "code",
   "execution_count": null,
   "id": "continuous-deficit",
   "metadata": {},
   "outputs": [],
   "source": []
  }
 ],
 "metadata": {
  "kernelspec": {
   "display_name": "Python 3",
   "language": "python",
   "name": "python3"
  },
  "language_info": {
   "codemirror_mode": {
    "name": "ipython",
    "version": 3
   },
   "file_extension": ".py",
   "mimetype": "text/x-python",
   "name": "python",
   "nbconvert_exporter": "python",
   "pygments_lexer": "ipython3",
   "version": "3.8.5"
  }
 },
 "nbformat": 4,
 "nbformat_minor": 5
}
