{
 "cells": [
  {
   "cell_type": "code",
   "execution_count": 1,
   "id": "altered-accused",
   "metadata": {},
   "outputs": [],
   "source": [
    "# Minimal\n",
    "import tkinter as tk\n",
    "\n",
    "root = tk.Tk()\n",
    "\n",
    "lbl = tk.Label(root, text = \"Welcome to GeekForGeeks\")\n",
    "\n",
    "lbl.pack()\n",
    "\n",
    "root.mainloop()"
   ]
  },
  {
   "cell_type": "code",
   "execution_count": 1,
   "id": "changing-christian",
   "metadata": {},
   "outputs": [],
   "source": [
    "# Simple Counter with Two Buttons\n",
    "import tkinter as tk\n",
    "from functools import partial # for command with parameters\n",
    "\n",
    "counter = 0\n",
    "class SimpleCounter():\n",
    "    def __init__(self, val):\n",
    "        self.val = val\n",
    "    def decrease(self, lbl):\n",
    "        self.val -= 1\n",
    "        self.show_val(lbl)\n",
    "    def increase(self, lbl):\n",
    "        self.val += 1\n",
    "        self.show_val(lbl)\n",
    "    def get_value(self):\n",
    "        return self.val\n",
    "    def get_value_str(self):\n",
    "        return str(self.val)\n",
    "    def show_val(self, lbl):\n",
    "        lbl.config(text = str(self.val))\n",
    "        \n",
    "\n",
    "main_win = tk.Tk()\n",
    "main_win.title(\"Simple Counter\")\n",
    "\n",
    "sc = SimpleCounter(0)\n",
    "lbl_counter = tk.Label(main_win, text = sc.get_value_str())\n",
    "bt_minus = tk.Button(main_win, text = \"-\", width = 25, command = partial(sc.decrease, lbl_counter))\n",
    "bt_plus = tk.Button(main_win, text = \"+\", width = 25, command = partial(sc.increase, lbl_counter))\n",
    "\n",
    "lbl_counter.pack()\n",
    "bt_minus.pack()\n",
    "bt_plus.pack()\n",
    "\n",
    "main_win.mainloop()"
   ]
  },
  {
   "cell_type": "code",
   "execution_count": 2,
   "id": "sensitive-stack",
   "metadata": {},
   "outputs": [],
   "source": [
    "# Add Style to TKinter Objects\n",
    "import tkinter as tk\n",
    "import tkinter.ttk as ttk\n",
    "\n",
    "win = tk.Tk()\n",
    "win.geometry(\"300x200\")\n",
    "win.title(\"Styling Buttons\")\n",
    "\n",
    "style = ttk.Style()\n",
    "style.configure(\"W.TButton\", font = (\"calibri\", 10, \"bold\", \"underline\"), foreground = \"red\", background = \"black\")\n",
    "\n",
    "lbl = tk.Label(win, text = \"This is a label\")\n",
    "btn = ttk.Button(win, text = \"Exit\", style = \"W.TButton\", command = win.destroy)\n",
    "btn.grid(row = 0, column = 3, padx = 100)\n",
    "lbl.grid(row = 1, column = 3, pady = 10, padx = 100)\n",
    "\n",
    "win.mainloop()"
   ]
  },
  {
   "cell_type": "code",
   "execution_count": 39,
   "id": "distributed-republic",
   "metadata": {},
   "outputs": [
    {
     "name": "stdout",
     "output_type": "stream",
     "text": [
      "8.6\n"
     ]
    }
   ],
   "source": [
    "# Add Picture \n",
    "import tkinter as tk\n",
    "\n",
    "print(tk.TkVersion)"
   ]
  },
  {
   "cell_type": "code",
   "execution_count": 110,
   "id": "competitive-frontier",
   "metadata": {},
   "outputs": [],
   "source": [
    "# Entry\n",
    "import tkinter as tk\n",
    "from functools import partial\n",
    "\n",
    "pass_filename = \"passwd.txt\"\n",
    "\n",
    "def write_pass(*entry_tpl):\n",
    "    s = \"\"\n",
    "    for el in entry_tpl:\n",
    "        s = s + el.get() + ':'\n",
    "    if s != \"\":\n",
    "        with open(pass_filename, \"a\") as fp:\n",
    "            fp.write(s[:-1] + '\\n')\n",
    "\n",
    "win = tk.Tk()\n",
    "#win.geometry(\"480x200\")\n",
    "\n",
    "lbl_username = tk.Label(win, text = \"Username\").grid(row = 0, column = 0, sticky = E, pady = 10, padx = 10)\n",
    "lbl_password = tk.Label(win, text = \"Password\").grid(row = 1, column = 0, sticky = E, pady = 10, padx = 10)\n",
    "\n",
    "username = StringVar()\n",
    "password = StringVar()\n",
    "entry_username = tk.Entry(win, width = 30, textvariable = username)\n",
    "entry_username.grid(row = 0, column = 1, sticky = W, pady = 10, padx = 10)\n",
    "entry_password = tk.Entry(win, width = 30, textvariable = password)\n",
    "entry_password.grid(row = 1, column = 1, sticky = W, pady = 10, padx = 10)\n",
    "\n",
    "btn_enter = tk.Button(win, text = \"Enter\", width = 10, command = partial(write_pass, entry_username, entry_password))\n",
    "btn_enter.grid(row = 3, column = 0, sticky = SE, pady = 10, padx = 10)\n",
    "btn_exit = tk.Button(win, text = \"Exit\", width = 10, command = win.destroy)\n",
    "btn_exit.grid(row = 3, column = 1, sticky = SW, pady = 10, padx = 10)\n",
    "\n",
    "win.mainloop()"
   ]
  },
  {
   "cell_type": "code",
   "execution_count": 138,
   "id": "arbitrary-bride",
   "metadata": {},
   "outputs": [],
   "source": [
    "import tkinter as tk\n",
    "\n",
    "win = tk.Tk() \n",
    "win.title(\"Paint App\") \n",
    "win.geometry(\"500x350\") \n",
    "\n",
    "def display(event): \n",
    "    x1, y1, x2, y2 = event.x, event.y, event.x, event.y  \n",
    "    clr = \"#476042\" \n",
    "    cnvs.create_line(x1, y1, x2 + 1, y2, fill = clr) \n",
    "    \n",
    "cnvs = tk.Canvas(win, width = 400, height = 250)  \n",
    "\n",
    "cnvs.bind(\"<B1-Motion>\", display) \n",
    "  \n",
    "lbl = tk.Label(win, text = \"Double Click and Drag to draw.\") \n",
    "lbl.pack() \n",
    "cnvs.pack() \n",
    "\n",
    "win.mainloop() "
   ]
  },
  {
   "cell_type": "code",
   "execution_count": null,
   "id": "offshore-astrology",
   "metadata": {},
   "outputs": [],
   "source": []
  },
  {
   "cell_type": "code",
   "execution_count": null,
   "id": "christian-holder",
   "metadata": {},
   "outputs": [],
   "source": []
  }
 ],
 "metadata": {
  "kernelspec": {
   "display_name": "Python 3",
   "language": "python",
   "name": "python3"
  },
  "language_info": {
   "codemirror_mode": {
    "name": "ipython",
    "version": 3
   },
   "file_extension": ".py",
   "mimetype": "text/x-python",
   "name": "python",
   "nbconvert_exporter": "python",
   "pygments_lexer": "ipython3",
   "version": "3.8.5"
  }
 },
 "nbformat": 4,
 "nbformat_minor": 5
}
