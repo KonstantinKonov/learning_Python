{
 "cells": [
  {
   "cell_type": "code",
   "execution_count": 5,
   "id": "humanitarian-hungarian",
   "metadata": {},
   "outputs": [
    {
     "name": "stdout",
     "output_type": "stream",
     "text": [
      "[1 2 3 4 5]\n",
      "shape: (5,)\n",
      "size: 5\n",
      "ndim: 1\n",
      "nbytes: 40\n",
      "dtype: int64\n",
      "[[1 2 3]\n",
      " [4 5 6]]\n",
      "shape: (2, 3)\n",
      "size: 6\n",
      "ndim: 2\n",
      "nbytes: 48\n",
      "dtype: int64\n"
     ]
    }
   ],
   "source": [
    "# numpy array: properties\n",
    "import numpy as np\n",
    "arr = np.array([1, 2, 3, 4, 5])\n",
    "arr_2d = np.array([[1, 2, 3], [4, 5, 6]])\n",
    "\n",
    "def print_attributes(a):\n",
    "    print(\"shape:\", a.shape)\n",
    "    print(\"size:\", a.size)\n",
    "    print(\"ndim:\", a.ndim)\n",
    "    print(\"nbytes:\", a.nbytes)\n",
    "    print(\"dtype:\", a.dtype)\n",
    "    \n",
    "print(arr)\n",
    "print_attributes(arr)\n",
    "print(arr_2d)\n",
    "print_attributes(arr_2d)"
   ]
  },
  {
   "cell_type": "code",
   "execution_count": 39,
   "id": "subject-burner",
   "metadata": {},
   "outputs": [
    {
     "name": "stdout",
     "output_type": "stream",
     "text": [
      "   11    12    13 \n",
      "   21    22    23 \n"
     ]
    }
   ],
   "source": [
    "#numpy array: using properties\n",
    "import numpy as np\n",
    "arr_2d = np.array([[11, 12, 13], [21, 22, 23]])\n",
    "\n",
    "def print_arr(a):\n",
    "    if a.ndim == 1:\n",
    "        (cols, ) = a.shape\n",
    "        for col in range(cols):\n",
    "            print(\"{:5}\".format(a[col]), end = ' ') # a[row][col] also works\n",
    "        print()\n",
    "    elif a.ndim == 2:\n",
    "        rows, cols = a.shape\n",
    "        for row in range(rows):\n",
    "            for col in range(cols):\n",
    "                print(\"{:5}\".format(a[row, col]), end = ' ') # a[row][col] also works\n",
    "            print()\n",
    "    else:\n",
    "        return\n",
    "    \n",
    "print_arr(arr_2d)"
   ]
  },
  {
   "cell_type": "code",
   "execution_count": 40,
   "id": "statistical-stockholm",
   "metadata": {},
   "outputs": [
    {
     "name": "stdout",
     "output_type": "stream",
     "text": [
      "  1.0   2.0   3.0 \n",
      "  1.0   2.0   3.0 \n"
     ]
    }
   ],
   "source": [
    "# numpy array: setting dtype\n",
    "import numpy as np\n",
    "arr = np.array([1, 2, 3], dtype = np.float)\n",
    "print_arr(arr)\n",
    "\n",
    "# converting type\n",
    "arr.astype(np.int)\n",
    "print_arr(arr)"
   ]
  },
  {
   "cell_type": "code",
   "execution_count": 41,
   "id": "stunning-register",
   "metadata": {},
   "outputs": [
    {
     "name": "stdout",
     "output_type": "stream",
     "text": [
      "   1j (1.4142135623730951+0j) (1.7320508075688772+0j) \n"
     ]
    }
   ],
   "source": [
    "# numpy array: complex type\n",
    "import numpy as np\n",
    "arr = np.array([-1, 2, 3], dtype = np.float)\n",
    "arr = np.sqrt(arr, dtype = complex)\n",
    "print_arr(arr)"
   ]
  },
  {
   "cell_type": "code",
   "execution_count": 44,
   "id": "sacred-hometown",
   "metadata": {},
   "outputs": [
    {
     "name": "stdout",
     "output_type": "stream",
     "text": [
      "    0     0     0 \n",
      "    0     0     0 \n",
      "    1     1     1     1     1 \n",
      "    1     1     1     1     1 \n",
      "    1     1     1     1     1 \n",
      "    1     0     0 \n",
      "    0     2     0 \n",
      "    0     0     3 \n",
      "  0.1   0.2   0.3   0.4   0.5   0.6   0.7   0.8   0.9 \n",
      "    1     2     3     4     5     6     7     8     9    10 \n",
      " 10.0 100.0 1000.0 10000.0 100000.0 1000000.0 10000000.0 100000000.0 1000000000.0 10000000000.0 \n",
      "[[1. 1. 1. 1. 1.]\n",
      " [1. 1. 1. 1. 1.]\n",
      " [1. 1. 1. 1. 1.]\n",
      " [1. 1. 1. 1. 1.]\n",
      " [1. 1. 1. 1. 1.]]\n",
      "[[1. 1. 1.]\n",
      " [1. 1. 1.]\n",
      " [1. 1. 1.]]\n",
      "  1.0   1.0   1.0 \n",
      "  1.0   1.0   1.0 \n",
      "  1.0   1.0   1.0 \n",
      "  1.0   0.0   0.0   0.0   0.0 \n",
      "  0.0   1.0   0.0   0.0   0.0 \n",
      "  0.0   0.0   1.0   0.0   0.0 \n",
      "  0.0   0.0   0.0   1.0   0.0 \n",
      "  0.0   0.0   0.0   0.0   1.0 \n",
      "  0.0   0.0   0.0 \n",
      "  1.0   0.0   0.0 \n",
      "  0.0   1.0   0.0 \n",
      "  0.0   1.0   2.0   3.0   4.0 \n",
      " 10.0  11.0  12.0  13.0  14.0 \n",
      " 20.0  21.0  22.0  23.0  24.0 \n"
     ]
    }
   ],
   "source": [
    "# numpy array: generate array\n",
    "import numpy as np\n",
    "print_arr(np.zeros(shape = (2, 3), dtype = int))\n",
    "print_arr(np.ones(shape = (3, 5), dtype = int))\n",
    "print_arr(np.diag([1, 2, 3]))\n",
    "print_arr(np.around(np.arange(0.1, 1, 0.1), 1))\n",
    "print_arr(np.linspace(1, 10, 10, dtype = int))\n",
    "print_arr(np.logspace(1, 10 , 10))\n",
    "\n",
    "arr = np.empty((5, 5)) # not initialized array\n",
    "arr.fill(1.0)\n",
    "print(arr)\n",
    "\n",
    "arr = np.full((3,3), 1.0)\n",
    "print(arr)\n",
    "\n",
    "arr_like = np.ones_like(arr)\n",
    "print_arr(arr_like)\n",
    "\n",
    "arr = np.identity(5)\n",
    "print_arr(arr)\n",
    "\n",
    "arr = np.eye(3, k = -1)\n",
    "print_arr(arr)\n",
    "\n",
    "f = lambda m, n : n + 10 * m\n",
    "arr = np.fromfunction(f, (3, 5), dtype = float)\n",
    "print_arr(arr)\n",
    "\n"
   ]
  },
  {
   "cell_type": "code",
   "execution_count": 131,
   "id": "retained-token",
   "metadata": {},
   "outputs": [
    {
     "name": "stdout",
     "output_type": "stream",
     "text": [
      "single random value: 0.7368917997541709\n",
      "random array: [[0.59928446 0.35356035 0.39985873]\n",
      " [0.78225797 0.90281469 0.10251781]]\n",
      "random integers: [8 3 8 9 2 7 2 5 2 4]\n",
      "random integers: [0 0 8 4 6 1 9 8 4 6]\n",
      "[[0.34317034 0.96994594 0.84481246]\n",
      " [0.64834592 0.33678393 0.60529782]]\n",
      "[[0.18292214 0.51197732 0.10362016]\n",
      " [0.12895184 0.19747151 0.98185555]]\n",
      "random choice: [4.25 2.5  2.5  3.75 3.25 3.25 3.   4.5  3.75 4.75]\n",
      "random bytes: b' P~\\x97\\x8b\\x8f\\x9f\\xf7\\xe4@'\n",
      "before shuffle: [1.  1.5 2.  2.5]\n",
      "after shuffle: [2.  1.  2.5 1.5]\n",
      "permutation: [2.  1.  2.5 1.5]\n"
     ]
    }
   ],
   "source": [
    "# numpy random\n",
    "import numpy as np\n",
    "import numpy.random as rnd\n",
    "\n",
    "# rand\n",
    "print(\"single random value:\", rnd.rand())\n",
    "print(\"random array:\", rnd.rand(2, 3)) #dont use \"shape = (x, y)\" or tuple (x, y)\n",
    "\n",
    "# randint\n",
    "print(\"random integers:\", rnd.randint(1, 10, 10))\n",
    "print(\"random integers:\", rnd.randint(low = 0, high = 10, size = 10, dtype = \"int64\")) # high excluded \n",
    "\n",
    "# random_integers\n",
    "print(rnd.random_sample((2,3))) # deprecated? difference from rand?\n",
    "\n",
    "# random\n",
    "print(rnd.random((2,3))) # difference from rand?\n",
    "\n",
    "# choice\n",
    "lst = np.arange(2.5, 5.0, 0.25)\n",
    "print(\"random choice:\", rnd.choice(lst, 10))\n",
    "\n",
    "# bytes\n",
    "print(\"random bytes:\", rnd.bytes(10)) #byte string\n",
    "\n",
    "# shuffle\n",
    "arr = np.arange(1, 3, 0.5)\n",
    "print(\"before shuffle:\", arr)\n",
    "rnd.shuffle(arr)\n",
    "print(\"after shuffle:\", arr)\n",
    "rnd.permutation(arr) # ???\n",
    "print(\"permutation:\", arr)\n"
   ]
  },
  {
   "cell_type": "code",
   "execution_count": 68,
   "id": "ranging-makeup",
   "metadata": {},
   "outputs": [
    {
     "name": "stdout",
     "output_type": "stream",
     "text": [
      "[0.0, 0.0, 0.0, 0.001, 0.006, 0.016, 0.04, 0.063, 0.121, 0.16, 0.172, 0.16, 0.104, 0.071, 0.039, 0.011, 0.008, 0.002, 0.0, 0.0, 0.0]\n"
     ]
    },
    {
     "data": {
      "text/plain": [
       "<BarContainer object of 21 artists>"
      ]
     },
     "execution_count": 68,
     "metadata": {},
     "output_type": "execute_result"
    },
    {
     "data": {
      "image/png": "[encoded data removed]",
      "text/plain": [
       "<Figure size 432x288 with 1 Axes>"
      ]
     },
     "metadata": {
      "needs_background": "light"
     },
     "output_type": "display_data"
    }
   ],
   "source": [
    "# Distributions: binomial\n",
    "import numpy as np\n",
    "from numpy import random as rnd\n",
    "rnd.seed()\n",
    "n, p, N = 20, 0.5, 1000 # n - number of trials, p - probability, N - number of averages\n",
    "\n",
    "b = [sum(rnd.binomial(n, p, N) == i)/N for i in range(n + 1)]\n",
    "x = [str(i) for i in range(n + 1)]\n",
    "print(b)\n",
    "\n",
    "import matplotlib.pyplot as plt\n",
    "%matplotlib inline\n",
    "\n",
    "fig, ax = plt.subplots()\n",
    "ax.bar(x, b)"
   ]
  },
  {
   "cell_type": "code",
   "execution_count": 11,
   "id": "cordless-mouse",
   "metadata": {},
   "outputs": [
    {
     "data": {
      "image/png": "[encoded data removed]",
      "text/plain": [
       "<Figure size 432x288 with 1 Axes>"
      ]
     },
     "metadata": {
      "needs_background": "light"
     },
     "output_type": "display_data"
    }
   ],
   "source": [
    "# Distributions: poisson \n",
    "import numpy as np\n",
    "from numpy import random as rnd\n",
    "rnd.seed()\n",
    "n, N = 5, 1000 # n - number of trials, p - probability, N - number of averages\n",
    "p = rnd.poisson(n, N)\n",
    "\n",
    "import matplotlib.pyplot as plt\n",
    "%matplotlib inline\n",
    "\n",
    "fig, ax = plt.subplots()\n",
    "count, bins, ignored = ax.hist(p, bins = 15, density = True)"
   ]
  },
  {
   "cell_type": "code",
   "execution_count": 113,
   "id": "blond-bachelor",
   "metadata": {},
   "outputs": [
    {
     "name": "stdout",
     "output_type": "stream",
     "text": [
      " 0.32  0.15  0.86  0.52  0.17  0.23 \n",
      " 0.44  0.48  0.38  0.76  0.14  0.35 \n",
      " 0.62  0.99  0.51  0.57  0.96   0.9 \n",
      " 0.32  0.21  0.58  0.16  0.62  0.37 \n",
      " 0.95  0.71  0.22   0.2  0.47  0.73 \n",
      " 0.26  0.44  0.08  0.38  0.25   0.9 \n",
      "\n",
      " 0.32  0.15  0.86  0.52  0.17  0.23 \n",
      " 0.44   0.0   0.0   0.0   0.0  0.35 \n",
      " 0.62   0.0   0.0   0.0   0.0   0.9 \n",
      " 0.32   0.0   0.0   0.0   0.0  0.37 \n",
      " 0.95   0.0   0.0   0.0   0.0  0.73 \n",
      " 0.26  0.44  0.08  0.38  0.25   0.9 \n",
      "\n",
      " 0.32  0.15  0.86 \n",
      " 0.44   0.0   0.0 \n",
      " 0.62   0.0   0.0 \n",
      "    8     5     2     6     9 \n",
      "    1     2     3     6     1 \n",
      "    9     9     4     3     6 \n",
      "    8     2     8     2     3 \n",
      "    9     5     6     5     4 \n",
      "\n",
      "    1     0     0     1     1 \n",
      "    0     0     0     1     0 \n",
      "    1     1     0     0     1 \n",
      "    1     0     1     0     0 \n",
      "    1     0     1     0     0 \n",
      "\n",
      "    8     6     9     6     9     9     6     8     8     9     6 \n",
      "\n",
      "    8     5     2     6     9     1     2     3     6     1     9     9     4     3     6     8     2     8     2     3     9     5     6     5     4 \n",
      "\n",
      " 0.32  0.15  0.86  0.52  0.17  0.23  0.44   0.0   0.0   0.0   0.0  0.35  0.62   0.0   0.0   0.0   0.0   0.9  0.32   0.0   0.0   0.0   0.0  0.37  0.95   0.0   0.0   0.0   0.0  0.73  0.26  0.44  0.08  0.38  0.25   0.9 \n",
      "\n",
      "   11    12    13    14    15 \n",
      "   21    22    23    24    25 \n",
      "   31    32    33    34    35 \n",
      "   41    42    43    44    45 \n",
      "   51    52    53    54    55 \n",
      "\n",
      "   11    21    31    41    51 \n",
      "   12    22    32    42    52 \n",
      "   13    23    33    43    53 \n",
      "   14    24    34    44    54 \n",
      "   15    25    35    45    55 \n",
      "\n",
      "hstack:\n",
      "   11    12    13    14    15    11    12    13    14    15 \n",
      "   21    22    23    24    25    21    22    23    24    25 \n",
      "   31    32    33    34    35    31    32    33    34    35 \n",
      "   41    42    43    44    45    41    42    43    44    45 \n",
      "   51    52    53    54    55    51    52    53    54    55 \n",
      "vstack:\n",
      "   11    12    13    14    15 \n",
      "   21    22    23    24    25 \n",
      "   31    32    33    34    35 \n",
      "   41    42    43    44    45 \n",
      "   51    52    53    54    55 \n",
      "   11    12    13    14    15 \n",
      "   21    22    23    24    25 \n",
      "   31    32    33    34    35 \n",
      "   41    42    43    44    45 \n",
      "   51    52    53    54    55 \n",
      "concatenate:\n",
      "   11    12    13    14    15    21    22    23    24    25    31    32    33    34    35    41    42    43    44    45    51    52    53    54    55    11    12    13    14    15    21    22    23    24    25    31    32    33    34    35    41    42    43    44    45    51    52    53    54    55 \n",
      "resize:\n",
      "   11    12    13 \n",
      "   14    15    16 \n",
      "   21    22    23 \n",
      "   24    25    26 \n",
      "   31    32    33 \n",
      "   34    35    36 \n",
      "   41    42    43 \n",
      "   44    45    46 \n"
     ]
    }
   ],
   "source": [
    "# numpy array: slicing, stack, transpose\n",
    "import numpy as np\n",
    "import numpy.random as rnd\n",
    "rnd.seed()\n",
    "A = np.around(rnd.rand(6, 6), 2)\n",
    "print_arr(A)\n",
    "print()\n",
    "\n",
    "B = A[1:5, 1:5]\n",
    "B[:, :] = 0\n",
    "print_arr(A)\n",
    "print()\n",
    "\n",
    "C = A[:3, :3].copy()\n",
    "print_arr(C)\n",
    "\n",
    "D = rnd.randint(low = 1, high = 10, size = 25).reshape((5, 5))\n",
    "print_arr(D)\n",
    "print()\n",
    "print_arr(D > 5)\n",
    "print()\n",
    "print_arr(D[D > 5])\n",
    "print()\n",
    "\n",
    "print_arr(D.flatten())\n",
    "print()\n",
    "\n",
    "print_arr(A.ravel())\n",
    "print()\n",
    "\n",
    "f = lambda n, m : 10 * (n + 1) + (m + 1)\n",
    "E = np.fromfunction(f, (5, 5), dtype = int)\n",
    "print_arr(E)\n",
    "print()\n",
    "print_arr(np.transpose(E))\n",
    "print()\n",
    "\n",
    "print(\"hstack:\")\n",
    "print_arr(np.hstack([E, E]))\n",
    "\n",
    "print(\"vstack:\")\n",
    "print_arr(np.vstack([E, E]))\n",
    "\n",
    "print(\"concatenate:\")\n",
    "print_arr(np.concatenate([E, E], axis = None))\n",
    "\n",
    "print(\"resize:\")\n",
    "print_arr(np.resize(np.fromfunction(f, (4, 6), dtype = int), (8, 3)))"
   ]
  },
  {
   "cell_type": "code",
   "execution_count": 125,
   "id": "hearing-multimedia",
   "metadata": {},
   "outputs": [
    {
     "name": "stdout",
     "output_type": "stream",
     "text": [
      " 0.09  0.19  0.72  0.33  0.35  0.71  0.19  0.87  0.92  0.04  0.51  0.49  0.51  0.35  0.99  0.56  0.47  0.08  0.74  0.38  0.52  0.42  0.14  0.18  0.49  0.79  0.26  0.71   0.8  0.92  0.95  0.05  0.63  0.92  0.28   0.9  0.17  0.27  0.79  0.46  0.71  0.83  0.55  0.07  0.37  0.75  0.55  0.66  0.56  0.85  0.85  0.11  0.06  0.33  0.19  0.71  0.27  0.67  0.86   0.1  0.11  0.02  0.48  0.21  0.15  0.07  0.77  0.62   0.9  0.69  0.48  0.24  0.04  0.56  0.12  0.89   0.7  0.77  0.21  0.19  0.25  0.73  0.28   0.4  0.71  0.86  0.91  0.27  0.56  0.73  0.49  0.82  0.79  0.55  0.56  0.42  0.39   0.2  0.45  0.31 \n"
     ]
    }
   ],
   "source": [
    "import numpy as np\n",
    "from numpy import random as rnd\n",
    "rnd.seed()\n",
    "\n",
    "A = np.around(rnd.rand(100), 2)\n",
    "print_arr(A)"
   ]
  },
  {
   "cell_type": "code",
   "execution_count": 133,
   "id": "together-broad",
   "metadata": {},
   "outputs": [
    {
     "name": "stdout",
     "output_type": "stream",
     "text": [
      "    2     4 \n",
      "    6     8 \n",
      "\n",
      "    3     6 \n",
      "    9    12 \n",
      "\n",
      "    0     0 \n",
      "    0     0 \n",
      "\n",
      "  1.0   1.0 \n",
      "  1.0   1.0 \n",
      "\n",
      "    1     4 \n",
      "    9    16 \n",
      "\n",
      "    2     4 \n",
      "    8    16 \n",
      "\n",
      "    7    10 \n",
      "   15    22 \n",
      "\n"
     ]
    }
   ],
   "source": [
    "x = np.array([[1, 2], [3, 4]])\n",
    "print_arr(x + x)\n",
    "print()\n",
    "print_arr(3 * x)\n",
    "print()\n",
    "print_arr(x - x)\n",
    "print()\n",
    "print_arr(x / x)\n",
    "print()\n",
    "print_arr(x ** 2)\n",
    "print()\n",
    "print_arr(2 ** x)\n",
    "print()\n",
    "print_arr(np.dot(x, x))\n",
    "print()"
   ]
  },
  {
   "cell_type": "code",
   "execution_count": 139,
   "id": "italic-edgar",
   "metadata": {},
   "outputs": [
    {
     "name": "stdout",
     "output_type": "stream",
     "text": [
      "0 0 0 0 0 0 0 0 0 0 0 0 0 0 0 0 0 0 0 0 0 0 0 0 0 1 1 1 1 1 1 1 1 1 1 1 1 1 1 1 1 1 1 1 1 1 1 1 1 1\n",
      "0.0 0.0 0.0 0.0 0.0 0.0 0.0 0.0 0.0 0.0 0.0 0.0 0.0 0.0 0.0 0.0 0.0 0.0 0.0 0.0 0.0 0.0 0.0 0.0 0.0 1.0 1.0 1.0 1.0 1.0 1.0 1.0 1.0 1.0 1.0 1.0 1.0 1.0 1.0 1.0 1.0 1.0 1.0 1.0 1.0 1.0 1.0 1.0 1.0 1.0\n"
     ]
    }
   ],
   "source": [
    "# numpy: vectorize\n",
    "import numpy as np\n",
    "\n",
    "def heaviside(x):\n",
    "    return 1 if x > 0 else 0\n",
    "\n",
    "heaviside = np.vectorize(heaviside)\n",
    "x = np.linspace(-10, 10)\n",
    "print(*heaviside(x))\n",
    "\n",
    "def heaviside_fast(x):\n",
    "    return 1.0 * (x > 0)\n",
    "print(*heaviside_fast(x))"
   ]
  }
 ],
 "metadata": {
  "kernelspec": {
   "display_name": "Python 3",
   "language": "python",
   "name": "python3"
  },
  "language_info": {
   "codemirror_mode": {
    "name": "ipython",
    "version": 3
   },
   "file_extension": ".py",
   "mimetype": "text/x-python",
   "name": "python",
   "nbconvert_exporter": "python",
   "pygments_lexer": "ipython3",
   "version": "3.8.5"
  }
 },
 "nbformat": 4,
 "nbformat_minor": 5
}
