{
 "cells": [
  {
   "cell_type": "code",
   "execution_count": 14,
   "id": "adequate-updating",
   "metadata": {},
   "outputs": [
    {
     "name": "stdout",
     "output_type": "stream",
     "text": [
      "{'name': 'Konstantin'}\n"
     ]
    },
    {
     "data": {
      "text/plain": [
       "True"
      ]
     },
     "execution_count": 14,
     "metadata": {},
     "output_type": "execute_result"
    }
   ],
   "source": [
    "def foo(name, /, **kwds):\n",
    "    print(kwds)\n",
    "    return \"name\" in kwds\n",
    "foo(1, **{\"name\":\"Konstantin\"})"
   ]
  },
  {
   "cell_type": "code",
   "execution_count": 21,
   "id": "external-seventh",
   "metadata": {},
   "outputs": [
    {
     "name": "stdout",
     "output_type": "stream",
     "text": [
      "name1\n",
      "name2\n",
      "name3\n",
      "name4\n"
     ]
    }
   ],
   "source": [
    "def print_all(name1, *args):\n",
    "    print(name1)\n",
    "    for el in args:\n",
    "        print(el)\n",
    "print_all(\"name1\", \"name2\", \"name3\", \"name4\")"
   ]
  },
  {
   "cell_type": "code",
   "execution_count": 46,
   "id": "burning-atlas",
   "metadata": {},
   "outputs": [
    {
     "name": "stdout",
     "output_type": "stream",
     "text": [
      "/home/konstantin/Yandex.Disk/Notes\n",
      "one, two, three\n"
     ]
    }
   ],
   "source": [
    "def concat(*args, sep = '/'):\n",
    "   return sep.join(args) \n",
    "print( concat(\"/home\", \"konstantin\", \"Yandex.Disk\", \"Notes\") )\n",
    "print( concat(\"one\", \"two\", \"three\", sep = \", \") )"
   ]
  },
  {
   "cell_type": "code",
   "execution_count": 45,
   "id": "furnished-emerald",
   "metadata": {},
   "outputs": [
    {
     "name": "stdout",
     "output_type": "stream",
     "text": [
      "Hello.darkness.my.old.friend\n"
     ]
    }
   ],
   "source": [
    "# join method\n",
    "s = \".\"\n",
    "lst = [\"Hello\", \"darkness\", \"my\", \"old\", \"friend\"]\n",
    "print(s.join(lst))"
   ]
  },
  {
   "cell_type": "code",
   "execution_count": 61,
   "id": "regional-occasion",
   "metadata": {},
   "outputs": [
    {
     "data": {
      "text/plain": [
       "[3, 4, 5]"
      ]
     },
     "execution_count": 61,
     "metadata": {},
     "output_type": "execute_result"
    }
   ],
   "source": [
    "# unpack list\n",
    "args = [3, 6]\n",
    "list( range(*args) )"
   ]
  },
  {
   "cell_type": "code",
   "execution_count": 78,
   "id": "touched-transcript",
   "metadata": {},
   "outputs": [
    {
     "name": "stdout",
     "output_type": "stream",
     "text": [
      "name age profession\n",
      "Konstantin 33 data scientist\n"
     ]
    }
   ],
   "source": [
    "# unpach dictionary\n",
    "def print_unpacked(name, age, profession = \"unemployed\"):\n",
    "    print(name, age, profession)\n",
    "    \n",
    "dict1 = {\"name\":\"Konstantin\", \"age\":33, \"profession\":\"data scientist\"}\n",
    "print_unpacked(*dict1)\n",
    "print_unpacked(**dict1)"
   ]
  },
  {
   "cell_type": "code",
   "execution_count": 87,
   "id": "daily-panic",
   "metadata": {},
   "outputs": [
    {
     "data": {
      "text/plain": [
       "15"
      ]
     },
     "execution_count": 87,
     "metadata": {},
     "output_type": "execute_result"
    }
   ],
   "source": [
    "#lambda expressions\n",
    "def make_incrementor(n):\n",
    "    return lambda x : x + n\n",
    "f = make_incrementor(10)\n",
    "\n",
    "f(5)"
   ]
  },
  {
   "cell_type": "code",
   "execution_count": 2,
   "id": "after-associate",
   "metadata": {},
   "outputs": [
    {
     "data": {
      "text/plain": [
       "[(4, 'four'), (1, 'one'), (3, 'three'), (2, 'two')]"
      ]
     },
     "execution_count": 2,
     "metadata": {},
     "output_type": "execute_result"
    }
   ],
   "source": [
    "pairs = [(1, \"one\"), (2, \"two\"), (3, \"three\"), (4, \"four\")]\n",
    "pairs.sort(key = lambda pair : pair[1], reverse = False)\n",
    "pairs"
   ]
  },
  {
   "cell_type": "code",
   "execution_count": 59,
   "id": "concerned-research",
   "metadata": {},
   "outputs": [
    {
     "name": "stdout",
     "output_type": "stream",
     "text": [
      "4 7 7 4 4 0 3 5 8 0 5 2 7 7 3 7 2 1 7 7 9 6 2 3 5 8 0 1 0 6 5 3 4 7 1 5 8 7 1 8 4 0 9 6 3 2 0 3 3 1 6 0 4 7 9 5 0 1 0 8 7 8 9 0 9 6 8 3 5 4 4 7 1 9 5 5 2 1 2 1 0 3 3 0 7 3 3 6 2 2 3 7 6 0 4 2 5 5 1 3 \n",
      "4 7 7 4 4 0 3 5 8 0 5 2 7 7 3 7 2 1 7 7 9 6 2 3 5 8 0 1 0 6 5 3 4 7 1 5 8 7 1 8 4 0 9 6 3 2 0 3 3 1 6 0 4 7 9 5 0 1 0 8 7 8 9 0 9 6 8 3 5 4 4 7 1 9 5 5 2 1 2 1 0 3 3 0 7 3 3 6 2 2 3 7 6 0 4 2 5 5 1 3 99 \n",
      "4 7 7 4 4 0 3 5 8 0 5 2 7 7 3 7 2 1 7 7 9 6 2 3 5 8 0 1 0 6 5 3 4 7 1 5 8 7 1 8 4 0 9 6 3 2 0 3 3 1 6 0 4 7 9 5 0 1 0 8 7 8 9 0 9 6 8 3 5 4 4 7 1 9 5 5 2 1 2 1 0 3 3 0 7 3 3 6 2 2 3 7 6 0 4 2 5 5 1 3 99 1 2 3 4 5 \n",
      "4 7 7 4 4 100 0 3 5 8 0 5 2 7 7 3 7 2 1 7 7 9 6 2 3 5 8 0 1 0 6 5 3 4 7 1 5 8 7 1 8 4 0 9 6 3 2 0 3 3 1 6 0 4 7 9 5 0 1 0 8 7 8 9 0 9 6 8 3 5 4 4 7 1 9 5 5 2 1 2 1 0 3 3 0 7 3 3 6 2 2 3 7 6 0 4 2 5 5 1 3 99 1 2 3 4 5 \n",
      "\n",
      "all 5 are removed\n",
      "4 7 7 4 4 100 0 3 8 0 2 7 7 3 7 2 1 7 7 9 6 2 3 8 0 1 0 6 3 4 7 1 8 7 1 8 4 0 9 6 3 2 0 3 3 1 6 0 4 7 9 0 1 0 8 7 8 9 0 9 6 8 3 4 4 7 1 9 2 1 2 1 0 3 3 0 7 3 3 6 2 2 3 7 6 0 4 2 1 3 99 1 2 3 4 \n",
      "4 7 7 4 4 100 0 3 8 0 2 7 7 3 7 2 1 7 7 9 6 2 3 8 0 1 0 6 3 4 7 1 8 7 1 8 4 0 9 6 3 2 0 3 3 1 6 0 4 7 9 0 1 0 8 7 8 9 0 9 6 8 3 4 4 7 1 9 2 1 2 1 0 3 3 0 7 3 3 6 2 2 3 7 6 0 4 2 1 3 99 1 2 3 \n",
      "7 7 4 4 100 0 3 8 0 2 7 7 3 7 2 1 7 7 9 6 2 3 8 0 1 0 6 3 4 7 1 8 7 1 8 4 0 9 6 3 2 0 3 3 1 6 0 4 7 9 0 1 0 8 7 8 9 0 9 6 8 3 4 4 7 1 9 2 1 2 1 0 3 3 0 7 3 3 6 2 2 3 7 6 0 4 2 1 3 99 1 2 3 \n",
      "100 99 9 9 9 9 9 9 8 8 8 8 8 8 8 7 7 7 7 7 7 7 7 7 7 7 7 7 7 6 6 6 6 6 6 6 4 4 4 4 4 4 4 4 3 3 3 3 3 3 3 3 3 3 3 3 3 3 3 2 2 2 2 2 2 2 2 2 2 1 1 1 1 1 1 1 1 1 1 1 0 0 0 0 0 0 0 0 0 0 0 0 0 \n",
      "Eric\n",
      "Graham\n"
     ]
    }
   ],
   "source": [
    "# 5 - Data Structures\n",
    "# List\n",
    "import random as rnd\n",
    "rnd.seed()\n",
    "\n",
    "N = 100\n",
    "\n",
    "def print_list(lst, *, sep = ' '):\n",
    "    for el in lst:\n",
    "        print(el, end = sep)\n",
    "    print()\n",
    "\n",
    "lst = [rnd.randint(0, 9) for _ in range(N)]\n",
    "print_list(lst)\n",
    "\n",
    "#lst.append(99)\n",
    "lst[len(lst):] = [99]\n",
    "print_list(lst)\n",
    "\n",
    "new_lst = [1, 2, 3, 4, 5]\n",
    "lst.extend(new_lst)\n",
    "print_list(lst)\n",
    "\n",
    "lst.insert(5, 100)\n",
    "print_list(lst)\n",
    "\n",
    "# remove all elements equal to 5\n",
    "while True:\n",
    "    try:\n",
    "        lst.remove(5)\n",
    "    except ValueError:\n",
    "        print(\"\\nall 5 are removed\")\n",
    "        break\n",
    "print_list(lst)\n",
    "\n",
    "# pop\n",
    "lst.pop()\n",
    "print_list(lst)\n",
    "\n",
    "lst.pop(0)\n",
    "print_list(lst)\n",
    "\n",
    "# clear\n",
    "# lst.clear()\n",
    "\n",
    "# index\n",
    "lst.index(0, 50 ,100)\n",
    "\n",
    "# count\n",
    "lst.count(5)\n",
    "\n",
    "# sort\n",
    "lst.sort(key = None, reverse = False)\n",
    "\n",
    "# reverse\n",
    "lst.reverse()\n",
    "print_list(lst)\n",
    "\n",
    "# copy\n",
    "new_lst = lst.copy()\n",
    "\n",
    "# list as stack\n",
    "st = [3, 4, 5]\n",
    "st.append(6)\n",
    "st.append(7)\n",
    "st.pop()\n",
    "st\n",
    "\n",
    "# queue (fifo)\n",
    "from collections import deque\n",
    "queue = deque([\"Eric\", \"John\", \"Michael\"])\n",
    "queue.append(\"Terry\")\n",
    "queue.append(\"Graham\")\n",
    "print(queue.popleft())\n",
    "print(queue.pop())"
   ]
  },
  {
   "cell_type": "code",
   "execution_count": 78,
   "id": "reflected-entry",
   "metadata": {},
   "outputs": [
    {
     "name": "stdout",
     "output_type": "stream",
     "text": [
      "0 1 4 9 16 25 36 49 64 81 100\n",
      "0 1 4 9 16 25 36 49 64 81 100\n",
      "0 1 4 9 16 25 36 49 64 81 100\n",
      "[(1, 3), (1, 4), (2, 3), (2, 1), (2, 4), (3, 1), (3, 4)]\n",
      "-8 -4 0 4 8\n",
      "0 4 8\n",
      "(0, 0) (1, 1) (2, 4) (3, 9) (4, 16) (5, 25) (6, 36) (7, 49) (8, 64) (9, 81) (10, 100)\n",
      "3.0 3.1 3.14 3.142 3.1416 3.14159 3.141593 3.1415927 3.14159265 3.141592654 3.1415926536\n"
     ]
    }
   ],
   "source": [
    "# list comprehensions\n",
    "squares = []\n",
    "for x in range(11):\n",
    "    squares.append( x ** 2 )\n",
    "print(*squares)\n",
    "\n",
    "# \n",
    "squares = list( map(lambda x : x ** 2, range(11)) )\n",
    "print(*squares)\n",
    "\n",
    "# \n",
    "squares = [x ** 2 for x in range(11)]\n",
    "print(*squares)\n",
    "\n",
    "# \n",
    "lst = [(x, y) for x in [1, 2, 3] for y in [3, 1, 4] if x != y]\n",
    "print(lst)\n",
    "\n",
    "lst_pre = [-4, -2, 0, 2, 4]\n",
    "lst = [x * 2 for x in lst_pre]\n",
    "print(*lst)\n",
    "\n",
    "lst = [x*2 for x in lst_pre if x >= 0]\n",
    "print(*lst)\n",
    "\n",
    "lst = [(x, x ** 2) for x in range(11)]\n",
    "print(*lst)\n",
    "\n",
    "from math import pi\n",
    "lst = [str(round(pi, i)) for i in range(11)]\n",
    "print(*lst)"
   ]
  },
  {
   "cell_type": "code",
   "execution_count": 89,
   "id": "fourth-dictionary",
   "metadata": {},
   "outputs": [
    {
     "name": "stdout",
     "output_type": "stream",
     "text": [
      "1 2 3 4\n",
      "5 6 7 8\n",
      "9 10 11 12\n"
     ]
    },
    {
     "data": {
      "text/plain": [
       "[(0, 10, 20, 30, 40, 50, 60, 70, 80, 90),\n",
       " (1, 11, 21, 31, 41, 51, 61, 71, 81, 91),\n",
       " (2, 12, 22, 32, 42, 52, 62, 72, 82, 92),\n",
       " (3, 13, 23, 33, 43, 53, 63, 73, 83, 93),\n",
       " (4, 14, 24, 34, 44, 54, 64, 74, 84, 94),\n",
       " (5, 15, 25, 35, 45, 55, 65, 75, 85, 95),\n",
       " (6, 16, 26, 36, 46, 56, 66, 76, 86, 96),\n",
       " (7, 17, 27, 37, 47, 57, 67, 77, 87, 97),\n",
       " (8, 18, 28, 38, 48, 58, 68, 78, 88, 98),\n",
       " (9, 19, 29, 39, 49, 59, 69, 79, 89, 99)]"
      ]
     },
     "execution_count": 89,
     "metadata": {},
     "output_type": "execute_result"
    }
   ],
   "source": [
    "# list as 2D array\n",
    "matrix = [\n",
    "    [1, 2, 3, 4],\n",
    "    [5, 6, 7, 8],\n",
    "    [9, 10, 11, 12]\n",
    "]\n",
    "\n",
    "for row in matrix:\n",
    "    print(*row)\n",
    "\n",
    "# make from plain array\n",
    "arr = list(range(100))\n",
    "matrix = []\n",
    "for row in range(10):\n",
    "    matrix.append(arr[row * 10:row * 10 + 10])\n",
    "    \n",
    "# zip\n",
    "list(zip(*matrix))\n"
   ]
  },
  {
   "cell_type": "code",
   "execution_count": 93,
   "id": "three-emerald",
   "metadata": {},
   "outputs": [
    {
     "name": "stdout",
     "output_type": "stream",
     "text": [
      "((1234, 4321, 'hello!'), (1234, 4321, 'hello!'))\n"
     ]
    }
   ],
   "source": [
    "# tuples\n",
    "t = 1234, 4321, \"hello!\"\n",
    "u = t, t\n",
    "print(u)\n",
    "\n"
   ]
  },
  {
   "cell_type": "code",
   "execution_count": 105,
   "id": "framed-craft",
   "metadata": {},
   "outputs": [
    {
     "name": "stdout",
     "output_type": "stream",
     "text": [
      "a =  d s f a\n",
      "b =  c m a z l\n",
      "a - b =  d s f\n",
      "b - a =  l c z m\n",
      "b | a =  d c m a f z s l\n",
      "b & a =  a\n",
      "b ^ a =  d c m f z s l\n"
     ]
    }
   ],
   "source": [
    "# sets\n",
    "# from string to set\n",
    "a = set(\"asdfa\")\n",
    "b = set(\"alacazam\")\n",
    "print(\"a = \", *a)\n",
    "print(\"b = \", *b)\n",
    "print(\"a - b = \", *(a - b))\n",
    "print(\"b - a = \", *(b - a))\n",
    "print(\"b | a = \", *(b | a))\n",
    "print(\"b & a = \", *(b & a))\n",
    "print(\"b ^ a = \", *(b ^ a))\n"
   ]
  },
  {
   "cell_type": "code",
   "execution_count": 108,
   "id": "tired-typing",
   "metadata": {},
   "outputs": [
    {
     "name": "stdout",
     "output_type": "stream",
     "text": [
      "d r\n"
     ]
    }
   ],
   "source": [
    "# set comprehension\n",
    "a = {x for x in \"abracadabra\" if x not in \"abc\"}\n",
    "print(*a)"
   ]
  },
  {
   "cell_type": "code",
   "execution_count": 112,
   "id": "compliant-locator",
   "metadata": {},
   "outputs": [
    {
     "name": "stdout",
     "output_type": "stream",
     "text": [
      "{'name': 'Konstantin', 'age': 33, 'profession': 'data scientist'}\n",
      "{2: 4, 4: 16, 6: 36}\n",
      "{'vga': 640, 'hd': 720, 'full_hd': 1080}\n"
     ]
    }
   ],
   "source": [
    "# Dictionaries\n",
    "# make dictionaries from list\n",
    "lst = [(\"name\", \"Konstantin\"), (\"age\", 33), (\"profession\", \"data scientist\")]\n",
    "dict1 = dict(lst)\n",
    "print(dict1)\n",
    "\n",
    "# dict comprehensions\n",
    "dict1 = {x : x ** 2 for x in (2, 4, 6)}\n",
    "print(dict1)\n",
    "\n",
    "# dict \n",
    "dict1 = dict(vga = 640, hd = 720, full_hd = 1080)\n",
    "print(dict1)"
   ]
  },
  {
   "cell_type": "code",
   "execution_count": 127,
   "id": "together-response",
   "metadata": {},
   "outputs": [
    {
     "name": "stdout",
     "output_type": "stream",
     "text": [
      "0 tic\n",
      "1 tac\n",
      "2 toe\n",
      "name lancelot\n",
      "quest the holy grail\n",
      "color blue\n",
      "9 7 5 3 1 \n",
      "21.0 13.1 18.1 47.4 31.3 30.4 34.7 8.2 66.0 nan 21.1 35.3 nan 31.3 4.2 61.8 25.9 97.1 12.8 32.2 nan 38.1 92.8 15.6 0.3 nan 42.2 99.7 92.6 nan 15.0 52.4 34.0 nan 74.4 53.4 18.2 29.3 84.9 79.3 81.1 0.1 65.8 65.9 50.7 80.4 99.7 14.9 86.1 76.4 82.5 99.9 82.7 76.4 46.3 86.0 76.5 5.5 92.8 23.7 0.2 43.8 3.9 5.3 100.0 81.2 36.7 9.5 27.2 33.4 99.3 97.2 34.2 74.9 23.7 66.3 86.0 35.2 45.4 3.7 13.4 26.2 44.7 81.8 66.3 99.0 59.6 nan 59.4 36.3 22.9 nan nan 90.6 6.6 45.5 6.3 nan 73.4 35.4\n",
      "21.0 13.1 18.1 47.4 31.3 30.4 34.7 8.2 66.0 21.1 35.3 31.3 4.2 61.8 25.9 97.1 12.8 32.2 38.1 92.8 15.6 0.3 42.2 99.7 92.6 15.0 52.4 34.0 74.4 53.4 18.2 29.3 84.9 79.3 81.1 0.1 65.8 65.9 50.7 80.4 99.7 14.9 86.1 76.4 82.5 99.9 82.7 76.4 46.3 86.0 76.5 5.5 92.8 23.7 0.2 43.8 3.9 5.3 100.0 81.2 36.7 9.5 27.2 33.4 99.3 97.2 34.2 74.9 23.7 66.3 86.0 35.2 45.4 3.7 13.4 26.2 44.7 81.8 66.3 99.0 59.6 59.4 36.3 22.9 90.6 6.6 45.5 6.3 73.4 35.4\n",
      "\n",
      "21.0 13.1 18.1 47.4 31.3 30.4 34.7 8.2 66.0 21.1 35.3 31.3 4.2 61.8 25.9 97.1 12.8 32.2 38.1 92.8 15.6 0.3 42.2 99.7 92.6 15.0 52.4 34.0 74.4 53.4 18.2 29.3 84.9 79.3 81.1 0.1 65.8 65.9 50.7 80.4 99.7 14.9 86.1 76.4 82.5 99.9 82.7 76.4 46.3 86.0 76.5 5.5 92.8 23.7 0.2 43.8 3.9 5.3 100.0 81.2 36.7 9.5 27.2 33.4 99.3 97.2 34.2 74.9 23.7 66.3 86.0 35.2 45.4 3.7 13.4 26.2 44.7 81.8 66.3 99.0 59.6 59.4 36.3 22.9 90.6 6.6 45.5 6.3 73.4 35.4\n"
     ]
    }
   ],
   "source": [
    "# looping through iterables\n",
    "# enumerate\n",
    "for i, v in enumerate( [\"tic\", \"tac\", \"toe\"] ):\n",
    "    print(i, v)\n",
    "\n",
    "# zip\n",
    "questions = [\"name\", \"quest\", \"color\"]\n",
    "answers = [\"lancelot\", \"the holy grail\", \"blue\"]\n",
    "\n",
    "for q, a in zip(questions, answers):\n",
    "    print(q, a)\n",
    "\n",
    "for i in reversed( range(1, 10, 2) ):\n",
    "    print(i, end = ' ')\n",
    "print()\n",
    "\n",
    "# list of 100 randoms with 10 nans and then filter them out\n",
    "import math\n",
    "import random as rnd\n",
    "rnd.seed()\n",
    "\n",
    "raw_data = [round(100 * rnd.random(), 1) for _ in range(100)]\n",
    "for i in range(10):\n",
    "    raw_data[rnd.randint(0, 99)] = float(\"NaN\")\n",
    "    \n",
    "print(*raw_data, end = \"\\n\\n\")\n",
    "\n",
    "filtered_data = []\n",
    "for el in raw_data:\n",
    "    if not math.isnan(el):\n",
    "        filtered_data.append(el)\n",
    "        \n",
    "print(*filtered_data, end = \"\\n\\n\")\n",
    "\n",
    "# with list comprehension\n",
    "filtered_data = [el for el in raw_data if not math.isnan(el)]\n",
    "print(*filtered_data)"
   ]
  },
  {
   "cell_type": "code",
   "execution_count": null,
   "id": "generous-timer",
   "metadata": {},
   "outputs": [],
   "source": []
  }
 ],
 "metadata": {
  "kernelspec": {
   "display_name": "Python 3",
   "language": "python",
   "name": "python3"
  },
  "language_info": {
   "codemirror_mode": {
    "name": "ipython",
    "version": 3
   },
   "file_extension": ".py",
   "mimetype": "text/x-python",
   "name": "python",
   "nbconvert_exporter": "python",
   "pygments_lexer": "ipython3",
   "version": "3.8.5"
  }
 },
 "nbformat": 4,
 "nbformat_minor": 5
}
