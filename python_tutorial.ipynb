{
 "cells": [
  {
   "cell_type": "code",
   "execution_count": 14,
   "id": "indie-baptist",
   "metadata": {},
   "outputs": [
    {
     "name": "stdout",
     "output_type": "stream",
     "text": [
      "{'name': 'Konstantin'}\n"
     ]
    },
    {
     "data": {
      "text/plain": [
       "True"
      ]
     },
     "execution_count": 14,
     "metadata": {},
     "output_type": "execute_result"
    }
   ],
   "source": [
    "def foo(name, /, **kwds):\n",
    "    print(kwds)\n",
    "    return \"name\" in kwds\n",
    "foo(1, **{\"name\":\"Konstantin\"})"
   ]
  },
  {
   "cell_type": "code",
   "execution_count": 21,
   "id": "senior-preservation",
   "metadata": {},
   "outputs": [
    {
     "name": "stdout",
     "output_type": "stream",
     "text": [
      "name1\n",
      "name2\n",
      "name3\n",
      "name4\n"
     ]
    }
   ],
   "source": [
    "def print_all(name1, *args):\n",
    "    print(name1)\n",
    "    for el in args:\n",
    "        print(el)\n",
    "print_all(\"name1\", \"name2\", \"name3\", \"name4\")"
   ]
  },
  {
   "cell_type": "code",
   "execution_count": 46,
   "id": "higher-coral",
   "metadata": {},
   "outputs": [
    {
     "name": "stdout",
     "output_type": "stream",
     "text": [
      "/home/konstantin/Yandex.Disk/Notes\n",
      "one, two, three\n"
     ]
    }
   ],
   "source": [
    "def concat(*args, sep = '/'):\n",
    "   return sep.join(args) \n",
    "print( concat(\"/home\", \"konstantin\", \"Yandex.Disk\", \"Notes\") )\n",
    "print( concat(\"one\", \"two\", \"three\", sep = \", \") )"
   ]
  },
  {
   "cell_type": "code",
   "execution_count": 45,
   "id": "conceptual-bedroom",
   "metadata": {},
   "outputs": [
    {
     "name": "stdout",
     "output_type": "stream",
     "text": [
      "Hello.darkness.my.old.friend\n"
     ]
    }
   ],
   "source": [
    "# join method\n",
    "s = \".\"\n",
    "lst = [\"Hello\", \"darkness\", \"my\", \"old\", \"friend\"]\n",
    "print(s.join(lst))"
   ]
  },
  {
   "cell_type": "code",
   "execution_count": 61,
   "id": "accurate-marker",
   "metadata": {},
   "outputs": [
    {
     "data": {
      "text/plain": [
       "[3, 4, 5]"
      ]
     },
     "execution_count": 61,
     "metadata": {},
     "output_type": "execute_result"
    }
   ],
   "source": [
    "# unpack list\n",
    "args = [3, 6]\n",
    "list( range(*args) )"
   ]
  },
  {
   "cell_type": "code",
   "execution_count": 78,
   "id": "interstate-corrections",
   "metadata": {},
   "outputs": [
    {
     "name": "stdout",
     "output_type": "stream",
     "text": [
      "name age profession\n",
      "Konstantin 33 data scientist\n"
     ]
    }
   ],
   "source": [
    "# unpach dictionary\n",
    "def print_unpacked(name, age, profession = \"unemployed\"):\n",
    "    print(name, age, profession)\n",
    "    \n",
    "dict1 = {\"name\":\"Konstantin\", \"age\":33, \"profession\":\"data scientist\"}\n",
    "print_unpacked(*dict1)\n",
    "print_unpacked(**dict1)"
   ]
  },
  {
   "cell_type": "code",
   "execution_count": 87,
   "id": "nominated-daily",
   "metadata": {},
   "outputs": [
    {
     "data": {
      "text/plain": [
       "15"
      ]
     },
     "execution_count": 87,
     "metadata": {},
     "output_type": "execute_result"
    }
   ],
   "source": [
    "#lambda expressions\n",
    "def make_incrementor(n):\n",
    "    return lambda x : x + n\n",
    "f = make_incrementor(10)\n",
    "\n",
    "f(5)"
   ]
  },
  {
   "cell_type": "code",
   "execution_count": 99,
   "id": "electric-saying",
   "metadata": {},
   "outputs": [
    {
     "data": {
      "text/plain": [
       "[(4, 'four'), (1, 'one'), (3, 'three'), (2, 'two')]"
      ]
     },
     "execution_count": 99,
     "metadata": {},
     "output_type": "execute_result"
    }
   ],
   "source": [
    "pairs = [(1, \"one\"), (2, \"two\"), (3, \"three\"), (4, \"four\")]\n",
    "pairs.sort(key = lambda pair : pair[1], reverse = False)\n",
    "pairs"
   ]
  },
  {
   "cell_type": "code",
   "execution_count": null,
   "id": "surface-compensation",
   "metadata": {},
   "outputs": [],
   "source": []
  }
 ],
 "metadata": {
  "kernelspec": {
   "display_name": "Python 3",
   "language": "python",
   "name": "python3"
  },
  "language_info": {
   "codemirror_mode": {
    "name": "ipython",
    "version": 3
   },
   "file_extension": ".py",
   "mimetype": "text/x-python",
   "name": "python",
   "nbconvert_exporter": "python",
   "pygments_lexer": "ipython3",
   "version": "3.8.5"
  }
 },
 "nbformat": 4,
 "nbformat_minor": 5
}
