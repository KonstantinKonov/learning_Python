{
 "cells": [
  {
   "cell_type": "code",
   "execution_count": 14,
   "id": "crazy-evaluation",
   "metadata": {},
   "outputs": [
    {
     "name": "stdout",
     "output_type": "stream",
     "text": [
      "{'name': 'Konstantin'}\n"
     ]
    },
    {
     "data": {
      "text/plain": [
       "True"
      ]
     },
     "execution_count": 14,
     "metadata": {},
     "output_type": "execute_result"
    }
   ],
   "source": [
    "def foo(name, /, **kwds):\n",
    "    print(kwds)\n",
    "    return \"name\" in kwds\n",
    "foo(1, **{\"name\":\"Konstantin\"})"
   ]
  },
  {
   "cell_type": "code",
   "execution_count": 21,
   "id": "middle-burner",
   "metadata": {},
   "outputs": [
    {
     "name": "stdout",
     "output_type": "stream",
     "text": [
      "name1\n",
      "name2\n",
      "name3\n",
      "name4\n"
     ]
    }
   ],
   "source": [
    "def print_all(name1, *args):\n",
    "    print(name1)\n",
    "    for el in args:\n",
    "        print(el)\n",
    "print_all(\"name1\", \"name2\", \"name3\", \"name4\")"
   ]
  },
  {
   "cell_type": "code",
   "execution_count": 46,
   "id": "modern-lawsuit",
   "metadata": {},
   "outputs": [
    {
     "name": "stdout",
     "output_type": "stream",
     "text": [
      "/home/konstantin/Yandex.Disk/Notes\n",
      "one, two, three\n"
     ]
    }
   ],
   "source": [
    "def concat(*args, sep = '/'):\n",
    "   return sep.join(args) \n",
    "print( concat(\"/home\", \"konstantin\", \"Yandex.Disk\", \"Notes\") )\n",
    "print( concat(\"one\", \"two\", \"three\", sep = \", \") )"
   ]
  },
  {
   "cell_type": "code",
   "execution_count": 45,
   "id": "center-ferry",
   "metadata": {},
   "outputs": [
    {
     "name": "stdout",
     "output_type": "stream",
     "text": [
      "Hello.darkness.my.old.friend\n"
     ]
    }
   ],
   "source": [
    "# join method\n",
    "s = \".\"\n",
    "lst = [\"Hello\", \"darkness\", \"my\", \"old\", \"friend\"]\n",
    "print(s.join(lst))"
   ]
  },
  {
   "cell_type": "code",
   "execution_count": 61,
   "id": "honey-leeds",
   "metadata": {},
   "outputs": [
    {
     "data": {
      "text/plain": [
       "[3, 4, 5]"
      ]
     },
     "execution_count": 61,
     "metadata": {},
     "output_type": "execute_result"
    }
   ],
   "source": [
    "# unpack list\n",
    "args = [3, 6]\n",
    "list( range(*args) )"
   ]
  },
  {
   "cell_type": "code",
   "execution_count": 78,
   "id": "double-concentrate",
   "metadata": {},
   "outputs": [
    {
     "name": "stdout",
     "output_type": "stream",
     "text": [
      "name age profession\n",
      "Konstantin 33 data scientist\n"
     ]
    }
   ],
   "source": [
    "# unpach dictionary\n",
    "def print_unpacked(name, age, profession = \"unemployed\"):\n",
    "    print(name, age, profession)\n",
    "    \n",
    "dict1 = {\"name\":\"Konstantin\", \"age\":33, \"profession\":\"data scientist\"}\n",
    "print_unpacked(*dict1)\n",
    "print_unpacked(**dict1)"
   ]
  },
  {
   "cell_type": "code",
   "execution_count": 87,
   "id": "constant-investigator",
   "metadata": {},
   "outputs": [
    {
     "data": {
      "text/plain": [
       "15"
      ]
     },
     "execution_count": 87,
     "metadata": {},
     "output_type": "execute_result"
    }
   ],
   "source": [
    "#lambda expressions\n",
    "def make_incrementor(n):\n",
    "    return lambda x : x + n\n",
    "f = make_incrementor(10)\n",
    "\n",
    "f(5)"
   ]
  },
  {
   "cell_type": "code",
   "execution_count": 2,
   "id": "quiet-warehouse",
   "metadata": {},
   "outputs": [
    {
     "data": {
      "text/plain": [
       "[(4, 'four'), (1, 'one'), (3, 'three'), (2, 'two')]"
      ]
     },
     "execution_count": 2,
     "metadata": {},
     "output_type": "execute_result"
    }
   ],
   "source": [
    "pairs = [(1, \"one\"), (2, \"two\"), (3, \"three\"), (4, \"four\")]\n",
    "pairs.sort(key = lambda pair : pair[1], reverse = False)\n",
    "pairs"
   ]
  },
  {
   "cell_type": "code",
   "execution_count": 59,
   "id": "national-client",
   "metadata": {},
   "outputs": [
    {
     "name": "stdout",
     "output_type": "stream",
     "text": [
      "4 7 7 4 4 0 3 5 8 0 5 2 7 7 3 7 2 1 7 7 9 6 2 3 5 8 0 1 0 6 5 3 4 7 1 5 8 7 1 8 4 0 9 6 3 2 0 3 3 1 6 0 4 7 9 5 0 1 0 8 7 8 9 0 9 6 8 3 5 4 4 7 1 9 5 5 2 1 2 1 0 3 3 0 7 3 3 6 2 2 3 7 6 0 4 2 5 5 1 3 \n",
      "4 7 7 4 4 0 3 5 8 0 5 2 7 7 3 7 2 1 7 7 9 6 2 3 5 8 0 1 0 6 5 3 4 7 1 5 8 7 1 8 4 0 9 6 3 2 0 3 3 1 6 0 4 7 9 5 0 1 0 8 7 8 9 0 9 6 8 3 5 4 4 7 1 9 5 5 2 1 2 1 0 3 3 0 7 3 3 6 2 2 3 7 6 0 4 2 5 5 1 3 99 \n",
      "4 7 7 4 4 0 3 5 8 0 5 2 7 7 3 7 2 1 7 7 9 6 2 3 5 8 0 1 0 6 5 3 4 7 1 5 8 7 1 8 4 0 9 6 3 2 0 3 3 1 6 0 4 7 9 5 0 1 0 8 7 8 9 0 9 6 8 3 5 4 4 7 1 9 5 5 2 1 2 1 0 3 3 0 7 3 3 6 2 2 3 7 6 0 4 2 5 5 1 3 99 1 2 3 4 5 \n",
      "4 7 7 4 4 100 0 3 5 8 0 5 2 7 7 3 7 2 1 7 7 9 6 2 3 5 8 0 1 0 6 5 3 4 7 1 5 8 7 1 8 4 0 9 6 3 2 0 3 3 1 6 0 4 7 9 5 0 1 0 8 7 8 9 0 9 6 8 3 5 4 4 7 1 9 5 5 2 1 2 1 0 3 3 0 7 3 3 6 2 2 3 7 6 0 4 2 5 5 1 3 99 1 2 3 4 5 \n",
      "\n",
      "all 5 are removed\n",
      "4 7 7 4 4 100 0 3 8 0 2 7 7 3 7 2 1 7 7 9 6 2 3 8 0 1 0 6 3 4 7 1 8 7 1 8 4 0 9 6 3 2 0 3 3 1 6 0 4 7 9 0 1 0 8 7 8 9 0 9 6 8 3 4 4 7 1 9 2 1 2 1 0 3 3 0 7 3 3 6 2 2 3 7 6 0 4 2 1 3 99 1 2 3 4 \n",
      "4 7 7 4 4 100 0 3 8 0 2 7 7 3 7 2 1 7 7 9 6 2 3 8 0 1 0 6 3 4 7 1 8 7 1 8 4 0 9 6 3 2 0 3 3 1 6 0 4 7 9 0 1 0 8 7 8 9 0 9 6 8 3 4 4 7 1 9 2 1 2 1 0 3 3 0 7 3 3 6 2 2 3 7 6 0 4 2 1 3 99 1 2 3 \n",
      "7 7 4 4 100 0 3 8 0 2 7 7 3 7 2 1 7 7 9 6 2 3 8 0 1 0 6 3 4 7 1 8 7 1 8 4 0 9 6 3 2 0 3 3 1 6 0 4 7 9 0 1 0 8 7 8 9 0 9 6 8 3 4 4 7 1 9 2 1 2 1 0 3 3 0 7 3 3 6 2 2 3 7 6 0 4 2 1 3 99 1 2 3 \n",
      "100 99 9 9 9 9 9 9 8 8 8 8 8 8 8 7 7 7 7 7 7 7 7 7 7 7 7 7 7 6 6 6 6 6 6 6 4 4 4 4 4 4 4 4 3 3 3 3 3 3 3 3 3 3 3 3 3 3 3 2 2 2 2 2 2 2 2 2 2 1 1 1 1 1 1 1 1 1 1 1 0 0 0 0 0 0 0 0 0 0 0 0 0 \n",
      "Eric\n",
      "Graham\n"
     ]
    }
   ],
   "source": [
    "# 5 - Data Structures\n",
    "# List\n",
    "import random as rnd\n",
    "rnd.seed()\n",
    "\n",
    "N = 100\n",
    "\n",
    "def print_list(lst, *, sep = ' '):\n",
    "    for el in lst:\n",
    "        print(el, end = sep)\n",
    "    print()\n",
    "\n",
    "lst = [rnd.randint(0, 9) for _ in range(N)]\n",
    "print_list(lst)\n",
    "\n",
    "#lst.append(99)\n",
    "lst[len(lst):] = [99]\n",
    "print_list(lst)\n",
    "\n",
    "new_lst = [1, 2, 3, 4, 5]\n",
    "lst.extend(new_lst)\n",
    "print_list(lst)\n",
    "\n",
    "lst.insert(5, 100)\n",
    "print_list(lst)\n",
    "\n",
    "# remove all elements equal to 5\n",
    "while True:\n",
    "    try:\n",
    "        lst.remove(5)\n",
    "    except ValueError:\n",
    "        print(\"\\nall 5 are removed\")\n",
    "        break\n",
    "print_list(lst)\n",
    "\n",
    "# pop\n",
    "lst.pop()\n",
    "print_list(lst)\n",
    "\n",
    "lst.pop(0)\n",
    "print_list(lst)\n",
    "\n",
    "# clear\n",
    "# lst.clear()\n",
    "\n",
    "# index\n",
    "lst.index(0, 50 ,100)\n",
    "\n",
    "# count\n",
    "lst.count(5)\n",
    "\n",
    "# sort\n",
    "lst.sort(key = None, reverse = False)\n",
    "\n",
    "# reverse\n",
    "lst.reverse()\n",
    "print_list(lst)\n",
    "\n",
    "# copy\n",
    "new_lst = lst.copy()\n",
    "\n",
    "# list as stack\n",
    "st = [3, 4, 5]\n",
    "st.append(6)\n",
    "st.append(7)\n",
    "st.pop()\n",
    "st\n",
    "\n",
    "# queue (fifo)\n",
    "from collections import deque\n",
    "queue = deque([\"Eric\", \"John\", \"Michael\"])\n",
    "queue.append(\"Terry\")\n",
    "queue.append(\"Graham\")\n",
    "print(queue.popleft())\n",
    "print(queue.pop())"
   ]
  },
  {
   "cell_type": "code",
   "execution_count": 78,
   "id": "attractive-consequence",
   "metadata": {},
   "outputs": [
    {
     "name": "stdout",
     "output_type": "stream",
     "text": [
      "0 1 4 9 16 25 36 49 64 81 100\n",
      "0 1 4 9 16 25 36 49 64 81 100\n",
      "0 1 4 9 16 25 36 49 64 81 100\n",
      "[(1, 3), (1, 4), (2, 3), (2, 1), (2, 4), (3, 1), (3, 4)]\n",
      "-8 -4 0 4 8\n",
      "0 4 8\n",
      "(0, 0) (1, 1) (2, 4) (3, 9) (4, 16) (5, 25) (6, 36) (7, 49) (8, 64) (9, 81) (10, 100)\n",
      "3.0 3.1 3.14 3.142 3.1416 3.14159 3.141593 3.1415927 3.14159265 3.141592654 3.1415926536\n"
     ]
    }
   ],
   "source": [
    "# list comprehensions\n",
    "squares = []\n",
    "for x in range(11):\n",
    "    squares.append( x ** 2 )\n",
    "print(*squares)\n",
    "\n",
    "# \n",
    "squares = list( map(lambda x : x ** 2, range(11)) )\n",
    "print(*squares)\n",
    "\n",
    "# \n",
    "squares = [x ** 2 for x in range(11)]\n",
    "print(*squares)\n",
    "\n",
    "# \n",
    "lst = [(x, y) for x in [1, 2, 3] for y in [3, 1, 4] if x != y]\n",
    "print(lst)\n",
    "\n",
    "lst_pre = [-4, -2, 0, 2, 4]\n",
    "lst = [x * 2 for x in lst_pre]\n",
    "print(*lst)\n",
    "\n",
    "lst = [x*2 for x in lst_pre if x >= 0]\n",
    "print(*lst)\n",
    "\n",
    "lst = [(x, x ** 2) for x in range(11)]\n",
    "print(*lst)\n",
    "\n",
    "from math import pi\n",
    "lst = [str(round(pi, i)) for i in range(11)]\n",
    "print(*lst)"
   ]
  },
  {
   "cell_type": "code",
   "execution_count": 89,
   "id": "aware-lodge",
   "metadata": {},
   "outputs": [
    {
     "name": "stdout",
     "output_type": "stream",
     "text": [
      "1 2 3 4\n",
      "5 6 7 8\n",
      "9 10 11 12\n"
     ]
    },
    {
     "data": {
      "text/plain": [
       "[(0, 10, 20, 30, 40, 50, 60, 70, 80, 90),\n",
       " (1, 11, 21, 31, 41, 51, 61, 71, 81, 91),\n",
       " (2, 12, 22, 32, 42, 52, 62, 72, 82, 92),\n",
       " (3, 13, 23, 33, 43, 53, 63, 73, 83, 93),\n",
       " (4, 14, 24, 34, 44, 54, 64, 74, 84, 94),\n",
       " (5, 15, 25, 35, 45, 55, 65, 75, 85, 95),\n",
       " (6, 16, 26, 36, 46, 56, 66, 76, 86, 96),\n",
       " (7, 17, 27, 37, 47, 57, 67, 77, 87, 97),\n",
       " (8, 18, 28, 38, 48, 58, 68, 78, 88, 98),\n",
       " (9, 19, 29, 39, 49, 59, 69, 79, 89, 99)]"
      ]
     },
     "execution_count": 89,
     "metadata": {},
     "output_type": "execute_result"
    }
   ],
   "source": [
    "# list as 2D array\n",
    "matrix = [\n",
    "    [1, 2, 3, 4],\n",
    "    [5, 6, 7, 8],\n",
    "    [9, 10, 11, 12]\n",
    "]\n",
    "\n",
    "for row in matrix:\n",
    "    print(*row)\n",
    "\n",
    "# make from plain array\n",
    "arr = list(range(100))\n",
    "matrix = []\n",
    "for row in range(10):\n",
    "    matrix.append(arr[row * 10:row * 10 + 10])\n",
    "    \n",
    "# zip\n",
    "list(zip(*matrix))\n"
   ]
  },
  {
   "cell_type": "code",
   "execution_count": 93,
   "id": "corporate-camera",
   "metadata": {},
   "outputs": [
    {
     "name": "stdout",
     "output_type": "stream",
     "text": [
      "((1234, 4321, 'hello!'), (1234, 4321, 'hello!'))\n"
     ]
    }
   ],
   "source": [
    "# tuples\n",
    "t = 1234, 4321, \"hello!\"\n",
    "u = t, t\n",
    "print(u)\n",
    "\n"
   ]
  },
  {
   "cell_type": "code",
   "execution_count": 105,
   "id": "pursuant-garage",
   "metadata": {},
   "outputs": [
    {
     "name": "stdout",
     "output_type": "stream",
     "text": [
      "a =  d s f a\n",
      "b =  c m a z l\n",
      "a - b =  d s f\n",
      "b - a =  l c z m\n",
      "b | a =  d c m a f z s l\n",
      "b & a =  a\n",
      "b ^ a =  d c m f z s l\n"
     ]
    }
   ],
   "source": [
    "# sets\n",
    "# from string to set\n",
    "a = set(\"asdfa\")\n",
    "b = set(\"alacazam\")\n",
    "print(\"a = \", *a)\n",
    "print(\"b = \", *b)\n",
    "print(\"a - b = \", *(a - b))\n",
    "print(\"b - a = \", *(b - a))\n",
    "print(\"b | a = \", *(b | a))\n",
    "print(\"b & a = \", *(b & a))\n",
    "print(\"b ^ a = \", *(b ^ a))\n"
   ]
  },
  {
   "cell_type": "code",
   "execution_count": 108,
   "id": "emerging-surgeon",
   "metadata": {},
   "outputs": [
    {
     "name": "stdout",
     "output_type": "stream",
     "text": [
      "d r\n"
     ]
    }
   ],
   "source": [
    "# set comprehension\n",
    "a = {x for x in \"abracadabra\" if x not in \"abc\"}\n",
    "print(*a)"
   ]
  },
  {
   "cell_type": "code",
   "execution_count": 112,
   "id": "suitable-ocean",
   "metadata": {},
   "outputs": [
    {
     "name": "stdout",
     "output_type": "stream",
     "text": [
      "{'name': 'Konstantin', 'age': 33, 'profession': 'data scientist'}\n",
      "{2: 4, 4: 16, 6: 36}\n",
      "{'vga': 640, 'hd': 720, 'full_hd': 1080}\n"
     ]
    }
   ],
   "source": [
    "# Dictionaries\n",
    "# make dictionaries from list\n",
    "lst = [(\"name\", \"Konstantin\"), (\"age\", 33), (\"profession\", \"data scientist\")]\n",
    "dict1 = dict(lst)\n",
    "print(dict1)\n",
    "\n",
    "# dict comprehensions\n",
    "dict1 = {x : x ** 2 for x in (2, 4, 6)}\n",
    "print(dict1)\n",
    "\n",
    "# dict \n",
    "dict1 = dict(vga = 640, hd = 720, full_hd = 1080)\n",
    "print(dict1)"
   ]
  },
  {
   "cell_type": "code",
   "execution_count": 128,
   "id": "minute-sixth",
   "metadata": {},
   "outputs": [
    {
     "name": "stdout",
     "output_type": "stream",
     "text": [
      "0 tic\n",
      "1 tac\n",
      "2 toe\n",
      "name lancelot\n",
      "quest the holy grail\n",
      "color blue\n",
      "9 7 5 3 1 \n",
      "83.2 nan 3.8 70.3 56.7 nan 47.6 47.0 90.1 1.3 31.7 37.1 52.2 27.7 15.1 16.9 46.4 24.3 91.2 58.2 30.2 80.3 31.9 12.3 17.0 30.5 31.6 46.7 12.4 47.1 nan 46.2 58.6 68.6 30.3 51.9 nan 52.0 44.0 95.3 48.3 89.4 17.0 56.0 65.9 38.9 25.4 85.4 8.9 61.5 77.7 91.7 77.5 15.8 58.5 16.2 nan 1.9 93.8 21.6 67.6 56.5 53.4 27.6 nan 36.1 23.3 16.4 59.8 31.7 89.0 nan nan 86.2 69.3 nan 91.9 78.9 74.5 3.5 36.6 95.0 54.8 3.8 69.6 42.6 92.4 23.4 56.8 54.2 37.2 14.3 47.8 10.7 22.2 48.3 70.1 86.7 11.7 nan\n",
      "\n",
      "83.2 3.8 70.3 56.7 47.6 47.0 90.1 1.3 31.7 37.1 52.2 27.7 15.1 16.9 46.4 24.3 91.2 58.2 30.2 80.3 31.9 12.3 17.0 30.5 31.6 46.7 12.4 47.1 46.2 58.6 68.6 30.3 51.9 52.0 44.0 95.3 48.3 89.4 17.0 56.0 65.9 38.9 25.4 85.4 8.9 61.5 77.7 91.7 77.5 15.8 58.5 16.2 1.9 93.8 21.6 67.6 56.5 53.4 27.6 36.1 23.3 16.4 59.8 31.7 89.0 86.2 69.3 91.9 78.9 74.5 3.5 36.6 95.0 54.8 3.8 69.6 42.6 92.4 23.4 56.8 54.2 37.2 14.3 47.8 10.7 22.2 48.3 70.1 86.7 11.7\n",
      "\n",
      "83.2 3.8 70.3 56.7 47.6 47.0 90.1 1.3 31.7 37.1 52.2 27.7 15.1 16.9 46.4 24.3 91.2 58.2 30.2 80.3 31.9 12.3 17.0 30.5 31.6 46.7 12.4 47.1 46.2 58.6 68.6 30.3 51.9 52.0 44.0 95.3 48.3 89.4 17.0 56.0 65.9 38.9 25.4 85.4 8.9 61.5 77.7 91.7 77.5 15.8 58.5 16.2 1.9 93.8 21.6 67.6 56.5 53.4 27.6 36.1 23.3 16.4 59.8 31.7 89.0 86.2 69.3 91.9 78.9 74.5 3.5 36.6 95.0 54.8 3.8 69.6 42.6 92.4 23.4 56.8 54.2 37.2 14.3 47.8 10.7 22.2 48.3 70.1 86.7 11.7\n"
     ]
    }
   ],
   "source": [
    "# looping through iterables\n",
    "# enumerate\n",
    "for i, v in enumerate( [\"tic\", \"tac\", \"toe\"] ):\n",
    "    print(i, v)\n",
    "\n",
    "# zip\n",
    "questions = [\"name\", \"quest\", \"color\"]\n",
    "answers = [\"lancelot\", \"the holy grail\", \"blue\"]\n",
    "\n",
    "for q, a in zip(questions, answers):\n",
    "    print(q, a)\n",
    "\n",
    "for i in reversed( range(1, 10, 2) ):\n",
    "    print(i, end = ' ')\n",
    "print()\n",
    "\n",
    "# list of 100 randoms with 10 nans and then filter them out\n",
    "import math\n",
    "import random as rnd\n",
    "rnd.seed()\n",
    "\n",
    "raw_data = [round(100 * rnd.random(), 1) for _ in range(100)]\n",
    "for i in range(10):\n",
    "    raw_data[rnd.randint(0, 99)] = float(\"NaN\")\n",
    "    \n",
    "print(*raw_data, end = \"\\n\\n\")\n",
    "\n",
    "filtered_data = []\n",
    "for el in raw_data:\n",
    "    if not math.isnan(el):\n",
    "        filtered_data.append(el)\n",
    "        \n",
    "print(*filtered_data, end = \"\\n\\n\")\n",
    "\n",
    "# with list comprehension\n",
    "filtered_data = [el for el in raw_data if not math.isnan(el)]\n",
    "print(*filtered_data)"
   ]
  },
  {
   "cell_type": "code",
   "execution_count": 8,
   "id": "sensitive-surge",
   "metadata": {},
   "outputs": [
    {
     "name": "stdout",
     "output_type": "stream",
     "text": [
      "Linus\n",
      "False\n"
     ]
    }
   ],
   "source": [
    "s1, s2, s3 = \"\", \"Linus\", \"Torvalds\"\n",
    "non_null = s1 or s2 or s3\n",
    "print(non_null)\n",
    "non_null = s1 and s2 and s3\n",
    "print(bool(non_null))"
   ]
  },
  {
   "cell_type": "code",
   "execution_count": 15,
   "id": "quantitative-consumer",
   "metadata": {},
   "outputs": [
    {
     "name": "stdout",
     "output_type": "stream",
     "text": [
      "True\n",
      "False\n"
     ]
    }
   ],
   "source": [
    "res = (1, 2, 3) < (1, 2, 4)\n",
    "print(res)\n",
    "res = ('a', 'b', 'c') > ('a', \"bb\", 'c')\n",
    "print(res)"
   ]
  },
  {
   "cell_type": "code",
   "execution_count": 21,
   "id": "olympic-confirmation",
   "metadata": {},
   "outputs": [
    {
     "name": "stdout",
     "output_type": "stream",
     "text": [
      "0 1 1 2 3 5 8 13 21 34 55 89\n"
     ]
    }
   ],
   "source": [
    "# Modules\n",
    "import fib\n",
    "print(*fib.fib_list(100))"
   ]
  },
  {
   "cell_type": "code",
   "execution_count": 23,
   "id": "ignored-opera",
   "metadata": {},
   "outputs": [
    {
     "name": "stdout",
     "output_type": "stream",
     "text": [
      "['/home/konstantin/Yandex.Disk/Notes/learning_Python', '/usr/lib/python38.zip', '/usr/lib/python3.8', '/usr/lib/python3.8/lib-dynload', '', '/home/konstantin/.local/lib/python3.8/site-packages', '/usr/local/lib/python3.8/dist-packages', '/usr/lib/python3/dist-packages', '/home/konstantin/.local/lib/python3.8/site-packages/IPython/extensions', '/home/konstantin/.ipython']\n",
      "In : \n",
      "...: \n"
     ]
    }
   ],
   "source": [
    "import sys\n",
    "print(sys.path)\n",
    "print(sys.ps1)\n",
    "print(sys.ps2)"
   ]
  },
  {
   "cell_type": "code",
   "execution_count": 24,
   "id": "professional-development",
   "metadata": {},
   "outputs": [
    {
     "name": "stdout",
     "output_type": "stream",
     "text": [
      "['__builtins__', '__cached__', '__doc__', '__file__', '__loader__', '__name__', '__package__', '__spec__', 'fib', 'fib_list']\n"
     ]
    }
   ],
   "source": [
    "# dir\n",
    "import sys, fib\n",
    "print(dir(fib))"
   ]
  },
  {
   "cell_type": "code",
   "execution_count": 56,
   "id": "bacterial-position",
   "metadata": {},
   "outputs": [
    {
     "name": "stdout",
     "output_type": "stream",
     "text": [
      "Result of the year 2016 Ph.D., [1, 2, 3, 4, 5]\n",
      "                  20 YES votes 100.00%\n",
      "The value of pi is approximately 3.142\n",
      "  1          1          1\n",
      "  2          4          8\n",
      "  3          9         27\n",
      "  4         16         64\n",
      "  5         25        125\n",
      "  6         36        216\n",
      "  7         49        343\n",
      "  8         64        512\n",
      "  9         81        729\n",
      " 10        100       1000\n"
     ]
    }
   ],
   "source": [
    "# Input and Output\n",
    "year = 2016\n",
    "event = \"Ph.D.\"\n",
    "lst = [1, 2, 3, 4, 5]\n",
    "print(f\"Result of the year {year} {event}, {lst}\")\n",
    "votes_yes = 20\n",
    "votes_no = 0\n",
    "votes_rate = votes_yes / (votes_yes + votes_no)\n",
    "print(\"{:-20} YES votes {:2.2%}\".format(votes_yes, votes_rate))\n",
    "\n",
    "import math\n",
    "print(f\"The value of pi is approximately {math.pi:.3f}\")\n",
    "\n",
    "for x in range(1, 11):\n",
    "    print(repr(x).rjust(3), repr(x * x).rjust(10), repr(x ** 3).rjust(10))"
   ]
  },
  {
   "cell_type": "code",
   "execution_count": 62,
   "id": "handled-bankruptcy",
   "metadata": {},
   "outputs": [
    {
     "name": "stdout",
     "output_type": "stream",
     "text": [
      "  1         1         1\n",
      "  2         4         8\n",
      "  3         9        27\n",
      "  4        16        64\n",
      "  5        25       125\n",
      "  6        36       216\n",
      "  7        49       343\n",
      "  8        64       512\n",
      "  9        81       729\n",
      " 10       100      1000\n",
      "\n"
     ]
    }
   ],
   "source": [
    "# Reading and Writing text files\n",
    "s = \"\"\n",
    "for x in range(1, 11):\n",
    "    s += repr(x).rjust(3) + repr(x ** 2).rjust(10) + repr(x ** 3).rjust(10) + '\\n'\n",
    "filename = \"test.txt\"\n",
    "fp = open(filename, \"w\")\n",
    "fp.write(s)\n",
    "fp.close()\n",
    "\n",
    "fp = open(filename, \"r\")\n",
    "s_new = fp.read()\n",
    "fp.close()\n",
    "print(s_new)\n"
   ]
  },
  {
   "cell_type": "code",
   "execution_count": 71,
   "id": "vulnerable-kingdom",
   "metadata": {},
   "outputs": [
    {
     "name": "stdout",
     "output_type": "stream",
     "text": [
      "  1         1         1\n",
      "  2         4         8\n",
      "  3         9        27\n",
      "  4        16        64\n",
      "  5        25       125\n",
      "  6        36       216\n",
      "  7        49       343\n",
      "  8        64       512\n",
      "  9        81       729\n",
      " 10       100      1000\n",
      "\n",
      "Is file closed: True\n"
     ]
    }
   ],
   "source": [
    "# Using with to working with files\n",
    "filename = \"test.txt\"\n",
    "with open(filename) as fp:\n",
    "    s_new = fp.read()\n",
    "print(s_new)\n",
    "print(f\"Is file closed: {fp.closed:}\")"
   ]
  },
  {
   "cell_type": "code",
   "execution_count": 90,
   "id": "everyday-shaft",
   "metadata": {},
   "outputs": [
    {
     "name": "stdout",
     "output_type": "stream",
     "text": [
      "  1         1         1\n",
      "   2         4         8\n",
      "   3         9        27\n",
      "   4        16        64\n",
      "   5        25       125\n",
      "   6        36       216\n",
      "   7        49       343\n",
      "   8        64       512\n",
      "   9        81       729\n",
      "  10       100      1000\n",
      " \n"
     ]
    }
   ],
   "source": [
    "# Read line by line\n",
    "lines = []\n",
    "filename = \"test.txt\"\n",
    "with open(filename) as fp:\n",
    "    line = fp.readline()\n",
    "    while line:\n",
    "        lines.append(line)\n",
    "        line = fp.readline()\n",
    "    \n",
    "for line in lines:\n",
    "    print(line, end = ' ')\n",
    "print()"
   ]
  },
  {
   "cell_type": "code",
   "execution_count": 93,
   "id": "peripheral-atlas",
   "metadata": {},
   "outputs": [
    {
     "name": "stdout",
     "output_type": "stream",
     "text": [
      "  1         1         1\n",
      "   2         4         8\n",
      "   3         9        27\n",
      "   4        16        64\n",
      "   5        25       125\n",
      "   6        36       216\n",
      "   7        49       343\n",
      "   8        64       512\n",
      "   9        81       729\n",
      "  10       100      1000\n",
      " \n"
     ]
    }
   ],
   "source": [
    "# Read all lines\n",
    "filename = \"test.txt\"\n",
    "with open(filename) as fp:\n",
    "    lines = fp.readlines()\n",
    "\n",
    "for line in lines:\n",
    "    print(line, end = ' ')\n",
    "print()"
   ]
  },
  {
   "cell_type": "code",
   "execution_count": 98,
   "id": "magnetic-mortality",
   "metadata": {},
   "outputs": [
    {
     "name": "stdout",
     "output_type": "stream",
     "text": [
      "       25       125\n",
      "  6        36       216\n",
      "  7        49       343\n",
      "  8        64       512\n",
      "  9     \n"
     ]
    }
   ],
   "source": [
    "# Navigate the file\n",
    "filename = \"test.txt\"\n",
    "with open(filename, \"r\") as fp:\n",
    "    fp.seek(100)\n",
    "    s = fp.read(100)\n",
    "    print(s)"
   ]
  },
  {
   "cell_type": "code",
   "execution_count": 39,
   "id": "subtle-supervision",
   "metadata": {},
   "outputs": [
    {
     "name": "stdout",
     "output_type": "stream",
     "text": [
      "[1, 1, 1, 2, 4, 8, 3, 9, 27, 4, 16, 64, 5, 25, 125, 6, 36, 216, 7, 49, 343, 8, 64, 512, 9, 81, 729, 10, 100, 1000]\n",
      "[[1, 1, 1], [2, 4, 8], [3, 9, 27], [4, 16, 64], [5, 25, 125], [6, 36, 216], [7, 49, 343], [8, 64, 512], [9, 81, 729], [10, 100, 1000]]\n",
      "b'\\x00\\x00\\x00\\x01\\x00\\x00\\x00\\x01\\x00\\x00\\x00\\x01\\x00\\x00\\x00\\x02\\x00\\x00\\x00\\x04\\x00\\x00\\x00\\x08\\x00\\x00\\x00\\x03\\x00\\x00\\x00\\t\\x00\\x00\\x00\\x1b\\x00\\x00\\x00\\x04\\x00\\x00\\x00\\x10\\x00\\x00\\x00@\\x00\\x00\\x00\\x05\\x00\\x00\\x00\\x19\\x00\\x00\\x00}\\x00\\x00\\x00\\x06\\x00\\x00\\x00$\\x00\\x00\\x00\\xd8\\x00\\x00\\x00\\x07\\x00\\x00\\x001\\x00\\x00\\x01W\\x00\\x00\\x00\\x08\\x00\\x00\\x00@\\x00\\x00\\x02\\x00\\x00\\x00\\x00\\t\\x00\\x00\\x00Q\\x00\\x00\\x02\\xd9\\x00\\x00\\x00\\n\\x00\\x00\\x00d\\x00\\x00\\x03\\xe8'\n",
      "Length of the binary string:  120\n",
      "<class 'bytes'>\n"
     ]
    },
    {
     "ename": "TypeError",
     "evalue": "cannot convert 'int' object to bytes",
     "output_type": "error",
     "traceback": [
      "\u001b[0;31m---------------------------------------------------------------------------\u001b[0m",
      "\u001b[0;31mTypeError\u001b[0m                                 Traceback (most recent call last)",
      "\u001b[0;32m<ipython-input-39-4f926c9acd4b>\u001b[0m in \u001b[0;36m<module>\u001b[0;34m\u001b[0m\n\u001b[1;32m     35\u001b[0m \u001b[0;34m\u001b[0m\u001b[0m\n\u001b[1;32m     36\u001b[0m \u001b[0mdata\u001b[0m \u001b[0;34m=\u001b[0m \u001b[0;34m[\u001b[0m\u001b[0;34m]\u001b[0m\u001b[0;34m\u001b[0m\u001b[0;34m\u001b[0m\u001b[0m\n\u001b[0;32m---> 37\u001b[0;31m \u001b[0mdata\u001b[0m \u001b[0;34m=\u001b[0m \u001b[0mint\u001b[0m\u001b[0;34m.\u001b[0m\u001b[0mfrom_bytes\u001b[0m\u001b[0;34m(\u001b[0m\u001b[0mbinary_string\u001b[0m\u001b[0;34m[\u001b[0m\u001b[0;36m0\u001b[0m\u001b[0;34m]\u001b[0m\u001b[0;34m,\u001b[0m \u001b[0mbyteorder\u001b[0m \u001b[0;34m=\u001b[0m \u001b[0;34m\"big\"\u001b[0m\u001b[0;34m,\u001b[0m \u001b[0msigned\u001b[0m \u001b[0;34m=\u001b[0m \u001b[0;32mTrue\u001b[0m\u001b[0;34m)\u001b[0m\u001b[0;34m\u001b[0m\u001b[0;34m\u001b[0m\u001b[0m\n\u001b[0m",
      "\u001b[0;31mTypeError\u001b[0m: cannot convert 'int' object to bytes"
     ]
    }
   ],
   "source": [
    "# Save and Read Binary Files\n",
    "N = 10\n",
    "M = 3\n",
    "\n",
    "lst = [(el, el ** 2, el ** 3) for el in range(1, N+1)]\n",
    "filename = \"test_binary.bin\"\n",
    "with open(filename, \"wb\") as fp:\n",
    "    for i in range(N):\n",
    "        for j in range(M):\n",
    "            fp.write( lst[i][j].to_bytes(4, byteorder = \"big\", signed = True) )\n",
    "\n",
    "lst_new = []\n",
    "with open(filename, \"rb\") as fp:\n",
    "    # EOF: read returns b''\n",
    "    i = fp.read(4)\n",
    "    while i:\n",
    "        lst_new.append( int.from_bytes(i, byteorder = \"big\", signed = True) )\n",
    "        i = fp.read(4)\n",
    "        \n",
    "    lst_structured = []\n",
    "    for i in range(N):\n",
    "        lst_structured.append( lst_new[M*i:M*i+M] )\n",
    "        \n",
    "print(lst_new)\n",
    "print(lst_structured)\n",
    "\n",
    "# read byte string\n",
    "with open(filename, \"rb\") as fp:\n",
    "    binary_string = fp.read(4 * 30)\n",
    "print(binary_string)\n",
    "\n",
    "# Length of class bytes\n",
    "print(\"Length of the binary string: \", len(binary_string))\n",
    "print(type(binary_string))\n",
    "\n",
    "# This code doesn't work\n",
    "data = []\n",
    "data = int.from_bytes(binary_string[0], byteorder = \"big\", signed = True)"
   ]
  },
  {
   "cell_type": "code",
   "execution_count": 57,
   "id": "advance-elimination",
   "metadata": {},
   "outputs": [
    {
     "name": "stdout",
     "output_type": "stream",
     "text": [
      "  76   79   88 \n",
      "  23   65   17 \n",
      "  29   70   50 \n",
      "  51   76   15 \n",
      "  81   85   32 \n",
      "  12   86   67 \n",
      "  75   54   77 \n",
      "  46   81   71 \n",
      "  13   84   38 \n",
      "  89   17   20 \n",
      "[[76, 79, 88], [23, 65, 17], [29, 70, 50], [51, 76, 15], [81, 85, 32], [12, 86, 67], [75, 54, 77], [46, 81, 71], [13, 84, 38], [89, 17, 20]]\n"
     ]
    }
   ],
   "source": [
    "# Saving to json\n",
    "import random as rnd\n",
    "import json\n",
    "\n",
    "M = 3\n",
    "N = 10\n",
    "\n",
    "# why it works? Both variables are \"_\"\n",
    "data = [ [rnd.randint(0, 99) for _ in range(M)] for _ in range(N) ]\n",
    "for i in range(N):\n",
    "    for j in range(M):\n",
    "        print(repr(data[i][j]).rjust(4), end = ' ')\n",
    "    print()\n",
    "\n",
    "# write json\n",
    "jsn = json.dumps(data)\n",
    "filename = \"data.json\"\n",
    "with open(filename, \"w\") as fp:\n",
    "    fp.write(jsn)\n",
    "    \n",
    "# read json\n",
    "with open(filename, \"r\") as fp:\n",
    "    jsn_new = json.load(fp)\n",
    "print(jsn_new)"
   ]
  },
  {
   "cell_type": "code",
   "execution_count": 58,
   "id": "comparative-receiver",
   "metadata": {},
   "outputs": [],
   "source": [
    "# pickle\n"
   ]
  },
  {
   "cell_type": "code",
   "execution_count": 66,
   "id": "packed-colorado",
   "metadata": {},
   "outputs": [
    {
     "name": "stdout",
     "output_type": "stream",
     "text": [
      "0.3333333333333333\n",
      "0.5\n",
      "1.0\n"
     ]
    },
    {
     "ename": "ZeroDivisionError",
     "evalue": "division by zero",
     "output_type": "error",
     "traceback": [
      "\u001b[0;31m---------------------------------------------------------------------------\u001b[0m",
      "\u001b[0;31mZeroDivisionError\u001b[0m                         Traceback (most recent call last)",
      "\u001b[0;32m<ipython-input-66-5a77bb956a3e>\u001b[0m in \u001b[0;36m<module>\u001b[0;34m\u001b[0m\n\u001b[1;32m      2\u001b[0m \u001b[0;31m# ZeroDivisionError\u001b[0m\u001b[0;34m\u001b[0m\u001b[0;34m\u001b[0m\u001b[0;34m\u001b[0m\u001b[0m\n\u001b[1;32m      3\u001b[0m \u001b[0;32mfor\u001b[0m \u001b[0mi\u001b[0m \u001b[0;32min\u001b[0m \u001b[0mrange\u001b[0m\u001b[0;34m(\u001b[0m\u001b[0;36m3\u001b[0m\u001b[0;34m,\u001b[0m \u001b[0;34m-\u001b[0m\u001b[0;36m3\u001b[0m\u001b[0;34m,\u001b[0m \u001b[0;34m-\u001b[0m\u001b[0;36m1\u001b[0m\u001b[0;34m)\u001b[0m\u001b[0;34m:\u001b[0m\u001b[0;34m\u001b[0m\u001b[0;34m\u001b[0m\u001b[0m\n\u001b[0;32m----> 4\u001b[0;31m     \u001b[0mx\u001b[0m \u001b[0;34m=\u001b[0m \u001b[0;36m1\u001b[0m\u001b[0;34m/\u001b[0m\u001b[0mi\u001b[0m\u001b[0;34m\u001b[0m\u001b[0;34m\u001b[0m\u001b[0m\n\u001b[0m\u001b[1;32m      5\u001b[0m     \u001b[0mprint\u001b[0m\u001b[0;34m(\u001b[0m\u001b[0mx\u001b[0m\u001b[0;34m)\u001b[0m\u001b[0;34m\u001b[0m\u001b[0;34m\u001b[0m\u001b[0m\n\u001b[1;32m      6\u001b[0m \u001b[0;34m\u001b[0m\u001b[0m\n",
      "\u001b[0;31mZeroDivisionError\u001b[0m: division by zero"
     ]
    }
   ],
   "source": [
    "# Error and Exceptions\n",
    "# ZeroDivisionError\n",
    "for i in range(3, -3, -1):\n",
    "    x = 1/i\n",
    "    print(x)\n",
    "    \n",
    "# NameError\n",
    "print(spam)\n",
    "\n",
    "# TypeError\n",
    "print('2' + 2)"
   ]
  },
  {
   "cell_type": "code",
   "execution_count": 73,
   "id": "industrial-orbit",
   "metadata": {},
   "outputs": [
    {
     "name": "stdin",
     "output_type": "stream",
     "text": [
      "Please enter a number:  123\n"
     ]
    }
   ],
   "source": [
    "# Handling Exception\n",
    "while True:\n",
    "    try:\n",
    "        x = int(input(\"Please enter a number: \"))\n",
    "        break\n",
    "    except (RuntimeError, ValueError, TypeError, NameError):\n",
    "        print(\"Not a valid number, try again\")"
   ]
  },
  {
   "cell_type": "code",
   "execution_count": 74,
   "id": "convinced-officer",
   "metadata": {},
   "outputs": [
    {
     "name": "stdout",
     "output_type": "stream",
     "text": [
      "B\n",
      "C\n",
      "D\n"
     ]
    }
   ],
   "source": [
    "# How to Create Exception Class\n",
    "class B(Exception):\n",
    "    pass\n",
    "class C(B):\n",
    "    pass\n",
    "class D(C):\n",
    "    pass\n",
    "for cls in [B, C, D]:\n",
    "    try:\n",
    "        raise cls()\n",
    "    except D:\n",
    "        print('D')\n",
    "    except C:\n",
    "        print('C')\n",
    "    except B:\n",
    "        print('B')"
   ]
  },
  {
   "cell_type": "code",
   "execution_count": 81,
   "id": "fifteen-jacob",
   "metadata": {},
   "outputs": [
    {
     "name": "stdout",
     "output_type": "stream",
     "text": [
      "Unexpected error: <class 'ZeroDivisionError'>\n"
     ]
    },
    {
     "ename": "ZeroDivisionError",
     "evalue": "division by zero",
     "output_type": "error",
     "traceback": [
      "\u001b[0;31m---------------------------------------------------------------------------\u001b[0m",
      "\u001b[0;31mZeroDivisionError\u001b[0m                         Traceback (most recent call last)",
      "\u001b[0;32m<ipython-input-81-be39aef43458>\u001b[0m in \u001b[0;36m<module>\u001b[0;34m\u001b[0m\n\u001b[1;32m      4\u001b[0m     \u001b[0mfp\u001b[0m \u001b[0;34m=\u001b[0m \u001b[0mopen\u001b[0m\u001b[0;34m(\u001b[0m\u001b[0;34m\"test.txt\"\u001b[0m\u001b[0;34m)\u001b[0m\u001b[0;34m\u001b[0m\u001b[0;34m\u001b[0m\u001b[0m\n\u001b[1;32m      5\u001b[0m     \u001b[0ms\u001b[0m \u001b[0;34m=\u001b[0m \u001b[0mfp\u001b[0m\u001b[0;34m.\u001b[0m\u001b[0mreadline\u001b[0m\u001b[0;34m(\u001b[0m\u001b[0;34m)\u001b[0m\u001b[0;34m\u001b[0m\u001b[0;34m\u001b[0m\u001b[0m\n\u001b[0;32m----> 6\u001b[0;31m     \u001b[0;36m1\u001b[0m\u001b[0;34m/\u001b[0m\u001b[0;36m0\u001b[0m\u001b[0;34m\u001b[0m\u001b[0;34m\u001b[0m\u001b[0m\n\u001b[0m\u001b[1;32m      7\u001b[0m     \u001b[0mi\u001b[0m \u001b[0;34m=\u001b[0m \u001b[0mint\u001b[0m\u001b[0;34m(\u001b[0m\u001b[0ms\u001b[0m\u001b[0;34m.\u001b[0m\u001b[0mstrip\u001b[0m\u001b[0;34m(\u001b[0m\u001b[0;34m)\u001b[0m\u001b[0;34m)\u001b[0m\u001b[0;34m\u001b[0m\u001b[0;34m\u001b[0m\u001b[0m\n\u001b[1;32m      8\u001b[0m \u001b[0;31m# OSError\u001b[0m\u001b[0;34m\u001b[0m\u001b[0;34m\u001b[0m\u001b[0;34m\u001b[0m\u001b[0m\n",
      "\u001b[0;31mZeroDivisionError\u001b[0m: division by zero"
     ]
    }
   ],
   "source": [
    "# andle Several Errors\n",
    "import sys\n",
    "\n",
    "try:\n",
    "    fp = open(\"test.txt\")\n",
    "    s = fp.readline()\n",
    "    1/0\n",
    "    i = int(s.strip())\n",
    "# OSError\n",
    "except OSError as err:\n",
    "    print(\"OS error: {0}\".format(err))\n",
    "# Value Error\n",
    "except ValueError:\n",
    "    print(\"Err: Could not convert data to an integer\")\n",
    "# Unexpected Error\n",
    "except:\n",
    "    print(\"Unexpected error:\", sys.exc_info()[0])\n",
    "    raise"
   ]
  },
  {
   "cell_type": "code",
   "execution_count": 82,
   "id": "cleared-initial",
   "metadata": {},
   "outputs": [
    {
     "name": "stdout",
     "output_type": "stream",
     "text": [
      "cannot open -f\n"
     ]
    }
   ],
   "source": [
    "# Handle Error 2: else\n",
    "for arg in sys.argv[1:]:\n",
    "    try:\n",
    "        fp = open(arg, \"r\")\n",
    "    except OSError:\n",
    "        print(\"cannot open\", arg)\n",
    "    else:\n",
    "        print(arg, \"has\", len(f.readlines()), \"lines\")\n",
    "        fp.close()"
   ]
  },
  {
   "cell_type": "code",
   "execution_count": 85,
   "id": "focused-perry",
   "metadata": {},
   "outputs": [
    {
     "name": "stdout",
     "output_type": "stream",
     "text": [
      "<class 'Exception'>\n",
      "('spam', 'eggs')\n",
      "('spam', 'eggs')\n",
      "spam eggs\n"
     ]
    }
   ],
   "source": [
    "# Raising Errors\n",
    "try:\n",
    "    raise Exception(\"spam\", \"eggs\")\n",
    "except Exception as inst:\n",
    "    print(type(inst))\n",
    "    print(inst.args)\n",
    "    print(inst)\n",
    "    x, y = inst.args\n",
    "    print(x, y)"
   ]
  },
  {
   "cell_type": "code",
   "execution_count": 89,
   "id": "alien-lighting",
   "metadata": {},
   "outputs": [
    {
     "name": "stdout",
     "output_type": "stream",
     "text": [
      "An exception raised\n"
     ]
    }
   ],
   "source": [
    "try:\n",
    "    raise NameError(\"HiThere\")\n",
    "except NameError:\n",
    "    print(\"An exception raised\")\n",
    "    raise"
   ]
  },
  {
   "cell_type": "code",
   "execution_count": 9,
   "id": "blocked-inspiration",
   "metadata": {},
   "outputs": [
    {
     "name": "stdout",
     "output_type": "stream",
     "text": [
      "After local assignment: test spam\n",
      "After nonlocal assignment: nonlocal spam\n",
      "After global assignment: nonlocal spam\n",
      "In global scope: global spam\n"
     ]
    }
   ],
   "source": [
    "# 9 Classes\n",
    "# Scopes\n",
    "def scope_test():\n",
    "    def do_local():\n",
    "        spam = \"local spam\"\n",
    "    \n",
    "    def do_nonlocal():\n",
    "        nonlocal spam\n",
    "        spam = \"nonlocal spam\"\n",
    "    \n",
    "    def do_global():\n",
    "        global spam\n",
    "        spam = \"global spam\"\n",
    "    \n",
    "    spam = \"test spam\"\n",
    "    \n",
    "    do_local()\n",
    "    print(\"After local assignment:\", spam)\n",
    "    \n",
    "    do_nonlocal()\n",
    "    print(\"After nonlocal assignment:\", spam)\n",
    "    \n",
    "    do_global()\n",
    "    print(\"After global assignment:\", spam)\n",
    "\n",
    "scope_test()\n",
    "print(\"In global scope:\", spam)"
   ]
  },
  {
   "cell_type": "code",
   "execution_count": 33,
   "id": "accompanied-corruption",
   "metadata": {},
   "outputs": [
    {
     "name": "stdout",
     "output_type": "stream",
     "text": [
      "A Simple Class\n",
      "1 2 3 4 5\n",
      "5\n",
      "Name1 Name2\n"
     ]
    }
   ],
   "source": [
    "# Simple Class\n",
    "class TestClass:\n",
    "    \"\"\"A Simple Class\"\"\"\n",
    "    i = 12345\n",
    "    \n",
    "    def __init__(self, *, data):\n",
    "        self.data = data\n",
    "        self.names = []\n",
    "        # local variable\n",
    "        name = []\n",
    "    \n",
    "    def fun(self):\n",
    "        return \"Hello World\"\n",
    "    \n",
    "    def data_len(self):\n",
    "        return len(self.data)\n",
    "    \n",
    "    def append_name(self, s):\n",
    "        self.names.append(s)\n",
    "\n",
    "ClassEx = TestClass(data = [1, 2, 3, 4, 5])\n",
    "print(ClassEx.__doc__)\n",
    "print(*ClassEx.data)\n",
    "print(ClassEx.data_len())\n",
    "\n",
    "ClassEx.append_name(\"Name1\")\n",
    "ClassEx.append_name(\"Name2\")\n",
    "print(*ClassEx.names)\n"
   ]
  },
  {
   "cell_type": "code",
   "execution_count": 42,
   "id": "eastern-issue",
   "metadata": {},
   "outputs": [
    {
     "name": "stdout",
     "output_type": "stream",
     "text": [
      "1 2 3 4 5 6\n",
      "['a', 'b', 'c']\n"
     ]
    }
   ],
   "source": [
    "# Inheritance\n",
    "class Parent:\n",
    "    \"\"\"A Parent Class\"\"\"\n",
    "    \n",
    "    def __init__(self, data):\n",
    "        self.data = data\n",
    "        \n",
    "    def append(self, s):\n",
    "        self.data.append(s)\n",
    "        \n",
    "class Child(Parent):\n",
    "    \"\"\"A Child Class\"\"\"\n",
    "    pass\n",
    "    \n",
    "p = Parent([1, 2, 3, 4, 5])\n",
    "p.append(6)\n",
    "print(*p.data)\n",
    "\n",
    "c = Child(['a', 'b', 'c'])\n",
    "print(c.data)\n"
   ]
  },
  {
   "cell_type": "code",
   "execution_count": 1,
   "id": "agreed-dictionary",
   "metadata": {},
   "outputs": [
    {
     "name": "stdout",
     "output_type": "stream",
     "text": [
      "John Doe Computer Lab 1000\n"
     ]
    }
   ],
   "source": [
    "class Employee:\n",
    "    pass\n",
    "\n",
    "john = Employee()\n",
    "\n",
    "# Adding Fields to Class\n",
    "john.name = \"John Doe\"\n",
    "john.dept = \"Computer Lab\"\n",
    "john.salary = 1000\n",
    "\n",
    "def fun():\n",
    "    print(john.name, john.dept, john.salary)\n",
    "\n",
    "# Adding Method to Class\n",
    "john.fun = fun\n",
    "fun()"
   ]
  },
  {
   "cell_type": "code",
   "execution_count": 64,
   "id": "sharing-integration",
   "metadata": {},
   "outputs": [],
   "source": [
    "# Iterators\n",
    "s = \"abc\"\n",
    "it = iter(s)\n",
    "print(next(it))\n",
    "print(it.__next__())\n",
    "print(next(it))\n",
    "print(next(it))\n",
    "print(next(it))"
   ]
  },
  {
   "cell_type": "code",
   "execution_count": 5,
   "id": "dominant-fighter",
   "metadata": {},
   "outputs": [],
   "source": [
    "# Inheritance\n",
    "class Point:\n",
    "    def __init__(self, x, y):\n",
    "        self.x = x\n",
    "        self.y = y\n",
    "    \n",
    "    def __iter__(self):\n",
    "        return self\n",
    "\n",
    "class PointProjection(Point):\n",
    "    def __init__(self, x, y, z):\n",
    "        super().__init__(x, y)\n",
    "        self.z = z\n",
    "\n",
    "def Main():\n",
    "    pt = Point(10, 20)\n",
    "    ptp = PointProjection(10, 20, 30)\n",
    "    \n",
    "if __name__ == \"__main__\":\n",
    "    Main()"
   ]
  },
  {
   "cell_type": "code",
   "execution_count": 12,
   "id": "intellectual-mileage",
   "metadata": {},
   "outputs": [
    {
     "name": "stdout",
     "output_type": "stream",
     "text": [
      "sihT esreveR\n"
     ]
    }
   ],
   "source": [
    "# Iterators in Classes\n",
    "# Task: Reverse String\n",
    "class Reverse:\n",
    "    def __init__(self, data):\n",
    "        self.data = data\n",
    "        self.index = len(data)\n",
    "    \n",
    "    def __iter__(self):\n",
    "        return self\n",
    "    \n",
    "    def __next__(self):\n",
    "        if self.index == 0:\n",
    "            raise StopIteration\n",
    "        self.index -= 1\n",
    "        return self.data[self.index]\n",
    "\n",
    "def main():\n",
    "    r = Reverse(\"Reverse This\")\n",
    "    for ch in r:\n",
    "        print(ch, end = '')\n",
    "    print()\n",
    "    \n",
    "if __name__ == \"__main__\":\n",
    "    main()"
   ]
  },
  {
   "cell_type": "code",
   "execution_count": 22,
   "id": "weekly-february",
   "metadata": {},
   "outputs": [
    {
     "name": "stdout",
     "output_type": "stream",
     "text": [
      "[0, 1, 2, 3, 4, 5]\n",
      "range(0, 6)\n"
     ]
    }
   ],
   "source": [
    "lst = [0, 1, 2, 3, 4, 5]\n",
    "print(lst)\n",
    "\n",
    "rng = range(6)\n",
    "print(rng)"
   ]
  },
  {
   "cell_type": "code",
   "execution_count": 7,
   "id": "forced-schedule",
   "metadata": {},
   "outputs": [
    {
     "name": "stdout",
     "output_type": "stream",
     "text": [
      "gnirtS esreveR\n",
      "gnirtS esreveR\n"
     ]
    }
   ],
   "source": [
    "# Generators - function 1\n",
    "def rvrs(data):\n",
    "    for index in range(len(data) - 1, -1, -1):\n",
    "        yield data[index]\n",
    "    \n",
    "def main():\n",
    "    r = rvrs(\"Reverse String\")\n",
    "    for ch in r:\n",
    "        print(ch, end = '')\n",
    "    print()\n",
    "    \n",
    "    data = \"Reverse String\"\n",
    "    print(*list(data[i] for i in range(len(data) - 1, -1, -1)), sep = '')\n",
    "    \n",
    "if __name__ == \"__main__\":\n",
    "    main()"
   ]
  },
  {
   "cell_type": "code",
   "execution_count": 13,
   "id": "neither-crest",
   "metadata": {},
   "outputs": [
    {
     "name": "stdout",
     "output_type": "stream",
     "text": [
      "17\n",
      "34\n",
      "6\n",
      "40\n",
      "6\n",
      "125\n"
     ]
    }
   ],
   "source": [
    "# Generators - function 2\n",
    "import random as rnd\n",
    "\n",
    "def lottery():\n",
    "    for i in range(5):\n",
    "        yield rnd.randint(1, 40)\n",
    "    yield rnd.randint(100, 200)\n",
    "        \n",
    "for n in lottery():\n",
    "    print(n)"
   ]
  },
  {
   "cell_type": "code",
   "execution_count": 21,
   "id": "inside-anger",
   "metadata": {},
   "outputs": [
    {
     "name": "stdout",
     "output_type": "stream",
     "text": [
      "1\n",
      "1\n",
      "2\n",
      "3\n",
      "5\n",
      "8\n",
      "13\n",
      "21\n",
      "34\n",
      "55\n"
     ]
    }
   ],
   "source": [
    "# Generators - function 3\n",
    "def fib():\n",
    "    a, b = 1, 1\n",
    "    while True:\n",
    "        yield a\n",
    "        a, b = b, a + b\n",
    "\n",
    "counter = 0\n",
    "for n in fib():\n",
    "    print(n)\n",
    "    counter += 1\n",
    "    if counter == 10:\n",
    "        break"
   ]
  },
  {
   "cell_type": "code",
   "execution_count": 11,
   "id": "surprising-hudson",
   "metadata": {},
   "outputs": [],
   "source": [
    "# Generators - Reading Large Files/Streams - Generator Pipeline\n",
    "def read_csv(fn):\n",
    "    for row in open(filename, \"r\"):\n",
    "        yield row\n",
    "        # should I close the file\n",
    "\n",
    "filename = \"pandas_tutorial_read.csv\"\n",
    "for line in read_csv(filename):\n",
    "    #print(line)\n",
    "    pass"
   ]
  },
  {
   "cell_type": "code",
   "execution_count": 38,
   "id": "abandoned-foster",
   "metadata": {},
   "outputs": [
    {
     "name": "stdout",
     "output_type": "stream",
     "text": [
      "3\n",
      "4\n",
      "5\n",
      "7\n",
      "11\n",
      "13\n",
      "17\n",
      "19\n",
      "23\n",
      "29\n",
      "31\n"
     ]
    }
   ],
   "source": [
    "# Generators - Prime Numbers\n",
    "def prime_numbers():\n",
    "    n = 3\n",
    "    while True:\n",
    "        for i in range(2, n//2):\n",
    "            if not n%i:\n",
    "                break\n",
    "        else:\n",
    "            yield n\n",
    "        n += 1\n",
    "\n",
    "c = 0\n",
    "for n in prime_numbers():\n",
    "    if c > 10:\n",
    "        break\n",
    "    print(n)\n",
    "    c += 1"
   ]
  },
  {
   "cell_type": "code",
   "execution_count": 25,
   "id": "lesser-kernel",
   "metadata": {},
   "outputs": [
    {
     "ename": "StopIteration",
     "evalue": "",
     "output_type": "error",
     "traceback": [
      "\u001b[0;31m---------------------------------------------------------------------------\u001b[0m",
      "\u001b[0;31mStopIteration\u001b[0m                             Traceback (most recent call last)",
      "\u001b[0;32m<ipython-input-25-1749ba7f733c>\u001b[0m in \u001b[0;36m<module>\u001b[0;34m\u001b[0m\n\u001b[1;32m      5\u001b[0m     \u001b[0;31m#print(line)\u001b[0m\u001b[0;34m\u001b[0m\u001b[0;34m\u001b[0m\u001b[0;34m\u001b[0m\u001b[0m\n\u001b[1;32m      6\u001b[0m     \u001b[0;32mpass\u001b[0m\u001b[0;34m\u001b[0m\u001b[0;34m\u001b[0m\u001b[0m\n\u001b[0;32m----> 7\u001b[0;31m \u001b[0mprint\u001b[0m\u001b[0;34m(\u001b[0m\u001b[0mnext\u001b[0m\u001b[0;34m(\u001b[0m\u001b[0mread_gen\u001b[0m\u001b[0;34m)\u001b[0m\u001b[0;34m)\u001b[0m\u001b[0;34m\u001b[0m\u001b[0;34m\u001b[0m\u001b[0m\n\u001b[0m\u001b[1;32m      8\u001b[0m \u001b[0mprint\u001b[0m\u001b[0;34m(\u001b[0m\u001b[0mnext\u001b[0m\u001b[0;34m(\u001b[0m\u001b[0mread_gen\u001b[0m\u001b[0;34m)\u001b[0m\u001b[0;34m)\u001b[0m\u001b[0;34m\u001b[0m\u001b[0;34m\u001b[0m\u001b[0m\n",
      "\u001b[0;31mStopIteration\u001b[0m: "
     ]
    }
   ],
   "source": [
    "# Generators - Comprehension\n",
    "filename = \"pandas_tutorial_read.csv\"\n",
    "read_gen = (line for line in open(filename))\n",
    "for line in read_gen:\n",
    "    #print(line)\n",
    "    pass\n",
    "print(next(read_gen))\n",
    "print(next(read_gen))"
   ]
  },
  {
   "cell_type": "code",
   "execution_count": 38,
   "id": "palestinian-porcelain",
   "metadata": {},
   "outputs": [
    {
     "name": "stdout",
     "output_type": "stream",
     "text": [
      "0 2 4 6 8 \n",
      "0 2 4 6 8 "
     ]
    }
   ],
   "source": [
    "# Generators - \"reload\" the generator\n",
    "import itertools\n",
    "\n",
    "gen = (el for el in range(10) if not el % 2)\n",
    "\n",
    "gen, gen_copy = itertools.tee(gen)\n",
    "\n",
    "for el in gen:\n",
    "    print(el, end = ' ')\n",
    "print()\n",
    "    \n",
    "for el in gen_copy:\n",
    "    print(el, end = ' ')\n",
    "    "
   ]
  },
  {
   "cell_type": "code",
   "execution_count": 24,
   "id": "cardiac-player",
   "metadata": {},
   "outputs": [
    {
     "name": "stdout",
     "output_type": "stream",
     "text": [
      "10\n",
      "30\n",
      "30\n"
     ]
    }
   ],
   "source": [
    "# Hiding Objects\n",
    "class TestClass:\n",
    "    __hiddenVariable = 0\n",
    "    \n",
    "    def add(self, increment):\n",
    "        self.__hiddenVariable += increment\n",
    "        print(self.__hiddenVariable)\n",
    "        \n",
    "a = TestClass()\n",
    "a.add(10)\n",
    "a.add(20)\n",
    "\n",
    "# A Trick to Access Hidden Variable\n",
    "print(a._TestClass__hiddenVariable)"
   ]
  },
  {
   "cell_type": "code",
   "execution_count": 1,
   "id": "filled-thread",
   "metadata": {},
   "outputs": [
    {
     "name": "stdout",
     "output_type": "stream",
     "text": [
      "From str method of Test: a is 1234, b is 5678\n",
      "[Test a:1234 b:5678]\n"
     ]
    }
   ],
   "source": [
    "class TestClass:\n",
    "    def __init__(self, a, b):\n",
    "        self.a = a\n",
    "        self.b = b\n",
    "    \n",
    "    def __repr__(self):\n",
    "        return \"Test a:%s b:%s\" % (self.a, self.b)\n",
    "\n",
    "    def __str__(self):\n",
    "        return \"From str method of Test: a is %s, \" \\\n",
    "    \"b is %s\" % (self.a, self.b)\n",
    "    \n",
    "tc = TestClass(1234, 5678)\n",
    "print(tc)\n",
    "print([tc])"
   ]
  },
  {
   "cell_type": "code",
   "execution_count": 3,
   "id": "certified-selling",
   "metadata": {},
   "outputs": [
    {
     "name": "stdout",
     "output_type": "stream",
     "text": [
      "True\n",
      "False\n",
      "False\n",
      "True\n"
     ]
    }
   ],
   "source": [
    "# Checking is SubClass\n",
    "class Base(object):\n",
    "    pass\n",
    "\n",
    "class Derived(Base):\n",
    "    pass\n",
    "\n",
    "# issubclass(instance to check, Class name)\n",
    "print(issubclass(Derived, Base))\n",
    "print(issubclass(Base, Derived))\n",
    "\n",
    "d = Derived()\n",
    "b = Base()\n",
    "\n",
    "print(isinstance(b, Derived))\n",
    "print(isinstance(d, Base))"
   ]
  },
  {
   "cell_type": "code",
   "execution_count": 6,
   "id": "disabled-award",
   "metadata": {},
   "outputs": [
    {
     "name": "stdout",
     "output_type": "stream",
     "text": [
      "Base1\n",
      "Base2\n",
      "Derived\n",
      "Geek1 Geek2\n"
     ]
    }
   ],
   "source": [
    "# Multiple Inheritance\n",
    "class Base1(object):\n",
    "    def __init__(self):\n",
    "        self.str1 = \"Geek1\"\n",
    "        print(\"Base1\")\n",
    "\n",
    "class Base2(object):\n",
    "    def __init__(self):\n",
    "        self.str2 = \"Geek2\"\n",
    "        print(\"Base2\")\n",
    "    \n",
    "class Derived(Base1, Base2):\n",
    "    def __init__(self):\n",
    "        Base1.__init__(self)\n",
    "        Base2.__init__(self)\n",
    "        print(\"Derived\")\n",
    "        \n",
    "    def printStrs(self):\n",
    "        print(self.str1, self.str2)\n",
    "\n",
    "ob = Derived()\n",
    "ob.printStrs()"
   ]
  },
  {
   "cell_type": "code",
   "execution_count": 10,
   "id": "exempt-stupid",
   "metadata": {},
   "outputs": [
    {
     "name": "stdout",
     "output_type": "stream",
     "text": [
      "10 20\n",
      "10 20\n"
     ]
    }
   ],
   "source": [
    "# Inheritance: Access Base Class \n",
    "class Base:\n",
    "    def __init__(self, x):\n",
    "        self.x = x\n",
    "\n",
    "class Derived(Base):\n",
    "    def __init__(self, x, y):\n",
    "        Base.x = x\n",
    "        self.y = y\n",
    "    def printXY(self):\n",
    "        print(Base.x, self.y)\n",
    "        print(self.x, self.y)\n",
    "    \n",
    "d = Derived(10, 20)\n",
    "d.printXY()"
   ]
  },
  {
   "cell_type": "code",
   "execution_count": 19,
   "id": "royal-salad",
   "metadata": {},
   "outputs": [
    {
     "name": "stdout",
     "output_type": "stream",
     "text": [
      "Python\n",
      "CSE\n"
     ]
    }
   ],
   "source": [
    "# Class Variable\n",
    "class CSStudent:\n",
    "    stream = \"CSE\" # Class Variable\n",
    "    def __init__(self, name , roll):\n",
    "        self.name = name    # Instance Variable\n",
    "        self.roll = roll\n",
    "    \n",
    "a = CSStudent(\"Geek\", 1)\n",
    "b = CSStudent(\"Nerd\", 2)\n",
    "\n",
    "a.stream = \"Python\"\n",
    "\n",
    "print(a.stream)\n",
    "print(b.stream)"
   ]
  },
  {
   "cell_type": "code",
   "execution_count": 24,
   "id": "primary-plain",
   "metadata": {},
   "outputs": [
    {
     "name": "stdout",
     "output_type": "stream",
     "text": [
      "Constructor invoked\n",
      "Destructor called\n"
     ]
    }
   ],
   "source": [
    "# Destructor\n",
    "class CustomClass:\n",
    "    def __init__(self):\n",
    "        print(\"Constructor invoked\")\n",
    "    def __del__(self):\n",
    "        print(\"Destructor called\")\n",
    "\n",
    "cc = CustomClass()\n",
    "del cc"
   ]
  },
  {
   "cell_type": "code",
   "execution_count": 64,
   "id": "electoral-grove",
   "metadata": {},
   "outputs": [],
   "source": [
    "# 10 Standard Library\n",
    "import os\n",
    "import sys\n",
    "\n",
    "os.chdir(sys.path[0])\n",
    "print(os.getcwd())\n",
    "os.chdir(\"/home/konstantin/\")\n",
    "print(os.getcwd())\n",
    "\n",
    "os.chdir(sys.path[0])\n",
    "os.system(\"touch tempfile\")"
   ]
  },
  {
   "cell_type": "code",
   "execution_count": 7,
   "id": "controlling-fashion",
   "metadata": {},
   "outputs": [
    {
     "data": {
      "text/plain": [
       "'test_copy.txt'"
      ]
     },
     "execution_count": 7,
     "metadata": {},
     "output_type": "execute_result"
    }
   ],
   "source": [
    "import shutil\n",
    "shutil.copyfile(\"test.txt\", \"test_copy.txt\")"
   ]
  },
  {
   "cell_type": "code",
   "execution_count": 9,
   "id": "alpha-natural",
   "metadata": {},
   "outputs": [
    {
     "name": "stdout",
     "output_type": "stream",
     "text": [
      "fib.py w3_1.py\n",
      "w3_python_part2.ipynb python_tutorial.ipynb stepik_introduction_algorithms.ipynb\n"
     ]
    }
   ],
   "source": [
    "import glob\n",
    "print(*glob.glob(\"*.py\"))\n",
    "print(*glob.glob(\"*.ipynb\"))"
   ]
  },
  {
   "cell_type": "code",
   "execution_count": 11,
   "id": "european-laundry",
   "metadata": {},
   "outputs": [
    {
     "name": "stdout",
     "output_type": "stream",
     "text": [
      "['/home/konstantin/.local/lib/python3.8/site-packages/ipykernel_launcher.py', '-f', '/home/konstantin/.local/share/jupyter/runtime/kernel-35c56c90-5c4e-4039-8735-75e4a1f5ec55.json']\n"
     ]
    }
   ],
   "source": [
    "import sys\n",
    "print(sys.argv)"
   ]
  },
  {
   "cell_type": "code",
   "execution_count": 12,
   "id": "pressed-liability",
   "metadata": {},
   "outputs": [
    {
     "data": {
      "text/plain": [
       "['foot', 'fell', 'fastest']"
      ]
     },
     "execution_count": 12,
     "metadata": {},
     "output_type": "execute_result"
    }
   ],
   "source": [
    "import re\n",
    "re.findall(r\"\\bf[a-z]*\", \"which foot or hand fell fastest\")"
   ]
  },
  {
   "cell_type": "code",
   "execution_count": 45,
   "id": "polyphonic-mississippi",
   "metadata": {},
   "outputs": [
    {
     "name": "stdout",
     "output_type": "stream",
     "text": [
      "pear\n",
      "[74, 20, 44, 97, 21, 42, 79, 26, 10, 56]\n",
      "0.4080184506650705\n",
      "3\n",
      "-2\n"
     ]
    }
   ],
   "source": [
    "# Random Module\n",
    "import random as rnd\n",
    "lst = [\"apple\", \"pear\", \"banana\"]\n",
    "print(rnd.choice(lst))\n",
    "\n",
    "print(rnd.sample(range(100), 10))\n",
    "\n",
    "print(rnd.random())\n",
    "\n",
    "print(rnd.randint(1, 10))\n",
    "\n",
    "print(rnd.randrange(-5, 5, 1))"
   ]
  },
  {
   "cell_type": "code",
   "execution_count": 82,
   "id": "accessible-disaster",
   "metadata": {},
   "outputs": [
    {
     "name": "stdout",
     "output_type": "stream",
     "text": [
      "[-92.26, -53.52, -6.76, 12.17, 15.33, 39.67, 41.82, 46.6, 64.67, 76.46]\n",
      "14.42\n",
      "27.5\n",
      "2805.43\n"
     ]
    }
   ],
   "source": [
    "import random as rnd\n",
    "import statistics as st\n",
    "\n",
    "data = [rnd.randint(-10000, 10000) / 100 for _ in range(10)]\n",
    "print(sorted(data))\n",
    "\n",
    "print(round(st.mean(data), 2))\n",
    "print(round(st.median(data), 2))\n",
    "print(round(st.variance(data), 2))\n"
   ]
  },
  {
   "cell_type": "code",
   "execution_count": 100,
   "id": "mental-construction",
   "metadata": {
    "collapsed": true,
    "jupyter": {
     "outputs_hidden": true
    }
   },
   "outputs": [
    {
     "name": "stdout",
     "output_type": "stream",
     "text": [
      "b'<!DOCTYPE html><html class=\"i-ua_js_no i-ua_css_standart i-ua_browser_ i-ua_browser-engine_ i-ua_browser_desktop i-ua_platform_other\" lang=\"ru\"><head xmlns:og=\"http://ogp.me/ns#\"><meta http-equiv=Content-Type content=\"text/html;charset=UTF-8\"><meta http-equiv=\"X-UA-Compatible\" content=\"IE=edge\"><title>\\xd0\\xaf\\xd0\\xbd\\xd0\\xb4\\xd0\\xb5\\xd0\\xba\\xd1\\x81</title><link rel=\"shortcut icon\" href=\"//yastatic.net/iconostasis/_/8lFaTHLDzmsEZz-5XaQg9iTWZGE.png\"><link rel=\"apple-touch-icon\" href=\"//yastatic.net/iconostasis/_/5mdPq4V7ghRgzBvMkCaTzd2fjYg.png\" sizes=\"76x76\"><link rel=\"apple-touch-icon\" href=\"//yastatic.net/iconostasis/_/s-hGoCQMUosTziuARBks08IUxmc.png\" sizes=\"120x120\"><link rel=\"apple-touch-icon\" href=\"//yastatic.net/iconostasis/_/KnU823iWwj_vrPra7x9aQ-4yjRw.png\" sizes=\"152x152\"><link rel=\"apple-touch-icon\" href=\"//yastatic.net/iconostasis/_/wT9gfGZZ80sP0VsoR6dgDyXJf2Y.png\" sizes=\"180x180\"><link rel=\"alternate\" type=\"application/rss+xml\" title=\"\\xd0\\x9d\\xd0\\xbe\\xd0\\xb2\\xd0\\xbe\\xd1\\x81\\xd1\\x82\\xd0\\xb8 \\xd0\\xaf\\xd0\\xbd\\xd0\\xb4\\xd0\\xb5\\xd0\\xba\\xd1\\x81\\xd0\\xb0\" href=\"https://yandex.ru/company/press_releases/news.rss\"><link rel=\"alternate\" type=\"application/rss+xml\" title=\"\\xd0\\x91\\xd0\\xbb\\xd0\\xbe\\xd0\\xb3 \\xd0\\xaf\\xd0\\xbd\\xd0\\xb4\\xd0\\xb5\\xd0\\xba\\xd1\\x81\\xd0\\xb0\" href=\"https://yandex.ru/blog/company/rss\"><link rel=\"search\" href=\"//yandex.ru/opensearch.xml\" title=\"\\xd0\\xaf\\xd0\\xbd\\xd0\\xb4\\xd0\\xb5\\xd0\\xba\\xd1\\x81\" type=\"application/opensearchdescription+xml\"><link rel=\"preload\" href=\"//yastatic.net/jquery/2.1.4/jquery.min.js\" as=\"script\" crossorigin=\"anonymous\"><link rel=\"preload\" href=\"//yastatic.net/s3/home-static/_/I/l/cGGIg3zqx0A3V9CM1WOtUG_Rk.js\" as=\"script\" crossorigin=\"anonymous\"><meta property=\"fb:app_id\" content=\"1524984910954255\"><meta name=\"yamm\" content=\"p\"><meta name=\"referrer\" content=\"origin\"><meta property=\"og:title\" content=\"\\xd0\\xaf\\xd0\\xbd\\xd0\\xb4\\xd0\\xb5\\xd0\\xba\\xd1\\x81\"><meta property=\"og:image\" content=\"https://yastatic.net/s3/home/logos/share/share-logo_ru.png\"><meta property=\"og:description\" content=\"\\xd0\\x9d\\xd0\\xb0\\xd0\\xb9\\xd0\\xb4\\xd1\\x91\\xd1\\x82\\xd1\\x81\\xd1\\x8f \\xd0\\xb2\\xd1\\x81\\xd1\\x91\"><meta property=\"og:url\" content=\"https://yandex.ru\"><meta property=\"og:type\" content=\"website\"><meta property=\"og:site_name\" content=\"\\xd0\\xaf\\xd0\\xbd\\xd0\\xb4\\xd0\\xb5\\xd0\\xba\\xd1\\x81\"><meta property=\"og:locale\" content=\"ru_RU\"><meta property=\"og:locale:alternate\" content=\"ru_RU\"><meta property=\"og:locale:alternate\" content=\"be_BY\"><meta property=\"og:locale:alternate\" content=\"kk_KZ\"><meta property=\"og:locale:alternate\" content=\"tt_RU\"><meta property=\"og:locale:alternate\" content=\"uk_UA\"><script>(function(window) { var home = window.home = window.home || {}, delta = +new Date() - 1613830656 * 1000; home.now = function() { return new Date(+new Date() - delta); }; })(window);</script><script>window.home=window.home||{},home.loadManager=function(){var n={},o={};return{subscribe:function(t,e){var i=0,r=function(){++i===t.length&&setTimeout((function(){e()}),0)};\"object\"!=typeof t&&(t=[t]),t.forEach((function(t){o[t]?r():(n[t]||(n[t]=[]),n[t].push(r))}))},trigger:function(t){if(!o[t]&&(o[t]=!0,n[t])){for(var e=0,i=n[t].length;e<i;e++)n[t][e]();n[t]=[]}}}}();</script><script>!function(i,t){if(i.Ya=i.Ya||{},Ya.Rum)throw new Error(\"Rum: interface is already defined\");var n=i.performance,e=n&&n.timing&&n.timing.navigationStart||Ya.startPageLoad||+new Date,s=i.requestAnimationFrame;Ya.Rum={enabled:!!n,vsStart:document.visibilityState,vsChanged:!1,_defTimes:[],_defRes:[],_deltaMarks:{},_markListeners:{},_settings:{},_vars:{},init:function(i,t){this._settings=i,this._vars=t},getTime:n&&n.now?function(){return n.now()}:Date.now?function(){return Date.now()-e}:function(){return new Date-e},time:function(i){this._deltaMarks[i]=[this.getTime()]},timeEnd:function(i,t){var n=this._deltaMarks[i];n&&0!==n.length&&n.push(this.getTime(),t)},sendTimeMark:function(i,t,n,e){void 0===t&&(t=this.getTime()),this._defTimes.push([i,t,e]),this.mark(i,t)},sendResTiming:function(i,t){this._defRes.push([i,t])},sendRaf:function(i){var t=this.getSetting(\"forcePaintTimeSending\");if(s&&(t||!this.isVisibilityChanged())){var n=this,e=\"2616.\"+i;s((function(){!t&&n.isVisibilityChanged()||(n.getSetting(\"sendFirstRaf\")&&n.sendTimeMark(e+\".205\"),s((function(){!t&&n.isVisibilityChanged()||n.sendTimeMark(e+\".1928\")})))}))}},isVisibilityChanged:function(){return this.vsStart&&(\"visible\"!==this.vsStart||this.vsChanged)},mark:n&&n.mark?function(i,t){n.mark(i+(t?\": \"+t:\"\"))}:function(){},getSetting:function(i){var t=this._settings[i];return null===t?null:t||\"\"},on:function(i,t){\"function\"==typeof t&&(this._markListeners[i]=this._markListeners[i]||[]).push(t)},sendTrafficData:function(){},finalizeLayoutShiftScore:function(){},finalizeLargestContentfulPaint:function(){}},document.addEventListener&&document.addEventListener(\"visibilitychange\",(function a(){Ya.Rum.vsChanged=!0,document.removeEventListener(\"visibilitychange\",a)}))}(window);Ya.Rum.observeDOMNode=window.IntersectionObserver?function(e,i,n){var t=this,o=Ya.Rum.getSetting(\"forcePaintTimeSending\");!function r(){if(o||!t.isVisibilityChanged()){var s=\"string\"==typeof i?document.querySelector(i):i;s?new IntersectionObserver((function(i,n){!o&&t.isVisibilityChanged()||(Ya.Rum.sendTimeMark(e),n.unobserve(s))}),n).observe(s):setTimeout(r,100)}}()}:function(){};!function(){if(window.PerformanceLongTaskTiming){var e=function(e,n){return(e=e.concat(n)).length>300&&(e=e.slice(e.length-300)),e},n=Ya.Rum._tti={events:[],eventsAfterTTI:[],fired:!1,observer:new PerformanceObserver((function(r){var t=r.getEntries();n.events=e(n.events,t),n.fired&&(n.eventsAfterTTI=e(n.eventsAfterTTI,t))}))};n.observer.observe({entryTypes:[\"longtask\"]})}}();!function(){var e,t=[];function n(){var n=Ya.Rum.getSetting(\"clck\"),i=t.join(\"\\\\r\\\\n\");if((t=[],e=null,n)&&!(navigator.sendBeacon&&Ya.Rum.getSetting(\"beacon\")&&navigator.sendBeacon(n,i))){var a=new XMLHttpRequest;a.open(\"POST\",n),a.send(i)}}Ya.Rum.send=function(i,a,o,s,g,u,r){clearTimeout(e);var m=Ya.Rum.getSetting(\"slots\"),c=Ya.Rum.getSetting(\"experiments\"),v=[\"/reqid=\"+Ya.Rum.getSetting(\"reqid\"),r?\"/\"+r.join(\"/\"):\"\",a?\"/path=\"+a:\"\",g?\"/events=\"+g:\"\",m?\"/slots=\"+m.join(\";\"):\"\",c?\"/experiments=\"+c.join(\";\"):\"\",o?\"/vars=\"+o:\"\",\"/cts=\"+(new Date).getTime(),\"/*\"];t.push(v.join(\"\")),t.length<42?e=setTimeout(n,15):n()}}();Ya.Rum.init({\"beacon\":true,\"reqid\":\"1613830656.44549.97810.5072\",\"slots\":[\"325902,0,85\",\"329923,0,31\"],\"clck\":\"https://yandex.ru/clck/click\",\"sendStaticLocation\":false,\"longTaskMetric\":true,\"scrollMetric\":true,\"scrollLatencyMetric\":true},{\"143\":\"28.15.899.1177.1604\",\"287\":\"43\",\"1961\":0,\"1964\":0,\"1965\":0,\"-project\":\"morda\",\"-page\":\"plain_no_zen\",\"-platform\":\"desktop\",\"-env\":\"production\",\"-version\":\"2021-02-19-1\",\"-blocker\":\"\",\"-additional\":\"{}\"});Ya.Rum.observeDOMNode(\\'2876\\',\\'form.search2\\')</script><script>!function(n){if(!n.Ya||!Ya.Rum)throw new Error(\"Rum: interface is not defined\");var e=Ya.Rum;e.getSetting=function(n){var t=e._settings[n];return null===t?null:t||\"\"}}(\"undefined\"!=typeof self?self:window);!function(e,r){var n={client:[\"690.2354\",1e3,100,0],uncaught:[\"690.2361\",100,10,0],external:[\"690.2854\",100,10,0],script:[\"690.2609\",100,10,0]},t={};r.ERROR_LEVEL={INFO:\"info\",DEBUG:\"debug\",WARN:\"warn\",ERROR:\"error\",FATAL:\"fatal\"},r._errorSettings={clck:\"https://yandex.ru/clck/click\",beacon:!0,project:\"unknown\",page:\"\",env:\"\",experiments:[],additional:{},platform:\"\",region:\"\",dc:\"\",host:\"\",service:\"\",level:\"\",version:\"\",yandexuid:\"\",coordinates_gp:\"\",referrer:\"\",preventError:!1,unhandledRejection:!1,uncaughtException:!0,debug:!1,limits:{},silent:{},filters:{},pageMaxAge:864e6,initTimestamp:+new Date};var o=!1;function a(e,r){for(var n in r)r.hasOwnProperty(n)&&(e[n]=r[n]);return e}function i(e){return\"boolean\"==typeof e&&(e=+e),\"number\"==typeof e?e+\"\":null}r.initErrors=function(n){a(r._errorSettings,n),!o&&r._errorSettings.uncaughtException&&(!function(){if(e.addEventListener)e.addEventListener(\"error\",s),\"Promise\"in e&&r._errorSettings.unhandledRejection&&e.addEventListener(\"unhandledrejection\",(function(e){var r,n=e.reason,t={};n&&(n.stack&&n.message?r=n.message:\"[object Event]\"===(r=String(n))?r=\"event.type: \"+n.type:\"[object Object]\"===r&&(t.unhandledObject=n),n.target&&n.target.src&&(t.src=n.target.src),s({message:\"Unhandled rejection: \"+r,stack:n.stack,additional:t}))}));else{var n=e.onerror;e.onerror=function(e,r,t,o,a){s({error:a||new Error(e||\"Empty error\"),message:e,lineno:t,colno:o,filename:r}),n&&n.apply(this,arguments)}}}(),o=!0)},r.updateErrors=function(e){a(r._errorSettings,e)},r._handleError=function(e,o){var a,i,s=r._errorSettings;if(s.preventError&&e.preventDefault&&e.preventDefault(),o)a=e,i=\"client\";else{a=r._normalizeError(e),i=a.type;var l=s.onError;\"function\"==typeof l&&l(a);var c=s.transform;\"function\"==typeof c&&(a=c(a))}var u=+new Date,d=s.initTimestamp,p=s.pageMaxAge;if(!(-1!==p&&d&&d+p<u)){var f=n[i][1];\"number\"==typeof s.limits[i]&&(f=s.limits[i]);var m=n[i][2];\"number\"==typeof s.silent[i]&&(m=s.silent[i]);var g=n[i][3];if(g<f||-1===f){a.path=n[i][0];var v=r._getErrorData(a,{silent:g<m||-1===m?\"no\":\"yes\",isCustom:Boolean(o)},s),h=function(e){t[a.message]=!1,r._sendError(e.path,e.vars),n[i][3]++}.bind(this,v);if(\"undefined\"==typeof s.throttleSend)h();else{if(t[a.message])return;t[a.message]=!0,setTimeout(h,s.throttleSend)}}}},r._getErrorData=function(r,n,t){n=n||{};var o=\"\";try{var s=a(a({},t.additional),r.additional);0!==Object.keys(s).length&&(o=JSON.stringify(s))}catch(u){t.debug&&e.console&&console.error(\"[error-counter] json.stringify:\",u)}var l=t.experiments instanceof Array?t.experiments.join(\";\"):\"\",c={\"-stack\":r.stack,\"-url\":r.file,\"-line\":r.line,\"-col\":r.col,\"-block\":r.block,\"-method\":r.method,\"-msg\":r.message,\"-env\":t.env,\"-external\":r.external,\"-externalCustom\":r.externalCustom,\"-project\":t.project,\"-service\":r.service||t.service,\"-page\":r.page||t.page,\"-platform\":t.platform,\"-level\":r.level,\"-experiments\":l,\"-version\":t.version,\"-region\":t.region,\"-dc\":t.dc,\"-host\":t.host,\"-yandexuid\":t.yandexuid,\"-coordinates_gp\":r.coordinates_gp||t.coordinates_gp,\"-referrer\":t.referrer,\"-source\":r.source,\"-sourceMethod\":r.sourceMethod,\"-type\":n.isCustom?r.type:\"\",\"-additional\":o,\"-adb\":i(Ya.blocker)||i(t.blocker),\"-cdn\":e.YaStaticRegion,\"-ua\":navigator.userAgent,\"-silent\":n.silent,\"-ts\":+new Date,\"-init-ts\":t.initTimestamp};return t.debug&&e.console&&console[console[r.level]?r.level:\"error\"](\"[error-counter] \"+r.message,c,r.stack),{path:r.path,vars:c}},r._baseNormalizeError=function(e){var r=(e=e||{}).filename||e.fileName||\"\",n=e.error&&e.error.stack||e.stack||\"\",t=e.message||\"\";return{file:r,line:e.lineno||e.lineNumber,col:e.colno||e.colNumber,stack:n,message:t,additional:e.additional}},r._normalizeError=function(e){var n=r._baseNormalizeError(e),t=\"uncaught\",o=r._isExternalError(n.file,n.message,n.stack),a=\"\",i=\"\";return o.hasExternal?(t=\"external\",a=o.common,i=o.custom):/^Script error\\\\.?$/.test(n.message)&&(t=\"script\"),n.external=a,n.externalCustom=i,n.type=t,n},r._sendError=function(e,n){r.send(null,e,function(e){var r=[];for(var n in e)e.hasOwnProperty(n)&&(e[n]||0===e[n])&&r.push(n+\"=\"+encodeURIComponent(e[n]).replace(/\\\\*/g,\"%2A\"));return r.join(\",\")}(n),null,null,null,null)};var s=function(e){r._handleError(e,!1)}}(\"undefined\"!=typeof self?self:window,Ya.Rum);!function(e){var r={url:{0:/(miscellaneous|extension)_bindings/,1:/^chrome:/,2:/kaspersky-labs\\\\.com\\\\//,3:/^(?:moz|chrome)-extension:\\\\/\\\\//,4:/^file:/,5:/^resource:\\\\/\\\\//,6:/webnetc\\\\.top/,7:/local\\\\.adguard\\\\.com/},message:{0:/__adgRemoveDirect/,1:/Content Security Policy/,2:/vid_mate_check/,3:/ucapi/,4:/Access is denied/i,5:/^Uncaught SecurityError/i,6:/__ybro/,7:/__show__deepen/,8:/ntp is not defined/,9:/Cannot set property \\'install\\' of undefined/,10:/NS_ERROR/,11:/Error loading script/,12:/^TypeError: undefined is not a function$/,13:/__firefox__\\\\.(?:favicons|metadata|reader|searchQueryForField|searchLoginField)/},stack:{0:/(?:moz|chrome)-extension:\\\\/\\\\//,1:/adguard.*\\\\.user\\\\.js/i}};function n(e,r){if(e&&r){var n=[];for(var o in r)if(r.hasOwnProperty(o)){var i=r[o];\"string\"==typeof i&&(i=new RegExp(i)),i instanceof RegExp&&i.test(e)&&n.push(o)}return n.join(\"_\")}}function o(e,o){var i,t=[];for(var s in r)r.hasOwnProperty(s)&&(i=n(e[s],o[s]))&&t.push(s+\"~\"+i);return t.join(\";\")}e._isExternalError=function(n,i,t){var s=e._errorSettings.filters||{},a={url:(n||\"\")+\"\",message:(i||\"\")+\"\",stack:(t||\"\")+\"\"},c=o(a,r),u=o(a,s);return{common:c,custom:u,hasExternal:!(!c&&!u)}}}(Ya.Rum);!function(){\"use strict\";var e;(e=Ya.Rum).logError=function(r,o){r=r||{},\"string\"!=typeof o&&void 0!==o||((o=new Error(o)).justCreated=!0);var a=r.message||\"\",s=e._baseNormalizeError(o);s.message&&(a&&(a+=\"; \"),a+=s.message),s.message=a||\"Empty error\";for(var t=[\"service\",\"source\",\"type\",\"block\",\"additional\",\"level\",\"page\",\"method\",\"sourceMethod\",\"coordinates_gp\"],i=0;i<t.length;i++){var n=t[i];r[n]?s[n]=r[n]:o&&o[n]&&(s[n]=o[n])}e._handleError(s,!0)}}();!function(){\"use strict\";var t;(t=Ya.Rum).logAjaxError=function(a,i,o,n){a.type=\"network\",a.additional=a.additional||{},\"timeout\"===o?a.additional.timeout=1:i.status&&(a.additional.status=i.status),t.logError(a,n)}}();Ya.Rum.initErrors({\"project\":\"morda\",\"page\":\"plain_no_zen\",\"platform\":\"desktop\",\"region\":\"43\",\"env\":\"production\",\"version\":\"2021-02-19-1\",\"preventError\":false,\"unhandledRejection\":true,\"throttleSend\":0,\"dc\":\"vla\",\"host\":\"prestable-morda-vla-yp-231.vla.yp-c.yandex.net\",\"yandexuid\":\"6652851941613830656\",\"referrer\":\"https://yandex.ru/\",\"limits\":{\"client\":1000},\"silent\":{\"external\":3},\"filters\":{\"url\":{\"0\":\"suggest-ya.cgi\"},\"message\":{\"0\":\"ResizeObserver loop limit exceeded\"}},\"additional\":{\"instance\":\"\"},\"blocker\":\"\"});</script><script>!function(i){window.home=window.home||{},home.reportOnVisible=function(e){function n(){navigator.sendBeacon&&navigator.sendBeacon(e,\" \")||((new Image).src=e)}var t=i.visibilityState;t&&\"visible\"!==t?i.addEventListener(\"visibilitychange\",(function o(){\"visible\"===i.visibilityState&&(i.removeEventListener(\"visibilitychange\",o,!1),n())}),!1):n()}}(document);</script><link rel=\"stylesheet\" href=\"//yastatic.net/s3/home-static/_/2/H/qlMA4_g3slktnEF40lJ6RmSsc.css\"><style>@font-face{font-family:\\'YS Text\\';font-weight:400;font-style:normal;font-stretch:normal;src:url(//yastatic.net/s3/home/fonts/ys/1/text-regular.woff2) format(\\'woff2\\'),url(//yastatic.net/s3/home/fonts/ys/1/text-regular.woff) format(\\'woff\\')}@font-face{font-family:\\'YS Text\\';font-weight:500;font-style:normal;font-stretch:normal;src:url(//yastatic.net/s3/home/fonts/ys/1/text-medium.woff2) format(\\'woff2\\'),url(//yastatic.net/s3/home/fonts/ys/1/text-medium.woff) format(\\'woff\\')}@font-face{font-family:\\'YS Text\\';font-weight:700;font-style:normal;font-stretch:normal;src:url(//yastatic.net/s3/home/fonts/ys/1/text-bold.woff2) format(\\'woff2\\'),url(//yastatic.net/s3/home/fonts/ys/1/text-bold.woff) format(\\'woff\\')}.font_loaded body{font-family:\\'YS Text\\',\\'Helvetica Neue\\',Arial,sans-serif;-webkit-font-feature-settings:\\'liga\\',\\'kern\\';-moz-font-feature-settings:\\'liga\\',\\'kern\\';font-feature-settings:\\'liga\\',\\'kern\\'}</style><style>.weather__icon_skc_n{background-image:url(\"//yastatic.net/s3/home-static/_/2a/2aee9007bd23431ff716b474f08169b3.png\");}.i-ua_inlinesvg_yes .weather__icon_skc_n{background-image:url(\"data:image/svg+xml,%3csvg xmlns=\\'http://www.w3.org/2000/svg\\' width=\\'36\\' height=\\'36\\'%3e%3cdefs%3e%3clinearGradient x1=\\'50%25\\' y1=\\'0%25\\' x2=\\'50%25\\' y2=\\'100%25\\' id=\\'a\\'%3e%3cstop stop-color=\\'%23FFBE1D\\' offset=\\'0%25\\'/%3e%3cstop stop-color=\\'%23FFB300\\' offset=\\'100%25\\'/%3e%3c/linearGradient%3e%3c/defs%3e%3cpath d=\\'M15.62.88A11.25 11.25 0 1 1 .88 15.62 11.25 11.25 0 0 0 15.62.88z\\' transform=\\'translate(6 6)\\' fill=\\'url(%23a)\\' fill-rule=\\'evenodd\\'/%3e%3c/svg%3e\");}</style><script>function Detector(){\"use strict\";var e=document.documentElement;return{isPlaceholderSupported:function(){return\"placeholder\"in document.createElement(\"input\")},getCSS3TransformProperty:function(){for(var e=document.documentElement.style,t=[\"transform\",\"MozTransform\",\"MsTransform\",\"msTransform\",\"WebkitTransform\",\"OTransform\"],n=\"\",i=0,r=t.length;i<r;++i)if(e[t[i]]!==undefined){n=t[i];break}return this.getCSS3TransformProperty=function(){return n},n},checkDataURLSupport:function(e){var t=new Image;t.onload=t.onerror=function(){e(1===this.width&&1===this.height)},t.src=\"data:image/gif;base64,R0lGODlhAQABAIAAAAAAAP///ywAAAAAAQABAAACAUwAOw==\"},isActivexEnabled:function(){var e=!1;try{e=!!new window.ActiveXObject(\"htmlfile\")}catch(t){e=!1}return e},isWin64:function(){return window.navigator&&\"Win64\"===window.navigator.platform},isFullScreen:function(){return window.innerWidth&&window.screen&&window.screen.width&&window.screen.height&&window.innerHeight&&window.innerWidth===screen.width&&window.innerHeight===screen.height},isIEMetroMode:function(){return this.isFullScreen()&&this.isWin64()&&!this.isActivexEnabled()},isSVGSupported:function(){if(\"opera\"in window)return!1;var e=document.createElement(\"svg\");return e.innerHTML=\"<svg/>\",e.firstChild&&\"http://www.w3.org/2000/svg\"===e.firstChild.namespaceURI},isAnimationSupported:function(){if(\"opera\"in window)return!1;for(var e=document.documentElement.style,t=[\"animationName\",\"webkitAnimationName\"],n=0,i=t.length;n<i;n++)if(e[t[n]]!==undefined)return!0},getUserFontSize:function(){var t,n,i=[],r=\"i-ua_user-font-size_\",o=document.createElement(\"div\");return o.style.height=\"1em\",e.appendChild(o),t=parseInt(o.offsetHeight),e.removeChild(o),n=16===t?\"normal\":t<16?\"small\":\"large\",i.push(r+n),i.push(r+t+\"px\"),i.join(\" \")},isRetina:function(){return(\"devicePixelRatio\"in window?window.devicePixelRatio:1)>=1.25}}}function MyMap(){this.rules={},this.rulesData=[]}MyMap.prototype={add:function(e){return(e=e||null)&&!this.rules[e]&&(this.rulesData.push(e),this.rules[e]=this.rulesData.length-1),this},get:function(e){var t=this.rules[e];return t&&this.rulesData[t]||null},getAll:function(){return this.rulesData.join(\" \")}};var detector=new Detector;!function(){var e,t=new MyMap;t.add(\"js\").add(\"i-ua_placeholder_\"+(detector.isPlaceholderSupported()?\"yes\":\"no\")).add(detector.isIEMetroMode()&&\"m-ie10-metro\").add(detector.isSVGSupported()?\"i-ua_inlinesvg_yes m-svg\":\"i-ua_inlinesvg_no no-data-url\").add(detector.isAnimationSupported()&&\"i-ua_animation_yes\").add(this.device&&\"m-touch\").add(detector.getUserFontSize()).add(\"i-ua_retina_\"+(detector.isRetina()?\"yes\":\"no\")),detector.checkDataURLSupport((function(e){e||(document.documentElement.className+=\" no-data-url\")})),this.document&&this.document.documentElement&&((e=this.document.documentElement).className=e.className.replace(\"i-ua_js_no\",\"i-ua_js_yes\")+\" \"+t.getAll())}();</script></head><body class=\"not-logged i-ua i-bem b-page b-page_search-bottom_no\" data-bem=\"{&quot;i-ua&quot;:{}}\"><div class=\"body__wrapper\"><div class=\"desk-notif__wrapper\"><div class=\"desk-notif i-bem\" data-bem=\"{&quot;desk-notif&quot;:{&quot;serverCards&quot;:[&quot;login&quot;,&quot;covid&quot;]}}\" role=\"complementary\" aria-label=\"\\xd0\\xa3\\xd0\\xb2\\xd0\\xb5\\xd0\\xb4\\xd0\\xbe\\xd0\\xbc\\xd0\\xbb\\xd0\\xb5\\xd0\\xbd\\xd0\\xb8\\xd1\\x8f\"><div class=\"desk-notif-card desk-notif-card_type_login desk-notif-card_bg_default desk-notif-card_login_yes i-bem\" data-bem=\"{&quot;desk-notif-card&quot;:{&quot;save&quot;:{&quot;expanded&quot;:&quot;https://yandex.ru/portal/set/any/?sk=yf4dc55d218a48f5e62a0f327f72795b5&amp;empty=1&amp;mv=0&quot;,&quot;minified&quot;:&quot;https://yandex.ru/portal/set/any/?sk=yf4dc55d218a48f5e62a0f327f72795b5&amp;empty=1&amp;mv=1&quot;}}}\"><div class=\"desk-notif-card__card\" role=\"form\" aria-label=\"\\xd0\\x90\\xd0\\xb2\\xd1\\x82\\xd0\\xbe\\xd1\\x80\\xd0\\xb8\\xd0\\xb7\\xd0\\xb0\\xd1\\x86\\xd0\\xb8\\xd1\\x8f\"  style=\" z-index:2\"><div class=\"desk-notif-card__login-title\"><a class=\"home-link home-link_black_yes home-link_bold_yes desk-notif-card__style_large\" href=\"https://passport.yandex.ru/auth?origin=home_desktop_ru&retpath=https%3A%2F%2Fmail.yandex.ru%2F&backpath=https%3A%2F%2Fyandex.ru\" target=\"_blank\" rel=\"noopener\">\\xd0\\x9f\\xd0\\xbe\\xd1\\x87\\xd1\\x82\\xd0\\xb0</a><a class=\"home-link desk-notif-card__login-mail-promo home-link_black_yes desk-notif-card__style_large\" href=\"https://passport.yandex.ru/registration/mail?from=mail&origin=home_desktop_ru&retpath=https%3A%2F%2Fmail.yandex.ru%2F&backpath=https%3A%2F%2Fyandex.ru\" target=\"_blank\" rel=\"noopener\">\\xd0\\x97\\xd0\\xb0\\xd0\\xb2\\xd0\\xb5\\xd1\\x81\\xd1\\x82\\xd0\\xb8 \\xd0\\xbf\\xd0\\xbe\\xd1\\x87\\xd1\\x82\\xd1\\x83</a></div><a class=\"button desk-notif-card__login-enter-expanded button_theme_gray i-bem\" data-bem=\"{&quot;button&quot;:{}}\" role=\"button\" href=\"https://passport.yandex.ru/auth?origin=home_desktop_ru&retpath=https%3A%2F%2Fmail.yandex.ru%2F&backpath=https%3A%2F%2Fyandex.ru\" target=\"_blank\" rel=\"noopener\"><span class=\"button__text\">\\xd0\\x92\\xd0\\xbe\\xd0\\xb9\\xd1\\x82\\xd0\\xb8 \\xd0\\xb2 \\xd0\\xbf\\xd0\\xbe\\xd1\\x87\\xd1\\x82\\xd1\\x83</span></a><a class=\"home-link desk-notif-card_login-plus home-link_intense-blue_yes\" href=\"https://yabs.yandex.ru/count/WVCejI_zOAW1JGy091b5IFHZB25EMmK0g08GWX0n01enO000000useqKG2H80c3M6730cjwKvRpTrQa1W049a06YYlIfE9W1v93ufqUu0Oo3gViVm044s078lPKXw06E0l02liA6-mEm0mJe1Ba3-0IWx5s81Q3iNP05eEnTe0NWq1oe1Vlj5x05--qNk0NxxHV01S2Djm5Mg0PMoGO00YcpbwrJN5y_aU0fW63k2R07W82OBBW7_ZFG1nB92hY-LkkMPk0_gWiGNl3-Dp-H003QgG4xnRle2w3iNV0B1QaCJAbvjKuhnx_e39D0W8IacVkowwbSe0x0X3tP3u0Gn8-66WZu4El__m604Uh__m7m4k0J--qNe1JxxHUe5A3iNUWKZ0BO5S6AzkoZZxpyO_2G5jq1e1RGvB211iaMWHUO5_BfYoce5md05xG2s1V0X3sm6EgEn846q1W1-1Zb-CpKwh3T-B41W1cG6G6W6LQm6RWP__y1qXaIUM5YSrzpPN9sPN8lSZKmCoqpw1c0mWFm6O320u4Q__-76Qy4UQyS02lBE6CB5nXAQP6MPyZVPNDv0Es1LHlV3OS0_KeA3jmoIWen47Ho5S8Z62AnAPWt1SIOtv21F7TeGQmDlSe7PW9Zm_lX0BF9m-1UMj4nA0LhGAUb~1\" target=\"_blank\" rel=\"noopener\">\\xd0\\x9f\\xd0\\xbe\\xd0\\xbb\\xd1\\x83\\xd1\\x87\\xd0\\xb8\\xd1\\x82\\xd1\\x8c \\xd0\\x9f\\xd0\\xbb\\xd1\\x8e\\xd1\\x81</a></div></div><div class=\"desk-notif-card  desk-notif-card_covid_chart desk-notif-card_icon_no desk-notif-card_details_no desk-notif-card_actions_yes desk-notif-card_minified_yes desk-notif-card_animated_yes desk-notif-card_bg_default desk-notif-card_icon-align_left i-bem\" data-bem=\"{&quot;desk-notif-card&quot;:{&quot;actions&quot;:{&quot;close&quot;:{&quot;href&quot;:&quot;https://yandex.ru/portal/set/any/?sk=yf4dc55d218a48f5e62a0f327f72795b5&amp;dntf=cvd::&quot;}},&quot;name&quot;:&quot;covid&quot;,&quot;type&quot;:&quot;chart&quot;},&quot;i-swipe-controller&quot;:{}}\" ><div class=\"desk-notif-card__card  desk-notif-card_covid_yes i-swipe-controller\"  data-card-order=\"1\" style=\" z-index:1;\"><div class=\"desk-notif-card__covid-container rotate-items i-bem\" data-bem=\"{&quot;rotate-items&quot;:{&quot;firstTimer&quot;:9000,&quot;periodicTimer&quot;:6000}}\"><a class=\"home-link home-link_hover_inherit desk-notif-card__covid-link rotate-items__item\" href=\"https://yandex.ru/covid19/stat?utm_source=main_graph&utm_source=main_notif&geoId=11119\" target=\"_blank\" rel=\"noopener\"><div class=\"desk-notif-card__title desk-notif-card__sub-text desk-notif-card__style_bold\">\\xd0\\xa0\\xd0\\xb5\\xd1\\x81\\xd0\\xbf\\xd1\\x83\\xd0\\xb1\\xd0\\xbb\\xd0\\xb8\\xd0\\xba\\xd0\\xb0 \\xd0\\xa2\\xd0\\xb0\\xd1\\x82\\xd0\\xb0\\xd1\\x80\\xd1\\x81\\xd1\\x82\\xd0\\xb0\\xd0\\xbd</div><div class=\"desk-notif-card__covid-detail\"><div class=\"desk-notif-card__covid-chart-wrapper\"><div class=\"desk-notif-card__covid-chart\"><div class=\"chart desk-notif-card__covid-chart-block\"><svg aria-hidden=\"true\" width=\"0\" height=\"0\" style=\"position:absolute\"><defs><linearGradient id=\"g-orange\" gradientUnits=\"userSpaceOnUse\" x1=\"0\" y1=\"50\" x2=\"0\" y2=\"0\"><stop offset=\"20%\" stop-color=\"#eab66d\"/><stop offset=\"40%\" stop-color=\"#e1955c\"/><stop offset=\"60%\" stop-color=\"#d96446\"/><stop offset=\"80%\" stop-color=\"#c14235\"/><stop offset=\"100%\" stop-color=\"#952d30\"/></linearGradient></defs></svg><div class=\"chart__badge\" style=\"right:2.1px\"><div class=\"chart__badge-gradient-orange\" style=\"top:-546.89px\"></div><span class=\"chart__badge-text\">+57</span></div><svg class=\"chart-svg\" viewBox=\"0 0 154 50\" width=\"154\" height=\"50\"><polyline class=\"chart__line\" stroke-width=\"1.8\" stroke-linejoin=\"round\" stroke-linecap=\"round\" points=\"151,25.566 151 0\"/><polyline fill=\"none\" stroke=\"url(#g-orange)\" stroke-width=\"1.8\" stroke-linejoin=\"round\" stroke-linecap=\"round\" points=\"0.900,46.000 1.335,46.000 1.770,46.000 2.205,46.000 2.640,46.000 3.075,45.642 3.510,46.000 3.946,46.000 4.381,46.000 4.816,44.208 5.251,46.000 5.686,46.000 6.121,45.642 6.556,46.000 6.991,44.925 7.426,45.642 7.861,44.925 8.296,46.000 8.731,46.000 9.166,44.208 9.601,46.000 10.037,46.000 10.472,43.849 10.907,46.000 11.342,46.000 11.777,40.264 12.212,46.000 12.647,46.000 13.082,42.774 13.517,46.000 13.952,37.755 14.387,46.000 14.822,42.057 15.257,37.755 15.692,46.000 16.128,38.472 16.563,40.264 16.998,40.264 17.433,34.887 17.868,32.019 18.303,28.075 18.738,19.113 19.173,25.566 19.608,40.981 20.043,22.698 20.478,20.547 20.913,20.906 21.348,22.698 21.783,26.283 22.219,20.547 22.654,20.547 23.089,22.340 23.524,20.547 23.959,15.170 24.394,13.377 24.829,9.434 25.264,8.358 25.699,16.245 26.134,14.453 26.569,15.528 27.004,13.736 27.439,20.547 27.874,14.811 28.310,24.132 28.745,15.887 29.180,15.887 29.615,15.887 30.050,17.321 30.485,14.453 30.920,19.113 31.355,20.547 31.790,19.113 32.225,18.755 32.660,13.736 33.095,23.774 33.530,23.415 33.966,26.642 34.401,24.491 34.836,27.000 35.271,23.415 35.706,27.358 36.141,28.075 36.576,27.000 37.011,26.642 37.446,27.717 37.881,28.075 38.316,27.358 38.751,26.642 39.186,27.000 39.621,26.642 40.057,26.283 40.492,26.642 40.927,28.434 41.362,29.868 41.797,29.509 42.232,30.226 42.667,30.585 43.102,32.019 43.537,32.377 43.972,33.094 44.407,32.377 44.842,31.660 45.277,32.019 45.712,31.660 46.148,32.019 46.583,31.660 47.018,31.660 47.453,31.302 47.888,31.302 48.323,30.943 48.758,31.302 49.193,31.660 49.628,32.019 50.063,32.019 50.498,32.377 50.933,32.377 51.368,32.377 51.803,33.094 52.239,33.453 52.674,33.453 53.109,33.094 53.544,33.453 53.979,34.170 54.414,34.528 54.849,34.528 55.284,34.528 55.719,34.170 56.154,34.887 56.589,35.604 57.024,35.604 57.459,34.170 57.894,35.245 58.330,34.887 58.765,34.528 59.200,34.887 59.635,34.528 60.070,34.528 60.505,34.170 60.940,34.528 61.375,34.170 61.810,33.453 62.245,34.170 62.680,34.887 63.115,34.887 63.550,35.245 63.986,35.604 64.421,35.962 64.856,35.245 65.291,35.604 65.726,34.887 66.161,34.887 66.596,35.245 67.031,35.962 67.466,35.604 67.901,35.604 68.336,35.245 68.771,35.962 69.206,35.604 69.641,35.962 70.077,35.245 70.512,35.962 70.947,35.245 71.382,35.604 71.817,35.245 72.252,35.604 72.687,35.604 73.122,35.245 73.557,35.604 73.992,35.604 74.427,35.962 74.862,35.604 75.297,35.962 75.732,35.962 76.168,36.321 76.603,36.321 77.038,35.962 77.473,36.321 77.908,36.679 78.343,37.038 78.778,37.038 79.213,37.396 79.648,38.113 80.083,38.472 80.518,36.679 80.953,37.038 81.388,37.755 81.823,37.755 82.259,38.113 82.694,38.830 83.129,37.755 83.564,36.679 83.999,37.038 84.434,37.755 84.869,37.396 85.304,37.755 85.739,38.472 86.174,38.113 86.609,37.038 87.044,37.755 87.479,37.038 87.914,37.755 88.350,38.113 88.785,37.038 89.220,36.679 89.655,35.962 90.090,36.321 90.525,36.679 90.960,36.321 91.395,37.038 91.830,35.962 92.265,34.887 92.700,34.528 93.135,33.453 93.570,33.811 94.006,33.453 94.441,33.811 94.876,33.094 95.311,32.377 95.746,32.019 96.181,32.019 96.616,31.302 97.051,29.868 97.486,30.585 97.921,30.226 98.356,28.792 98.791,27.717 99.226,26.283 99.661,28.792 100.097,29.868 100.532,29.868 100.967,29.151 101.402,29.509 101.837,29.509 102.272,30.585 102.707,29.868 103.142,30.226 103.577,30.585 104.012,29.151 104.447,27.000 104.882,25.566 105.317,27.717 105.752,24.849 106.188,25.208 106.623,25.925 107.058,26.283 107.493,24.849 107.928,21.981 108.363,21.264 108.798,23.415 109.233,23.774 109.668,24.132 110.103,23.774 110.538,24.132 110.973,21.981 111.408,21.264 111.843,19.113 112.279,19.830 112.714,19.113 113.149,18.755 113.584,18.755 114.019,16.245 114.454,15.528 114.889,14.811 115.324,15.887 115.759,15.528 116.194,13.736 116.629,14.811 117.064,15.170 117.499,14.453 117.934,13.736 118.370,12.660 118.805,13.736 119.240,14.094 119.675,13.019 120.110,12.302 120.545,14.094 120.980,13.736 121.415,11.943 121.850,11.585 122.285,13.377 122.720,12.302 123.155,11.226 123.590,10.868 124.026,9.792 124.461,10.151 124.896,8.717 125.331,9.434 125.766,9.075 126.201,11.226 126.636,8.717 127.071,8.000 127.506,8.358 127.941,10.151 128.376,12.302 128.811,11.943 129.246,13.377 129.681,15.528 130.117,15.170 130.552,14.811 130.987,11.943 131.422,13.736 131.857,14.094 132.292,13.377 132.727,12.302 133.162,13.377 133.597,13.736 134.032,14.094 134.467,14.811 134.902,13.019 135.337,11.585 135.772,10.868 136.208,11.226 136.643,11.943 137.078,13.736 137.513,14.811 137.948,15.528 138.383,15.170 138.818,13.736 139.253,15.170 139.688,14.811 140.123,15.528 140.558,15.887 140.993,16.245 141.428,15.528 141.863,15.887 142.299,14.811 142.734,15.170 143.169,15.528 143.604,15.528 144.039,16.245 144.474,15.887 144.909,15.887 145.344,15.528 145.779,16.604 146.214,17.321 146.649,17.679 147.084,19.113 147.519,20.189 147.954,20.906 148.390,20.547 148.825,20.906 149.260,22.698 149.695,22.698 150.130,24.491 150.565,24.849 151.000,25.566\"/><circle cx=\"151\" cy=\"25.566\" r=\"3\" stroke=\"none\" fill=\"url(#g-orange)\"/></svg></div></div></div><div class=\"desk-notif-card__covid-chart-desc\"><span>\\xd0\\x9c\\xd0\\xb0\\xd1\\x80\\xd1\\x82</span><span>\\xd0\\xa4\\xd0\\xb5\\xd0\\xb2\\xd1\\x80\\xd0\\xb0\\xd0\\xbb\\xd1\\x8c</span></div></div></a><a class=\"home-link home-link_hover_inherit desk-notif-card__covid-link rotate-items__item rotate-items__item_hidden_yes\" href=\"https://yandex.ru/chat/#/join/f8aaf49e-026f-4eea-96fd-c02016bb6839/1613828831338023\" target=\"_blank\" rel=\"noopener\"><div class=\"desk-notif-card__title desk-notif-card__sub-text desk-notif-card__style_bold\">\\xd0\\x9a\\xd0\\xbe\\xd1\\x80\\xd0\\xbe\\xd0\\xbd\\xd0\\xb0\\xd0\\xb2\\xd0\\xb8\\xd1\\x80\\xd1\\x83\\xd1\\x81</div><div class=\"desk-notif-card__covid-detail\"><div class=\"desk-notif-card__covid-text desk-notif-card__style_text\"><span class=\"i-multiline-overflow\">\\xd0\\xa1\\xd1\\x82\\xd0\\xb0\\xd1\\x82\\xd0\\xb8\\xd1\\x81\\xd1\\x82\\xd0\\xb8\\xd0\\xba\\xd0\\xb0 \\xd0\\xbf\\xd0\\xbe \\xd0\\xba\\xd0\\xbe\\xd1\\x80\\xd0\\xbe\\xd0\\xbd\\xd0\\xb0\\xd0\\xb2\\xd0\\xb8\\xd1\\x80\\xd1\\x83\\xd1\\x81\\xd1\\x83 \\xd0\\xbd\\xd0\\xb0 20 \\xd1\\x84\\xd0\\xb5\\xd0\\xb2\\xd1\\x80\\xd0\\xb0\\xd0\\xbb\\xd1\\x8f \\xd0\\xb2 \\xd0\\xa2\\xd0\\xb0\\xd1\\x82\\xd0\\xb0\\xd1\\x80\\xd1\\x81\\xd1\\x82\\xd0\\xb0\\xd0\\xbd\\xd0\\xb5</span></div><div class=\"desk-notif-card__covid-info\"><div class=\"desk-notif-card__covid-channel\"><span class=\"home-link desk-notif-card__covid-icon avatar\"><span class=\"avatar__image-wrapper \"><span class=\"avatar__image  \" style=\"background-image:url(https://yastatic.net/s3/home/covid/big/covid_rus_icon.svg);\"></span></span></span><div class=\"desk-notif-card__covid-channel-name\">\\xd0\\x9e\\xd0\\xbf\\xd0\\xb5\\xd1\\x80\\xd1\\x88\\xd1\\x82\\xd0\\xb0\\xd0\\xb1 \\xd1\\x80\\xd0\\xb5\\xd1\\x81\\xd0\\xbf\\xd1\\x83\\xd0\\xb1\\xd0\\xbb\\xd0\\xb8\\xd0\\xba\\xd0\\xb8</div></div></div></div></a><a class=\"home-link home-link_hover_inherit desk-notif-card__covid-link rotate-items__item rotate-items__item_hidden_yes\" href=\"https://yandex.ru/covid19/stat?utm_source=main_graph&utm_source=main_notif&geoId=11119\" target=\"_blank\" rel=\"noopener\"><div class=\"desk-notif-card__title desk-notif-card__sub-text desk-notif-card__style_bold\">\\xd0\\xa0\\xd0\\xb5\\xd1\\x81\\xd0\\xbf\\xd1\\x83\\xd0\\xb1\\xd0\\xbb\\xd0\\xb8\\xd0\\xba\\xd0\\xb0 \\xd0\\xa2\\xd0\\xb0\\xd1\\x82\\xd0\\xb0\\xd1\\x80\\xd1\\x81\\xd1\\x82\\xd0\\xb0\\xd0\\xbd</div><div class=\"desk-notif-card__covid-detail\"><svg xmlns=\"http://www.w3.org/2000/svg\" class=\"covid-speed-histogram desk-notif-card__covid-histogram\"  width=\"187\" height=\"70\"><rect  x=\"0\" y=\"3.3%\" width=\"5\" height=\"96.7%\" rx=\"1.5\" ry=\"1.5\" fill=\"#a2202c\"></rect><rect  x=\"7\" y=\"5.6%\" width=\"5\" height=\"94.4%\" rx=\"1.5\" ry=\"1.5\" fill=\"#a2202c\"></rect><rect  x=\"14\" y=\"6.7%\" width=\"5\" height=\"93.3%\" rx=\"1.5\" ry=\"1.5\" fill=\"#a2202c\"></rect><rect  x=\"21\" y=\"7.8%\" width=\"5\" height=\"92.2%\" rx=\"1.5\" ry=\"1.5\" fill=\"#a2202c\"></rect><rect  x=\"28\" y=\"5.6%\" width=\"5\" height=\"94.4%\" rx=\"1.5\" ry=\"1.5\" fill=\"#a2202c\"></rect><rect  x=\"35\" y=\"6.7%\" width=\"5\" height=\"93.3%\" rx=\"1.5\" ry=\"1.5\" fill=\"#a2202c\"></rect><rect  x=\"42\" y=\"3.3%\" width=\"5\" height=\"96.7%\" rx=\"1.5\" ry=\"1.5\" fill=\"#a2202c\"></rect><rect  x=\"49\" y=\"4.4%\" width=\"5\" height=\"95.6%\" rx=\"1.5\" ry=\"1.5\" fill=\"#a2202c\"></rect><rect  x=\"56\" y=\"5.6%\" width=\"5\" height=\"94.4%\" rx=\"1.5\" ry=\"1.5\" fill=\"#a2202c\"></rect><rect  x=\"63\" y=\"5.6%\" width=\"5\" height=\"94.4%\" rx=\"1.5\" ry=\"1.5\" fill=\"#a2202c\"></rect><rect  x=\"70\" y=\"7.8%\" width=\"5\" height=\"92.2%\" rx=\"1.5\" ry=\"1.5\" fill=\"#a2202c\"></rect><rect  x=\"77\" y=\"6.7%\" width=\"5\" height=\"93.3%\" rx=\"1.5\" ry=\"1.5\" fill=\"#a2202c\"></rect><rect  x=\"84\" y=\"6.7%\" width=\"5\" height=\"93.3%\" rx=\"1.5\" ry=\"1.5\" fill=\"#a2202c\"></rect><rect  x=\"91\" y=\"5.6%\" width=\"5\" height=\"94.4%\" rx=\"1.5\" ry=\"1.5\" fill=\"#a2202c\"></rect><rect  x=\"98\" y=\"8.9%\" width=\"5\" height=\"91.1%\" rx=\"1.5\" ry=\"1.5\" fill=\"#d1352b\"></rect><rect  x=\"105\" y=\"11.1%\" width=\"5\" height=\"88.9%\" rx=\"1.5\" ry=\"1.5\" fill=\"#d1352b\"></rect><rect  x=\"112\" y=\"12.2%\" width=\"5\" height=\"87.8%\" rx=\"1.5\" ry=\"1.5\" fill=\"#d1352b\"></rect><rect  x=\"119\" y=\"16.7%\" width=\"5\" height=\"83.3%\" rx=\"1.5\" ry=\"1.5\" fill=\"#d1352b\"></rect><rect  x=\"126\" y=\"20.0%\" width=\"5\" height=\"80.0%\" rx=\"1.5\" ry=\"1.5\" fill=\"#e95b3b\"></rect><rect  x=\"133\" y=\"22.2%\" width=\"5\" height=\"77.8%\" rx=\"1.5\" ry=\"1.5\" fill=\"#e95b3b\"></rect><rect  x=\"140\" y=\"21.1%\" width=\"5\" height=\"78.9%\" rx=\"1.5\" ry=\"1.5\" fill=\"#e95b3b\"></rect><rect  x=\"147\" y=\"22.2%\" width=\"5\" height=\"77.8%\" rx=\"1.5\" ry=\"1.5\" fill=\"#e95b3b\"></rect><rect  x=\"154\" y=\"27.8%\" width=\"5\" height=\"72.2%\" rx=\"1.5\" ry=\"1.5\" fill=\"#ee924f\"></rect><rect  x=\"161\" y=\"27.8%\" width=\"5\" height=\"72.2%\" rx=\"1.5\" ry=\"1.5\" fill=\"#ee924f\"></rect><rect  x=\"168\" y=\"33.3%\" width=\"5\" height=\"66.7%\" rx=\"1.5\" ry=\"1.5\" fill=\"#ee924f\"></rect><rect  x=\"175\" y=\"34.4%\" width=\"5\" height=\"65.6%\" rx=\"1.5\" ry=\"1.5\" fill=\"#ee924f\"></rect><rect  x=\"182\" y=\"36.7%\" width=\"5\" height=\"63.3%\" rx=\"1.5\" ry=\"1.5\" fill=\"#f3b45f\"></rect></svg><div class=\"desk-notif-card__covid-histogram-desc\"><span class=\"desk-notif-card__covid-histogram-desc-day\">20 \\xd1\\x84\\xd0\\xb5\\xd0\\xb2</span><span class=\"desk-notif-card__covid-histogram-desc-cases\" style=\"color: #f3b45f;\"><span class=\"desk-notif-card__covid-histogram-desc-count \">+57</span> \\xd0\\xb2\\xd1\\x8b\\xd1\\x8f\\xd0\\xb2\\xd0\\xbb\\xd0\\xb5\\xd0\\xbd\\xd0\\xbe</span></div></div></a><a class=\"home-link home-link_hover_inherit desk-notif-card__covid-link rotate-items__item rotate-items__item_hidden_yes\" href=\"https://yandex.ru/covid19/stat?utm_source=main_graph&utm_source=main_notif&geoId=225\" target=\"_blank\" rel=\"noopener\"><div class=\"desk-notif-card__title desk-notif-card__sub-text desk-notif-card__style_bold\">\\xd0\\x9a\\xd0\\xbe\\xd1\\x80\\xd0\\xbe\\xd0\\xbd\\xd0\\xb0\\xd0\\xb2\\xd0\\xb8\\xd1\\x80\\xd1\\x83\\xd1\\x81 \\xd0\\xb2 \\xd0\\xa0\\xd0\\xbe\\xd1\\x81\\xd1\\x81\\xd0\\xb8\\xd0\\xb8</div><div class=\"desk-notif-card__covid-detail\"><div class=\"desk-notif-card__covid-chart-wrapper\"><div class=\"desk-notif-card__covid-chart\"><div class=\"chart desk-notif-card__covid-chart-block\"><div class=\"chart__badge\" style=\"right:2.1px\"><div class=\"chart__badge-gradient-orange\" style=\"top:-632.263px\"></div><span class=\"chart__badge-text\">+12953</span></div><svg class=\"chart-svg\" viewBox=\"0 0 154 50\" width=\"154\" height=\"50\"><polyline class=\"chart__line\" stroke-width=\"1.8\" stroke-linejoin=\"round\" stroke-linecap=\"round\" points=\"151,29.557 151 0\"/><polyline fill=\"none\" stroke=\"url(#g-orange)\" stroke-width=\"1.8\" stroke-linejoin=\"round\" stroke-linecap=\"round\" points=\"0.900,46.000 1.335,45.986 1.770,45.982 2.205,45.995 2.640,45.964 3.075,45.971 3.510,45.958 3.946,45.934 4.381,45.931 4.816,45.933 5.251,45.923 5.686,45.910 6.121,45.928 6.556,45.793 6.991,45.769 7.426,45.751 7.861,45.711 8.296,45.657 8.731,45.617 9.166,45.364 9.601,45.441 10.037,45.021 10.472,45.237 10.907,45.261 11.342,45.165 11.777,44.789 12.212,44.535 12.647,44.508 13.082,44.148 13.517,43.733 13.952,43.884 14.387,43.239 14.822,42.739 15.257,42.479 15.692,41.699 16.128,41.623 16.563,40.833 16.998,39.926 17.433,38.307 17.868,40.582 18.303,38.838 18.738,39.353 19.173,39.940 19.608,38.575 20.043,38.427 20.478,37.925 20.913,38.132 21.348,37.862 21.783,38.585 22.219,36.988 22.654,35.930 23.089,33.784 23.524,32.502 23.959,32.568 24.394,33.176 24.829,32.596 25.264,31.743 25.699,32.419 26.134,32.269 26.569,32.021 27.004,31.204 27.439,32.165 27.874,33.270 28.310,33.339 28.745,32.547 29.180,34.321 29.615,33.675 30.050,34.669 30.485,34.241 30.920,34.875 31.355,34.767 31.790,34.710 32.225,34.024 32.660,35.084 33.095,34.644 33.530,34.683 33.966,35.416 34.401,35.374 34.836,35.119 35.271,34.636 35.706,34.235 36.141,34.531 36.576,34.749 37.011,35.164 37.446,34.790 37.881,34.923 38.316,34.759 38.751,34.596 39.186,34.594 39.621,35.089 40.057,35.332 40.492,34.856 40.927,34.592 41.362,34.948 41.797,34.785 42.232,35.532 42.667,35.530 43.102,36.044 43.537,36.111 43.972,35.880 44.407,35.986 44.842,36.190 45.277,36.352 45.712,36.575 46.148,36.891 46.583,36.971 47.018,37.368 47.453,37.302 47.888,37.379 48.323,37.471 48.758,37.504 49.193,37.678 49.628,37.419 50.063,37.472 50.498,37.581 50.933,37.449 51.368,37.608 51.803,37.916 52.239,37.670 52.674,37.737 53.109,37.577 53.544,37.608 53.979,37.603 54.414,37.702 54.849,38.069 55.284,37.848 55.719,37.840 56.154,37.868 56.589,38.086 57.024,38.245 57.459,38.460 57.894,38.584 58.330,38.559 58.765,38.576 59.200,38.623 59.635,38.547 60.070,38.682 60.505,38.847 60.940,39.151 61.375,39.050 61.810,39.007 62.245,39.041 62.680,39.066 63.115,39.111 63.550,39.153 63.986,39.451 64.421,39.394 64.856,39.314 65.291,39.347 65.726,39.384 66.161,39.413 66.596,39.503 67.031,39.723 67.466,39.523 67.901,39.581 68.336,39.570 68.771,39.575 69.206,39.692 69.641,39.790 70.077,39.973 70.512,39.871 70.947,39.926 71.382,39.818 71.817,39.753 72.252,39.841 72.687,39.978 73.122,40.039 73.557,40.064 73.992,40.020 74.427,39.870 74.862,39.728 75.297,39.678 75.732,39.662 76.168,39.997 76.603,39.714 77.038,39.659 77.473,39.513 77.908,39.393 78.343,39.405 78.778,39.418 79.213,39.527 79.648,39.376 80.083,39.192 80.518,39.013 80.953,39.033 81.388,39.083 81.823,39.007 82.259,38.981 82.694,38.802 83.129,38.686 83.564,38.504 83.999,38.301 84.434,38.196 84.869,38.135 85.304,38.111 85.739,37.836 86.174,37.628 86.609,36.845 87.044,36.450 87.479,36.013 87.914,35.673 88.350,35.550 88.785,35.234 89.220,34.645 89.655,34.052 90.090,33.485 90.525,32.672 90.960,32.179 91.395,31.256 91.830,31.890 92.265,31.411 92.700,30.607 93.135,29.693 93.570,28.693 94.006,28.746 94.441,28.396 94.876,27.935 95.311,28.540 95.746,26.768 96.181,27.058 96.616,26.833 97.051,25.712 97.486,25.284 97.921,26.070 98.356,25.726 98.791,23.988 99.226,25.028 99.661,24.788 100.097,23.979 100.532,24.991 100.967,25.433 101.402,23.510 101.837,22.791 102.272,22.973 102.707,22.306 103.142,22.824 103.577,22.328 104.012,20.906 104.447,21.368 104.882,19.873 105.317,20.109 105.752,19.979 106.188,18.329 106.623,19.371 107.058,20.801 107.493,18.570 107.928,18.094 108.363,17.182 108.798,17.347 109.233,17.085 109.668,17.552 110.103,19.361 110.538,16.029 110.973,15.130 111.408,14.491 111.843,14.796 112.279,14.045 112.714,15.120 113.149,15.947 113.584,13.646 114.019,11.036 114.454,11.599 114.889,12.128 115.324,12.566 115.759,12.485 116.194,13.827 116.629,10.272 117.064,11.214 117.499,9.464 117.934,9.137 118.370,10.276 118.805,12.872 119.240,12.754 119.675,10.549 120.110,9.714 120.545,10.282 120.980,10.355 121.415,11.309 121.850,12.121 122.285,12.349 122.720,10.185 123.155,9.756 123.590,10.191 124.026,9.253 124.461,8.743 124.896,9.471 125.331,11.408 125.766,8.000 126.201,9.164 126.636,8.859 127.071,10.096 127.506,10.727 127.941,11.723 128.376,12.344 128.811,10.777 129.246,11.676 129.681,12.613 130.117,15.344 130.552,16.358 130.987,15.222 131.422,15.259 131.857,16.117 132.292,15.976 132.727,16.411 133.162,16.993 133.597,16.404 134.032,16.887 134.467,16.994 134.902,14.565 135.337,14.626 135.772,15.417 136.208,16.060 136.643,16.985 137.078,18.410 137.513,19.149 137.948,18.216 138.383,18.691 138.818,19.443 139.253,19.181 139.688,21.513 140.123,22.845 140.558,23.479 140.993,21.706 141.428,21.579 141.863,21.840 142.299,22.695 142.734,23.597 143.169,24.873 143.604,25.088 144.039,24.783 144.474,24.816 144.909,24.893 145.344,25.628 145.779,25.796 146.214,26.935 146.649,27.601 147.084,26.911 147.519,26.846 147.954,27.135 148.390,27.993 148.825,27.965 149.260,29.202 149.695,29.716 150.130,28.930 150.565,28.948 151.000,29.557\"/><circle cx=\"151\" cy=\"29.557\" r=\"3\" stroke=\"none\" fill=\"url(#g-orange)\"/></svg></div></div></div><div class=\"desk-notif-card__covid-chart-desc\"><span>\\xd0\\x9c\\xd0\\xb0\\xd1\\x80\\xd1\\x82</span><span>\\xd0\\xa4\\xd0\\xb5\\xd0\\xb2\\xd1\\x80\\xd0\\xb0\\xd0\\xbb\\xd1\\x8c</span></div></div></a><div class=\"rotate-items__dots\"><div class=\"rotate-items__dot rotate-items__dot_active_yes\"><div class=\"rotate-items__dot-inner\"></div></div><div class=\"rotate-items__dot\"><div class=\"rotate-items__dot-inner\"></div></div><div class=\"rotate-items__dot\"><div class=\"rotate-items__dot-inner\"></div></div><div class=\"rotate-items__dot\"><div class=\"rotate-items__dot-inner\"></div></div></div></div></div><div class=\"desk-notif-card__action-wrapper\"><span title=\"\\xd0\\x97\\xd0\\xb0\\xd0\\xba\\xd1\\x80\\xd1\\x8b\\xd1\\x82\\xd1\\x8c\" role=\"button\" tabindex=\"0\" aria-label=\"\\xd0\\x97\\xd0\\xb0\\xd0\\xba\\xd1\\x80\\xd1\\x8b\\xd1\\x82\\xd1\\x8c\" class=\"home-link desk-notif-card__action desk-notif-card__action_type_close\"><div class=\"desk-notif-card__action-icon\"></div></span></div></div></div></div><div class=\"container rows\"><div class=\"rows__bg\"><div class=\"skin__on-bg\"></div></div><div class=\"row rows__row rows__row_first\"><div class=\"col\" role=\"complementary\"><div class=\"container headline\"><div class=\"row\"><div class=\"col headline__item headline__leftcorner\"><a aria-label=\"\\xd0\\x92\\xd0\\xb0\\xd1\\x88 \\xd0\\xb3\\xd0\\xbe\\xd1\\x80\\xd0\\xbe\\xd0\\xb4 \\xd0\\xbe\\xd0\\xbf\\xd1\\x80\\xd0\\xb5\\xd0\\xb4\\xd0\\xb5\\xd0\\xbb\\xd1\\x91\\xd0\\xbd \\xd0\\xba\\xd0\\xb0\\xd0\\xba \\xd0\\x9a\\xd0\\xb0\\xd0\\xb7\\xd0\\xb0\\xd0\\xbd\\xd1\\x8c\" class=\"home-link geolink home-link_gray_yes\" href=\"https://yandex.ru/tune/geo?retpath=https%3A%2F%2Fyandex.ru%2F&nosync=1\" target=\"_self\"><svg class=\\'geolink__button\\' xmlns=\\'http://www.w3.org/2000/svg\\' width=\\'16\\' height=\\'16\\' viewbox=\\'0 0 16 16\\'><path fill=\\'currentColor\\' d=\\'M13.07 3.58l-4 9.98a.5.5 0 0 1-.95-.06L7 9 2.5 7.88a.5.5 0 0 1-.06-.95l9.98-4a.5.5 0 0 1 .65.65z\\'/></svg><span class=\\'geolink__reg\\'>\\xd0\\x9a\\xd0\\xb0\\xd0\\xb7\\xd0\\xb0\\xd0\\xbd\\xd1\\x8c</span></a><span class=\"datetime headline__datetime text_gray_yes i-bem\" data-bem=\"{&quot;datetime&quot;:{&quot;timestamp&quot;:&quot;February 20, 2021, 17:17:36&quot;}}\"><span class=\"datetime__date\"><span class=\"datetime__day\">20 </span><span class=\"datetime__month\">\\xd1\\x84\\xd0\\xb5\\xd0\\xb2\\xd1\\x80\\xd0\\xb0\\xd0\\xbb\\xd1\\x8f, </span><span class=\"datetime__wday\">\\xd1\\x81\\xd1\\x83\\xd0\\xb1\\xd0\\xb1\\xd0\\xbe\\xd1\\x82\\xd0\\xb0 </span></span><span class=\"datetime__time\"><a class=\"home-link datetime__time-link home-link_gray_yes\" href=\"https://yandex.ru/time\" target=\"_blank\" rel=\"noopener\"><span class=\"datetime__hour\">17</span><span class=\"datetime__flicker\">:</span><span class=\"datetime__min\">17</span></a></span></span></div><div class=\"col headline__item headline__center\"></div><div class=\"col headline__item headline__bar\"><div class=\"container headline__bar_stuff\"><div class=\"row headline__bar-items\"><div class=\"col headline__bar-item headline__market-cart\"><a title=\"\\xd0\\x9a\\xd0\\xbe\\xd1\\x80\\xd0\\xb7\\xd0\\xb8\\xd0\\xbd\\xd0\\xb0 \\xd0\\xbd\\xd0\\xb0 \\xd0\\x9c\\xd0\\xb0\\xd1\\x80\\xd0\\xba\\xd0\\xb5\\xd1\\x82\\xd0\\xb5\" class=\"home-link market-cart\" href=\"https://pokupki.market.yandex.ru/my/cart?utm_source=morda_header_icon&clid=956&purchase-referrer=morda_header_icon\" target=\"_blank\" rel=\"noopener\"><div class=\\'market-cart__icon\\'></div></a></div><div class=\"col headline__bar-item favorites\"><a tabindex=\"0\" data-bem=\"{&quot;favorites&quot;:{}}\" title=\"\\xd0\\x9a\\xd0\\xbe\\xd0\\xbb\\xd0\\xbb\\xd0\\xb5\\xd0\\xba\\xd1\\x86\\xd0\\xb8\\xd0\\xb8\" class=\"home-link favorites\" href=\"https://yandex.ru/collections/\" target=\"_blank\" rel=\"noopener\"><div class=\"favorites__icon\"></div></a></div><div class=\"col headline__bar-item b-langs\"><div class=\"dropdown2 dropdown2_switcher_elem i-bem\" data-bem=\"{&quot;dropdown2&quot;:{}}\"><a title=\"\\xd0\\x92\\xd1\\x8b\\xd0\\xb1\\xd1\\x80\\xd0\\xb0\\xd1\\x82\\xd1\\x8c \\xd1\\x8f\\xd0\\xb7\\xd1\\x8b\\xd0\\xba\" aria-haspopup=\"true\" aria-expanded=\"false\" role=\"button\" class=\"home-link i-bem dropdown2__switcher home-link_black_yes\" href=\"https://yandex.ru/tune/lang?retpath=https%3A%2F%2Fyandex.ru%2F&nosync=1\" target=\"_blank\" rel=\"noopener\">Rus</a><div class=\"popup2 popup2_view_default popup2_theme_normal popup2_alt-shadow_yes popup2_autoclosable_yes popup2_target_anchor i-bem\" data-bem=\"{&quot;popup2&quot;:{&quot;mainOffset&quot;:10,&quot;directions&quot;:[&quot;bottom-center&quot;]}}\" ><div class=\"popup2__tail\"></div><ul class=\"menu menu_theme_normal menu_view_default menu_tone_default menu_size_sx menu_type_navigation i-bem\" data-bem=\"{&quot;menu&quot;:{}}\"><div class=\"menu__group\" role=\"group\"><li class=\"menu__list-item\"><a class=\"menu__item menu__item_type_link\" data-bem=\"{&quot;menu__item&quot;:{}}\" href=\"https://yandex.ru/?lang=tt&sk=yf4dc55d218a48f5e62a0f327f72795b5\" target=\"_self\" role=\"link\" aria-label=\"Tat\"><span class=\"menu__text \">Tat</span></a></li><li class=\"menu__list-item\"><div class=\"menu__item menu__item_type_link menu__item_disabled_yes\" data-bem=\"{&quot;menu__item&quot;:{}}\" aria-disabled=\"true\" role=\"menuitem\" aria-label=\"Rus\"><span class=\"menu__text \">Rus</span></div></li></div><div class=\"menu__group\" role=\"group\"><li class=\"menu__list-item\"><a class=\"menu__item menu__item_type_link\" data-bem=\"{&quot;menu__item&quot;:{}}\" href=\"https://yandex.ru/tune/lang?retpath=https%3A%2F%2Fyandex.ru%2F&nosync=1\" target=\"_self\" role=\"link\" aria-label=\"\\xd0\\xb5\\xd1\\x89\\xd1\\x91\"><span class=\"menu__text \">\\xd0\\xb5\\xd1\\x89\\xd1\\x91</span></a></li></div></ul></div></div></div></div></div></div></div></div></div></div><div class=\"row rows__row rows__row_main\"><div class=\"col main widgets i-bem\" role=\"main\" data-bem=\"{&quot;widgets&quot;:{&quot;uniqId&quot;:&quot;widgets&quot;,&quot;yu&quot;:&quot;031c8bc77b1051ea26a8c41f03eee850ac75917cb93508eb7aabc84142b1b98e:1613830656&quot;,&quot;Logged&quot;:0,&quot;domain&quot;:&quot;ru&quot;,&quot;locale&quot;:&quot;ru&quot;,&quot;layoutType&quot;:&quot;columns&quot;,&quot;hidePromo&quot;:0,&quot;geoid&quot;:&quot;43&quot;,&quot;statLogRoot&quot;:&quot;&quot;,&quot;settings&quot;:{},&quot;widgetStyle&quot;:{&quot;def&quot;:{&quot;bg&quot;:&quot;light&quot;,&quot;text&quot;:&quot;999&quot;,&quot;link&quot;:&quot;000&quot;,&quot;hover&quot;:&quot;ff0000&quot;,&quot;decor&quot;:&quot;1&quot;}},&quot;gsid&quot;:&quot;1613830656.44549.97810.5072&quot;,&quot;version&quot;:3}}\"><div class=\"container container__first container__first_up container__line\"><div class=\"row first text_black_yes widgets__row widgets__row_tr_1\"><div class=\"col col_td_0 widgets__col widgets__col_td_1\"><div class=\"i-bem widget widget_mode_plain widget_id_topnews-1 widget_name_topnews widgets__item b-widget-fixed\" data-bem=\"{&quot;widget&quot;:{&quot;id&quot;:&quot;_topnews-1&quot;,&quot;showPrefs&quot;:true}}\" id=\"wd-wrapper-_topnews-1\"><div id=\"wd-_topnews-1\" class=\"b-widget-data b-wrapper b-wrapper-\"><div class=\"news mix-tabber_theme_link news_disclaimer_no news_animation_yes i-bem\" role=\"complementary\" aria-label=\"\\xd0\\x9d\\xd0\\xbe\\xd0\\xb2\\xd0\\xbe\\xd1\\x81\\xd1\\x82\\xd0\\xb8\" data-bem=\"{&quot;news&quot;:{&quot;uniqId&quot;:&quot;news&quot;,&quot;interval&quot;:8000,&quot;firstInterval&quot;:20000,&quot;showIcons&quot;:true,&quot;newTabLinks&quot;:true,&quot;data&quot;:{&quot;region&quot;:{&quot;showIcons&quot;:true,&quot;newTabLinks&quot;:true,&quot;statid&quot;:&quot;news.region&quot;,&quot;name&quot;:&quot;region&quot;,&quot;news&quot;:[{&quot;full&quot;:&quot;\\xd0\\x9d\\xd0\\xbe\\xd0\\xb2\\xd0\\xb0\\xd1\\x8f \\xd0\\xbf\\xd0\\xbe\\xd0\\xbb\\xd0\\xb8\\xd0\\xba\\xd0\\xbb\\xd0\\xb8\\xd0\\xbd\\xd0\\xb8\\xd0\\xba\\xd0\\xb0 \\xd0\\xbe\\xd1\\x82\\xd0\\xba\\xd1\\x80\\xd1\\x8b\\xd0\\xbb\\xd0\\xb0\\xd1\\x81\\xd1\\x8c \\xd0\\xb4\\xd0\\xbb\\xd1\\x8f \\xd0\\xb6\\xd0\\xb8\\xd1\\x82\\xd0\\xb5\\xd0\\xbb\\xd0\\xb5\\xd0\\xb9 \\xd0\\xbc\\xd0\\xb8\\xd0\\xba\\xd1\\x80\\xd0\\xbe\\xd1\\x80\\xd0\\xb0\\xd0\\xb9\\xd0\\xbe\\xd0\\xbd\\xd0\\xb0 \\xd0\\xa2\\xd0\\xb0\\xd0\\xbd\\xd0\\xba\\xd0\\xbe\\xd0\\xb4\\xd1\\x80\\xd0\\xbe\\xd0\\xbc \\xd0\\xb2 \\xd0\\x9a\\xd0\\xb0\\xd0\\xb7\\xd0\\xb0\\xd0\\xbd\\xd0\\xb8&quot;,&quot;href&quot;:&quot;https://yandex.ru/news/story/Novaya_poliklinika_otkrylas_dlya_zhitelej_mikrorajona_Tankodrom_v_Kazani--5b9cc7eb672009f6e0406d84f461ab3d?fan=1&amp;from=reg_portal&amp;lang=ru&amp;lr=43&amp;mlid=1613829640_exp6.geo_43.5b9cc7eb&amp;msid=1613830656.44549.97810.5072&amp;persistent_id=132941996&amp;stid=m00bnh1BjaA43Iw6KCf8&amp;t=1613829640&amp;utm_medium=topnews_region&amp;utm_source=morda_desktop&quot;,&quot;agency_logo&quot;:&quot;https://avatars.mds.yandex.net/get-ynews-logo/135513/11982-1478693180019-square/logo-square&quot;,&quot;agency_name&quot;:&quot;\\xd0\\x9f\\xd1\\x80\\xd0\\xbe \\xd0\\x93\\xd0\\xbe\\xd1\\x80\\xd0\\xbe\\xd0\\xb4 \\xd0\\x9a\\xd0\\xb0\\xd0\\xb7\\xd0\\xb0\\xd0\\xbd\\xd1\\x8c&quot;},{&quot;full&quot;:&quot;\\xd0\\x92\\xd0\\xbe \\xd0\\xb4\\xd0\\xb2\\xd0\\xbe\\xd1\\x80\\xd0\\xb0\\xd1\\x85 \\xd0\\x9a\\xd0\\xb0\\xd0\\xb7\\xd0\\xb0\\xd0\\xbd\\xd0\\xb8 \\xd0\\xb7\\xd0\\xb0 \\xd0\\xb3\\xd0\\xbe\\xd0\\xb4 \\xd0\\xbf\\xd0\\xbe\\xd1\\x81\\xd1\\x82\\xd1\\x80\\xd0\\xbe\\xd0\\xb5\\xd0\\xbd\\xd0\\xbe 239 \\xd0\\xba\\xd0\\xbe\\xd0\\xbd\\xd1\\x82\\xd0\\xb5\\xd0\\xb9\\xd0\\xbd\\xd0\\xb5\\xd1\\x80\\xd0\\xbd\\xd1\\x8b\\xd1\\x85 \\xd0\\xbf\\xd0\\xbb\\xd0\\xbe\\xd1\\x89\\xd0\\xb0\\xd0\\xb4\\xd0\\xbe\\xd0\\xba \\xd0\\xb4\\xd0\\xbb\\xd1\\x8f \\xd1\\x80\\xd0\\xb0\\xd0\\xb7\\xd0\\xb4\\xd0\\xb5\\xd0\\xbb\\xd1\\x8c\\xd0\\xbd\\xd0\\xbe\\xd0\\xb3\\xd0\\xbe \\xd1\\x81\\xd0\\xb1\\xd0\\xbe\\xd1\\x80\\xd0\\xb0 \\xd0\\xbc\\xd1\\x83\\xd1\\x81\\xd0\\xbe\\xd1\\x80\\xd0\\xb0&quot;,&quot;href&quot;:&quot;https://yandex.ru/news/story/Vo_dvorakh_Kazani_za_god_postroeno_239_kontejnernykh_ploshhadok_dlya_razdelnogo_sbora_musora--5b2bea64a6ebe5109fa0779e051bafac?fan=1&amp;from=reg_portal&amp;lang=ru&amp;lr=43&amp;mlid=1613829640_exp6.geo_43.5b2bea64&amp;msid=1613830656.44549.97810.5072&amp;persistent_id=132938152&amp;stid=Pp-zvPnGutg9WWFHYHV3&amp;t=1613829640&amp;utm_medium=topnews_region&amp;utm_source=morda_desktop&quot;,&quot;agency_logo&quot;:&quot;https://avatars.mds.yandex.net/get-ynews-logo/61287/11146-1519292296093-square/logo-square&quot;,&quot;agency_name&quot;:&quot;\\xd0\\x9c\\xd1\\x8d\\xd1\\x80\\xd0\\xb8\\xd1\\x8f \\xd0\\xb3. \\xd0\\x9a\\xd0\\xb0\\xd0\\xb7\\xd0\\xb0\\xd0\\xbd\\xd0\\xb8&quot;},{&quot;full&quot;:&quot;\\xd0\\x92 \\xd0\\x9a\\xd0\\xb8\\xd1\\x80\\xd0\\xbe\\xd0\\xb2\\xd1\\x81\\xd0\\xba\\xd0\\xbe\\xd0\\xbc \\xd0\\xb8 \\xd0\\x9c\\xd0\\xbe\\xd1\\x81\\xd0\\xba\\xd0\\xbe\\xd0\\xb2\\xd1\\x81\\xd0\\xba\\xd0\\xbe\\xd0\\xbc \\xd1\\x80\\xd0\\xb0\\xd0\\xb9\\xd0\\xbe\\xd0\\xbd\\xd0\\xb0\\xd1\\x85 \\xd0\\x9a\\xd0\\xb0\\xd0\\xb7\\xd0\\xb0\\xd0\\xbd\\xd0\\xb8 \\xd0\\xbe\\xd1\\x82\\xd1\\x80\\xd0\\xb5\\xd0\\xbc\\xd0\\xbe\\xd0\\xbd\\xd1\\x82\\xd0\\xb8\\xd1\\x80\\xd1\\x83\\xd1\\x8e\\xd1\\x82 54 \\xd0\\xb4\\xd0\\xbe\\xd0\\xbc\\xd0\\xb0&quot;,&quot;href&quot;:&quot;https://yandex.ru/news/story/V_Kirovskom_i_Moskovskom_rajonakh_Kazani_otremontiruyut_54_doma--f7397e18d85c8c002c8859ba0e52f845?fan=1&amp;from=reg_portal&amp;lang=ru&amp;lr=43&amp;mlid=1613829640_exp6.geo_43.f7397e18&amp;msid=1613830656.44549.97810.5072&amp;persistent_id=132856373&amp;stid=ygVT5ilBOtysPJZQU-Rw&amp;t=1613829640&amp;utm_medium=topnews_region&amp;utm_source=morda_desktop&quot;,&quot;agency_logo&quot;:&quot;https://avatars.mds.yandex.net/get-ynews-logo/56838/2003-1478692936966-square/logo-square&quot;,&quot;agency_name&quot;:&quot;\\xd0\\xa2\\xd0\\xb0\\xd1\\x82\\xd0\\xb0\\xd1\\x80-\\xd0\\xb8\\xd0\\xbd\\xd1\\x84\\xd0\\xbe\\xd1\\x80\\xd0\\xbc&quot;},{&quot;full&quot;:&quot;\\xd0\\x97\\xd0\\xb0 \\xd1\\x81\\xd1\\x83\\xd1\\x82\\xd0\\xba\\xd0\\xb8 \\xd0\\xb2 \\xd0\\xa2\\xd0\\xb0\\xd1\\x82\\xd0\\xb0\\xd1\\x80\\xd1\\x81\\xd1\\x82\\xd0\\xb0\\xd0\\xbd\\xd0\\xb5 \\xd0\\xb3\\xd0\\xbe\\xd1\\x81\\xd0\\xbf\\xd0\\xb8\\xd1\\x82\\xd0\\xb0\\xd0\\xbb\\xd0\\xb8\\xd0\\xb7\\xd0\\xb8\\xd1\\x80\\xd0\\xbe\\xd0\\xb2\\xd0\\xb0\\xd0\\xbb\\xd0\\xb8 26 \\xd1\\x87\\xd0\\xb5\\xd0\\xbb\\xd0\\xbe\\xd0\\xb2\\xd0\\xb5\\xd0\\xba \\xd1\\x81 \\xd0\\xba\\xd0\\xbe\\xd1\\x80\\xd0\\xbe\\xd0\\xbd\\xd0\\xb0\\xd0\\xb2\\xd0\\xb8\\xd1\\x80\\xd1\\x83\\xd1\\x81\\xd0\\xbe\\xd0\\xbc&quot;,&quot;href&quot;:&quot;https://yandex.ru/news/story/Za_sutki_v_Tatarstane_gospitalizirovali_26_chelovek_s_koronavirusom--ed968ecb0c0fde0c9ecd3f6ed6bddc68?fan=1&amp;from=reg_portal&amp;lang=ru&amp;lr=43&amp;mlid=1613829640_exp6.geo_43.ed968ecb&amp;msid=1613830656.44549.97810.5072&amp;persistent_id=116903449&amp;stid=GQGl0DAo07KyMGoDsPwu&amp;t=1613829640&amp;utm_medium=topnews_region&amp;utm_source=morda_desktop&quot;,&quot;agency_logo&quot;:&quot;https://avatars.mds.yandex.net/get-ynews-logo/966506/254157521-1540366794662-square/logo-square&quot;,&quot;agency_name&quot;:&quot;\\xd0\\x9a\\xd0\\x9f - \\xd0\\x9a\\xd0\\xb0\\xd0\\xb7\\xd0\\xb0\\xd0\\xbd\\xd1\\x8c&quot;},{&quot;full&quot;:&quot;\\xd0\\x93\\xd0\\xbb\\xd0\\xb0\\xd0\\xb2\\xd0\\xb0 \\xd0\\x9f\\xd0\\xb5\\xd1\\x81\\xd1\\x82\\xd1\\x80\\xd0\\xb5\\xd1\\x87\\xd0\\xb8\\xd0\\xbd\\xd1\\x81\\xd0\\xba\\xd0\\xbe\\xd0\\xb3\\xd0\\xbe \\xd1\\x80\\xd0\\xb0\\xd0\\xb9\\xd0\\xbe\\xd0\\xbd\\xd0\\xb0 \\xd0\\x98\\xd0\\xbb\\xd1\\x8c\\xd1\\x85\\xd0\\xb0\\xd0\\xbc \\xd0\\x9a\\xd0\\xb0\\xd1\\x88\\xd0\\xb0\\xd0\\xbf\\xd0\\xbe\\xd0\\xb2 \\xd0\\xbf\\xd1\\x80\\xd0\\xbe\\xd0\\xb2\\xd0\\xb5\\xd0\\xb4\\xd0\\xb5\\xd1\\x82 \\xd0\\xb2\\xd1\\x81\\xd1\\x82\\xd1\\x80\\xd0\\xb5\\xd1\\x87\\xd1\\x83 \\xd1\\x81 \\xd0\\xb6\\xd0\\xb8\\xd1\\x82\\xd0\\xb5\\xd0\\xbb\\xd1\\x8f\\xd0\\xbc\\xd0\\xb8 \\xd1\\x81\\xd0\\xb5\\xd0\\xbb\\xd1\\x8c\\xd1\\x81\\xd0\\xba\\xd0\\xbe\\xd0\\xb3\\xd0\\xbe \\xd0\\xbf\\xd0\\xbe\\xd1\\x81\\xd0\\xb5\\xd0\\xbb\\xd0\\xb5\\xd0\\xbd\\xd0\\xb8\\xd1\\x8f&quot;,&quot;href&quot;:&quot;https://yandex.ru/news/story/Glava_Pestrechinskogo_rajona_Ilkham_Kashapov_provedet_vstrechu_s_zhitelyami_selskogo_poseleniya--be69f32c007cf771a8e1e9c6cb2ca3ea?fan=1&amp;from=reg_portal&amp;lang=ru&amp;lr=43&amp;mlid=1613829640_exp6.geo_43.be69f32c&amp;msid=1613830656.44549.97810.5072&amp;persistent_id=132907312&amp;stid=lwy2bIRAGw_k6FWF&amp;t=1613829640&amp;utm_medium=topnews_region&amp;utm_source=morda_desktop&quot;,&quot;agency_logo&quot;:&quot;https://avatars.mds.yandex.net/get-ynews-logo/41096/254123936-1573744401957-square/logo-square&quot;,&quot;agency_name&quot;:&quot;\\xd0\\x92\\xd0\\xb5\\xd1\\x81\\xd1\\x82\\xd0\\xb8 \\xd0\\xa2\\xd0\\xb0\\xd1\\x82\\xd0\\xb0\\xd1\\x80\\xd1\\x81\\xd1\\x82\\xd0\\xb0\\xd0\\xbd&quot;},{&quot;full&quot;:&quot;\\xd0\\xa1\\xd0\\xb4\\xd0\\xb0\\xd1\\x87\\xd1\\x83 \\xd0\\xbc\\xd1\\x83\\xd1\\x81\\xd0\\xbe\\xd1\\x80\\xd0\\xbe\\xd1\\x81\\xd0\\xb6\\xd0\\xb8\\xd0\\xb3\\xd0\\xb0\\xd1\\x82\\xd0\\xb5\\xd0\\xbb\\xd1\\x8c\\xd0\\xbd\\xd0\\xbe\\xd0\\xb3\\xd0\\xbe \\xd0\\xb7\\xd0\\xb0\\xd0\\xb2\\xd0\\xbe\\xd0\\xb4\\xd0\\xb0 \\xd0\\xbf\\xd0\\xbe\\xd0\\xb4 \\xd0\\x9a\\xd0\\xb0\\xd0\\xb7\\xd0\\xb0\\xd0\\xbd\\xd1\\x8c\\xd1\\x8e \\xd0\\xbc\\xd0\\xbe\\xd0\\xb3\\xd1\\x83\\xd1\\x82 \\xd0\\xbe\\xd1\\x82\\xd0\\xbb\\xd0\\xbe\\xd0\\xb6\\xd0\\xb8\\xd1\\x82\\xd1\\x8c \\xd0\\xbd\\xd0\\xb0 \\xd0\\xb3\\xd0\\xbe\\xd0\\xb4&quot;,&quot;href&quot;:&quot;https://yandex.ru/news/story/Sdachu_musoroszhigatelnogo_zavoda_pod_Kazanyu_mogut_otlozhit_na_god--0db9de25655b263de20258d13284c8bb?fan=1&amp;from=reg_portal&amp;lang=ru&amp;lr=43&amp;mlid=1613829640_exp6.geo_43.0db9de25&amp;msid=1613830656.44549.97810.5072&amp;persistent_id=132897983&amp;stid=dDGxuskDdR73cz9pCjgk&amp;t=1613829640&amp;utm_medium=topnews_region&amp;utm_source=morda_desktop&quot;,&quot;agency_logo&quot;:&quot;https://avatars.mds.yandex.net/get-ynews-logo/966506/254157521-1540366794662-square/logo-square&quot;,&quot;agency_name&quot;:&quot;\\xd0\\x9a\\xd0\\x9f - \\xd0\\x9a\\xd0\\xb0\\xd0\\xb7\\xd0\\xb0\\xd0\\xbd\\xd1\\x8c&quot;},{&quot;full&quot;:&quot;\\xd0\\x9c\\xd0\\xb8\\xd0\\xbd\\xd0\\xbe\\xd0\\xb1\\xd0\\xbe\\xd1\\x80\\xd0\\xbe\\xd0\\xbd\\xd1\\x8b \\xd0\\xb7\\xd0\\xb0\\xd0\\xba\\xd0\\xbb\\xd1\\x8e\\xd1\\x87\\xd0\\xb8\\xd0\\xbb\\xd0\\xbe \\xd0\\xba\\xd0\\xbe\\xd0\\xbd\\xd1\\x82\\xd1\\x80\\xd0\\xb0\\xd0\\xba\\xd1\\x82 \\xd0\\xbd\\xd0\\xb0 \\xd0\\xbf\\xd0\\xbe\\xd1\\x81\\xd1\\x82\\xd0\\xb0\\xd0\\xb2\\xd0\\xba\\xd1\\x83 \\xd0\\xb1\\xd0\\xb5\\xd1\\x81\\xd0\\xbf\\xd0\\xb8\\xd0\\xbb\\xd0\\xbe\\xd1\\x82\\xd0\\xbd\\xd0\\xb8\\xd0\\xba\\xd0\\xbe\\xd0\\xb2 \\xc2\\xab\\xd0\\x90\\xd0\\xbb\\xd1\\x8c\\xd1\\x82\\xd0\\xb8\\xd1\\x83\\xd1\\x81\\xc2\\xbb \\xd0\\xb8\\xd0\\xb7 \\xd0\\x9a\\xd0\\xb0\\xd0\\xb7\\xd0\\xb0\\xd0\\xbd\\xd0\\xb8&quot;,&quot;href&quot;:&quot;https://yandex.ru/news/story/Minoborony_zaklyuchilo_kontrakt_na_postavku_bespilotnikov_Altius_iz_Kazani--42139bf14406d855a85912af638424fb?fan=1&amp;from=reg_portal&amp;lang=ru&amp;lr=43&amp;mlid=1613829640_exp6.geo_43.42139bf1&amp;msid=1613830656.44549.97810.5072&amp;persistent_id=132930624&amp;stid=tC0vOOSKdQNHAvWosJdZ&amp;t=1613829640&amp;utm_medium=topnews_region&amp;utm_source=morda_desktop&quot;,&quot;agency_logo&quot;:&quot;https://avatars.mds.yandex.net/get-ynews-logo/26056/1935-1478692935365-square/logo-square&quot;,&quot;agency_name&quot;:&quot;\\xd0\\x9a\\xd0\\xbe\\xd0\\xbc\\xd0\\xbc\\xd0\\xb5\\xd1\\x80\\xd1\\x81\\xd0\\xb0\\xd0\\xbd\\xd1\\x82\\xd1\\x8a \\xd0\\x9a\\xd0\\xb0\\xd0\\xb7\\xd0\\xb0\\xd0\\xbd\\xd1\\x8c&quot;},{&quot;full&quot;:&quot;\\xd0\\xa0\\xd0\\xa4 \\xd0\\xbf\\xd1\\x80\\xd0\\xb5\\xd0\\xb4\\xd0\\xbb\\xd0\\xbe\\xd0\\xb6\\xd0\\xb8\\xd0\\xbb\\xd0\\xb0 \\xd0\\xa2\\xd0\\xb0\\xd1\\x82\\xd0\\xb0\\xd1\\x80\\xd1\\x81\\xd1\\x82\\xd0\\xb0\\xd0\\xbd\\xd1\\x83 \\xd0\\xb2\\xd1\\x8b\\xd0\\xb2\\xd0\\xb5\\xd1\\x81\\xd1\\x82\\xd0\\xb8 \\xd0\\xb0\\xd0\\xba\\xd1\\x86\\xd0\\xb8\\xd0\\xb8 \\xd0\\xbf\\xd1\\x80\\xd0\\xb5\\xd0\\xb4\\xd0\\xbf\\xd1\\x80\\xd0\\xb8\\xd1\\x8f\\xd1\\x82\\xd0\\xb8\\xd0\\xb9 \\xd0\\xbd\\xd0\\xb0 \\xd1\\x84\\xd0\\xbe\\xd0\\xbd\\xd0\\xb4\\xd0\\xbe\\xd0\\xb2\\xd1\\x8b\\xd0\\xb9 \\xd1\\x80\\xd1\\x8b\\xd0\\xbd\\xd0\\xbe\\xd0\\xba&quot;,&quot;href&quot;:&quot;https://yandex.ru/news/story/RF_predlozhila_Tatarstanu_vyvesti_akcii_predpriyatij_na_fondovyj_rynok--ad6817220741ce39ebcce0915c3d6734?fan=1&amp;from=reg_portal&amp;lang=ru&amp;lr=43&amp;mlid=1613829640_exp6.geo_43.ad681722&amp;msid=1613830656.44549.97810.5072&amp;persistent_id=132936182&amp;stid=kKswqi4lF-W5Sm6EMqJ3&amp;t=1613829640&amp;utm_medium=topnews_region&amp;utm_source=morda_desktop&quot;,&quot;agency_logo&quot;:&quot;https://avatars.mds.yandex.net/get-ynews-logo/26056/1935-1478692935365-square/logo-square&quot;,&quot;agency_name&quot;:&quot;\\xd0\\x9a\\xd0\\xbe\\xd0\\xbc\\xd0\\xbc\\xd0\\xb5\\xd1\\x80\\xd1\\x81\\xd0\\xb0\\xd0\\xbd\\xd1\\x82\\xd1\\x8a \\xd0\\x9a\\xd0\\xb0\\xd0\\xb7\\xd0\\xb0\\xd0\\xbd\\xd1\\x8c&quot;},{&quot;full&quot;:&quot;\\xd0\\x92 \\xd0\\x9d\\xd0\\xb0\\xd0\\xb1\\xd0\\xb5\\xd1\\x80\\xd0\\xb5\\xd0\\xb6\\xd0\\xbd\\xd1\\x8b\\xd1\\x85 \\xd0\\xa7\\xd0\\xb5\\xd0\\xbb\\xd0\\xbd\\xd0\\xb0\\xd1\\x85 \\xd0\\xbd\\xd0\\xb0\\xd0\\xbf\\xd0\\xb0\\xd0\\xbb\\xd0\\xb8 \\xd0\\xbd\\xd0\\xb0 \\xd1\\x81\\xd1\\x8a\\xd0\\xb5\\xd0\\xbc\\xd0\\xbe\\xd1\\x87\\xd0\\xbd\\xd1\\x83\\xd1\\x8e \\xd0\\xb3\\xd1\\x80\\xd1\\x83\\xd0\\xbf\\xd0\\xbf\\xd1\\x83 \\xd0\\xbc\\xd0\\xb5\\xd1\\x81\\xd1\\x82\\xd0\\xbd\\xd0\\xbe\\xd0\\xb3\\xd0\\xbe \\xd1\\x82\\xd0\\xb5\\xd0\\xbb\\xd0\\xb5\\xd0\\xba\\xd0\\xb0\\xd0\\xbd\\xd0\\xb0\\xd0\\xbb\\xd0\\xb0&quot;,&quot;href&quot;:&quot;https://yandex.ru/news/story/V_Naberezhnykh_CHelnakh_napali_na_semochnuyu_gruppu_mestnogo_telekanala--e70ca8dc710fb13edd6ec8950a897be9?fan=1&amp;from=reg_portal&amp;lang=ru&amp;lr=43&amp;mlid=1613829640_exp6.geo_43.e70ca8dc&amp;msid=1613830656.44549.97810.5072&amp;persistent_id=132913175&amp;stid=aNz0E07sUjTg1b4vAIVi&amp;t=1613829640&amp;utm_medium=topnews_region&amp;utm_source=morda_desktop&quot;,&quot;agency_logo&quot;:&quot;https://avatars.mds.yandex.net/get-ynews-logo/50744/254122059-1562060492000-square/logo-square&quot;,&quot;agency_name&quot;:&quot;\\xd0\\x9a\\xd0\\xb0\\xd0\\xb7\\xd0\\xb0\\xd0\\xbd\\xd1\\x81\\xd0\\xba\\xd0\\xb8\\xd0\\xb9 \\xd1\\x80\\xd0\\xb5\\xd0\\xbf\\xd0\\xbe\\xd1\\x80\\xd1\\x82\\xd0\\xb5\\xd1\\x80&quot;},{&quot;full&quot;:&quot;\\xd0\\x9e\\xd1\\x82\\xd0\\xba\\xd1\\x80\\xd1\\x8b\\xd1\\x82\\xd0\\xbe\\xd0\\xb5 \\xd0\\xb3\\xd0\\xbe\\xd1\\x80\\xd0\\xb5\\xd0\\xbd\\xd0\\xb8\\xd0\\xb5 \\xd0\\xbd\\xd0\\xb0 \\xd1\\x81\\xd0\\xba\\xd0\\xbb\\xd0\\xb0\\xd0\\xb4\\xd0\\xb5 \\xd0\\xbf\\xd1\\x80\\xd0\\xb5\\xd0\\xb4\\xd0\\xbf\\xd1\\x80\\xd0\\xb8\\xd1\\x8f\\xd1\\x82\\xd0\\xb8\\xd1\\x8f \\xd0\\xbf\\xd0\\xbe\\xd0\\xb4 \\xd0\\x9d\\xd0\\xb8\\xd0\\xb6\\xd0\\xbd\\xd0\\xb5\\xd0\\xba\\xd0\\xb0\\xd0\\xbc\\xd1\\x81\\xd0\\xba\\xd0\\xbe\\xd0\\xbc \\xd0\\xbb\\xd0\\xb8\\xd0\\xba\\xd0\\xb2\\xd0\\xb8\\xd0\\xb4\\xd0\\xb8\\xd1\\x80\\xd0\\xbe\\xd0\\xb2\\xd0\\xb0\\xd0\\xbd\\xd0\\xbe&quot;,&quot;href&quot;:&quot;https://yandex.ru/news/story/Otkrytoe_gorenie_na_sklade_predpriyatiya_pod_Nizhnekamskom_likvidirovano--6a4d3c01dd1bfc8c91e5bcc65450432d?fan=1&amp;from=reg_portal&amp;lang=ru&amp;lr=43&amp;mlid=1613829640_exp6.geo_43.6a4d3c01&amp;msid=1613830656.44549.97810.5072&amp;persistent_id=132920046&amp;stid=Amu62DQqMIbYLXYGkBML&amp;t=1613829640&amp;utm_medium=topnews_region&amp;utm_source=morda_desktop&quot;,&quot;agency_logo&quot;:&quot;https://avatars.mds.yandex.net/get-ynews-logo/41096/2667-1610702901.002031-square/logo-square&quot;,&quot;agency_name&quot;:&quot;\\xd0\\x9d\\xd0\\xa2\\xd0\\xa0 24&quot;}]}}}}\"><div class=\"news__header widget__content\"><div class=\"news__tabs\"><h1 class=\"news__tab-wrapper news__head-item\"><a tabindex=\"0\" aria-selected=\"true\" aria-controls=\"news_panel_news\" data-key=\"news\" id=\"news_tab_news\" data-stat-link=\"news.tab.link.news\" data-stat-select=\"news.tab.select.news\" target=\"_blank\" role=\"tab\" class=\"home-link home-link_blue_yes news__tab news__tab_selected_yes mix-tabber__tab mix-tabber__tab_selected_yes\" href=\"https://yandex.ru/news?mlid=1613829640_exp6.glob_225&msid=1613830656.44549.97810.5072&utm_medium=topnews_news&utm_source=morda_desktop\" rel=\"noopener\"><span class=\"news__tab-text \">\\xd0\\xa1\\xd0\\xb5\\xd0\\xb9\\xd1\\x87\\xd0\\xb0\\xd1\\x81 \\xd0\\xb2 \\xd0\\xa1\\xd0\\x9c\\xd0\\x98</span></a></h1><h1 class=\"news__tab-wrapper news__head-item\"><a tabindex=\"-1\" aria-selected=\"false\" data-key=\"region\" id=\"news_tab_region\" data-stat-link=\"news.tab.link.region\" data-stat-select=\"news.tab.select.region\" target=\"_blank\" role=\"tab\" class=\"home-link home-link_blue_yes news__tab news__tab_selected_no mix-tabber__tab mix-tabber__tab_selected_no\" href=\"https://yandex.ru/news/region/kazan?mlid=1613829640_exp6.geo_43&msid=1613830656.44549.97810.5072&utm_medium=topnews_region&utm_source=morda_desktop\" rel=\"noopener\"><span class=\"news__tab-text \">\\xd0\\xb2 \\xd0\\x9a\\xd0\\xb0\\xd0\\xb7\\xd0\\xb0\\xd0\\xbd\\xd0\\xb8</span></a></h1><span class=\"news__head-item \"><span class=\"news__alarm \"><a class=\"home-link\" href=\"https://yandex.ru/news/rubric/koronavirus?from=main\" target=\"_blank\" rel=\"noopener\">\\xd0\\x9a\\xd0\\xbe\\xd1\\x80\\xd0\\xbe\\xd0\\xbd\\xd0\\xb0\\xd0\\xb2\\xd0\\xb8\\xd1\\x80\\xd1\\x83\\xd1\\x81</a></span></span></div><div class=\"news__panels mix-tabber-slide2__panels\"><div class=\"news__panel mix-tabber-slide2__panel\" role=\"tabpanel\" id=\"news_panel_news\" data-key=\"news\" aria-labelledby=\"news_tab_news\"><ol class=\"list news__list\"><li class=\"list__item  list__item_icon\" ><a aria-label=\"\\xd0\\x92 \\xd0\\xa0\\xd0\\xa4 \\xd0\\xbf\\xd0\\xbe\\xd0\\xb4\\xd1\\x82\\xd0\\xb2\\xd0\\xb5\\xd1\\x80\\xd0\\xb6\\xd0\\xb4\\xd0\\xb5\\xd0\\xbd \\xd0\\xbf\\xd0\\xb5\\xd1\\x80\\xd0\\xb2\\xd1\\x8b\\xd0\\xb9 \\xd1\\x81\\xd0\\xbb\\xd1\\x83\\xd1\\x87\\xd0\\xb0\\xd0\\xb9 \\xd0\\xb7\\xd0\\xb0\\xd1\\x80\\xd0\\xb0\\xd0\\xb6\\xd0\\xb5\\xd0\\xbd\\xd0\\xb8\\xd1\\x8f \\xd1\\x87\\xd0\\xb5\\xd0\\xbb\\xd0\\xbe\\xd0\\xb2\\xd0\\xb5\\xd0\\xba\\xd0\\xb0 \\xd0\\xbf\\xd1\\x82\\xd0\\xb8\\xd1\\x87\\xd1\\x8c\\xd0\\xb8\\xd0\\xbc \\xd0\\xb3\\xd1\\x80\\xd0\\xb8\\xd0\\xbf\\xd0\\xbf\\xd0\\xbe\\xd0\\xbc H5N8\" target=\"_blank\" class=\"home-link list__item-content list__item-content_with-icon home-link_black_yes\" href=\"https://yandex.ru/news/story/V_RF_podtverzhden_pervyj_sluchaj_zarazheniya_cheloveka_ptichim_grippom_H5N8--f7c0721484b878e2834ded29f183a4bd?fan=1&from=main_portal&lang=ru&lr=43&mlid=1613829640_exp6.glob_225.f7c07214&msid=1613830656.44549.97810.5072&persistent_id=132936742&stid=PPXyI5KwBXJHadEt4H7Y&t=1613829640&utm_medium=topnews_news&utm_source=morda_desktop\" rel=\"noopener\"><span class=\"news__item-inner \"><div class=\"news__agency-icon news__agency-icon_image_yes\"><object class=\"news__agency-icon-image\" title=\"\\xd0\\x98\\xd0\\xbd\\xd1\\x82\\xd0\\xb5\\xd1\\x80\\xd1\\x84\\xd0\\xb0\\xd0\\xba\\xd1\\x81\" data=\"https://avatars.mds.yandex.net/get-ynews-logo/26056/1114-1478692903988-square/logo-square\" type=\"image/png\"><div class=\"news__agency-icon-image-empty\"></div></object></div><span class=\"news__item-content \">\\xd0\\x92 \\xd0\\xa0\\xd0\\xa4 \\xd0\\xbf\\xd0\\xbe\\xd0\\xb4\\xd1\\x82\\xd0\\xb2\\xd0\\xb5\\xd1\\x80\\xd0\\xb6\\xd0\\xb4\\xd0\\xb5\\xd0\\xbd \\xd0\\xbf\\xd0\\xb5\\xd1\\x80\\xd0\\xb2\\xd1\\x8b\\xd0\\xb9 \\xd1\\x81\\xd0\\xbb\\xd1\\x83\\xd1\\x87\\xd0\\xb0\\xd0\\xb9 \\xd0\\xb7\\xd0\\xb0\\xd1\\x80\\xd0\\xb0\\xd0\\xb6\\xd0\\xb5\\xd0\\xbd\\xd0\\xb8\\xd1\\x8f \\xd1\\x87\\xd0\\xb5\\xd0\\xbb\\xd0\\xbe\\xd0\\xb2\\xd0\\xb5\\xd0\\xba\\xd0\\xb0 \\xd0\\xbf\\xd1\\x82\\xd0\\xb8\\xd1\\x87\\xd1\\x8c\\xd0\\xb8\\xd0\\xbc \\xd0\\xb3\\xd1\\x80\\xd0\\xb8\\xd0\\xbf\\xd0\\xbf\\xd0\\xbe\\xd0\\xbc H5N8</span></span></a></li><li class=\"list__item  list__item_icon\" ><a aria-label=\"\\xd0\\xa1\\xd1\\x83\\xd0\\xb4 \\xd0\\xbf\\xd1\\x80\\xd0\\xb8\\xd0\\xb7\\xd0\\xbd\\xd0\\xb0\\xd0\\xbb \\xd0\\xb7\\xd0\\xb0\\xd0\\xba\\xd0\\xbe\\xd0\\xbd\\xd0\\xbd\\xd0\\xbe\\xd0\\xb9 \\xd0\\xb7\\xd0\\xb0\\xd0\\xbc\\xd0\\xb5\\xd0\\xbd\\xd1\\x83 \\xd1\\x83\\xd1\\x81\\xd0\\xbb\\xd0\\xbe\\xd0\\xb2\\xd0\\xbd\\xd0\\xbe\\xd0\\xb3\\xd0\\xbe \\xd1\\x81\\xd1\\x80\\xd0\\xbe\\xd0\\xba\\xd0\\xb0 \\xd0\\x9d\\xd0\\xb0\\xd0\\xb2\\xd0\\xb0\\xd0\\xbb\\xd1\\x8c\\xd0\\xbd\\xd0\\xbe\\xd0\\xb3\\xd0\\xbe \\xd0\\xbd\\xd0\\xb0 \\xd1\\x80\\xd0\\xb5\\xd0\\xb0\\xd0\\xbb\\xd1\\x8c\\xd0\\xbd\\xd1\\x8b\\xd0\\xb9\" target=\"_blank\" class=\"home-link list__item-content list__item-content_with-icon home-link_black_yes\" href=\"https://yandex.ru/news/story/Sud_priznal_zakonnoj_zamenu_uslovnogo_sroka_Navalnogo_na_realnyj--b6242c0c68ccc281a95703a98c604ea3?fan=1&from=main_portal&lang=ru&lr=43&mlid=1613829640_exp6.glob_225.b6242c0c&msid=1613830656.44549.97810.5072&persistent_id=132928165&stid=-mufBwlqhiRZa00d7Z-9&t=1613829640&utm_medium=topnews_news&utm_source=morda_desktop\" rel=\"noopener\"><span class=\"news__item-inner \"><div class=\"news__agency-icon news__agency-icon_image_yes\"><object class=\"news__agency-icon-image\" title=\"\\xd0\\x93\\xd0\\xb0\\xd0\\xb7\\xd0\\xb5\\xd1\\x82\\xd0\\xb0.Ru\" data=\"https://avatars.mds.yandex.net/get-ynews-logo/135513/1040-1478692902361-square/logo-square\" type=\"image/png\"><div class=\"news__agency-icon-image-empty\"></div></object></div><span class=\"news__item-content \">\\xd0\\xa1\\xd1\\x83\\xd0\\xb4 \\xd0\\xbf\\xd1\\x80\\xd0\\xb8\\xd0\\xb7\\xd0\\xbd\\xd0\\xb0\\xd0\\xbb \\xd0\\xb7\\xd0\\xb0\\xd0\\xba\\xd0\\xbe\\xd0\\xbd\\xd0\\xbd\\xd0\\xbe\\xd0\\xb9 \\xd0\\xb7\\xd0\\xb0\\xd0\\xbc\\xd0\\xb5\\xd0\\xbd\\xd1\\x83 \\xd1\\x83\\xd1\\x81\\xd0\\xbb\\xd0\\xbe\\xd0\\xb2\\xd0\\xbd\\xd0\\xbe\\xd0\\xb3\\xd0\\xbe \\xd1\\x81\\xd1\\x80\\xd0\\xbe\\xd0\\xba\\xd0\\xb0 \\xd0\\x9d\\xd0\\xb0\\xd0\\xb2\\xd0\\xb0\\xd0\\xbb\\xd1\\x8c\\xd0\\xbd\\xd0\\xbe\\xd0\\xb3\\xd0\\xbe \\xd0\\xbd\\xd0\\xb0 \\xd1\\x80\\xd0\\xb5\\xd0\\xb0\\xd0\\xbb\\xd1\\x8c\\xd0\\xbd\\xd1\\x8b\\xd0\\xb9</span></span></a></li><li class=\"list__item  list__item_icon\" ><a aria-label=\"\\xd0\\xa0\\xd1\\x83\\xd0\\xba\\xd0\\xbe\\xd0\\xb2\\xd0\\xbe\\xd0\\xb4\\xd1\\x81\\xd1\\x82\\xd0\\xb2\\xd0\\xbe \\xd0\\xa2\\xd0\\x93\\xd0\\x9a-2 \\xd0\\xb8 \\xc2\\xab\\xd0\\x90\\xd1\\x80\\xd1\\x85\\xd0\\xbe\\xd0\\xb1\\xd0\\xbb\\xd1\\x8d\\xd0\\xbd\\xd0\\xb5\\xd1\\x80\\xd0\\xb3\\xd0\\xbe\\xc2\\xbb \\xd0\\xb7\\xd0\\xb0\\xd0\\xbf\\xd0\\xbe\\xd0\\xb4\\xd0\\xbe\\xd0\\xb7\\xd1\\x80\\xd0\\xb8\\xd0\\xbb\\xd0\\xb8 \\xd0\\xb2 \\xd0\\xb7\\xd0\\xbb\\xd0\\xbe\\xd1\\x83\\xd0\\xbf\\xd0\\xbe\\xd1\\x82\\xd1\\x80\\xd0\\xb5\\xd0\\xb1\\xd0\\xbb\\xd0\\xb5\\xd0\\xbd\\xd0\\xb8\\xd0\\xb8 \\xd0\\xb8 \\xd1\\x81\\xd0\\xbe\\xd0\\xba\\xd1\\x80\\xd1\\x8b\\xd1\\x82\\xd0\\xb8\\xd0\\xb8 \\xd0\\xb4\\xd0\\xb5\\xd0\\xbd\\xd0\\xb5\\xd0\\xb3\" target=\"_blank\" class=\"home-link list__item-content list__item-content_with-icon home-link_black_yes\" href=\"https://yandex.ru/news/story/Rukovodstvo_TGK-2_i_Arkhoblehnergo_zapodozrili_v_zloupotreblenii_i_sokrytii_deneg--ef211e84210252cc79a04393c6ac8fac?fan=1&from=main_portal&lang=ru&lr=43&mlid=1613829640_exp6.glob_225.ef211e84&msid=1613830656.44549.97810.5072&persistent_id=132947020&stid=8Ztb1PEO0WqTUj-3Mv-D&t=1613829640&utm_medium=topnews_news&utm_source=morda_desktop\" rel=\"noopener\"><span class=\"news__item-inner \"><div class=\"news__agency-icon news__agency-icon_image_yes\"><object class=\"news__agency-icon-image\" title=\"\\xd0\\x98\\xd0\\xbd\\xd1\\x82\\xd0\\xb5\\xd1\\x80\\xd1\\x84\\xd0\\xb0\\xd0\\xba\\xd1\\x81\" data=\"https://avatars.mds.yandex.net/get-ynews-logo/26056/1114-1478692903988-square/logo-square\" type=\"image/png\"><div class=\"news__agency-icon-image-empty\"></div></object></div><span class=\"news__item-content \">\\xd0\\xa0\\xd1\\x83\\xd0\\xba\\xd0\\xbe\\xd0\\xb2\\xd0\\xbe\\xd0\\xb4\\xd1\\x81\\xd1\\x82\\xd0\\xb2\\xd0\\xbe \\xd0\\xa2\\xd0\\x93\\xd0\\x9a-2 \\xd0\\xb8 \\xc2\\xab\\xd0\\x90\\xd1\\x80\\xd1\\x85\\xd0\\xbe\\xd0\\xb1\\xd0\\xbb\\xd1\\x8d\\xd0\\xbd\\xd0\\xb5\\xd1\\x80\\xd0\\xb3\\xd0\\xbe\\xc2\\xbb \\xd0\\xb7\\xd0\\xb0\\xd0\\xbf\\xd0\\xbe\\xd0\\xb4\\xd0\\xbe\\xd0\\xb7\\xd1\\x80\\xd0\\xb8\\xd0\\xbb\\xd0\\xb8 \\xd0\\xb2 \\xd0\\xb7\\xd0\\xbb\\xd0\\xbe\\xd1\\x83\\xd0\\xbf\\xd0\\xbe\\xd1\\x82\\xd1\\x80\\xd0\\xb5\\xd0\\xb1\\xd0\\xbb\\xd0\\xb5\\xd0\\xbd\\xd0\\xb8\\xd0\\xb8 \\xd0\\xb8 \\xd1\\x81\\xd0\\xbe\\xd0\\xba\\xd1\\x80\\xd1\\x8b\\xd1\\x82\\xd0\\xb8\\xd0\\xb8 \\xd0\\xb4\\xd0\\xb5\\xd0\\xbd\\xd0\\xb5\\xd0\\xb3</span></span></a></li><li class=\"list__item  list__item_icon\" ><a aria-label=\"\\xd0\\x9f\\xd0\\xb5\\xd1\\x81\\xd0\\xba\\xd0\\xbe\\xd0\\xb2 \\xd0\\xb7\\xd0\\xb0\\xd1\\x8f\\xd0\\xb2\\xd0\\xb8\\xd0\\xbb \\xd0\\xbe\\xd0\\xb1 \\xd1\\x83\\xd1\\x85\\xd1\\x83\\xd0\\xb4\\xd1\\x88\\xd0\\xb5\\xd0\\xbd\\xd0\\xb8\\xd0\\xb8 \\xd1\\x8d\\xd0\\xba\\xd0\\xbe\\xd0\\xbd\\xd0\\xbe\\xd0\\xbc\\xd0\\xb8\\xd1\\x87\\xd0\\xb5\\xd1\\x81\\xd0\\xba\\xd0\\xbe\\xd0\\xb9 \\xd1\\x81\\xd0\\xb8\\xd1\\x82\\xd1\\x83\\xd0\\xb0\\xd1\\x86\\xd0\\xb8\\xd0\\xb8 \\xd0\\xbd\\xd0\\xb0 \\xd0\\xa3\\xd0\\xba\\xd1\\x80\\xd0\\xb0\\xd0\\xb8\\xd0\\xbd\\xd0\\xb5\" target=\"_blank\" class=\"home-link list__item-content list__item-content_with-icon home-link_black_yes\" href=\"https://yandex.ru/news/story/Peskov_zayavil_ob_ukhudshenii_ehkonomicheskoj_situacii_na_Ukraine--bb6f7cb54fb345aa2ac692346474d931?fan=1&from=main_portal&lang=ru&lr=43&mlid=1613829640_exp6.glob_225.bb6f7cb5&msid=1613830656.44549.97810.5072&persistent_id=132939105&stid=ecsr0_b4_8vGT8Fq15md&t=1613829640&utm_medium=topnews_news&utm_source=morda_desktop\" rel=\"noopener\"><span class=\"news__item-inner \"><div class=\"news__agency-icon news__agency-icon_image_yes\"><object class=\"news__agency-icon-image\" title=\"\\xd0\\x98\\xd0\\xb7\\xd0\\xb2\\xd0\\xb5\\xd1\\x81\\xd1\\x82\\xd0\\xb8\\xd1\\x8f\" data=\"https://avatars.mds.yandex.net/get-ynews-logo/50744/1013-1496416510291-square/logo-square\" type=\"image/png\"><div class=\"news__agency-icon-image-empty\"></div></object></div><span class=\"news__item-content \">\\xd0\\x9f\\xd0\\xb5\\xd1\\x81\\xd0\\xba\\xd0\\xbe\\xd0\\xb2 \\xd0\\xb7\\xd0\\xb0\\xd1\\x8f\\xd0\\xb2\\xd0\\xb8\\xd0\\xbb \\xd0\\xbe\\xd0\\xb1 \\xd1\\x83\\xd1\\x85\\xd1\\x83\\xd0\\xb4\\xd1\\x88\\xd0\\xb5\\xd0\\xbd\\xd0\\xb8\\xd0\\xb8 \\xd1\\x8d\\xd0\\xba\\xd0\\xbe\\xd0\\xbd\\xd0\\xbe\\xd0\\xbc\\xd0\\xb8\\xd1\\x87\\xd0\\xb5\\xd1\\x81\\xd0\\xba\\xd0\\xbe\\xd0\\xb9 \\xd1\\x81\\xd0\\xb8\\xd1\\x82\\xd1\\x83\\xd0\\xb0\\xd1\\x86\\xd0\\xb8\\xd0\\xb8 \\xd0\\xbd\\xd0\\xb0 \\xd0\\xa3\\xd0\\xba\\xd1\\x80\\xd0\\xb0\\xd0\\xb8\\xd0\\xbd\\xd0\\xb5</span></span></a></li></ol><ol class=\"list news__list news__animation-list\"><li class=\"list__item list__item_fade_in list__item_icon news__animated-item\"  value=\"5\"><a aria-label=\"\\xd0\\x92 \\xd0\\xa0\\xd0\\xbe\\xd1\\x81\\xd1\\x81\\xd0\\xb8\\xd0\\xb8 \\xd0\\xb7\\xd0\\xb0\\xd1\\x80\\xd0\\xb5\\xd0\\xb3\\xd0\\xb8\\xd1\\x81\\xd1\\x82\\xd1\\x80\\xd0\\xb8\\xd1\\x80\\xd0\\xbe\\xd0\\xb2\\xd0\\xb0\\xd0\\xbd\\xd0\\xb0 \\xd1\\x82\\xd1\\x80\\xd0\\xb5\\xd1\\x82\\xd1\\x8c\\xd1\\x8f \\xd0\\xb2\\xd0\\xb0\\xd0\\xba\\xd1\\x86\\xd0\\xb8\\xd0\\xbd\\xd0\\xb0 \\xd0\\xbe\\xd1\\x82 COVID-19\" target=\"_blank\" class=\"home-link list__item-content list__item-content_with-icon home-link_black_yes\" href=\"https://yandex.ru/news/story/V_Rossii_zaregistrirovana_tretya_vakcina_ot_COVID-19--97beb1ff9c0b92516e11e203989be29a?fan=1&from=main_portal&lang=ru&lr=43&mlid=1613829640_exp6.glob_225.97beb1ff&msid=1613830656.44549.97810.5072&persistent_id=130856077&stid=NYXDorKmPH86z0huntxn&t=1613829640&utm_medium=topnews_news&utm_source=morda_desktop\" rel=\"noopener\"><span class=\"news__item-inner \"><div class=\"news__agency-icon news__agency-icon_image_yes\"><object class=\"news__agency-icon-image\" title=\"\\xd0\\x9a\\xd0\\xbe\\xd0\\xbc\\xd0\\xbc\\xd0\\xb5\\xd1\\x80\\xd1\\x81\\xd0\\xb0\\xd0\\xbd\\xd1\\x82\\xd1\\x8a\" data=\"https://avatars.mds.yandex.net/get-ynews-logo/26056/1048-1478692902313-square/logo-square\" type=\"image/png\"><div class=\"news__agency-icon-image-empty\"></div></object></div><span class=\"news__item-content \">\\xd0\\x92 \\xd0\\xa0\\xd0\\xbe\\xd1\\x81\\xd1\\x81\\xd0\\xb8\\xd0\\xb8 \\xd0\\xb7\\xd0\\xb0\\xd1\\x80\\xd0\\xb5\\xd0\\xb3\\xd0\\xb8\\xd1\\x81\\xd1\\x82\\xd1\\x80\\xd0\\xb8\\xd1\\x80\\xd0\\xbe\\xd0\\xb2\\xd0\\xb0\\xd0\\xbd\\xd0\\xb0 \\xd1\\x82\\xd1\\x80\\xd0\\xb5\\xd1\\x82\\xd1\\x8c\\xd1\\x8f \\xd0\\xb2\\xd0\\xb0\\xd0\\xba\\xd1\\x86\\xd0\\xb8\\xd0\\xbd\\xd0\\xb0 \\xd0\\xbe\\xd1\\x82 COVID-19</span></span></a></li><li class=\"list__item  list__item_icon news__animated-item\"  value=\"6\"><a aria-label=\"\\xd0\\xa1\\xd0\\xb1\\xd0\\xbe\\xd1\\x80\\xd0\\xbd\\xd0\\xb0\\xd1\\x8f \\xd0\\x9d\\xd0\\xbe\\xd1\\x80\\xd0\\xb2\\xd0\\xb5\\xd0\\xb3\\xd0\\xb8\\xd0\\xb8 \\xd0\\xbf\\xd0\\xbe\\xd0\\xb1\\xd0\\xb5\\xd0\\xb4\\xd0\\xb8\\xd0\\xbb\\xd0\\xb0 \\xd0\\xb2 \\xd0\\xb6\\xd0\\xb5\\xd0\\xbd\\xd1\\x81\\xd0\\xba\\xd0\\xbe\\xd0\\xb9 \\xd1\\x8d\\xd1\\x81\\xd1\\x82\\xd0\\xb0\\xd1\\x84\\xd0\\xb5\\xd1\\x82\\xd0\\xb5 \\xd0\\xbd\\xd0\\xb0 \\xd0\\xa7\\xd0\\x9c \\xd0\\xbf\\xd0\\xbe \\xd0\\xb1\\xd0\\xb8\\xd0\\xb0\\xd1\\x82\\xd0\\xbb\\xd0\\xbe\\xd0\\xbd\\xd1\\x83, \\xd0\\xa0\\xd0\\xbe\\xd1\\x81\\xd1\\x81\\xd0\\xb8\\xd1\\x8f \\xe2\\x80\\x94 11-\\xd1\\x8f\" target=\"_blank\" class=\"home-link list__item-content list__item-content_with-icon home-link_black_yes\" href=\"https://yandex.ru/sport/story/Sbornaya_Norvegii_pobedila_v_zhenskoj_ehstafete_na_CHM_po_biatlonu_Rossiya__11-ya--b2dc0b069b27648294639c1231e7199d?fan=1&from=main_portal&lang=ru&lr=43&mlid=1613829640_exp6.glob_225.b2dc0b06&msid=1613830656.44549.97810.5072&persistent_id=132935044&stid=mVGCZFI3GzgjgVzUld13&t=1613829640&utm_medium=topnews_news&utm_source=morda_desktop\" rel=\"noopener\"><span class=\"news__item-inner \"><div class=\"news__agency-icon news__agency-icon_image_yes\"><object class=\"news__agency-icon-image\" title=\"RT \\xd0\\xbd\\xd0\\xb0 \\xd1\\x80\\xd1\\x83\\xd1\\x81\\xd1\\x81\\xd0\\xba\\xd0\\xbe\\xd0\\xbc\" data=\"https://avatars.mds.yandex.net/get-ynews-logo/28627/254083361-1516267195536-square/logo-square\" type=\"image/png\"><div class=\"news__agency-icon-image-empty\"></div></object></div><span class=\"news__item-content \">\\xd0\\xa1\\xd0\\xb1\\xd0\\xbe\\xd1\\x80\\xd0\\xbd\\xd0\\xb0\\xd1\\x8f \\xd0\\x9d\\xd0\\xbe\\xd1\\x80\\xd0\\xb2\\xd0\\xb5\\xd0\\xb3\\xd0\\xb8\\xd0\\xb8 \\xd0\\xbf\\xd0\\xbe\\xd0\\xb1\\xd0\\xb5\\xd0\\xb4\\xd0\\xb8\\xd0\\xbb\\xd0\\xb0 \\xd0\\xb2 \\xd0\\xb6\\xd0\\xb5\\xd0\\xbd\\xd1\\x81\\xd0\\xba\\xd0\\xbe\\xd0\\xb9 \\xd1\\x8d\\xd1\\x81\\xd1\\x82\\xd0\\xb0\\xd1\\x84\\xd0\\xb5\\xd1\\x82\\xd0\\xb5 \\xd0\\xbd\\xd0\\xb0 \\xd0\\xa7\\xd0\\x9c \\xd0\\xbf\\xd0\\xbe \\xd0\\xb1\\xd0\\xb8\\xd0\\xb0\\xd1\\x82\\xd0\\xbb\\xd0\\xbe\\xd0\\xbd\\xd1\\x83, \\xd0\\xa0\\xd0\\xbe\\xd1\\x81\\xd1\\x81\\xd0\\xb8\\xd1\\x8f \\xe2\\x80\\x94 11-\\xd1\\x8f</span></span></a></li><li class=\"list__item  list__item_icon news__animated-item\"  value=\"7\"><a aria-label=\"\\xd0\\x90\\xd0\\xba\\xd1\\x86\\xd0\\xb8\\xd0\\xb8 \\xc2\\xab\\xd0\\x9d\\xd0\\xbe\\xd1\\x80\\xd0\\xbd\\xd0\\xb8\\xd0\\xba\\xd0\\xb5\\xd0\\xbb\\xd1\\x8f\\xc2\\xbb \\xd1\\x83\\xd0\\xbf\\xd0\\xb0\\xd0\\xbb\\xd0\\xb8 \\xd0\\xbf\\xd0\\xbe\\xd1\\x81\\xd0\\xbb\\xd0\\xb5 \\xd0\\xb0\\xd0\\xb2\\xd0\\xb0\\xd1\\x80\\xd0\\xb8\\xd0\\xb8 \\xd0\\xbd\\xd0\\xb0 \\xd1\\x84\\xd0\\xb0\\xd0\\xb1\\xd1\\x80\\xd0\\xb8\\xd0\\xba\\xd0\\xb5\" target=\"_blank\" class=\"home-link list__item-content list__item-content_with-icon home-link_black_yes\" href=\"https://yandex.ru/news/story/Akcii_Nornikelya_upali_posle_avarii_na_fabrike--e8532c5459b6fdfc90c60f90eeea8087?fan=1&from=main_portal&lang=ru&lr=43&mlid=1613829640_exp6.glob_225.e8532c54&msid=1613830656.44549.97810.5072&persistent_id=132934693&stid=SuN1rSzrN2T0u_foO41a&t=1613829640&utm_medium=topnews_news&utm_source=morda_desktop\" rel=\"noopener\"><span class=\"news__item-inner \"><div class=\"news__agency-icon news__agency-icon_image_yes\"><object class=\"news__agency-icon-image\" title=\"\\xd0\\xa0\\xd0\\xbe\\xd1\\x81\\xd1\\x81\\xd0\\xb8\\xd0\\xb9\\xd1\\x81\\xd0\\xba\\xd0\\xb0\\xd1\\x8f \\xd0\\xb3\\xd0\\xb0\\xd0\\xb7\\xd0\\xb5\\xd1\\x82\\xd0\\xb0\" data=\"https://avatars.mds.yandex.net/get-ynews-logo/26056/1116-1478692904205-square/logo-square\" type=\"image/png\"><div class=\"news__agency-icon-image-empty\"></div></object></div><span class=\"news__item-content \">\\xd0\\x90\\xd0\\xba\\xd1\\x86\\xd0\\xb8\\xd0\\xb8 \\xc2\\xab\\xd0\\x9d\\xd0\\xbe\\xd1\\x80\\xd0\\xbd\\xd0\\xb8\\xd0\\xba\\xd0\\xb5\\xd0\\xbb\\xd1\\x8f\\xc2\\xbb \\xd1\\x83\\xd0\\xbf\\xd0\\xb0\\xd0\\xbb\\xd0\\xb8 \\xd0\\xbf\\xd0\\xbe\\xd1\\x81\\xd0\\xbb\\xd0\\xb5 \\xd0\\xb0\\xd0\\xb2\\xd0\\xb0\\xd1\\x80\\xd0\\xb8\\xd0\\xb8 \\xd0\\xbd\\xd0\\xb0 \\xd1\\x84\\xd0\\xb0\\xd0\\xb1\\xd1\\x80\\xd0\\xb8\\xd0\\xba\\xd0\\xb5</span></span></a></li><li class=\"list__item  list__item_icon news__animated-item\"  value=\"8\"><a aria-label=\"\\xd0\\x9f\\xd0\\xb5\\xd1\\x81\\xd0\\xba\\xd0\\xbe\\xd0\\xb2 \\xd0\\xbf\\xd1\\x80\\xd0\\xbe\\xd0\\xba\\xd0\\xbe\\xd0\\xbc\\xd0\\xbc\\xd0\\xb5\\xd0\\xbd\\xd1\\x82\\xd0\\xb8\\xd1\\x80\\xd0\\xbe\\xd0\\xb2\\xd0\\xb0\\xd0\\xbb \\xd0\\xb4\\xd0\\xb5\\xd0\\xb9\\xd1\\x81\\xd1\\x82\\xd0\\xb2\\xd0\\xb8\\xd1\\x8f \\xd0\\xbf\\xd0\\xbe\\xd0\\xbb\\xd0\\xb8\\xd1\\x86\\xd0\\xb8\\xd0\\xb8 \\xd1\\x83 \\xd0\\xbc\\xd0\\xb5\\xd0\\xbc\\xd0\\xbe\\xd1\\x80\\xd0\\xb8\\xd0\\xb0\\xd0\\xbb\\xd0\\xb0 \\xd0\\x9d\\xd0\\xb5\\xd0\\xbc\\xd1\\x86\\xd0\\xbe\\xd0\\xb2\\xd0\\xb0\" target=\"_blank\" class=\"home-link list__item-content list__item-content_with-icon home-link_black_yes\" href=\"https://yandex.ru/news/story/Peskov_prokommentiroval_dejstviya_policii_u_memoriala_Nemcova--0ab6f9995e92250ce5e5bf47a47b7a7c?fan=1&from=main_portal&lang=ru&lr=43&mlid=1613829640_exp6.glob_225.0ab6f999&msid=1613830656.44549.97810.5072&persistent_id=132882042&stid=WzYIkjUr1i7GEciMfGh_&t=1613829640&utm_medium=topnews_news&utm_source=morda_desktop\" rel=\"noopener\"><span class=\"news__item-inner \"><div class=\"news__agency-icon news__agency-icon_image_yes\"><object class=\"news__agency-icon-image\" title=\"\\xd0\\xa0\\xd0\\x98\\xd0\\x90 \\xd0\\x9d\\xd0\\xbe\\xd0\\xb2\\xd0\\xbe\\xd1\\x81\\xd1\\x82\\xd0\\xb8\" data=\"https://avatars.mds.yandex.net/get-ynews-logo/135513/1002-1544074003449-square/logo-square\" type=\"image/png\"><div class=\"news__agency-icon-image-empty\"></div></object></div><span class=\"news__item-content \">\\xd0\\x9f\\xd0\\xb5\\xd1\\x81\\xd0\\xba\\xd0\\xbe\\xd0\\xb2 \\xd0\\xbf\\xd1\\x80\\xd0\\xbe\\xd0\\xba\\xd0\\xbe\\xd0\\xbc\\xd0\\xbc\\xd0\\xb5\\xd0\\xbd\\xd1\\x82\\xd0\\xb8\\xd1\\x80\\xd0\\xbe\\xd0\\xb2\\xd0\\xb0\\xd0\\xbb \\xd0\\xb4\\xd0\\xb5\\xd0\\xb9\\xd1\\x81\\xd1\\x82\\xd0\\xb2\\xd0\\xb8\\xd1\\x8f \\xd0\\xbf\\xd0\\xbe\\xd0\\xbb\\xd0\\xb8\\xd1\\x86\\xd0\\xb8\\xd0\\xb8 \\xd1\\x83 \\xd0\\xbc\\xd0\\xb5\\xd0\\xbc\\xd0\\xbe\\xd1\\x80\\xd0\\xb8\\xd0\\xb0\\xd0\\xbb\\xd0\\xb0 \\xd0\\x9d\\xd0\\xb5\\xd0\\xbc\\xd1\\x86\\xd0\\xbe\\xd0\\xb2\\xd0\\xb0</span></span></a></li><li class=\"list__item  list__item_icon news__animated-item\"  value=\"9\"><a aria-label=\"\\xd0\\x9c\\xd0\\xb8\\xd0\\xbd\\xd0\\xbe\\xd0\\xb1\\xd0\\xbe\\xd1\\x80\\xd0\\xbe\\xd0\\xbd\\xd1\\x8b \\xd0\\xb7\\xd0\\xb0\\xd0\\xba\\xd0\\xbb\\xd1\\x8e\\xd1\\x87\\xd0\\xb8\\xd0\\xbb\\xd0\\xbe \\xd0\\xba\\xd0\\xbe\\xd0\\xbd\\xd1\\x82\\xd1\\x80\\xd0\\xb0\\xd0\\xba\\xd1\\x82 \\xd0\\xbd\\xd0\\xb0 \\xd0\\xbf\\xd0\\xbe\\xd1\\x81\\xd1\\x82\\xd0\\xb0\\xd0\\xb2\\xd0\\xba\\xd1\\x83 \\xd1\\x83\\xd0\\xb4\\xd0\\xb0\\xd1\\x80\\xd0\\xbd\\xd1\\x8b\\xd1\\x85 \\xd0\\x91\\xd0\\x9f\\xd0\\x9b\\xd0\\x90 \\xc2\\xab\\xd0\\x90\\xd0\\xbb\\xd1\\x8c\\xd1\\x82\\xd0\\xb8\\xd1\\x83\\xd1\\x81\\xc2\\xbb\" target=\"_blank\" class=\"home-link list__item-content list__item-content_with-icon home-link_black_yes\" href=\"https://yandex.ru/news/story/Minoborony_zaklyuchilo_kontrakt_na_postavku_udarnykh_BPLA_Altius--b8da1556b7e2603f01c67bf604784703?fan=1&from=main_portal&lang=ru&lr=43&mlid=1613829640_exp6.glob_225.b8da1556&msid=1613830656.44549.97810.5072&persistent_id=132930624&stid=tC0vOOSKdQNHAvWosJdZ&t=1613829640&utm_medium=topnews_news&utm_source=morda_desktop\" rel=\"noopener\"><span class=\"news__item-inner \"><div class=\"news__agency-icon news__agency-icon_image_yes\"><object class=\"news__agency-icon-image\" title=\"RT \\xd0\\xbd\\xd0\\xb0 \\xd1\\x80\\xd1\\x83\\xd1\\x81\\xd1\\x81\\xd0\\xba\\xd0\\xbe\\xd0\\xbc\" data=\"https://avatars.mds.yandex.net/get-ynews-logo/28627/254083361-1516267195536-square/logo-square\" type=\"image/png\"><div class=\"news__agency-icon-image-empty\"></div></object></div><span class=\"news__item-content \">\\xd0\\x9c\\xd0\\xb8\\xd0\\xbd\\xd0\\xbe\\xd0\\xb1\\xd0\\xbe\\xd1\\x80\\xd0\\xbe\\xd0\\xbd\\xd1\\x8b \\xd0\\xb7\\xd0\\xb0\\xd0\\xba\\xd0\\xbb\\xd1\\x8e\\xd1\\x87\\xd0\\xb8\\xd0\\xbb\\xd0\\xbe \\xd0\\xba\\xd0\\xbe\\xd0\\xbd\\xd1\\x82\\xd1\\x80\\xd0\\xb0\\xd0\\xba\\xd1\\x82 \\xd0\\xbd\\xd0\\xb0 \\xd0\\xbf\\xd0\\xbe\\xd1\\x81\\xd1\\x82\\xd0\\xb0\\xd0\\xb2\\xd0\\xba\\xd1\\x83 \\xd1\\x83\\xd0\\xb4\\xd0\\xb0\\xd1\\x80\\xd0\\xbd\\xd1\\x8b\\xd1\\x85 \\xd0\\x91\\xd0\\x9f\\xd0\\x9b\\xd0\\x90 \\xc2\\xab\\xd0\\x90\\xd0\\xbb\\xd1\\x8c\\xd1\\x82\\xd0\\xb8\\xd1\\x83\\xd1\\x81\\xc2\\xbb</span></span></a></li><li class=\"list__item  list__item_icon news__animated-item\"  value=\"10\"><a aria-label=\"\\xd0\\x97\\xd0\\xb0\\xd1\\x85\\xd0\\xb0\\xd1\\x80\\xd0\\xbe\\xd0\\xb2\\xd0\\xb0 \\xd0\\xb7\\xd0\\xb0\\xd1\\x8f\\xd0\\xb2\\xd0\\xb8\\xd0\\xbb\\xd0\\xb0 \\xd0\\xbe\\xd0\\xb1 \\xd1\\x83\\xd1\\x82\\xd0\\xb5\\xd1\\x87\\xd0\\xba\\xd0\\xb5 \\xd0\\xb4\\xd0\\xbe\\xd0\\xba\\xd1\\x83\\xd0\\xbc\\xd0\\xb5\\xd0\\xbd\\xd1\\x82\\xd0\\xbe\\xd0\\xb2 \\xd0\\x9c\\xd0\\x98\\xd0\\x94 \\xd0\\x91\\xd1\\x80\\xd0\\xb8\\xd1\\x82\\xd0\\xb0\\xd0\\xbd\\xd0\\xb8\\xd0\\xb8 \\xd0\\xbe \\xd1\\x80\\xd1\\x83\\xd1\\x87\\xd0\\xbd\\xd0\\xbe\\xd0\\xbc \\xd1\\x83\\xd0\\xbf\\xd1\\x80\\xd0\\xb0\\xd0\\xb2\\xd0\\xbb\\xd0\\xb5\\xd0\\xbd\\xd0\\xb8\\xd0\\xb8 \\xd0\\xa1\\xd0\\x9c\\xd0\\x98\" target=\"_blank\" class=\"home-link list__item-content list__item-content_with-icon home-link_black_yes\" href=\"https://yandex.ru/news/story/Zakharova_zayavila_ob_utechke_dokumentov_MID_Britanii_o_ruchnom_upravlenii_SMI--f0dc7ab32c8041ad32d9c19f0f4a958c?fan=1&from=main_portal&lang=ru&lr=43&mlid=1613829640_exp6.glob_225.f0dc7ab3&msid=1613830656.44549.97810.5072&persistent_id=132896085&stid=-lXr_g-KdjU9sR9LnQpb&t=1613829640&utm_medium=topnews_news&utm_source=morda_desktop\" rel=\"noopener\"><span class=\"news__item-inner \"><div class=\"news__agency-icon news__agency-icon_image_yes\"><object class=\"news__agency-icon-image\" title=\"REGNUM\" data=\"https://avatars.mds.yandex.net/get-ynews-logo/28627/1014-1583822440403-square/logo-square\" type=\"image/png\"><div class=\"news__agency-icon-image-empty\"></div></object></div><span class=\"news__item-content \">\\xd0\\x97\\xd0\\xb0\\xd1\\x85\\xd0\\xb0\\xd1\\x80\\xd0\\xbe\\xd0\\xb2\\xd0\\xb0 \\xd0\\xb7\\xd0\\xb0\\xd1\\x8f\\xd0\\xb2\\xd0\\xb8\\xd0\\xbb\\xd0\\xb0 \\xd0\\xbe\\xd0\\xb1 \\xd1\\x83\\xd1\\x82\\xd0\\xb5\\xd1\\x87\\xd0\\xba\\xd0\\xb5 \\xd0\\xb4\\xd0\\xbe\\xd0\\xba\\xd1\\x83\\xd0\\xbc\\xd0\\xb5\\xd0\\xbd\\xd1\\x82\\xd0\\xbe\\xd0\\xb2 \\xd0\\x9c\\xd0\\x98\\xd0\\x94 \\xd0\\x91\\xd1\\x80\\xd0\\xb8\\xd1\\x82\\xd0\\xb0\\xd0\\xbd\\xd0\\xb8\\xd0\\xb8 \\xd0\\xbe \\xd1\\x80\\xd1\\x83\\xd1\\x87\\xd0\\xbd\\xd0\\xbe\\xd0\\xbc \\xd1\\x83\\xd0\\xbf\\xd1\\x80\\xd0\\xb0\\xd0\\xb2\\xd0\\xbb\\xd0\\xb5\\xd0\\xbd\\xd0\\xb8\\xd0\\xb8 \\xd0\\xa1\\xd0\\x9c\\xd0\\x98</span></span></a></li><span aria-hidden=\"true\">&nbsp;</span></ol></div></div></div><div class=\"widget__collapsed news__collapsed\"><h1><a class=\"home-link home-link_blue_yes\" href=\"https://yandex.ru/news/?lang=ru&msid=1613830656.44549.97810.5072&mlid=1613829640_exp6\" target=\"_blank\" rel=\"noopener\">\\xd0\\xa1\\xd0\\xb5\\xd0\\xb9\\xd1\\x87\\xd0\\xb0\\xd1\\x81 \\xd0\\xb2 \\xd0\\xa1\\xd0\\x9c\\xd0\\x98</a></h1><div class=\"widget__collapsed-text\">\\xd0\\x90\\xd0\\xba\\xd1\\x82\\xd1\\x83\\xd0\\xb0\\xd0\\xbb\\xd1\\x8c\\xd0\\xbd\\xd1\\x8b\\xd0\\xb5 \\xd0\\xbd\\xd0\\xbe\\xd0\\xb2\\xd0\\xbe\\xd1\\x81\\xd1\\x82\\xd0\\xb8 \\xd0\\xb8 \\xd1\\x81\\xd0\\xbe\\xd0\\xb1\\xd1\\x8b\\xd1\\x82\\xd0\\xb8\\xd1\\x8f \\xd0\\xb4\\xd0\\xbd\\xd1\\x8f</div></div><div class=\"news__inline-stocks news__inline-stocks_hidden_no\"><div class=\"inline-stocks i-bem inline-stocks_new_yes\"  aria-label=\"\\xd0\\x9a\\xd0\\xbe\\xd1\\x82\\xd0\\xb8\\xd1\\x80\\xd0\\xbe\\xd0\\xb2\\xd0\\xba\\xd0\\xb8\" role=\"complementary\" data-bem=\"{&quot;inline-stocks&quot;:{&quot;stocksUrl&quot;:&quot;/data/combined/?w=_stocks-1&amp;bll=stocks&amp;sens=1&quot;,&quot;editShow&quot;:1}}\"><div class=\"inline-stocks__content text_black_yes\"><style>.inline-stocks__nscale {display: none}</style><div class=\"b-inline inline-stocks__item inline-stocks__item_id_2002 hint__item inline-stocks__part\" data-precision=\"2\"><a class=\"home-link home-link_black_yes inline-stocks__link\" href=\"https://yandex.ru/news/quotes/2002.html\" target=\"_blank\" rel=\"noopener\">USD</a><span class=\"inline-stocks__value\"><span class=\"inline-stocks__text\"><span class=\"inline-stocks__item__baloon b-inline\"><i class=\"inline-stocks__item__baloon__tail\"></i><span class=\"inline-stocks__item__baloon_inner\">\\xd0\\xba\\xd1\\x83\\xd1\\x80\\xd1\\x81 MOEX \\xd0\\xbd\\xd0\\xb0 20/02</span></span></span><span class=\"inline-stocks__value_inner\">74,07</span></span><td><span class=\"inline-stocks__cell inline-stocks__cell_type_delta inline-stocks__cell_change_small\" title=\"\" aria-hidden=\"true\">\\xe2\\x88\\x920,05</span><span class=\"a11y-hidden\">-0,05</span></td></div><div class=\"b-inline inline-stocks__item inline-stocks__item_id_2000 hint__item inline-stocks__part\" data-precision=\"2\"><a class=\"home-link home-link_black_yes inline-stocks__link\" href=\"https://yandex.ru/news/quotes/2000.html\" target=\"_blank\" rel=\"noopener\">EUR</a><span class=\"inline-stocks__value\"><span class=\"inline-stocks__text\"><span class=\"inline-stocks__item__baloon b-inline\"><i class=\"inline-stocks__item__baloon__tail\"></i><span class=\"inline-stocks__item__baloon_inner\">\\xd0\\xba\\xd1\\x83\\xd1\\x80\\xd1\\x81 MOEX \\xd0\\xbd\\xd0\\xb0 20/02</span></span></span><span class=\"inline-stocks__value_inner\">89,86</span></span><td><span class=\"inline-stocks__cell inline-stocks__cell_type_delta inline-stocks__cell_change_small\" title=\"\" aria-hidden=\"true\">+0,03</span><span class=\"a11y-hidden\">+0,03</span></td></div><div class=\"b-inline inline-stocks__nowrap inline-stocks__part\"><div class=\"b-inline inline-stocks__item inline-stocks__item_id_1006 hint__item\" data-precision=\"2\"><a class=\"home-link home-link_black_yes inline-stocks__link\" href=\"https://yandex.ru/news/quotes/1006.html\" target=\"_blank\" rel=\"noopener\">\\xd0\\x9d\\xd0\\xb5\\xd1\\x84\\xd1\\x82\\xd1\\x8c</a><span class=\"inline-stocks__value\"><span class=\"inline-stocks__text\"><span class=\"inline-stocks__item__baloon b-inline\"><i class=\"inline-stocks__item__baloon__tail\"></i><span class=\"inline-stocks__item__baloon_inner\">\\xd1\\x86\\xd0\\xb5\\xd0\\xbd\\xd0\\xb0 \\xd0\\xbd\\xd0\\xb0 20/02</span></span></span><span class=\"inline-stocks__value_inner\">62,71</span></span><td><span class=\"inline-stocks__cell inline-stocks__cell_type_delta inline-stocks__cell_change_small\" title=\"\" aria-hidden=\"true\">\\xe2\\x88\\x920,18<span class=\"inline-stocks__cell-delta-prc\">%</span></span><span class=\"a11y-hidden\">-0,18%</span></td></div><span title=\"\\xd0\\xb5\\xd1\\x89\\xd1\\x91\" tabindex=\"0\" aria-haspopup=\"true\" aria-expanded=\"false\" role=\"button\" class=\"home-link inline-stocks__more home-link_pseudo_yes\"><span class=\" inline-stocks__more-icon\"></span></span></div><div class=\"inline-stocks__popup\"><h1 class=\"inline-stocks__title\">\\xd0\\x9a\\xd0\\xbe\\xd1\\x82\\xd0\\xb8\\xd1\\x80\\xd0\\xbe\\xd0\\xb2\\xd0\\xba\\xd0\\xb8</h1><div class=\"inline-stocks__tables\"></div><div class=\"inline-stocks__error\">\\xd0\\x94\\xd0\\xb0\\xd0\\xbd\\xd0\\xbd\\xd1\\x8b\\xd0\\xb5 \\xd0\\xbd\\xd0\\xb5\\xd0\\xb4\\xd0\\xbe\\xd1\\x81\\xd1\\x82\\xd1\\x83\\xd0\\xbf\\xd0\\xbd\\xd1\\x8b</div><div class=\"inline-stocks__loader\"><div class=\"spin2 spin2_view_default spin2_tone_default spin2_size_l spin2_progress_yes\"></div></div></div></div></div></div></div></div></div></div><div class=\"col col_td_1 widgets__col widgets__col_td_2\"><div class=\"i-bem widget widget_mode_plain widget_id_teaser-1 widget_name_teaser widgets__item b-widget-fixed\" data-bem=\"{&quot;widget&quot;:{&quot;id&quot;:&quot;_teaser-1&quot;,&quot;showPrefs&quot;:true}}\" id=\"wd-wrapper-_teaser-1\"><div id=\"wd-_teaser-1\" class=\"b-widget-data b-wrapper b-wrapper-\"><div class=\"teaser teaser_source_yabs i-bem\" role=\"complementary\" aria-label=\"\\xd0\\xa0\\xd0\\xb5\\xd0\\xba\\xd0\\xbb\\xd0\\xb0\\xd0\\xbc\\xd0\\xb0\" data-bem=\"{&quot;teaser&quot;:{}}\"><div class=\"teaser__content\"><a target=\"_blank\" rel=\"noopener\" tabindex=\"-1\" class=\"home-link teaser__link\" href=\"https://yabs.yandex.ru/count/WW4ejI_zOAu1lGy0r1b5IFHZbJbKmmK0hW8GWX0n01enO000000useqKG0H846344d2-_fU7ZYM00GcG0TgIywaucBW1llwNXxAYZ27e0QW2y0A-meRx0v03yCE0Rxe3-0I_oge1Y0M_oge1a0M_oge1m0MCwLTMg0PMoGO00YcpbwrJN5y_aU0fW63k2R07W82OBBW7xWc0WS20W8A00VW8dF_BWySIW0e1mGedy7H2_XF_FyaAkBvMwvPcu3-g2n1UyFutFv400Dgf0Jl5k-WBlygg0V0B1QaCJAbvjKuhnx_e39D0W8IacVkowwbSe0x0X3s049cHni2Y4FWGw___0O0Hwk0IWO0Oy1BW4x_AgW6W5B_AgW6e5B_AgW7G5AJ0vZtO5EZOy_a5w1IC0j0LwDZp-GNO5S6AzkoZZxpyO_2G5dYW5j3ai846oHQ15wWN2S0Nj0BO5y24FR0Owex4WGRG607u6ENupDJgiDtuiG606P0P0Q0PLh0Pk1d__m7I6H9vOM9pNtDbSdPbSYzoDJ0pBJFe6O320_0PWC83WHh__ri8e_8JC1m0EyiOPWjd5ifh4Vmq99dB1kW0seUjje4R3e0BgZmZW5_7W9PHD8YXgFUnYl4g3Eu8MC6y1Y36dGO2OAAT3afjrnV05PoYOr211kW-5jGfb-n73rWQoXu0~1\"><img class=\"image teaser__image\" srcset=\"https://avatars.mds.yandex.net/get-banana/49904/x25D4DnHAgl3F7MB9_nqw75GP_banana_20161021_240_09_yellow.png/orig 1.25x\" src=\"https://avatars.mds.yandex.net/get-banana/41024/x25nGXuHeuyrdF0HP2LeXFSC_banana_20161021_120_09_yellow.png/orig\" alt=\"\\xd0\\xaf\\xd0\\xbd\\xd0\\xb4\\xd0\\xb5\\xd0\\xba\\xd1\\x81 Go\" width=\"120\" height=\"90\"/></a><h1 class=\"teaser__title\"><a target=\"_blank\" rel=\"noopener\" class=\"home-link home-link_blue_yes teaser__link\" href=\"https://yabs.yandex.ru/count/WW4ejI_zOAu1lGy0r1b5IFHZbJbKmmK0hW8GWX0n01enO000000useqKG0H846344d2-_fU7ZYM00GcG0TgIywaucBW1llwNXxAYZ27e0QW2y0A-meRx0v03yCE0Rxe3-0I_oge1Y0M_oge1a0M_oge1m0MCwLTMg0PMoGO00YcpbwrJN5y_aU0fW63k2R07W82OBBW7xWc0WS20W8A00VW8dF_BWySIW0e1mGedy7H2_XF_FyaAkBvMwvPcu3-g2n1UyFutFv400Dgf0Jl5k-WBlygg0V0B1QaCJAbvjKuhnx_e39D0W8IacVkowwbSe0x0X3s049cHni2Y4FWGw___0O0Hwk0IWO0Oy1BW4x_AgW6W5B_AgW6e5B_AgW7G5AJ0vZtO5EZOy_a5w1IC0j0LwDZp-GNO5S6AzkoZZxpyO_2G5dYW5j3ai846oHQ15wWN2S0Nj0BO5y24FR0Owex4WGRG607u6ENupDJgiDtuiG606P0P0Q0PLh0Pk1d__m7I6H9vOM9pNtDbSdPbSYzoDJ0pBJFe6O320_0PWC83WHh__ri8e_8JC1m0EyiOPWjd5ifh4Vmq99dB1kW0seUjje4R3e0BgZmZW5_7W9PHD8YXgFUnYl4g3Eu8MC6y1Y36dGO2OAAT3afjrnV05PoYOr211kW-5jGfb-n73rWQoXu0~1\"><span class=\"teaser__nowrap\">\\xd0\\xaf\\xd0\\xbd\\xd0\\xb4\\xd0\\xb5\\xd0\\xba\\xd1\\x81 Go</span></a></h1><div class=\"teaser__description\"><span class=\"teaser__nowrap\">\\xd0\\x9f\\xd1\\x80\\xd0\\xb8\\xd0\\xbb\\xd0\\xbe\\xd0\\xb6\\xd0\\xb5\\xd0\\xbd\\xd0\\xb8\\xd0\\xb5</span><br><span class=\"teaser__nowrap\">\\xd0\\xb4\\xd0\\xbb\\xd1\\x8f \\xd0\\xb7\\xd0\\xb0\\xd0\\xba\\xd0\\xb0\\xd0\\xb7\\xd0\\xb0 \\xd0\\xb5\\xd0\\xb4\\xd1\\x8b<span class=\"teaser__age \">0+</span></span></div></div></div></div></div></div></div></div><div class=\"container container__services container__line\"><nav class=\"services-new services-new i-bem services-new_position_before-arrow services-new_more_yes\"  data-bem=\"{&quot;services-new&quot;:{}}\" aria-label=\"\\xd0\\xa1\\xd0\\xb5\\xd1\\x80\\xd0\\xb2\\xd0\\xb8\\xd1\\x81\\xd1\\x8b\"><div class=\"services-new__content\"><div class=\"services-new__more-popup-anchor\"></div><ul class=\"services-new__list\"><script>!function(){try{window.localStorage.getItem(\"home:servicesNewPromoShowed.obyavleniya\")||(window.localStorage.setItem(\"home:servicesNewPromoShowed.obyavleniya\",\"1\"),document.querySelector(\".services-new\").classList.add(\"services-new_promo-animation_yes\"))}catch(e){}}();</script><div  class=\"services-new__promo-bubble services-new__promo-bubble_visible_yes\" data-counter=\"services_new.promo_popup.obyavleniya\"><style>.services-new__promo-bubble-line:before, .services-new__promo-bubble-circle { background-color: #D9F7F2}</style><div class=\\'services-new__promo-bubble-lines\\'><div class=\"services-new__promo-bubble-line\"><span class=\" \">\\xd0\\xa0\\xd0\\xb0\\xd0\\xb7\\xd0\\xbc\\xd0\\xb5\\xd1\\x89\\xd0\\xb0\\xd0\\xb9\\xd1\\x82\\xd0\\xb5 </span></div><div class=\"services-new__promo-bubble-line\"><span class=\" \">\\xd0\\xb1\\xd0\\xb5\\xd1\\x81\\xd0\\xbf\\xd0\\xbb\\xd0\\xb0\\xd1\\x82\\xd0\\xbd\\xd0\\xbe</span></div></div><div class=\\'services-new__promo-bubble-circle services-new__promo-bubble-circle_1\\'></div><div class=\\'services-new__promo-bubble-circle services-new__promo-bubble-circle_2\\'></div><div class=\\'services-new__promo-bubble-circle services-new__promo-bubble-circle_3\\'></div></div><li class=\"services-new__list-item\"><a data-show-url=\"https://yabs.yandex.ru/count/WFOejI_zO4u0PGS0L0j5IFHZDdZ4J0K0JW4GWX0n01enO000000useqKy0A-meRx0_050Q06Lia6008fivUjKrnVFv7WAO1WxWcg2n1UyFutFv400Dgf0Jl5k_0B1U0DWe20G9WEW8IacVkowwbS-13h__y1W17gg170X3tm4jWLmOhsxAEFlFnZyCaMy3-15wWN2PaOq1W1-1Y06R0Pk1d__m7I6H9vOM9pNtDbSdPbSYzoDJ0pBJFe6O320_0PWC834W1tP7mo1OE2koeQ9j4jX1mI0xjiMJGXTc3KjXDp0QrHEjOOrWk3LRHprege7WQNZJbq67i0~1=WGeejI_zO4m01GW0H0r6hp0iJ0503aW2ODmCSChKYDJD8P01mjJqgJYOk07Ar8ZK3TW1gf-M3-W1Z0AG0_33W6-W0nom0mAe1bQm1u20c2ou1xm8q0S2yGS00AMgXEhc4CdW2e29UjaBFv7WAO1WxWde39EW3i24FTc04DMFomV840Ye4S24FTWIXu0Oc1C1w1IC0jWLmOhsxAEFlFnZe1RGvB211e4Nc1SPm1Uq0h0Owex4WGRu6ENupDJgiDtuiG606P0P0Q0PLhWP_m7e6O320_0PWC83WHh__qSQrF_-90q0E7B8MXoIG9x_mg41PxdNTDEqv510cKBCauy21WmEXaic-FXh53IKF000~1\" class=\"home-link services-new__item services-new__promo services-new__promo_mix-icon home-link_black_yes\" href=\"https://o.yandex.ru/?utm_source=main_stripe_big_popup\" target=\"_blank\" rel=\"noopener\"><div class=\"services-new__icon services-new__promo-icon-default\" style=\"background-image:url(//yastatic.net/s3/home/services/block/adv.svg)\"></div><div class=\"services-new__icon services-new__promo-icon\" style=\"background-image:url(//yastatic.net/s3/home/services/block/adv_promo.svg)\"></div><div class=\"services-new__item-title\">\\xd0\\x9e\\xd0\\xb1\\xd1\\x8a\\xd1\\x8f\\xd0\\xb2\\xd0\\xbb\\xd0\\xb5\\xd0\\xbd\\xd0\\xb8\\xd1\\x8f</div></a></li><li class=\"services-new__list-item\"><a data-id=\"market\" class=\"home-link services-new__item services-new__item_search_yes home-link_black_yes\" href=\"https://market.yandex.ru/?clid=505&utm_source=main_stripe_big\" target=\"_blank\" rel=\"noopener\"><div class=\"services-new__icon\" style=\"background-image:url(//yastatic.net/s3/home/services/block/market_4.svg)\"></div><div class=\"services-new__item-title\">\\xd0\\x9c\\xd0\\xb0\\xd1\\x80\\xd0\\xba\\xd0\\xb5\\xd1\\x82</div></a></li><li class=\"services-new__list-item\"><a data-id=\"video\" class=\"home-link services-new__item services-new__item_search_yes home-link_black_yes\" href=\"https://yandex.ru/video/?utm_source=main_stripe_big\" target=\"_blank\" rel=\"noopener\"><div class=\"services-new__icon\" style=\"background-image:url(//yastatic.net/s3/home/services/block/video.svg)\"></div><div class=\"services-new__item-title\">\\xd0\\x92\\xd0\\xb8\\xd0\\xb4\\xd0\\xb5\\xd0\\xbe</div></a></li><li class=\"services-new__list-item\"><a data-id=\"images\" class=\"home-link services-new__item services-new__item_search_yes home-link_black_yes\" href=\"https://yandex.ru/images/?utm_source=main_stripe_big\" target=\"_blank\" rel=\"noopener\"><div class=\"services-new__icon\" style=\"background-image:url(//yastatic.net/s3/home/services/block/kartinki.svg)\"></div><div class=\"services-new__item-title\">\\xd0\\x9a\\xd0\\xb0\\xd1\\x80\\xd1\\x82\\xd0\\xb8\\xd0\\xbd\\xd0\\xba\\xd0\\xb8</div></a></li><li class=\"services-new__list-item\"><a data-id=\"news\" class=\"home-link services-new__item services-new__item_search_yes home-link_black_yes\" href=\"https://yandex.ru/news/?utm_source=main_stripe_big\" target=\"_blank\" rel=\"noopener\"><div class=\"services-new__icon\" style=\"background-image:url(//yastatic.net/s3/home/services/block/news.svg)\"></div><div class=\"services-new__item-title\">\\xd0\\x9d\\xd0\\xbe\\xd0\\xb2\\xd0\\xbe\\xd1\\x81\\xd1\\x82\\xd0\\xb8</div></a></li><li class=\"services-new__list-item\"><a data-id=\"maps\" class=\"home-link services-new__item services-new__item_search_yes home-link_black_yes\" href=\"https://yandex.ru/maps/?utm_source=main_stripe_big\" target=\"_blank\" rel=\"noopener\"><div class=\"services-new__icon\" style=\"background-image:url(//yastatic.net/s3/home/services/block/maps.svg)\"></div><div class=\"services-new__item-title\">\\xd0\\x9a\\xd0\\xb0\\xd1\\x80\\xd1\\x82\\xd1\\x8b</div></a></li><li class=\"services-new__list-item\"><a data-id=\"translate\" class=\"home-link services-new__item services-new__item_search_yes home-link_black_yes\" href=\"https://translate.yandex.ru/?utm_source=main_stripe_big\" target=\"_blank\" rel=\"noopener\"><div class=\"services-new__icon\" style=\"background-image:url(//yastatic.net/s3/home/services/block/translate.svg)\"></div><div class=\"services-new__item-title\">\\xd0\\x9f\\xd0\\xb5\\xd1\\x80\\xd0\\xb5\\xd0\\xb2\\xd0\\xbe\\xd0\\xb4\\xd1\\x87\\xd0\\xb8\\xd0\\xba</div></a></li><li class=\"services-new__list-item\"><a data-id=\"music\" class=\"home-link services-new__item services-new__item_search_yes home-link_black_yes\" href=\"https://music.yandex.ru/?utm_source=main_stripe_big\" target=\"_blank\" rel=\"noopener\"><div class=\"services-new__icon\" style=\"background-image:url(//yastatic.net/s3/home/services/block/music1.svg)\"></div><div class=\"services-new__item-title\">\\xd0\\x9c\\xd1\\x83\\xd0\\xb7\\xd1\\x8b\\xd0\\xba\\xd0\\xb0</div></a></li><li class=\"services-new__list-item\"><a data-id=\"tv\" class=\"home-link services-new__item home-link_black_yes\" href=\"https://tv.yandex.ru/?utm_source=main_stripe_big\" target=\"_blank\" rel=\"noopener\"><div class=\"services-new__icon\" style=\"background-image:url(//yastatic.net/s3/home/services/block/tv.svg)\"></div><div class=\"services-new__item-title\">\\xd0\\x9f\\xd1\\x80\\xd0\\xbe\\xd0\\xb3\\xd1\\x80\\xd0\\xb0\\xd0\\xbc\\xd0\\xbc\\xd0\\xb0</div></a></li><a aria-haspopup=\"true\" aria-expanded=\"false\" role=\"button\" data-id=\"more\" class=\"home-link services-new__item  services-new__more home-link_black_yes\" href=\"https://yandex.ru/all\" target=\"_blank\" rel=\"noopener\"><div class=\"services-new__more-icons\"><div class=\"services-new__more-icon\" style=\"background-image:url(//yastatic.net/s3/home/services/block/travel.svg)\"></div><div class=\"services-new__more-icon\" style=\"background-image:url(//yastatic.net/s3/home/services/block/uslugi1.svg)\"></div><div class=\"services-new__more-icon\" style=\"background-image:url(//yastatic.net/s3/home/services/block/games.svg)\"></div><div class=\"services-new__more-icon\" style=\"background-image:url(//yastatic.net/s3/home/services/block/taxi.svg)\"></div></div><div class=\"services-new__item-title\">\\xd0\\xb5\\xd1\\x89\\xd1\\x91</div></a></ul></div></nav></div><div class=\"container container__search container__line\"><dbgrsae><fwap><pjtr><div class=\"row second text_black_yes\"><div class=\"home-arrow i-bem\" data-bem=\"{&quot;home-arrow&quot;:{}}\"><div class=\"home-arrow__search-wrapper\"><div class=\"home-logo home-arrow__logo\"><a class=\"home-link home-logo__link\" href=\"https://yandex.ru/\" target=\"_blank\" rel=\"noopener\"><div class=\"home-logo__default\" role=\"img\" aria-label=\"\\xd0\\xaf\\xd0\\xbd\\xd0\\xb4\\xd0\\xb5\\xd0\\xba\\xd1\\x81\"></div></a></div><div class=\"home-arrow__search\"><form class=\"search2 mini-suggest mini-suggest_search_yes mini-suggest_personal_yes mini-suggest_theme_flat mini-suggest_tab-change_yes mini-suggest_request_xhr mini-suggest_separate-popup_yes mini-suggest_autofocus_yes mini-suggest_re-request_yes mini-suggest_direct_yes mini-suggest_a11y_yes i-bem\" action=\"https://yandex.ru/search/\" role=\"search\" aria-label=\"\\xd0\\x9f\\xd0\\xbe\\xd0\\xb8\\xd1\\x81\\xd0\\xba \\xd0\\xb2 \\xd0\\xb8\\xd0\\xbd\\xd1\\x82\\xd0\\xb5\\xd1\\x80\\xd0\\xbd\\xd0\\xb5\\xd1\\x82\\xd0\\xb5\" data-bem=\"{&quot;search2&quot;:{&quot;nl&quot;:true}}\"  data-mini-bem=\"{&quot;mini-suggest&quot;:{&quot;url&quot;:&quot;https://yandex.ru/suggest/suggest-ya.cgi?abtestids=327663&amp;rerequest_rate_pessimization_integration_coefficient=3.0&amp;srv=morda_ru_desktop&amp;wiz=TrWth&amp;uil=ru&amp;fact=1&amp;v=4&amp;icon=1&amp;lr=43&amp;hl=1&amp;bemjson=0&amp;history=1&amp;html=1&amp;platform=desktop&amp;rich_nav=1&amp;show_experiment=222&amp;show_experiment=224&amp;verified_nav=1&amp;rich_phone=1&amp;safeclick=1&amp;skip_clickdaemon_host=1&amp;yu=6652851941613830656&amp;maybe_ads=1&amp;mt_wizard=1&quot;,&quot;deleteUrl&quot;:&quot;https://yandex.ru/suggest-delete-text?srv=morda_ru_desktop&amp;text_to_delete=&quot;,&quot;counter&quot;:{&quot;service&quot;:&quot;morda_ru_desktop&quot;,&quot;url&quot;:&quot;//yandex.ru/clck/jclck&quot;,&quot;timeout&quot;:300,&quot;params&quot;:{&quot;dtype&quot;:&quot;stred&quot;,&quot;pid&quot;:&quot;0&quot;,&quot;cid&quot;:&quot;2873&quot;,&quot;lr&quot;:&quot;43&quot;},&quot;yandexuid&quot;:&quot;6652851941613830656&quot;,&quot;reqidInCookie&quot;:null,&quot;src&quot;:true},&quot;clickHost&quot;:&quot;//yandex.ru/clck&quot;,&quot;navSource&quot;:&quot;/&quot;,&quot;a11y&quot;:{&quot;nav&quot;:&quot;\\xd0\\xb2\\xd0\\xbd\\xd0\\xb5\\xd1\\x88\\xd0\\xbd\\xd1\\x8f\\xd1\\x8f \\xd1\\x81\\xd1\\x81\\xd1\\x8b\\xd0\\xbb\\xd0\\xba\\xd0\\xb0&quot;},&quot;direct&quot;:{&quot;label&quot;:&quot;\\xd1\\x80\\xd0\\xb5\\xd0\\xba\\xd0\\xbb\\xd0\\xb0\\xd0\\xbc\\xd0\\xb0&quot;,&quot;counter_delay&quot;:5000,&quot;adb&quot;:false},&quot;reRequestTimeout&quot;:&quot;200&quot;,&quot;reRequestUrl&quot;:&quot;https://yandex.ru/suggest/ad-rerequest-ya.cgi?abtestids=327663&amp;rerequest_rate_pessimization_integration_coefficient=3.0&amp;srv=morda_ru_desktop&amp;wiz=TrWth&amp;uil=ru&amp;fact=1&amp;v=4&amp;icon=1&amp;lr=43&amp;hl=1&amp;bemjson=0&amp;history=1&amp;html=1&amp;platform=desktop&amp;rich_nav=1&amp;show_experiment=222&amp;show_experiment=224&amp;verified_nav=1&amp;rich_phone=1&amp;safeclick=1&amp;skip_clickdaemon_host=1&amp;yu=6652851941613830656&amp;maybe_ads=1&amp;mt_wizard=1&quot;,&quot;reRequestMaxLatency&quot;:0}}\"><div class=\"search2__wrapper\"><input type=\"hidden\" name=\"lr\" value=\"43\"/><input type=\"hidden\" name=\"msid\" value=\"1613830656.44549.97810.5072\"/><div class=\"search2__input-wrapper\"><div class=\"search2__input\"><span class=\"input input_size_ws-head input_theme_websearch input_search2-clear-hide_yes input_ahead_yes input_autofocus_capture input_keyboard_yes input_clear_yes i-bem\" data-bem=\"{&quot;input&quot;:{&quot;live&quot;:false,&quot;autoFocus&quot;:true}}\"><span class=\"input__box\"><span class=\"input__clear mini-suggest__input-clear\" unselectable=\"on\">&nbsp;</span><div class=\"keyboard-loader input__keyboard-button i-bem b-opacity b-opacity-hold-ie keyboard-loader_lang_ru\" data-bem=\"{&quot;keyboard-loader&quot;:{&quot;name&quot;:&quot;keyboard-loader&quot;}}\"><i class=\"b-ico keyboard-loader__icon b-ico-kbd\"></i></div><input class=\"input__control input__input mini-suggest__input\" tabindex=\"2\" autocomplete=\"off\" autocorrect=\"off\" autocapitalize=\"off\" spellcheck=\"false\" aria-autocomplete=\"list\" aria-label=\"\\xd0\\x97\\xd0\\xb0\\xd0\\xbf\\xd1\\x80\\xd0\\xbe\\xd1\\x81\" id=\"text\" maxlength=\"400\" name=\"text\"/><script>try{document.currentScript.previousElementSibling.focus()}catch(e){}</script></span></span></div><div class=\"search2__placeholder\" aria-hidden=\"true\">\\xd0\\x9d\\xd0\\xb0\\xd0\\xb9\\xd0\\xb4\\xd1\\x91\\xd1\\x82\\xd1\\x81\\xd1\\x8f \\xd0\\xb2\\xd1\\x81\\xd1\\x91</div></div><div class=\"search2__button\"><button class=\"button mini-suggest__button button_theme_websearch button_size_ws-head i-bem\" data-bem=\"{&quot;button&quot;:{}}\" tabindex=\"-1\" role=\"button\" type=\"submit\">\\xd0\\x9d\\xd0\\xb0\\xd0\\xb9\\xd1\\x82\\xd0\\xb8<svg xmlns=\"http://www.w3.org/2000/svg\" width=\"17\" height=\"40\" class=\"search__rounded-arrow\" preserveAspectRatio=\"none\" viewBox=\"0 0 17 40\"><path d=\"M1 1l1.663.034c1.761 0 3.391.926 4.294 2.438l8.337 13.968a5 5 0 0 1 .002 5.122l-8.34 13.997A5 5 0 0 1 2.66 39L1 38.967z\" stroke-width=\"2\"/><defs><linearGradient id=\"l\" x2=\"0\" y2=\"40\" gradientUnits=\"userSpaceOnUse\"><stop offset=\"0\" stop-color=\"#ffbb03\"/><stop offset=\"1\" stop-color=\"#ffd108\"/></linearGradient><linearGradient id=\"h\" x2=\"0\" y2=\"40\" gradientUnits=\"userSpaceOnUse\"><stop offset=\"0\" stop-color=\"#ffa702\"/><stop offset=\"1\" stop-color=\"#ffd108\"/></linearGradient><linearGradient id=\"a\" x2=\"0\" y2=\"40\" gradientUnits=\"userSpaceOnUse\"><stop offset=\"0\" stop-color=\"#ff9801\"/><stop offset=\"1\" stop-color=\"#ffc205\"/></linearGradient></defs></svg></button></div></div></form></div></div></div></div></pjtr></fwap></dbgrsae></div><div class=\"container container__banner container__line container__banner_flex\"><div class=\"b-inline b-inline_banner\"><div id=\"banner\" class=\"b-banner__content\"><div class=\"b-banner__wrap\"><div id=\"bc\"></div><a class=\"b-banner__link\" href=\"https://awaps.yandex.net/1/c1/tx21lszVAoU5Fo8Pyi8d5uwMobm1xsX-ZsCyvQ4lCiXo62ckqhoOcTAdLWRtY_tsa45G71X9vdXH1OdlBHuNItO-GPOmoDIt65-OA4ym3ggbiv2pvVEAqrMJZ0F_thzAD8GIh8pA-BDCDLakM3vcW1XWR09WFuS+sJr1LSwdHi8Wqpo-BH54komFz_tWBXdgZ9nVpytBJB3ZSbwhXwZzWhbq1oK2lpR3aeOgHE4Ik+I4n75eqeSYdSF_tOg3rqKbOGnNoE7b3tz3qYydfh89AXwjgY21Q6rtvcGgXEH6RRhW2sOdLWLQm_t1Ze2+wL48HSQRnU9E3-QbacLd4hbMQoIHFOw1EqD445eHvslOu0tjMz36Tk5_albNTkxinLy5rctiGbdHLIiBJOfIeylRXL3MA_A_.htm\" target=\"_blank\" rel=\"noopener\"><img class=\"image b-banner__img\" width=\"728\" height=\"90\" border=\"0\" src=\"https://awaps.yandex.net/0/c1/tVK-Oiz0m0j1k6YASgcYXr1mbqELijlfJJFhYGiJhI81vDHccLPzPD8xLHGgy_t4d+r6JA7kzBEqp+leCV1DtdK4cb-4fHC0rCJMI9OeACpfQ4vGIX09rif4E96_tCF+Taq4d38FOXbjrOjr4d9Jp2PiAY7-0JbNChSzlTJCe15j4-t+kZYTCGdWx_t6UvjLUvCzImkAeAR1EaU0+4x-dkB5hhlHGg1LGgPt4qJshuZaDj-3O6Tlw60_tgAU1ZbiSLmvgKucSFOtH12cRI4c7O5C9n9JDL0DZOGM6Ap7-nL4DXzM4Meto_todndiHL+vij8FBCsmRmfHLs9kLuihj1plBl2jtZ79EnOISiuzz8Dfe0Eaxnq_Kh0-s38t-PmVidwAA_A_.jpg\" alt=\"\\xd0\\x98\\xd1\\x89\\xd0\\xb8\\xd1\\x82\\xd0\\xb5 \\xd0\\xbc\\xd0\\xb0\\xd1\\x81\\xd1\\x82\\xd0\\xb5\\xd1\\x80\\xd0\\xbe\\xd0\\xb2 \\xd0\\xbd\\xd0\\xb0 \\xd0\\xaf\\xd0\\xbd\\xd0\\xb4\\xd0\\xb5\\xd0\\xba\\xd1\\x81.\\xd0\\xa3\\xd1\\x81\\xd0\\xbb\\xd1\\x83\\xd0\\xb3\\xd0\\xb0\\xd1\\x85\"/></a></div></div></div></div><div class=\"container container__heap container__line heap\"></div></div></div><div class=\"row gap gap_side_bottom\"> </div><div class=\"row rows__row rows__row_last\"><div class=\"col footer\" role=\"complementary\"></div></div></div><div class=\"media-grid media-grid_visible_no media-grid_theme_white i-bem font-regular\" data-bem=\"{&quot;media-grid&quot;:{&quot;counters&quot;:{&quot;expand&quot;:&quot;mediafooter.resize.expand&quot;,&quot;collapse&quot;:&quot;mediafooter.resize.collapse&quot;},&quot;layout&quot;:[&quot;zen&quot;,&quot;rtb_inserts&quot;,&quot;afisha_inserts&quot;,&quot;div_sport&quot;]}}\"><div class=\"media-grid__media-content\"><div class=\"media-grid__row\"  data-blockname=\"zen\"><style>.zen .media-promo{z-index:2}.zen .media-service__title,.zen__desc{position:relative;z-index:2}.zen__desc{z-index:1}.zen__desc:before{content:\\'\\';display:inline-block}.zen__loader{position:absolute;top:0;right:0;bottom:0;left:0;display:none;text-align:center}.zen__loader:before{content:\\'\\';vertical-align:middle;height:100%}.zen__loader_state_loading,.zen__loader_state_retry{display:block}.zen__loader_state_loading .zen__retry,.zen__loader_state_retry .loader{display:none}.zen__loader:before,.zen__loader_state_retry .zen__retry{display:inline-block}.zen__retry-button{margin-left:10px}.zen__list{display:inline-block;visibility:hidden;min-height:296px}.zen__list_visibility_visible{visibility:visible}.zen__list_visibility_visible:after{content:\\'\\';display:inline-block;width:36px}.zen__wrap::-webkit-scrollbar{display:none}.zen__item{position:relative;display:inline-block;width:204px;height:280px;margin-bottom:16px;margin-left:20px;padding-right:0;padding-left:0;-webkit-transition:opacity .15s ease-out,.15s margin-left .15s ease-out,.15s visibility .15s,-webkit-transform .15s ease-out,-webkit-box-shadow .15s ease-out;transition:transform .15s ease-out,box-shadow .15s ease-out,opacity .15s ease-out,.15s margin-left .15s ease-out,.15s visibility .15s;transition:transform .15s ease-out,box-shadow .15s ease-out,opacity .15s ease-out,.15s margin-left .15s ease-out,.15s visibility .15s,-webkit-transform .15s ease-out,-webkit-box-shadow .15s ease-out;vertical-align:top;white-space:normal;border-radius:6px}.i-ua_browser_desktop .zen__item:hover{-webkit-transform:translateY(-10px);transform:translateY(-10px);z-index:1}.zen__item:first-child{margin-left:0}.i-ua_browser_desktop .zen__item_disliked_yes:hover,.zen__item_disliked_yes{pointer-events:none;-webkit-transform:translateY(-30%);transform:translateY(-30%);margin-left:-204px;visibility:hidden;opacity:0}.zen__item-link{position:relative;border-radius:6px;overflow:hidden;display:block;color:#fff;height:100%;-webkit-box-sizing:border-box;-moz-box-sizing:border-box;box-sizing:border-box}.zen__item-image{display:block;width:204px;height:204px;border-radius:6px 6px 0 0;background-repeat:no-repeat;background-position:top center;background-size:cover}.zen__item-curtain{content:\\'\\';display:block;position:absolute;top:46px;bottom:0;left:0;width:204px;border-radius:0 0 6px 6px}.zen__item-text-content{display:block;margin-top:21px;margin-left:12px;margin-right:12px;height:195px;overflow:hidden}.zen__item-text,.zen__item-title{word-wrap:break-word;word-break:break-word;overflow:hidden;text-overflow:ellipsis;display:block;display:-webkit-box;-webkit-box-orient:vertical}.zen__item-title{font-weight:700}.i-ua_platform_macos .zen__item-title{-webkit-font-smoothing:antialiased}.zen__item-title_size_l{font-size:21px;line-height:26px;max-height:104px}.zen__item-title_size_m{font-size:17px;line-height:21px;max-height:105px}.zen__item-title_size_s{font-size:15px;line-height:19px;max-height:114px}.zen__item_type_text .zen__item-title{padding-bottom:4px}.zen__item-text{font-size:13px;line-height:17px}.zen__item-text_lines_1{-webkit-line-clamp:1}.zen__item-text_lines_2{-webkit-line-clamp:2}.zen__item-text_lines_3{-webkit-line-clamp:3}.zen__item-text_lines_4{-webkit-line-clamp:4}.zen__item-text_lines_5{-webkit-line-clamp:5}.zen__item-text_lines_6{-webkit-line-clamp:6}.zen__item-text_lines_7{-webkit-line-clamp:7}.zen__item-text_lines_8{-webkit-line-clamp:8}.zen__item-text_lines_9{-webkit-line-clamp:9}.zen__item-text_lines_10{-webkit-line-clamp:10}.zen__item_type_image .zen__item-title{position:absolute;z-index:1;left:12px;right:12px;bottom:64px}.zen__item-domain{display:block;position:absolute;bottom:18px;left:12px;font-size:13px;text-transform:uppercase;letter-spacing:.5px;opacity:.4;right:12px;overflow:hidden;white-space:nowrap}.zen__item-domain-fadeout{display:none;content:\\'\\';position:absolute;top:0;bottom:0;right:0;width:75px}.zen__item-domain_fadeout_yes .zen__item-domain-fadeout{display:block}.zen__item-domain_logo_yes{background-size:auto 16px;background-repeat:no-repeat;background-position:center left;height:16px}.zen__item-control{position:absolute;bottom:12px;z-index:0;display:block;width:30px;height:30px;background-repeat:no-repeat;background-position:center;padding:10px 0;margin-right:-10px;margin-bottom:-10px;opacity:.4;-webkit-transition:opacity .1s;transition:opacity .1s;cursor:pointer}.i-ua_browser_desktop .zen__item-control:hover,.utilityfocus .zen__item-control:focus{opacity:1}.zen__item-control_liked_yes{opacity:1}.zen__item-control_scaled_yes{-webkit-animation:zen__item-control_scaled_yes .13s ease-out 2 alternate;animation:zen__item-control_scaled_yes .13s ease-out 2 alternate}.zen__item-like{right:50px}.zen__item-dislike{right:20px}.zen__item_theme_black .zen__item-like{background-image:url(//yastatic.net/s3/home-static/_/L/t/R6x3v9iUM-5tvFgwi6jshDDm4.svg)}.zen__item_theme_white .zen__item-like{background-image:url(//yastatic.net/s3/home-static/_/P/v/LzS8MjNfwozZQXwEqxB_M2SY4.svg)}.zen__item_theme_black .zen__item-dislike{background-image:url(//yastatic.net/s3/home-static/_/9/i/nTkqIRkL1HMOMadq9595VzyzA.svg)}.zen__item_theme_white .zen__item-dislike{background-image:url(//yastatic.net/s3/home-static/_/E/A/bVxlLgGooaaBgi3Jo9HLwFUb4.svg)}.pointerfocus .zen__item-control,.pointerfocus .zen__item-control:focus,.pointerfocus .zen__item-link,.pointerfocus .zen__item-link:focus{outline:none}.utilityfocus .zen__item-control:focus,.utilityfocus .zen__item-link:focus{outline:2px solid #fc0}.zen__direct-content{color:#000;position:absolute;margin-left:12px;margin-right:12px}.zen__direct-label{position:absolute;margin-left:13px;font-size:12px;color:#6e6b67;background-color:#e7e3de;display:inline-block;line-height:14px;border-radius:2px;text-decoration:none;z-index:1;top:-2px;padding:5px 12px 3px}.zen__direct-domain{display:inline-block;margin-bottom:2px;font-size:13px;line-height:17px;color:rgba(110,107,103,.7)}.zen__direct-body{margin:4px 0 6px}.zen__direct-text{display:block;font-size:13px;line-height:17px;word-wrap:break-word;word-break:break-word;-webkit-hyphens:auto;-moz-hyphens:auto;-ms-hyphens:auto;hyphens:auto}.zen__direct-footer{position:relative;margin-top:11px}.zen__direct-age{font-size:9px;font-weight:700;opacity:.46;letter-spacing:-.9px;line-height:12px;position:absolute;right:0;bottom:0}.zen__direct-warning{font-size:10px;opacity:.46;line-height:12px;padding-right:20px}.zen__direct-image_type_small{position:static;float:right;margin:4px 0 10px 10px}.zen__direct_type_small .zen__item-link{background-color:#fff;color:#000}.zen__direct_type_small .zen__direct-content{top:36px}.zen__direct_type_small .zen__direct-footer{position:absolute;margin-top:0;bottom:11px;margin-left:12px;margin-right:12px}.zen__direct_type_big .zen__direct-content{bottom:11px}.zen__direct_footer_age .zen__direct-age{position:relative;left:0;right:auto}.zen__direct_footer_none .zen__direct-footer{display:none}@-webkit-keyframes zen__item-control_scaled_yes{0%{-webkit-transform:scale(1);transform:scale(1)}to{-webkit-transform:scale(1.3);transform:scale(1.3)}}@keyframes zen__item-control_scaled_yes{0%{-webkit-transform:scale(1);transform:scale(1)}to{-webkit-transform:scale(1.3);transform:scale(1.3)}}</style><div class=\"i-bundle-bem zen zen_width_full media-service media-service_has-carousel_yes\"  role=\"complementary\" aria-label=\"\\xd0\\x94\\xd0\\xb7\\xd0\\xb5\\xd0\\xbd\" data-bem=\"{&quot;zen&quot;:{&quot;zenUrl&quot;:&quot;https://zen.yandex.ru/api/v3/desktop-morda/teasers?country_code=ru&amp;client_exps=zen_inserts_geo_collections:exp,zen_inserts_edadeal:exp,zen_united_placeholders:exp&quot;,&quot;login&quot;:&quot;unauthorized&quot;,&quot;directUrl&quot;:&quot;https://direct.yandex.ru/?partner&quot;}}\"><div class=\"media-service__header media-service__header_valign_center\"><div class=\"media-service__title-wrapper\"><h1 class=\"media-service__title\"><a class=\"home-link zen__title media-service__title-text\" href=\"https://zen.yandex.ru/?clid=101&country_code=ru\" target=\"_blank\" rel=\"noopener\">\\xd0\\x94\\xd0\\xb7\\xd0\\xb5\\xd0\\xbd</a></h1><div class=\"media-service__desc zen__desc\">\\xd0\\x9b\\xd0\\xb5\\xd0\\xbd\\xd1\\x82\\xd0\\xb0 \\xd1\\x80\\xd0\\xb5\\xd0\\xba\\xd0\\xbe\\xd0\\xbc\\xd0\\xb5\\xd0\\xbd\\xd0\\xb4\\xd0\\xb0\\xd1\\x86\\xd0\\xb8\\xd0\\xb9</div></div><a class=\"home-link media-promo  home-link_hover_inherit\" href=\"https://browser.yandex.ru/desktop/zen/?from=yamain_zen&banerid=0458000000\" target=\"_blank\" rel=\"noopener\"><span class=\"media-promo__title\">\\xd0\\xaf\\xd0\\xbd\\xd0\\xb4\\xd0\\xb5\\xd0\\xba\\xd1\\x81.\\xd0\\x91\\xd1\\x80\\xd0\\xb0\\xd1\\x83\\xd0\\xb7\\xd0\\xb5\\xd1\\x80</span><span class=\"media-promo__desc font-regular\">\\xd1\\x81\\xd0\\xbe&nbsp;\\xd0\\xb2\\xd1\\x81\\xd1\\x82\\xd1\\x80\\xd0\\xbe\\xd0\\xb5\\xd0\\xbd\\xd0\\xbd\\xd1\\x8b\\xd0\\xbc \\xd0\\x94\\xd0\\xb7\\xd0\\xb5\\xd0\\xbd\\xd0\\xbe\\xd0\\xbc</span></a></div><div class=\"zen__content media-service__content \"><div class=\"zen__panels media-service__panels\"><div class=\"zen__panel media-service__panel\"><div class=\"arrowed-list zen__list-wrapper media-service__list-wrapper imageloader imageloader_tracking_yes arrowed-list_theme_media arrowed-list_list-out_yes i-bem\" data-bem=\"{&quot;arrowed-list&quot;:{&quot;counter&quot;:&quot;mediafooter.zen&quot;},&quot;imageloader&quot;:{}}\"><div class=\"zen__loader zen__loader_state_loading\"><span class=\"loader\"></span><div class=\"zen__retry\">\\xd0\\x9d\\xd0\\xb5 \\xd1\\x83\\xd0\\xb4\\xd0\\xb0\\xd0\\xbb\\xd0\\xbe\\xd1\\x81\\xd1\\x8c \\xd0\\xb7\\xd0\\xb0\\xd0\\xb3\\xd1\\x80\\xd1\\x83\\xd0\\xb7\\xd0\\xb8\\xd1\\x82\\xd1\\x8c \\xd0\\xb4\\xd0\\xb0\\xd0\\xbd\\xd0\\xbd\\xd1\\x8b\\xd0\\xb5<button class=\"button zen__retry-button button_theme_pseudo button_size_s i-bem\" data-bem=\"{&quot;button&quot;:{}}\" data-statlog=\"mediafooter.zen.retry\" role=\"button\" type=\"button\"><span class=\"button__text\">\\xd0\\x9f\\xd0\\xbe\\xd0\\xbf\\xd1\\x80\\xd0\\xbe\\xd0\\xb1\\xd0\\xbe\\xd0\\xb2\\xd0\\xb0\\xd1\\x82\\xd1\\x8c \\xd0\\xb5\\xd1\\x89\\xd1\\x91 \\xd1\\x80\\xd0\\xb0\\xd0\\xb7</span></button></div></div><div class=\"arrowed-list__content scroller zen__wrap media-service__wrap imageloader__scroller\"><div class=\"arrowed-list__list zen__list media-service__list\" role=\"list\"></div></div><div class=\"arrowed-list__shadow arrowed-list__shadow_left\"></div><div class=\"arrowed-list__shadow arrowed-list__shadow_right\"></div><div class=\"arrowed-list__left arrowed-list__control\" ></div><div class=\"arrowed-list__right arrowed-list__control\" ></div></div></div></div></div></div></div><div class=\"media-grid__row\"  data-blockname=\"rtb_inserts\"><style>.rtb-inserts_dummy{height:385px;}</style><div class=\"rtb-inserts rtb-inserts_dummy i-bem  rtb-inserts_type_native\" id=\"rtb-inserts\" data-bem=\"{&quot;rtb-inserts&quot;:{}}\"></div></div><div class=\"media-grid__row\"  data-blockname=\"afisha_inserts\"><div class=\"afisha-inserts i-bem media-grid__afisha-inserts media-service  mix-tabber_theme_inline-media media-service_has-carousel_yes media-service_tabs_yes media-service_inline-tabs_yes\"  role=\"complementary\" aria-label=\"\\xd0\\x90\\xd1\\x84\\xd0\\xb8\\xd1\\x88\\xd0\\xb0\" data-bem=\"{&quot;afisha-inserts&quot;:{&quot;selectedKey&quot;:&quot;cinema&quot;,&quot;retryButtonTheme&quot;:&quot;pseudo&quot;,&quot;live&quot;:true,&quot;uniqId&quot;:&quot;afisha-inserts_51498&quot;,&quot;logged&quot;:false,&quot;geoId&quot;:&quot;43&quot;,&quot;locale&quot;:&quot;ru&quot;,&quot;geohelperHost&quot;:&quot;yandex.ru&quot;,&quot;nativeSelect&quot;:false}}\"><div class=\"media-service__header\"><div class=\"media-service__title-wrapper\"><h1 class=\"media-service__title\"><a class=\"home-link afisha-inserts__title media-service__title-text  media-service__title-text_icon_yes\" href=\"https://afisha.yandex.ru/kazan?utm_source=yamain&utm_medium=yamain_afisha\" target=\"_blank\" rel=\"noopener\"><div class=\"media-service__title-icon\" style=\"background-image:url(//yastatic.net/s3/home/services/all/svg/afisha.svg)\"></div>\\xd0\\x90\\xd1\\x84\\xd0\\xb8\\xd1\\x88\\xd0\\xb0</a></h1></div><div class=\"afisha-inserts__tabs media-service__tabs\" role=\"tablist\"><span tabindex=\"0\" aria-selected=\"true\" aria-controls=\"afisha-inserts_panel_cinema\" data-key=\"cinema\" id=\"afisha-inserts_tab_cinema\" data-stat-select=\"afisha_inserts.tab.select.cinema\" role=\"tab\" class=\"home-link afisha-inserts__tab afisha-inserts__tab_selected_yes mix-tabber__tab mix-tabber__tab_selected_yes\">\\xd0\\x9a\\xd0\\xb8\\xd0\\xbd\\xd0\\xbe</span><span tabindex=\"-1\" aria-selected=\"false\" data-key=\"quest\" id=\"afisha-inserts_tab_quest\" data-stat-select=\"afisha_inserts.tab.select.quest\" role=\"tab\" class=\"home-link afisha-inserts__tab afisha-inserts__tab_selected_no mix-tabber__tab mix-tabber__tab_selected_no\">\\xd0\\x9a\\xd0\\xb2\\xd0\\xb5\\xd1\\x81\\xd1\\x82\\xd1\\x8b</span><span tabindex=\"-1\" aria-selected=\"false\" data-key=\"events\" id=\"afisha-inserts_tab_events\" data-stat-select=\"afisha_inserts.tab.select.events\" role=\"tab\" class=\"home-link afisha-inserts__tab afisha-inserts__tab_selected_no mix-tabber__tab mix-tabber__tab_selected_no\">\\xd0\\x9a\\xd0\\xbe\\xd0\\xbd\\xd1\\x86\\xd0\\xb5\\xd1\\x80\\xd1\\x82\\xd1\\x8b</span><span tabindex=\"-1\" aria-selected=\"false\" data-key=\"theatre\" id=\"afisha-inserts_tab_theatre\" data-stat-select=\"afisha_inserts.tab.select.theatre\" role=\"tab\" class=\"home-link afisha-inserts__tab afisha-inserts__tab_selected_no mix-tabber__tab mix-tabber__tab_selected_no\">\\xd0\\xa2\\xd0\\xb5\\xd0\\xb0\\xd1\\x82\\xd1\\x80</span><span tabindex=\"-1\" aria-selected=\"false\" data-key=\"kids\" id=\"afisha-inserts_tab_kids\" data-stat-select=\"afisha_inserts.tab.select.kids\" role=\"tab\" class=\"home-link afisha-inserts__tab afisha-inserts__tab_selected_no mix-tabber__tab mix-tabber__tab_selected_no\">\\xd0\\x94\\xd0\\xb5\\xd1\\x82\\xd1\\x8f\\xd0\\xbc</span></div></div><div class=\"afisha-inserts__content media-service__content \"><div class=\"media-service__panels afisha-inserts__panels\" id=\"afisha-inserts_51498_panels\"><div class=\"afisha-inserts__panel media-service__panel\" role=\"tabpanel\" id=\"afisha-inserts_51498_panel_cinema\" data-key=\"cinema\" aria-labelledby=\"afisha-inserts_51498_tab_cinema\"><div class=\"arrowed-list afisha-inserts__list-wrapper media-service__list-wrapper arrowed-list_theme_media arrowed-list_arrow-position_weighted i-bem\" data-bem=\"{&quot;arrowed-list&quot;:{&quot;counter&quot;:&quot;afisha_inserts&quot;},&quot;imageloader&quot;:{}}\"><div class=\"arrowed-list__content scroller afisha-inserts__wrap media-service__wrap imageloader__scroller\"><div class=\"arrowed-list__list afisha-inserts__list media-service__list\" role=\"list\"><a class=\"home-link afisha-inserts__event afisha-inserts__event_type_film media-service__item home-link_hover_inherit imageloader__card afisha-event-film\" href=\"https://afisha.yandex.ru/kazan/cinema/konek-gorbunok-2020?utm_source=yamain&amp;utm_medium=yamain_afisha_kp\" target=\"_blank\" rel=\"noopener\"><span class=\"afisha-event-film__image-wrapper\"><span class=\"afisha-event-film__image media-service__shadow media-service__image imageloader__image\" data-image=\"{&quot;1&quot;:&quot;https://avatars.mds.yandex.net/get-afishanew/28638/d305f186a82dfa9cf49314ee720f500b/120x180&quot;,&quot;2&quot;:&quot;https://avatars.mds.yandex.net/get-afishanew/28638/d305f186a82dfa9cf49314ee720f500b/240x360&quot;}\"></span><span class=\"afisha-event-film__premiere \">\\xd0\\x9f\\xd1\\x80\\xd0\\xb5\\xd0\\xbc\\xd1\\x8c\\xd0\\xb5\\xd1\\x80\\xd0\\xb0</span></span><span class=\"afisha-event-film__content\"><span class=\"afisha-event-film__title \">\\xd0\\x9a\\xd0\\xbe\\xd0\\xbd\\xd1\\x91\\xd0\\xba-\\xd0\\x93\\xd0\\xbe\\xd1\\x80\\xd0\\xb1\\xd1\\x83\\xd0\\xbd\\xd0\\xbe\\xd0\\xba</span><span class=\"afisha-event-film__genre \">\\xd0\\xbf\\xd1\\x80\\xd0\\xb8\\xd0\\xba\\xd0\\xbb\\xd1\\x8e\\xd1\\x87\\xd0\\xb5\\xd0\\xbd\\xd0\\xb8\\xd1\\x8f</span></span></a><a class=\"home-link afisha-inserts__event afisha-inserts__event_type_film media-service__item home-link_hover_inherit imageloader__card afisha-event-film\" href=\"https://afisha.yandex.ru/kazan/cinema/rodnye-2020?utm_source=yamain&amp;utm_medium=yamain_afisha_kp\" target=\"_blank\" rel=\"noopener\"><span class=\"afisha-event-film__image-wrapper\"><span class=\"afisha-event-film__image media-service__shadow media-service__image imageloader__image\" data-image=\"{&quot;1&quot;:&quot;https://avatars.mds.yandex.net/get-afishanew/28638/2abf077901e3d83fae7ceee8384cd00c/120x180&quot;,&quot;2&quot;:&quot;https://avatars.mds.yandex.net/get-afishanew/28638/2abf077901e3d83fae7ceee8384cd00c/240x360&quot;}\"></span></span><span class=\"afisha-event-film__content\"><span class=\"afisha-event-film__title \">\\xd0\\xa0\\xd0\\xbe\\xd0\\xb4\\xd0\\xbd\\xd1\\x8b\\xd0\\xb5</span><span class=\"afisha-event-film__genre \">\\xd0\\xba\\xd0\\xbe\\xd0\\xbc\\xd0\\xb5\\xd0\\xb4\\xd0\\xb8\\xd1\\x8f</span></span></a><a class=\"home-link afisha-inserts__event afisha-inserts__event_type_film media-service__item home-link_hover_inherit imageloader__card afisha-event-film\" href=\"https://afisha.yandex.ru/kazan/cinema/dusha-2020?utm_source=yamain&amp;utm_medium=yamain_afisha_kp\" target=\"_blank\" rel=\"noopener\"><span class=\"afisha-event-film__image-wrapper\"><span class=\"afisha-event-film__image media-service__shadow media-service__image imageloader__image\" data-image=\"{&quot;1&quot;:&quot;https://avatars.mds.yandex.net/get-afishanew/23114/7abed3aa15ff94828d3a31f2b60a6441/120x180&quot;,&quot;2&quot;:&quot;https://avatars.mds.yandex.net/get-afishanew/23114/7abed3aa15ff94828d3a31f2b60a6441/240x360&quot;}\"></span></span><span class=\"afisha-event-film__content\"><span class=\"afisha-event-film__title \">\\xd0\\x94\\xd1\\x83\\xd1\\x88\\xd0\\xb0</span><span class=\"afisha-event-film__genre \">\\xd0\\xbc\\xd1\\x83\\xd0\\xbb\\xd1\\x8c\\xd1\\x82\\xd1\\x84\\xd0\\xb8\\xd0\\xbb\\xd1\\x8c\\xd0\\xbc</span></span></a><a class=\"home-link afisha-inserts__event afisha-inserts__event_type_film media-service__item home-link_hover_inherit imageloader__card afisha-event-film\" href=\"https://afisha.yandex.ru/kazan/cinema/love-2021?utm_source=yamain&amp;utm_medium=yamain_afisha_kp\" target=\"_blank\" rel=\"noopener\"><span class=\"afisha-event-film__image-wrapper\"><span class=\"afisha-event-film__image media-service__shadow media-service__image imageloader__image\" data-image=\"{&quot;1&quot;:&quot;https://avatars.mds.yandex.net/get-afishanew/23114/c2a3a210eab3f9bb4c3cb83abb6f2334/120x180&quot;,&quot;2&quot;:&quot;https://avatars.mds.yandex.net/get-afishanew/23114/c2a3a210eab3f9bb4c3cb83abb6f2334/240x360&quot;}\"></span></span><span class=\"afisha-event-film__content\"><span class=\"afisha-event-film__title \">Love</span><span class=\"afisha-event-film__genre \">\\xd0\\xba\\xd0\\xbe\\xd0\\xbc\\xd0\\xb5\\xd0\\xb4\\xd0\\xb8\\xd1\\x8f</span></span></a><a class=\"home-link afisha-inserts__event afisha-inserts__event_type_film media-service__item home-link_hover_inherit imageloader__card afisha-event-film\" href=\"https://afisha.yandex.ru/kazan/cinema/spasite-koliu?utm_source=yamain&amp;utm_medium=yamain_afisha_kp\" target=\"_blank\" rel=\"noopener\"><span class=\"afisha-event-film__image-wrapper\"><span class=\"afisha-event-film__image media-service__shadow media-service__image imageloader__image\" data-image=\"{&quot;1&quot;:&quot;https://avatars.mds.yandex.net/get-afishanew/35821/e2dbe211e1612367bbf2205d9fac07e1/120x180&quot;,&quot;2&quot;:&quot;https://avatars.mds.yandex.net/get-afishanew/35821/e2dbe211e1612367bbf2205d9fac07e1/240x360&quot;}\"></span><span class=\"afisha-event-film__premiere \">\\xd0\\x9f\\xd1\\x80\\xd0\\xb5\\xd0\\xbc\\xd1\\x8c\\xd0\\xb5\\xd1\\x80\\xd0\\xb0</span></span><span class=\"afisha-event-film__content\"><span class=\"afisha-event-film__title \">\\xd0\\xa1\\xd0\\xbf\\xd0\\xb0\\xd1\\x81\\xd0\\xb8\\xd1\\x82\\xd0\\xb5 \\xd0\\x9a\\xd0\\xbe\\xd0\\xbb\\xd1\\x8e!</span><span class=\"afisha-event-film__genre \">\\xd0\\xba\\xd0\\xbe\\xd0\\xbc\\xd0\\xb5\\xd0\\xb4\\xd0\\xb8\\xd1\\x8f</span></span></a><a class=\"home-link afisha-inserts__event afisha-inserts__event_type_film media-service__item home-link_hover_inherit imageloader__card afisha-event-film\" href=\"https://afisha.yandex.ru/kazan/cinema/mavritanets?utm_source=yamain&amp;utm_medium=yamain_afisha_kp\" target=\"_blank\" rel=\"noopener\"><span class=\"afisha-event-film__image-wrapper\"><span class=\"afisha-event-film__image media-service__shadow media-service__image imageloader__image\" data-image=\"{&quot;1&quot;:&quot;https://avatars.mds.yandex.net/get-afishanew/35821/f4258b5dabdda8efc21994f5639a87e6/120x180&quot;,&quot;2&quot;:&quot;https://avatars.mds.yandex.net/get-afishanew/35821/f4258b5dabdda8efc21994f5639a87e6/240x360&quot;}\"></span><span class=\"afisha-event-film__premiere \">\\xd0\\x9f\\xd1\\x80\\xd0\\xb5\\xd0\\xbc\\xd1\\x8c\\xd0\\xb5\\xd1\\x80\\xd0\\xb0</span></span><span class=\"afisha-event-film__content\"><span class=\"afisha-event-film__title \">\\xd0\\x9c\\xd0\\xb0\\xd0\\xb2\\xd1\\x80\\xd0\\xb8\\xd1\\x82\\xd0\\xb0\\xd0\\xbd\\xd0\\xb5\\xd1\\x86</span><span class=\"afisha-event-film__genre \">\\xd1\\x82\\xd1\\x80\\xd0\\xb8\\xd0\\xbb\\xd0\\xbb\\xd0\\xb5\\xd1\\x80</span></span></a><a class=\"home-link afisha-inserts__event afisha-inserts__event_type_film media-service__item home-link_hover_inherit imageloader__card afisha-event-film\" href=\"https://afisha.yandex.ru/kazan/cinema/aferistka?utm_source=yamain&amp;utm_medium=yamain_afisha_kp\" target=\"_blank\" rel=\"noopener\"><span class=\"afisha-event-film__image-wrapper\"><span class=\"afisha-event-film__image media-service__shadow media-service__image imageloader__image\" data-image=\"{&quot;1&quot;:&quot;https://avatars.mds.yandex.net/get-afishanew/21422/ca96c9a94fa915209402d1bfeacd1787/120x180&quot;,&quot;2&quot;:&quot;https://avatars.mds.yandex.net/get-afishanew/21422/ca96c9a94fa915209402d1bfeacd1787/240x360&quot;}\"></span><span class=\"afisha-event-film__premiere \">\\xd0\\x9f\\xd1\\x80\\xd0\\xb5\\xd0\\xbc\\xd1\\x8c\\xd0\\xb5\\xd1\\x80\\xd0\\xb0</span></span><span class=\"afisha-event-film__content\"><span class=\"afisha-event-film__title \">\\xd0\\x90\\xd1\\x84\\xd0\\xb5\\xd1\\x80\\xd0\\xb8\\xd1\\x81\\xd1\\x82\\xd0\\xba\\xd0\\xb0</span><span class=\"afisha-event-film__genre \">\\xd1\\x82\\xd1\\x80\\xd0\\xb8\\xd0\\xbb\\xd0\\xbb\\xd0\\xb5\\xd1\\x80</span></span></a><a class=\"home-link afisha-inserts__event afisha-inserts__event_type_film media-service__item home-link_hover_inherit imageloader__card afisha-event-film\" href=\"https://afisha.yandex.ru/kazan/cinema/shadow-in-the-cloud?utm_source=yamain&amp;utm_medium=yamain_afisha_kp\" target=\"_blank\" rel=\"noopener\"><span class=\"afisha-event-film__image-wrapper\"><span class=\"afisha-event-film__image media-service__shadow media-service__image imageloader__image\" data-image=\"{&quot;1&quot;:&quot;https://avatars.mds.yandex.net/get-afishanew/23222/bacd2837a6d292630c02005108e8479d/120x180&quot;,&quot;2&quot;:&quot;https://avatars.mds.yandex.net/get-afishanew/23222/bacd2837a6d292630c02005108e8479d/240x360&quot;}\"></span><span class=\"afisha-event-film__premiere \">\\xd0\\x9f\\xd1\\x80\\xd0\\xb5\\xd0\\xbc\\xd1\\x8c\\xd0\\xb5\\xd1\\x80\\xd0\\xb0</span></span><span class=\"afisha-event-film__content\"><span class=\"afisha-event-film__title \">\\xd0\\x92\\xd0\\xbe\\xd0\\xb7\\xd0\\xb4\\xd1\\x83\\xd1\\x88\\xd0\\xbd\\xd1\\x8b\\xd0\\xb9 \\xd0\\xb1\\xd0\\xbe\\xd0\\xb9</span><span class=\"afisha-event-film__genre \">\\xd1\\x83\\xd0\\xb6\\xd0\\xb0\\xd1\\x81\\xd1\\x8b</span></span></a><a class=\"home-link afisha-inserts__event afisha-inserts__event_type_film media-service__item home-link_hover_inherit imageloader__card afisha-event-film\" href=\"https://afisha.yandex.ru/kazan/cinema/batia-2020?utm_source=yamain&amp;utm_medium=yamain_afisha_kp\" target=\"_blank\" rel=\"noopener\"><span class=\"afisha-event-film__image-wrapper\"><span class=\"afisha-event-film__image media-service__shadow media-service__image imageloader__image\" data-image=\"{&quot;1&quot;:&quot;https://avatars.mds.yandex.net/get-afishanew/28638/61e4bb20465d27fc729b5b1067d56f15/120x180&quot;,&quot;2&quot;:&quot;https://avatars.mds.yandex.net/get-afishanew/28638/61e4bb20465d27fc729b5b1067d56f15/240x360&quot;}\"></span><span class=\"afisha-event-film__premiere \">\\xd0\\x9f\\xd1\\x80\\xd0\\xb5\\xd0\\xbc\\xd1\\x8c\\xd0\\xb5\\xd1\\x80\\xd0\\xb0 \\xd0\\xb2\\xd0\\xbe \\xd0\\xb2\\xd1\\x82</span></span><span class=\"afisha-event-film__content\"><span class=\"afisha-event-film__title \">\\xd0\\x91\\xd0\\xb0\\xd1\\x82\\xd1\\x8f</span><span class=\"afisha-event-film__genre \"></span></span></a><a class=\"home-link afisha-inserts__event afisha-inserts__event_type_film media-service__item home-link_hover_inherit imageloader__card afisha-event-film\" href=\"https://afisha.yandex.ru/kazan/cinema/povorot-ne-tuda-nasledie?utm_source=yamain&amp;utm_medium=yamain_afisha_kp\" target=\"_blank\" rel=\"noopener\"><span class=\"afisha-event-film__image-wrapper\"><span class=\"afisha-event-film__image media-service__shadow media-service__image imageloader__image\" data-image=\"{&quot;1&quot;:&quot;https://avatars.mds.yandex.net/get-afishanew/34116/0cea29ec01e42da528928be29afde57e/120x180&quot;,&quot;2&quot;:&quot;https://avatars.mds.yandex.net/get-afishanew/34116/0cea29ec01e42da528928be29afde57e/240x360&quot;}\"></span><span class=\"afisha-event-film__premiere \">\\xd0\\x9f\\xd1\\x80\\xd0\\xb5\\xd0\\xbc\\xd1\\x8c\\xd0\\xb5\\xd1\\x80\\xd0\\xb0</span></span><span class=\"afisha-event-film__content\"><span class=\"afisha-event-film__title \">\\xd0\\x9f\\xd0\\xbe\\xd0\\xb2\\xd0\\xbe\\xd1\\x80\\xd0\\xbe\\xd1\\x82 \\xd0\\xbd\\xd0\\xb5&nbsp;\\xd1\\x82\\xd1\\x83\\xd0\\xb4\\xd0\\xb0: \\xd0\\x9d\\xd0\\xb0\\xd1\\x81\\xd0\\xbb\\xd0\\xb5\\xd0\\xb4\\xd0\\xb8\\xd0\\xb5</span><span class=\"afisha-event-film__genre \">\\xd1\\x83\\xd0\\xb6\\xd0\\xb0\\xd1\\x81\\xd1\\x8b</span></span></a></div></div><div class=\"arrowed-list__shadow arrowed-list__shadow_left\"></div><div class=\"arrowed-list__shadow arrowed-list__shadow_right\"></div><div class=\"arrowed-list__left arrowed-list__control\" ></div><div class=\"arrowed-list__right arrowed-list__control\" ></div></div></div></div></div></div></div><div class=\"media-grid__row\"  data-blockname=\"div_sport\"><div class=\"divjson-block i-bem mix-tabber_theme_media media-service media-service_has-carousel_yes\"  role=\"complementary\" aria-label=\"\\xd0\\xa1\\xd0\\xbf\\xd0\\xbe\\xd1\\x80\\xd1\\x82\" data-bem=\"{&quot;divjson-block&quot;:{&quot;api&quot;:&quot;https://yandex.ru/geohelper/api/v3/divproxy?id=sport_desktop&amp;from=home&amp;geoid=43&amp;lang=ru&amp;mordazone=ru&amp;reqid=1613830656.44549.97810.5072&quot;,&quot;layoutName&quot;:&quot;div_sport&quot;}}\"><div class=\"media-service__header\"><div class=\"media-service__title-wrapper\"><h1 class=\"media-service__title\"><span class=\"home-link divjson-block__title media-service__title-text  media-service__title-text_icon_yes\"><div class=\"media-service__title-icon\" style=\"background-image:url(//yastatic.net/s3/home/services/all/svg/sport0.svg)\"></div>\\xd0\\xa1\\xd0\\xbf\\xd0\\xbe\\xd1\\x80\\xd1\\x82</span></h1></div></div><div class=\"divjson-block__content media-service__content \"><div class=\"dummy-cards\"><div class=\"dummy-cards__card\" style=\"width:14.4615em;height:15.6923em;margin-right:0.9231em\"></div><div class=\"dummy-cards__card\" style=\"width:14.4615em;height:15.6923em;margin-right:0.9231em\"></div><div class=\"dummy-cards__card\" style=\"width:14.4615em;height:15.6923em;margin-right:0.9231em\"></div><div class=\"dummy-cards__card\" style=\"width:14.4615em;height:15.6923em;margin-right:0.9231em\"></div></div></div></div></div></div><div class=\"media-infinity-footer i-bem\" data-bem=\"{&quot;media-infinity-footer&quot;:{&quot;hiddenBlocksPromo&quot;:{&quot;show_url&quot;:&quot;https://yabs.yandex.ru/count/WFOejI_zO4u0PGS0L0j5IFHZDdZ4J0K0JW4GWX0n01enO000000useqKy0A-meRx0_050Q06Lia6008fivUjKrnVFv7WAO1WxWcg2n1UyFutFv400Dgf0Jl5k_0B1U0DWe20G9WEW8IacVkowwbS-13h__y1W17gg170X3tm4jWLmOhsxAEFlFnZyCaMy3-15wWN2PaOq1W1-1Y06R0Pk1d__m7I6H9vOM9pNtDbSdPbSYzoDJ0pBJFe6O320_0PWC834W1tP7mo1OE2koeQ9j4jX1mI0xjiMJGXTc3KjXDp0QrHEjOOrWk3LRHprege7WQNZJbq67i0~1=WGSejI_zO4a0xGS050rfXi2RIG503aW2ODmCSC3HxjFD8P01sihqt3EOk070qUxJ3TW1gf-M3-W1Z0AG0_33W6-m0mAe1bQm1u20c2ou1xm8q0S2yGS00E2ez-dc4CdW2e29UjaBFv7WAO1WxWde39EW3i24FTc04DMFomV840Ye4S24FTWIW80Oc1C1w1IC0jWLmOhsxAEFlFnZe1RGvB211e4Nc1SPm1Uq0h0Owex4WGRu6ENupDJgiDtuiG606P0P0Q0PLhWP_m7e6O320_0PWC83WHh__zzGoOfMrWq0E7B8MXoIG1x-mg7-PhdKTDEkv50ecKB0au_g1GmEW4iccFLh53IKF000~1&quot;}}}\"><div class=\"media-infinity-footer__placeholder\"></div><div class=\"media-infinity-footer__up\"><div class=\"media-infinity-footer__up-bg\"></div><div class=\"media-infinity-footer__up-arrow\"></div></div></div><div class=\"media-infinity-footer__content\" role=\"contentinfo\"><div class=\"media-infinity-footer__content-inner\"><div class=\"media-infinity-footer__part\"><a class=\"home-link media-infinity-footer__link\" href=\"https://direct.yandex.ru/?from=maintest_ru_razmestitrekl\" target=\"_blank\" rel=\"noopener\">\\xd0\\x94\\xd0\\xb8\\xd1\\x80\\xd0\\xb5\\xd0\\xba\\xd1\\x82</a><a class=\"home-link media-infinity-footer__link\" href=\"https://metrika.yandex.ru/?utm_source=yandexru.v14w&utm_medium=web&utm_campaign=static\" target=\"_blank\" rel=\"noopener\">\\xd0\\x9c\\xd0\\xb5\\xd1\\x82\\xd1\\x80\\xd0\\xb8\\xd0\\xba\\xd0\\xb0</a><a class=\"home-link media-infinity-footer__link\" href=\"https://yandex.ru/adv/?from=main_bottom\" target=\"_blank\" rel=\"noopener\">\\xd0\\xa0\\xd0\\xb5\\xd0\\xba\\xd0\\xbb\\xd0\\xb0\\xd0\\xbc\\xd0\\xb0</a></div><div class=\"media-infinity-footer__part\"><a class=\"home-link media-infinity-footer__link\" href=\"https://yandex.ru/jobs\" target=\"_blank\" rel=\"noopener\">\\xd0\\x92\\xd0\\xb0\\xd0\\xba\\xd0\\xb0\\xd0\\xbd\\xd1\\x81\\xd0\\xb8\\xd0\\xb8</a><a class=\"home-link media-infinity-footer__link\" href=\"https://yandex.ru/blog/company/\" target=\"_blank\" rel=\"noopener\">\\xd0\\x91\\xd0\\xbb\\xd0\\xbe\\xd0\\xb3</a><a class=\"home-link media-infinity-footer__link\" href=\"https://yandex.ru/company/\" target=\"_blank\" rel=\"noopener\">\\xd0\\x9a\\xd0\\xbe\\xd0\\xbc\\xd0\\xbf\\xd0\\xb0\\xd0\\xbd\\xd0\\xb8\\xd1\\x8f</a><a class=\"home-link media-infinity-footer__link\" href=\"https://yandex.com/company/\" target=\"_blank\" rel=\"noopener\">About</a><a class=\"home-link media-infinity-footer__link\" href=\"https://yandex.ru/legal/confidential/\" target=\"_blank\" rel=\"noopener\">\\xd0\\x9a\\xd0\\xbe\\xd0\\xbd\\xd1\\x84\\xd0\\xb8\\xd0\\xb4\\xd0\\xb5\\xd0\\xbd\\xd1\\x86\\xd0\\xb8\\xd0\\xb0\\xd0\\xbb\\xd1\\x8c\\xd0\\xbd\\xd0\\xbe\\xd1\\x81\\xd1\\x82\\xd1\\x8c</a><a class=\"home-link media-infinity-footer__link\" href=\"https://yandex.ru/legal/rules/\" target=\"_blank\" rel=\"noopener\">\\xd0\\x9f\\xd0\\xbe\\xd0\\xbb\\xd1\\x8c\\xd0\\xb7\\xd0\\xbe\\xd0\\xb2\\xd0\\xb0\\xd1\\x82\\xd0\\xb5\\xd0\\xbb\\xd1\\x8c\\xd1\\x81\\xd0\\xba\\xd0\\xbe\\xd0\\xb5 \\xd1\\x81\\xd0\\xbe\\xd0\\xb3\\xd0\\xbb\\xd0\\xb0\\xd1\\x88\\xd0\\xb5\\xd0\\xbd\\xd0\\xb8\\xd0\\xb5</a></div><div class=\"media-infinity-footer__part media-infinity-footer__part_icons\"><a title=\"\\xd0\\x9f\\xd0\\xbe\\xd0\\xbc\\xd0\\xbe\\xd1\\x89\\xd1\\x8c\" class=\"home-link media-infinity-footer__link media-infinity-footer__link_adaptive media-infinity-footer__icon\" href=\"https://yandex.ru/support/\" target=\"_blank\" rel=\"noopener\"><svg aria-hidden=\"true\" width=\"19\" height=\"19\" viewBox=\"0 0 19 19\"><path class=\"media-infinity-footer__icon-path\" d=\"M9.5 2a7.5 7.5 0 1 1 0 15 7.5 7.5 0 0 1 0-15m0-1a8.5 8.5 0 1 0 0 17 8.5 8.5 0 0 0 0-17z M9 11.7v-.3c0-.5 0-.9.2-1.2a2.7 2.7 0 0 1 .4-.7l.9-.8c.3-.4.6-.6.7-.9l.2-.6c0-.5-.2-.9-.5-1.2a1.8 1.8 0 0 0-1.3-.5c-.5 0-.9.1-1.2.4-.3.4-.6.8-.7 1.5l-1.1-.2a3 3 0 0 1 1-2 3 3 0 0 1 2-.7c.9 0 1.6.3 2.2.8s.8 1 .8 1.8c0 .4-.1.8-.3 1.1l-1.1 1.2-.7.8c-.2.1-.2.3-.3.5v1H9zM9 14v-1.3h1.2V14H9z\"/></svg></a><a title=\"\\xd0\\xa1\\xd0\\xbb\\xd1\\x83\\xd0\\xb6\\xd0\\xb1\\xd0\\xb0 \\xd0\\xbf\\xd0\\xbe\\xd0\\xb4\\xd0\\xb4\\xd0\\xb5\\xd1\\x80\\xd0\\xb6\\xd0\\xba\\xd0\\xb8\" class=\"home-link media-infinity-footer__link media-infinity-footer__link_adaptive media-infinity-footer__icon\" href=\"https://yandex.ru/support/common/troubleshooting/main.html\" target=\"_blank\" rel=\"noopener\"><svg aria-hidden=\"true\" width=\"19\" height=\"19\" viewBox=\"0 0 19 19\"><path class=\"media-infinity-footer__icon-path\" d=\"M1 3v12h17V3H1zm15.154 1L9.5 8.88 2.846 4h13.308zM2 14V4.62l7.5 5.5 7.5-5.5V14H2z\"/></svg></a></div><div class=\"media-infinity-footer__part media-infinity-footer__part_spacer\"></div><div class=\"media-infinity-footer__part media-infinity-footer__part_settings\"><div class=\"head-options2 i-bem\" data-bem=\"{&quot;head-options2&quot;:{}}\"><div class=\"dropdown2 dropdown2_switcher_elem i-bem\" data-bem=\"{&quot;dropdown2&quot;:{}}\"><a role=\"button\" aria-expanded=\"false\" aria-haspopup=\"true\" class=\"home-link i-bem head-options2__link dropdown2__switcher media-infinity-footer__link media-infinity-footer__settings home-link_black_yes\" href=\"https://yandex.ru/tune/search?retpath=https%3A%2F%2Fyandex.ru%2F&nosync=1\" target=\"_blank\" rel=\"noopener\">\\xd0\\x9d\\xd0\\xb0\\xd1\\x81\\xd1\\x82\\xd1\\x80\\xd0\\xbe\\xd0\\xb9\\xd0\\xba\\xd0\\xb0</a><div class=\"popup2 popup2_view_default popup2_theme_normal popup2_alt-shadow_yes popup2_autoclosable_yes popup2_target_anchor i-bem\" data-bem=\"{&quot;popup2&quot;:{&quot;mainOffset&quot;:12,&quot;directions&quot;:[&quot;bottom-center&quot;,&quot;top-center&quot;]}}\" ><div class=\"popup2__tail\"></div><ul class=\"menu menu_theme_normal menu_view_default menu_tone_default menu_size_sx menu_type_navigation i-bem\" data-bem=\"{&quot;menu&quot;:{}}\"><div class=\"menu__group\" role=\"group\"><li class=\"menu__list-item\"><div class=\"menu__item menu__item_type_link\" data-bem=\"{&quot;menu__item&quot;:{}}\" role=\"menuitem\" data-type=\"hidden-blocks\" tabindex=\"0\" aria-label=\"\\xd0\\x9d\\xd0\\xb0\\xd1\\x81\\xd1\\x82\\xd1\\x80\\xd0\\xbe\\xd0\\xb8\\xd1\\x82\\xd1\\x8c \\xd0\\xb1\\xd0\\xbb\\xd0\\xbe\\xd0\\xba\\xd0\\xb8\"><span class=\"menu__text \">\\xd0\\x9d\\xd0\\xb0\\xd1\\x81\\xd1\\x82\\xd1\\x80\\xd0\\xbe\\xd0\\xb8\\xd1\\x82\\xd1\\x8c \\xd0\\xb1\\xd0\\xbb\\xd0\\xbe\\xd0\\xba\\xd0\\xb8</span></div></li></div><div class=\"menu__group\" role=\"group\"><li class=\"menu__list-item\"><a class=\"menu__item menu__item_type_link\" data-bem=\"{&quot;menu__item&quot;:{}}\" href=\"https://yandex.ru/tune/geo?retpath=https%3A%2F%2Fyandex.ru%2F&nosync=1\" target=\"_self\" role=\"link\" aria-label=\"\\xd0\\x98\\xd0\\xb7\\xd0\\xbc\\xd0\\xb5\\xd0\\xbd\\xd0\\xb8\\xd1\\x82\\xd1\\x8c \\xd0\\xb3\\xd0\\xbe\\xd1\\x80\\xd0\\xbe\\xd0\\xb4\"><span class=\"menu__text \">\\xd0\\x98\\xd0\\xb7\\xd0\\xbc\\xd0\\xb5\\xd0\\xbd\\xd0\\xb8\\xd1\\x82\\xd1\\x8c \\xd0\\xb3\\xd0\\xbe\\xd1\\x80\\xd0\\xbe\\xd0\\xb4</span></a></li><li class=\"menu__list-item\"><a class=\"menu__item menu__item_type_link\" data-bem=\"{&quot;menu__item&quot;:{}}\" href=\"https://yandex.ru/tune/search?retpath=https%3A%2F%2Fyandex.ru%2F&nosync=1\" target=\"_self\" role=\"link\" aria-label=\"\\xd0\\x9d\\xd0\\xb0\\xd1\\x81\\xd1\\x82\\xd1\\x80\\xd0\\xbe\\xd0\\xb9\\xd0\\xba\\xd0\\xb8 \\xd0\\xbf\\xd0\\xbe\\xd1\\x80\\xd1\\x82\\xd0\\xb0\\xd0\\xbb\\xd0\\xb0\"><span class=\"menu__text \">\\xd0\\x9d\\xd0\\xb0\\xd1\\x81\\xd1\\x82\\xd1\\x80\\xd0\\xbe\\xd0\\xb9\\xd0\\xba\\xd0\\xb8 \\xd0\\xbf\\xd0\\xbe\\xd1\\x80\\xd1\\x82\\xd0\\xb0\\xd0\\xbb\\xd0\\xb0</span></a></li></div></ul></div></div></div></div><div class=\"media-infinity-footer__part media-infinity-footer__part_yandex\">&copy;&#160;\\xd0\\xaf\\xd0\\xbd\\xd0\\xb4\\xd0\\xb5\\xd0\\xba\\xd1\\x81</div></div></div></div><script>window.home=window.home||{};window.home[\\'export\\']=JSON.parse(\"{\\\\\"get-static-url\\\\\":{\\\\\"host\\\\\":\\\\\"//yastatic.net\\\\\"},\\\\\"bundles\\\\\":{\\\\\"data\\\\\":{\\\\\"jsSuffix\\\\\":\\\\\"\\\\\",\\\\\"cssSuffix\\\\\":\\\\\"\\\\\",\\\\\"host\\\\\":\\\\\"//yastatic.net\\\\\",\\\\\"root\\\\\":\\\\\"//yastatic.net/s3/home-static/2021-02-19-1/white/pages\\\\\",\\\\\"page\\\\\":\\\\\"bender_zen-ssr\\\\\",\\\\\"locale\\\\\":\\\\\"ru\\\\\"},\\\\\"placed\\\\\":[\\\\\"old-zen\\\\\"]},\\\\\"common\\\\\":{\\\\\"req\\\\\":{\\\\\"MordaZone\\\\\":\\\\\"ru\\\\\",\\\\\"blocks_folded\\\\\":{\\\\\"stream_inserts_films\\\\\":0,\\\\\"services\\\\\":0,\\\\\"answers\\\\\":0,\\\\\"div_sport\\\\\":0,\\\\\"district_inserts\\\\\":0,\\\\\"stream_inserts_platform\\\\\":0,\\\\\"media_event\\\\\":0,\\\\\"nhl\\\\\":0,\\\\\"media_event_shows\\\\\":0,\\\\\"music\\\\\":0,\\\\\"stream_now\\\\\":0,\\\\\"div_uslugi\\\\\":0,\\\\\"tutor\\\\\":0,\\\\\"div_realty\\\\\":0,\\\\\"zen\\\\\":0,\\\\\"div_may9_desktop\\\\\":0,\\\\\"banner_inserts\\\\\":0,\\\\\"infinity_zen\\\\\":0,\\\\\"tv_vods\\\\\":0,\\\\\"tv\\\\\":0,\\\\\"div_kinopoisk_ny\\\\\":0,\\\\\"div_talents_web_desktop\\\\\":0,\\\\\"media_event_carousel\\\\\":0,\\\\\"div_discuss\\\\\":0,\\\\\"div_market_media\\\\\":0,\\\\\"div_q\\\\\":0,\\\\\"div_games\\\\\":0,\\\\\"geo_collections\\\\\":0,\\\\\"games\\\\\":0,\\\\\"covid_isolation\\\\\":0,\\\\\"widgets_list\\\\\":0,\\\\\"chats_inserts\\\\\":0,\\\\\"div_news_inserts\\\\\":0,\\\\\"media_event_2\\\\\":0,\\\\\"stream_inserts_anim_films\\\\\":0,\\\\\"div_media_platform_desktop\\\\\":0,\\\\\"afisha_inserts\\\\\":0,\\\\\"market_media\\\\\":0,\\\\\"covid\\\\\":0,\\\\\"div_autoru_inserts\\\\\":0,\\\\\"div_district_inserts\\\\\":0,\\\\\"afisha\\\\\":0,\\\\\"weather\\\\\":0,\\\\\"geo\\\\\":0,\\\\\"covid_speed\\\\\":0,\\\\\"div_smb\\\\\":0,\\\\\"div_news\\\\\":0,\\\\\"stream_inserts_anim_series\\\\\":0,\\\\\"news_inserts\\\\\":0,\\\\\"video\\\\\":0,\\\\\"topnews\\\\\":0,\\\\\"traffic\\\\\":0,\\\\\"div_magautoru\\\\\":0,\\\\\"stream_inserts_mixed\\\\\":0,\\\\\"autoru_inserts\\\\\":0,\\\\\"kinopoisk\\\\\":0,\\\\\"tv_online\\\\\":0,\\\\\"div_reserved_1\\\\\":0,\\\\\"broadcast\\\\\":0,\\\\\"stream_inserts_series\\\\\":0},\\\\\"inline_tabs\\\\\":1,\\\\\"media_footer\\\\\":{\\\\\"new_tab_links\\\\\":true}},\\\\\"click-href\\\\\":\\\\\"https://yandex.ru/clck/\\\\\"},\\\\\"statlog\\\\\":{\\\\\"config\\\\\":{\\\\\"statRoot\\\\\":\\\\\"\\\\\",\\\\\"showId\\\\\":\\\\\"1613830656.44549.97810.5072\\\\\",\\\\\"enabled\\\\\":false,\\\\\"redirHost\\\\\":\\\\\"https://yandex.ru/clck/\\\\\",\\\\\"clckDemonHost\\\\\":\\\\\"https://yandex.ru/clck/\\\\\",\\\\\"useBeacon\\\\\":0,\\\\\"delayedOneTimer\\\\\":false}},\\\\\"timing\\\\\":{\\\\\"reqid\\\\\":\\\\\"1613830656.44549.97810.5072\\\\\",\\\\\"exp\\\\\":\\\\\"325902,0,85;329923,0,31\\\\\"},\\\\\"fingerprint\\\\\":{\\\\\"data\\\\\":{\\\\\"enabled\\\\\":true,\\\\\"cookieUrl\\\\\":\\\\\"https://yandex.ru/portal/set/any/?sk=yf4dc55d218a48f5e62a0f327f72795b5\\\\\\\\u0026gif=1\\\\\"}},\\\\\"i-yandexuid\\\\\":{\\\\\"data\\\\\":{\\\\\"ls\\\\\":{\\\\\"key\\\\\":\\\\\"yandexuid\\\\\",\\\\\"value\\\\\":\\\\\"v1.0_6652851941613830656:1613830656\\\\\"},\\\\\"cb_url\\\\\":\\\\\"https://yandex.ru/jcb/lsychk/?rz=ru\\\\\\\\u0026sk=yf4dc55d218a48f5e62a0f327f72795b5\\\\\",\\\\\"prefix\\\\\":\\\\\"v1.0_\\\\\"}},\\\\\"i-mda-auth\\\\\":{\\\\\"url\\\\\":\\\\\"https://yandex.ru/portal/set/any/?sk=yf4dc55d218a48f5e62a0f327f72795b5\\\\\\\\u0026mda=0\\\\\\\\u0026empty=1\\\\\"},\\\\\"consistency\\\\\":{\\\\\"data\\\\\":{\\\\\"type\\\\\":\\\\\"none\\\\\",\\\\\"content\\\\\":\\\\\"bender\\\\\",\\\\\"timeout\\\\\":11286.15842996473,\\\\\"custom\\\\\":{},\\\\\"url\\\\\":\\\\\"https://yandex.ru/portal/set/any/?sk=yf4dc55d218a48f5e62a0f327f72795b5\\\\\\\\u0026empty=1\\\\\",\\\\\"csc\\\\\":\\\\\"\\\\\"}},\\\\\"ga-counter\\\\\":{\\\\\"morda\\\\\":\\\\\"\\\\\",\\\\\"ether\\\\\":{\\\\\"id\\\\\":796521919,\\\\\"customLabels\\\\\":{\\\\\"ether\\\\\":[\\\\\"i6KYCPiJ-4UBEL_r5_sC\\\\\"]},\\\\\"remarketingOnly\\\\\":false,\\\\\"timeout\\\\\":30000,\\\\\"iframeSrc\\\\\":\\\\\"https://yastatic.net/s3/home/ga-counter/9/index.html\\\\\"}},\\\\\"szm\\\\\":{\\\\\"data\\\\\":{\\\\\"url\\\\\":\\\\\"https://yandex.ru/portal/set/any/?sk=yf4dc55d218a48f5e62a0f327f72795b5\\\\\\\\u0026gif=1\\\\\\\\u0026szm=\\\\\",\\\\\"timeout\\\\\":2000,\\\\\"szm\\\\\":{},\\\\\"swap\\\\\":\\\\\"\\\\\"}},\\\\\"yandcache\\\\\":{\\\\\"data\\\\\":{\\\\\"url\\\\\":\\\\\"//yandex.ru/search/yandcache.js\\\\\",\\\\\"timeout\\\\\":5500}},\\\\\"datetime\\\\\":{\\\\\"data\\\\\":{\\\\\"monthArr\\\\\":[\\\\\"\\xd1\\x8f\\xd0\\xbd\\xd0\\xb2\\xd0\\xb0\\xd1\\x80\\xd1\\x8f\\\\\",\\\\\"\\xd1\\x84\\xd0\\xb5\\xd0\\xb2\\xd1\\x80\\xd0\\xb0\\xd0\\xbb\\xd1\\x8f\\\\\",\\\\\"\\xd0\\xbc\\xd0\\xb0\\xd1\\x80\\xd1\\x82\\xd0\\xb0\\\\\",\\\\\"\\xd0\\xb0\\xd0\\xbf\\xd1\\x80\\xd0\\xb5\\xd0\\xbb\\xd1\\x8f\\\\\",\\\\\"\\xd0\\xbc\\xd0\\xb0\\xd1\\x8f\\\\\",\\\\\"\\xd0\\xb8\\xd1\\x8e\\xd0\\xbd\\xd1\\x8f\\\\\",\\\\\"\\xd0\\xb8\\xd1\\x8e\\xd0\\xbb\\xd1\\x8f\\\\\",\\\\\"\\xd0\\xb0\\xd0\\xb2\\xd0\\xb3\\xd1\\x83\\xd1\\x81\\xd1\\x82\\xd0\\xb0\\\\\",\\\\\"\\xd1\\x81\\xd0\\xb5\\xd0\\xbd\\xd1\\x82\\xd1\\x8f\\xd0\\xb1\\xd1\\x80\\xd1\\x8f\\\\\",\\\\\"\\xd0\\xbe\\xd0\\xba\\xd1\\x82\\xd1\\x8f\\xd0\\xb1\\xd1\\x80\\xd1\\x8f\\\\\",\\\\\"\\xd0\\xbd\\xd0\\xbe\\xd1\\x8f\\xd0\\xb1\\xd1\\x80\\xd1\\x8f\\\\\",\\\\\"\\xd0\\xb4\\xd0\\xb5\\xd0\\xba\\xd0\\xb0\\xd0\\xb1\\xd1\\x80\\xd1\\x8f\\\\\"],\\\\\"monthShortArr\\\\\":[\\\\\"\\xd1\\x8f\\xd0\\xbd\\xd0\\xb2.\\\\\",\\\\\"\\xd1\\x84\\xd0\\xb5\\xd0\\xb2\\xd1\\x80.\\\\\",\\\\\"\\xd0\\xbc\\xd0\\xb0\\xd1\\x80\\xd1\\x82\\xd0\\xb0\\\\\",\\\\\"\\xd0\\xb0\\xd0\\xbf\\xd1\\x80.\\\\\",\\\\\"\\xd0\\xbc\\xd0\\xb0\\xd1\\x8f\\\\\",\\\\\"\\xd0\\xb8\\xd1\\x8e\\xd0\\xbd\\xd1\\x8f\\\\\",\\\\\"\\xd0\\xb8\\xd1\\x8e\\xd0\\xbb\\xd1\\x8f\\\\\",\\\\\"\\xd0\\xb0\\xd0\\xb2\\xd0\\xb3.\\\\\",\\\\\"\\xd1\\x81\\xd0\\xb5\\xd0\\xbd\\xd1\\x82.\\\\\",\\\\\"\\xd0\\xbe\\xd0\\xba\\xd1\\x82.\\\\\",\\\\\"\\xd0\\xbd\\xd0\\xbe\\xd1\\x8f\\xd0\\xb1.\\\\\",\\\\\"\\xd0\\xb4\\xd0\\xb5\\xd0\\xba.\\\\\"],\\\\\"weekArr\\\\\":[\\\\\"\\xd0\\xb2\\xd0\\xbe\\xd1\\x81\\xd0\\xba\\xd1\\x80\\xd0\\xb5\\xd1\\x81\\xd0\\xb5\\xd0\\xbd\\xd1\\x8c\\xd0\\xb5\\\\\",\\\\\"\\xd0\\xbf\\xd0\\xbe\\xd0\\xbd\\xd0\\xb5\\xd0\\xb4\\xd0\\xb5\\xd0\\xbb\\xd1\\x8c\\xd0\\xbd\\xd0\\xb8\\xd0\\xba\\\\\",\\\\\"\\xd0\\xb2\\xd1\\x82\\xd0\\xbe\\xd1\\x80\\xd0\\xbd\\xd0\\xb8\\xd0\\xba\\\\\",\\\\\"\\xd1\\x81\\xd1\\x80\\xd0\\xb5\\xd0\\xb4\\xd0\\xb0\\\\\",\\\\\"\\xd1\\x87\\xd0\\xb5\\xd1\\x82\\xd0\\xb2\\xd0\\xb5\\xd1\\x80\\xd0\\xb3\\\\\",\\\\\"\\xd0\\xbf\\xd1\\x8f\\xd1\\x82\\xd0\\xbd\\xd0\\xb8\\xd1\\x86\\xd0\\xb0\\\\\",\\\\\"\\xd1\\x81\\xd1\\x83\\xd0\\xb1\\xd0\\xb1\\xd0\\xbe\\xd1\\x82\\xd0\\xb0\\\\\"]}},\\\\\"i-bannerid\\\\\":{\\\\\"csl\\\\\":\\\\\"https://yandex.ru/portal/set/any/?sk=yf4dc55d218a48f5e62a0f327f72795b5\\\\\\\\u0026empty=1\\\\\\\\u0026bnrd=%s\\\\\"},\\\\\"geo\\\\\":{\\\\\"sk\\\\\":\\\\\"yf4dc55d218a48f5e62a0f327f72795b5\\\\\",\\\\\"gpsaveUrl\\\\\":\\\\\"https://yandex.ru/gpsave?sk=yf4dc55d218a48f5e62a0f327f72795b5\\\\\\\\u0026no_mda=1\\\\\",\\\\\"laas\\\\\":1,\\\\\"latlong\\\\\":[55.796289,49.108795]},\\\\\"tech-counters\\\\\":{\\\\\"enabled\\\\\":1,\\\\\"isTouch\\\\\":0,\\\\\"isTablet\\\\\":\\\\\"\\\\\"},\\\\\"i-xiva\\\\\":{\\\\\"url\\\\\":\\\\\"portal-xiva.yandex.net\\\\\"},\\\\\"adb\\\\\":{\\\\\"data\\\\\":{\\\\\"adb\\\\\":0,\\\\\"skin\\\\\":\\\\\"\\\\\",\\\\\"domain\\\\\":\\\\\"yandex.ru\\\\\",\\\\\"timeout\\\\\":1785,\\\\\"adg\\\\\":{\\\\\"str\\\\\":\\\\\"\\\\\\\\u003cdiv class=\\\\\\\\\\\\\"dist-popup\\\\\\\\\\\\\"\\\\\\\\u003e\\\\\\\\u003cdiv class=\\\\\\\\\\\\\"ad-card\\\\\\\\\\\\\"\\\\\\\\u003e\\\\\\\\u003c/div\\\\\\\\u003e\\\\\\\\u003c/div\\\\\\\\u003e\\\\\",\\\\\"check\\\\\":\\\\\".dist-popup .ad-card\\\\\"},\\\\\"desktopKubr\\\\\":true,\\\\\"touchKubr\\\\\":false,\\\\\"cookie\\\\\":\\\\\"pClnKCSBXcHUp\\\\\"}},\\\\\"strm-check\\\\\":{\\\\\"data\\\\\":{\\\\\"size\\\\\":\\\\\"51200\\\\\",\\\\\"count\\\\\":\\\\\"5\\\\\",\\\\\"timeout\\\\\":\\\\\"30\\\\\"}},\\\\\"media-grid\\\\\":{\\\\\"blocks_fold_url\\\\\":\\\\\"https://yandex.ru/portal/blocks/fold?sk=yf4dc55d218a48f5e62a0f327f72795b5\\\\\\\\u0026blocks=\\\\\",\\\\\"blocks_unfold_url\\\\\":\\\\\"https://yandex.ru/portal/blocks/unfold?sk=yf4dc55d218a48f5e62a0f327f72795b5\\\\\\\\u0026blocks=\\\\\",\\\\\"blocks_settings\\\\\":{\\\\\"tutor\\\\\":{\\\\\"service\\\\\":{\\\\\"icon_id\\\\\":\\\\\"tutor0\\\\\"}},\\\\\"div_autoru_inserts\\\\\":{\\\\\"service\\\\\":{\\\\\"icon_id\\\\\":\\\\\"autoru0\\\\\"}},\\\\\"afisha_inserts\\\\\":{\\\\\"service\\\\\":{\\\\\"icon_id\\\\\":\\\\\"afisha\\\\\"}},\\\\\"div_reserved_1\\\\\":{\\\\\"service\\\\\":{\\\\\"icon_id\\\\\":\\\\\"classifieds\\\\\"}},\\\\\"div_magautoru\\\\\":{\\\\\"service\\\\\":{\\\\\"icon_id\\\\\":\\\\\"autoru0\\\\\"}},\\\\\"kinopoisk\\\\\":{\\\\\"service\\\\\":{\\\\\"icon_id\\\\\":\\\\\"kinopoisk_old0\\\\\"}},\\\\\"div_news_inserts\\\\\":{\\\\\"service\\\\\":{\\\\\"icon_id\\\\\":\\\\\"news\\\\\"}},\\\\\"infinity_zen\\\\\":{\\\\\"service\\\\\":{\\\\\"icon_id\\\\\":\\\\\"zen1\\\\\"}},\\\\\"div_sport\\\\\":{\\\\\"service\\\\\":{\\\\\"icon_id\\\\\":\\\\\"sport0\\\\\"}},\\\\\"div_q\\\\\":{\\\\\"service\\\\\":{\\\\\"icon_id\\\\\":\\\\\"q0\\\\\"}}},\\\\\"layoutMap\\\\\":{\\\\\"rtb_inserts\\\\\":1,\\\\\"afisha_inserts\\\\\":1,\\\\\"div_sport\\\\\":1},\\\\\"div2\\\\\":[\\\\\"div_q\\\\\",\\\\\"div_news_inserts\\\\\",\\\\\"div_magautoru\\\\\",\\\\\"div_reserved_1\\\\\",\\\\\"div_autoru_inserts\\\\\",\\\\\"div_district_inserts\\\\\",\\\\\"div_kinopoisk_ny\\\\\"],\\\\\"bg\\\\\":{\\\\\"div_reserved_1\\\\\":\\\\\"1\\\\\"}},\\\\\"zen-inserter\\\\\":{\\\\\"blocks\\\\\":[],\\\\\"zen_insert_multiple_placeholders\\\\\":false,\\\\\"zen_united_feed\\\\\":false,\\\\\"namesMapper\\\\\":{\\\\\"kinopoisk\\\\\":\\\\\"kinopoisk\\\\\",\\\\\"div_magautoru\\\\\":\\\\\"magautoru_div\\\\\",\\\\\"infinity_zen\\\\\":\\\\\"infinity_zen\\\\\",\\\\\"div_reserved_1\\\\\":\\\\\"div_ads\\\\\",\\\\\"div_sport\\\\\":\\\\\"sport_div\\\\\",\\\\\"div_q\\\\\":\\\\\"q_div\\\\\",\\\\\"div_news_inserts\\\\\":\\\\\"topnews_div\\\\\",\\\\\"widgets_list\\\\\":\\\\\"widgets_list\\\\\",\\\\\"div_autoru_inserts\\\\\":\\\\\"autoru_div\\\\\",\\\\\"tutor\\\\\":\\\\\"tutor\\\\\",\\\\\"afisha_inserts\\\\\":\\\\\"zen_afisha\\\\\",\\\\\"rtb_inserts\\\\\":\\\\\"rtb_inserts\\\\\"}},\\\\\"region\\\\\":{\\\\\"tuneUrl\\\\\":\\\\\"https://yandex.ru/tune/geo?retpath=https%3A%2F%2Fyandex.ru%2F\\\\\\\\u0026nosync=1\\\\\"},\\\\\"i-sw-reporter\\\\\":{\\\\\"on\\\\\":1},\\\\\"hidden-blocks-popup\\\\\":{\\\\\"changeUrl\\\\\":\\\\\"https://yandex.ru/portal/blocks/change?sk=yf4dc55d218a48f5e62a0f327f72795b5\\\\\",\\\\\"blocks\\\\\":[{\\\\\"layoutName\\\\\":\\\\\"afisha_inserts\\\\\",\\\\\"isHidden\\\\\":false,\\\\\"title\\\\\":\\\\\"\\xd0\\x90\\xd1\\x84\\xd0\\xb8\\xd1\\x88\\xd0\\xb0\\\\\",\\\\\"desc\\\\\":\\\\\"\\xd0\\xa0\\xd0\\xb0\\xd1\\x81\\xd0\\xbf\\xd0\\xb8\\xd1\\x81\\xd0\\xb0\\xd0\\xbd\\xd0\\xb8\\xd0\\xb5 \\xd1\\x80\\xd0\\xb0\\xd0\\xb7\\xd0\\xb2\\xd0\\xbb\\xd0\\xb5\\xd1\\x87\\xd0\\xb5\\xd0\\xbd\\xd0\\xb8\\xd0\\xb9 \\xd0\\xb2 \\xd0\\xb2\\xd0\\xb0\\xd1\\x88\\xd0\\xb5\\xd0\\xbc \\xd0\\xb3\\xd0\\xbe\\xd1\\x80\\xd0\\xbe\\xd0\\xb4\\xd0\\xb5\\\\\"},{\\\\\"layoutName\\\\\":\\\\\"div_sport\\\\\",\\\\\"isHidden\\\\\":false,\\\\\"title\\\\\":\\\\\"\\xd0\\xa1\\xd0\\xbf\\xd0\\xbe\\xd1\\x80\\xd1\\x82\\\\\",\\\\\"desc\\\\\":\\\\\"\\xd0\\x9f\\xd0\\xb5\\xd1\\x80\\xd1\\x81\\xd0\\xbe\\xd0\\xbd\\xd0\\xb0\\xd0\\xbb\\xd1\\x8c\\xd0\\xbd\\xd0\\xb0\\xd1\\x8f \\xd0\\xbb\\xd0\\xb5\\xd0\\xbd\\xd1\\x82\\xd0\\xb0 \\xd0\\xbe \\xd1\\x84\\xd1\\x83\\xd1\\x82\\xd0\\xb1\\xd0\\xbe\\xd0\\xbb\\xd0\\xb5, \\xd1\\x85\\xd0\\xbe\\xd0\\xba\\xd0\\xba\\xd0\\xb5\\xd0\\xb5, \\xd0\\xb1\\xd0\\xb0\\xd1\\x81\\xd0\\xba\\xd0\\xb5\\xd1\\x82\\xd0\\xb1\\xd0\\xbe\\xd0\\xbb\\xd0\\xb5 \\xd0\\xb8 \\xd0\\xb4\\xd1\\x80\\xd1\\x83\\xd0\\xb3\\xd0\\xb8\\xd1\\x85 \\xd0\\xb2\\xd0\\xb8\\xd0\\xb4\\xd0\\xb0\\xd1\\x85 \\xd1\\x81\\xd0\\xbf\\xd0\\xbe\\xd1\\x80\\xd1\\x82\\xd0\\xb0\\\\\"},{\\\\\"layoutName\\\\\":\\\\\"zen\\\\\",\\\\\"isHidden\\\\\":false,\\\\\"title\\\\\":\\\\\"\\xd0\\x94\\xd0\\xb7\\xd0\\xb5\\xd0\\xbd\\\\\",\\\\\"desc\\\\\":\\\\\"\\xd0\\xbf\\xd0\\xb5\\xd1\\x80\\xd1\\x81\\xd0\\xbe\\xd0\\xbd\\xd0\\xb0\\xd0\\xbb\\xd1\\x8c\\xd0\\xbd\\xd0\\xb0\\xd1\\x8f \\xd0\\xbb\\xd0\\xb5\\xd0\\xbd\\xd1\\x82\\xd0\\xb0 \\xd0\\xbf\\xd1\\x83\\xd0\\xb1\\xd0\\xbb\\xd0\\xb8\\xd0\\xba\\xd0\\xb0\\xd1\\x86\\xd0\\xb8\\xd0\\xb9\\\\\"}]},\\\\\"messenger\\\\\":{\\\\\"data\\\\\":{\\\\\"unreadUrl\\\\\":\\\\\"https://yandex.ru/messenger/api/unread_count?c=1\\\\\",\\\\\"url\\\\\":\\\\\"https://yastatic.net/s3/chat/1.29.0/widget_ya.js\\\\\",\\\\\"theme\\\\\":\\\\\"light\\\\\",\\\\\"passportUrl\\\\\":\\\\\"https://passport.yandex.ru/auth\\\\\",\\\\\"homePageNoArgs\\\\\":\\\\\"https://yandex.ru\\\\\",\\\\\"overrideConfig\\\\\":{\\\\\"fullscreen\\\\\":1},\\\\\"hasNotif\\\\\":false}},\\\\\"i-messenger-unread\\\\\":{\\\\\"data\\\\\":{\\\\\"unreadUrl\\\\\":\\\\\"https://yandex.ru/messenger/api/unread_count?c=1\\\\\"}},\\\\\"geohelper\\\\\":{\\\\\"disabled\\\\\":false},\\\\\"i-jquery\\\\\":{\\\\\"disableEval\\\\\":1},\\\\\"i-scroll-changes\\\\\":{\\\\\"data\\\\\":{\\\\\"scroll_slowdown_listener\\\\\":false,\\\\\"scroll_slowdown_scroll_event\\\\\":false,\\\\\"scroll_slowdown_dom_calc\\\\\":false,\\\\\"scroll_speedup_wheel\\\\\":false,\\\\\"scroll_speedup_hover\\\\\":false}},\\\\\"yabs\\\\\":{\\\\\"pixelBase\\\\\":\\\\\"https://yabs.yandex.ru/count/WFOejI_zO4u0PGS0L0j5IFHZDdZ4J0K0JW4GWX0n01enO000000useqKy0A-meRx0_050Q06Lia6008fivUjKrnVFv7WAO1WxWcg2n1UyFutFv400Dgf0Jl5k_0B1U0DWe20G9WEW8IacVkowwbS-13h__y1W17gg170X3tm4jWLmOhsxAEFlFnZyCaMy3-15wWN2PaOq1W1-1Y06R0Pk1d__m7I6H9vOM9pNtDbSdPbSYzoDJ0pBJFe6O320_0PWC834W1tP7mo1OE2koeQ9j4jX1mI0xjiMJGXTc3KjXDp0QrHEjOOrWk3LRHprege7WQNZJbq67i0~1\\\\\"},\\\\\"banner\\\\\":{\\\\\"logsEnable\\\\\":\\\\\"\\\\\",\\\\\"logs\\\\\":[{\\\\\"params\\\\\":{\\\\\"\\xd0\\xb1\\xd0\\xb0\\xd0\\xbd\\xd0\\xbd\\xd0\\xb5\\xd1\\x80\\\\\":\\\\\"awaps - marketing\\\\\",\\\\\"id\\\\\":3732128},\\\\\"time\\\\\":0,\\\\\"action\\\\\":\\\\\"\\xd0\\xbe\\xd1\\x82\\xd1\\x80\\xd0\\xb8\\xd1\\x81\\xd0\\xbe\\xd0\\xb2\\xd0\\xba\\xd0\\xb0 \\xd0\\xb1\\xd0\\xb0\\xd0\\xbd\\xd0\\xbd\\xd0\\xb5\\xd1\\x80\\xd0\\xb0 \\xd0\\xbd\\xd0\\xb0 \\xd1\\x81\\xd0\\xb5\\xd1\\x80\\xd0\\xb2\\xd0\\xb5\\xd1\\x80\\xd0\\xb5\\\\\"}],\\\\\"bnCounts\\\\\":[\\\\\"https://awaps.yandex.net/0/c1/tx21lszVAoU5vGvVMTT5HdbOhvZCc57hEVjKX7rvleTBH0VR-3+nAWt5ZhJr4_tV4g-wJKScp7dFxNsWFCtGGzcuI+zLOuABewZ5LV1+zKmqK-vjwHdWKSgOdjE_tbd-OELFsgZcSJ9TzRPe6C3aQTibVYO8lvRiqpAmxtsyNZszcEGtcT1brRS3O_tGRcpOZ8xGEeX2auBu--pfBrPFw+JLDqZSNvvCXqGAwi42aWNU7k8GzCMTlI0_tCoCWyk2hOw-s-NXiWuGlsm8xpX6NGY8O26PQkXqFjr-o5pn+tPDhJqz7Uy5K_tyGMrnNO3U7mJRXhhQojiS6dI5tIXEl3sChDpDgGJ-afTrBeBWzUb1cNKuBGY_qUZramOJiTBITVLGyJnAjjxpHchrnKI+nD2KRmIeMEWNS0GQPBHF43SKs_A_.gif?locale=ru\\\\\\\\u0026morda_rid=1613830656.44549.97810.5072\\\\\\\\u0026pageview_id=1613830656.44549.97810.5072\\\\\\\\u0026slots=325902%2C0%2C85%3B329923%2C0%2C31\\\\\"]},\\\\\"inline-stocks\\\\\":{\\\\\"xivas\\\\\":[{\\\\\"ch\\\\\":\\\\\"XDATA.stocks_2002_10000\\\\\",\\\\\"ts\\\\\":1613829480},{\\\\\"ch\\\\\":\\\\\"XDATA.stocks_2000_10000\\\\\",\\\\\"ts\\\\\":1613829478},{\\\\\"ch\\\\\":\\\\\"XDATA.stocks_1006_10000\\\\\",\\\\\"ts\\\\\":1613829480}],\\\\\"alts\\\\\":{\\\\\"1006\\\\\":\\\\\"\\xd1\\x86\\xd0\\xb5\\xd0\\xbd\\xd0\\xb0 \\xd0\\xbd\\xd0\\xb0 %d\\\\\",\\\\\"2000\\\\\":\\\\\"\\xd0\\xba\\xd1\\x83\\xd1\\x80\\xd1\\x81 MOEX \\xd0\\xbd\\xd0\\xb0 %d\\\\\",\\\\\"2002\\\\\":\\\\\"\\xd0\\xba\\xd1\\x83\\xd1\\x80\\xd1\\x81 MOEX \\xd0\\xbd\\xd0\\xb0 %d\\\\\"}},\\\\\"services-new\\\\\":{\\\\\"data\\\\\":{\\\\\"fullList\\\\\":[{\\\\\"text\\\\\":\\\\\"\\xd0\\x90\\xd0\\xb2\\xd0\\xb8\\xd0\\xb0\\xd0\\xb1\\xd0\\xb8\\xd0\\xbb\\xd0\\xb5\\xd1\\x82\\xd1\\x8b\\\\\",\\\\\"service\\\\\":\\\\\"avia\\\\\",\\\\\"url\\\\\":\\\\\"https://travel.yandex.ru/avia/?utm_source=main_stripe_big\\\\\",\\\\\"icon\\\\\":\\\\\"avia1\\\\\"},{\\\\\"text\\\\\":\\\\\"\\xd0\\x90\\xd0\\xb2\\xd1\\x82\\xd0\\xbe.\\xd1\\x80\\xd1\\x83\\\\\",\\\\\"service\\\\\":\\\\\"autoru\\\\\",\\\\\"url\\\\\":\\\\\"https://auto.ru/?utm_source=main_stripe_big\\\\\",\\\\\"icon\\\\\":\\\\\"autoru\\\\\"},{\\\\\"text\\\\\":\\\\\"\\xd0\\x90\\xd1\\x84\\xd0\\xb8\\xd1\\x88\\xd0\\xb0\\\\\",\\\\\"service\\\\\":\\\\\"afisha\\\\\",\\\\\"url\\\\\":\\\\\"https://afisha.yandex.ru/?utm_source=main_stripe_big\\\\\",\\\\\"icon\\\\\":\\\\\"afisha\\\\\"},{\\\\\"text\\\\\":\\\\\"\\xd0\\x92\\xd0\\xb8\\xd0\\xb4\\xd0\\xb5\\xd0\\xbe\\\\\",\\\\\"service\\\\\":\\\\\"video\\\\\",\\\\\"url\\\\\":\\\\\"https://yandex.ru/video/?utm_source=main_stripe_big\\\\\",\\\\\"icon\\\\\":\\\\\"video\\\\\",\\\\\"search\\\\\":\\\\\"//yandex.ru/video/search?text=%25s\\\\\"},{\\\\\"text\\\\\":\\\\\"\\xd0\\x94\\xd0\\xb7\\xd0\\xb5\\xd0\\xbd\\\\\",\\\\\"service\\\\\":\\\\\"zen\\\\\",\\\\\"url\\\\\":\\\\\"https://zen.yandex.ru/?utm_source=main_stripe_big\\\\\",\\\\\"icon\\\\\":\\\\\"zen\\\\\"},{\\\\\"text\\\\\":\\\\\"\\xd0\\x94\\xd0\\xb8\\xd1\\x80\\xd0\\xb5\\xd0\\xba\\xd1\\x82\\\\\",\\\\\"service\\\\\":\\\\\"direct\\\\\",\\\\\"url\\\\\":\\\\\"https://direct.yandex.ru/?utm_source=main_stripe_big\\\\\",\\\\\"icon\\\\\":\\\\\"direct\\\\\"},{\\\\\"text\\\\\":\\\\\"\\xd0\\x94\\xd0\\xb8\\xd1\\x81\\xd0\\xba\\\\\",\\\\\"service\\\\\":\\\\\"disk\\\\\",\\\\\"url\\\\\":\\\\\"https://disk.yandex.ru/?utm_source=main_stripe_big\\\\\",\\\\\"icon\\\\\":\\\\\"disk\\\\\"},{\\\\\"text\\\\\":\\\\\"\\xd0\\x94\\xd1\\x80\\xd0\\xb0\\xd0\\xb9\\xd0\\xb2\\\\\",\\\\\"service\\\\\":\\\\\"drive\\\\\",\\\\\"url\\\\\":\\\\\"https://yandex.ru/drive/?utm_source=main_stripe_big\\\\\",\\\\\"icon\\\\\":\\\\\"drive\\\\\"},{\\\\\"text\\\\\":\\\\\"\\xd0\\x95\\xd0\\xb4\\xd0\\xb0\\\\\",\\\\\"service\\\\\":\\\\\"eda\\\\\",\\\\\"url\\\\\":\\\\\"https://eda.yandex/?utm_source=main_stripe_big\\\\\",\\\\\"icon\\\\\":\\\\\"eda\\\\\"},{\\\\\"text\\\\\":\\\\\"\\xd0\\x95\\xd0\\xb4\\xd0\\xb0\\xd0\\xb4\\xd0\\xb8\\xd0\\xbb\\\\\",\\\\\"service\\\\\":\\\\\"edadeal\\\\\",\\\\\"url\\\\\":\\\\\"https://edadeal.ru/?utm_source=main_stripe_big\\\\\",\\\\\"icon\\\\\":\\\\\"edadeal\\\\\"},{\\\\\"text\\\\\":\\\\\"\\xd0\\x97\\xd0\\xb4\\xd0\\xbe\\xd1\\x80\\xd0\\xbe\\xd0\\xb2\\xd1\\x8c\\xd0\\xb5\\\\\",\\\\\"service\\\\\":\\\\\"health\\\\\",\\\\\"url\\\\\":\\\\\"https://health.yandex.ru/?utm_source=main_stripe_big\\\\\",\\\\\"icon\\\\\":\\\\\"zdorovie\\\\\"},{\\\\\"text\\\\\":\\\\\"\\xd0\\x98\\xd0\\xb3\\xd1\\x80\\xd1\\x8b\\\\\",\\\\\"service\\\\\":\\\\\"games\\\\\",\\\\\"url\\\\\":\\\\\"https://yandex.ru/games/?utm_source=main_stripe_big\\\\\",\\\\\"icon\\\\\":\\\\\"games\\\\\"},{\\\\\"text\\\\\":\\\\\"\\xd0\\x9a\\xd0\\xb0\\xd1\\x80\\xd1\\x82\\xd0\\xb8\\xd0\\xbd\\xd0\\xba\\xd0\\xb8\\\\\",\\\\\"service\\\\\":\\\\\"images\\\\\",\\\\\"url\\\\\":\\\\\"https://yandex.ru/images/?utm_source=main_stripe_big\\\\\",\\\\\"icon\\\\\":\\\\\"kartinki\\\\\",\\\\\"search\\\\\":\\\\\"//yandex.ru/images/search?text=%25s\\\\\"},{\\\\\"text\\\\\":\\\\\"\\xd0\\x9a\\xd0\\xb0\\xd1\\x80\\xd1\\x82\\xd1\\x8b\\\\\",\\\\\"service\\\\\":\\\\\"maps\\\\\",\\\\\"url\\\\\":\\\\\"https://yandex.ru/maps/?utm_source=main_stripe_big\\\\\",\\\\\"icon\\\\\":\\\\\"maps\\\\\",\\\\\"search\\\\\":\\\\\"https://yandex.ru/maps/?source=morda\\\\\\\\u0026text=%25s\\\\\"},{\\\\\"text\\\\\":\\\\\"\\xd0\\x9a\\xd0\\xb8\\xd0\\xbd\\xd0\\xbe\\xd0\\x9f\\xd0\\xbe\\xd0\\xb8\\xd1\\x81\\xd0\\xba\\\\\",\\\\\"service\\\\\":\\\\\"kinopoisk_old\\\\\",\\\\\"url\\\\\":\\\\\"https://www.kinopoisk.ru/?utm_source=main_stripe_big\\\\\",\\\\\"icon\\\\\":\\\\\"kinopoisk\\\\\"},{\\\\\"text\\\\\":\\\\\"\\xd0\\x9a\\xd1\\x8c\\xd1\\x8e\\\\\",\\\\\"service\\\\\":\\\\\"q\\\\\",\\\\\"url\\\\\":\\\\\"https://yandex.ru/q/?utm_source=main_stripe_big\\\\\",\\\\\"icon\\\\\":\\\\\"q\\\\\"},{\\\\\"text\\\\\":\\\\\"\\xd0\\x9c\\xd0\\xb0\\xd1\\x80\\xd0\\xba\\xd0\\xb5\\xd1\\x82\\\\\",\\\\\"service\\\\\":\\\\\"market\\\\\",\\\\\"url\\\\\":\\\\\"https://market.yandex.ru/?clid=505\\\\\\\\u0026utm_source=main_stripe_big\\\\\",\\\\\"icon\\\\\":\\\\\"market_4\\\\\",\\\\\"search\\\\\":\\\\\"https://market.yandex.ru/search.xml?cvredirect=2\\\\\\\\u0026clid=527\\\\\\\\u0026text=%25s\\\\\"},{\\\\\"text\\\\\":\\\\\"\\xd0\\x9c\\xd0\\xb5\\xd1\\x82\\xd1\\x80\\xd0\\xb8\\xd0\\xba\\xd0\\xb0\\\\\",\\\\\"service\\\\\":\\\\\"metrika\\\\\",\\\\\"url\\\\\":\\\\\"https://metrika.yandex.ru/?utm_source=main_stripe_big\\\\\",\\\\\"icon\\\\\":\\\\\"metrika\\\\\"},{\\\\\"text\\\\\":\\\\\"\\xd0\\x9c\\xd1\\x83\\xd0\\xb7\\xd1\\x8b\\xd0\\xba\\xd0\\xb0\\\\\",\\\\\"service\\\\\":\\\\\"music\\\\\",\\\\\"url\\\\\":\\\\\"https://music.yandex.ru/?utm_source=main_stripe_big\\\\\",\\\\\"icon\\\\\":\\\\\"music1\\\\\",\\\\\"search\\\\\":\\\\\"https://music.yandex.ru/search?text=%25s\\\\\"},{\\\\\"text\\\\\":\\\\\"\\xd0\\x9d\\xd0\\xb5\\xd0\\xb4\\xd0\\xb2\\xd0\\xb8\\xd0\\xb6\\xd0\\xb8\\xd0\\xbc\\xd0\\xbe\\xd1\\x81\\xd1\\x82\\xd1\\x8c\\\\\",\\\\\"service\\\\\":\\\\\"realty\\\\\",\\\\\"url\\\\\":\\\\\"https://realty.yandex.ru/?utm_source=main_stripe_big\\\\\",\\\\\"icon\\\\\":\\\\\"nedvizhimost\\\\\"},{\\\\\"text\\\\\":\\\\\"\\xd0\\x9d\\xd0\\xbe\\xd0\\xb2\\xd0\\xbe\\xd1\\x81\\xd1\\x82\\xd0\\xb8\\\\\",\\\\\"service\\\\\":\\\\\"news\\\\\",\\\\\"url\\\\\":\\\\\"https://yandex.ru/news/?utm_source=main_stripe_big\\\\\",\\\\\"icon\\\\\":\\\\\"news\\\\\",\\\\\"search\\\\\":\\\\\"https://news.yandex.ru/yandsearch?rpt=nnews2\\\\\\\\u0026grhow=clutop\\\\\\\\u0026text=%25s\\\\\"},{\\\\\"text\\\\\":\\\\\"\\xd0\\x9e\\xd1\\x82\\xd0\\xb5\\xd0\\xbb\\xd0\\xb8\\\\\",\\\\\"service\\\\\":\\\\\"hotels\\\\\",\\\\\"url\\\\\":\\\\\"https://travel.yandex.ru/hotels/?utm_source=main_stripe_big\\\\\",\\\\\"icon\\\\\":\\\\\"hotels\\\\\"},{\\\\\"text\\\\\":\\\\\"\\xd0\\x9f\\xd0\\xb5\\xd1\\x80\\xd0\\xb5\\xd0\\xb2\\xd0\\xbe\\xd0\\xb4\\xd1\\x87\\xd0\\xb8\\xd0\\xba\\\\\",\\\\\"service\\\\\":\\\\\"translate\\\\\",\\\\\"url\\\\\":\\\\\"https://translate.yandex.ru/?utm_source=main_stripe_big\\\\\",\\\\\"icon\\\\\":\\\\\"translate\\\\\",\\\\\"search\\\\\":\\\\\"https://translate.yandex.ru/?text=%25s\\\\\"},{\\\\\"text\\\\\":\\\\\"\\xd0\\x9f\\xd0\\xbe\\xd1\\x87\\xd1\\x82\\xd0\\xb0\\\\\",\\\\\"service\\\\\":\\\\\"mail\\\\\",\\\\\"url\\\\\":\\\\\"https://mail.yandex.ru/?utm_source=main_stripe_big\\\\\",\\\\\"icon\\\\\":\\\\\"mail\\\\\"},{\\\\\"text\\\\\":\\\\\"\\xd0\\x9f\\xd1\\x80\\xd0\\xb0\\xd0\\xba\\xd1\\x82\\xd0\\xb8\\xd0\\xba\\xd1\\x83\\xd0\\xbc\\\\\",\\\\\"service\\\\\":\\\\\"praktikum\\\\\",\\\\\"url\\\\\":\\\\\"https://praktikum.yandex.ru/?utm_source=main_stripe_big\\\\\",\\\\\"icon\\\\\":\\\\\"praktikum1\\\\\"},{\\\\\"text\\\\\":\\\\\"\\xd0\\x9f\\xd1\\x80\\xd0\\xbe\\xd0\\xb3\\xd1\\x80\\xd0\\xb0\\xd0\\xbc\\xd0\\xbc\\xd0\\xb0\\\\\",\\\\\"service\\\\\":\\\\\"tv\\\\\",\\\\\"url\\\\\":\\\\\"https://tv.yandex.ru/?utm_source=main_stripe_big\\\\\",\\\\\"icon\\\\\":\\\\\"tv\\\\\"},{\\\\\"text\\\\\":\\\\\"\\xd0\\x9f\\xd1\\x83\\xd1\\x82\\xd0\\xb5\\xd1\\x88\\xd0\\xb5\\xd1\\x81\\xd1\\x82\\xd0\\xb2\\xd0\\xb8\\xd1\\x8f\\\\\",\\\\\"service\\\\\":\\\\\"travel\\\\\",\\\\\"url\\\\\":\\\\\"https://travel.yandex.ru/?utm_source=main_stripe_big\\\\\",\\\\\"icon\\\\\":\\\\\"travel\\\\\"},{\\\\\"text\\\\\":\\\\\"\\xd0\\xa0\\xd0\\xb0\\xd0\\xb1\\xd0\\xbe\\xd1\\x82\\xd0\\xb0\\\\\",\\\\\"service\\\\\":\\\\\"rabota\\\\\",\\\\\"url\\\\\":\\\\\"https://rabota.yandex.ru/?utm_source=main_stripe_big\\\\\",\\\\\"icon\\\\\":\\\\\"rabota\\\\\",\\\\\"search\\\\\":\\\\\"https://rabota.yandex.ru/search.xml/?text=%25s\\\\\"},{\\\\\"text\\\\\":\\\\\"\\xd0\\xa0\\xd0\\xb0\\xd0\\xb4\\xd0\\xb8\\xd0\\xbe\\\\\",\\\\\"service\\\\\":\\\\\"radio\\\\\",\\\\\"url\\\\\":\\\\\"https://radio.yandex.ru/?utm_source=main_stripe_big\\\\\",\\\\\"icon\\\\\":\\\\\"radio\\\\\"},{\\\\\"text\\\\\":\\\\\"\\xd0\\xa0\\xd0\\xb0\\xd1\\x81\\xd0\\xbf\\xd0\\xb8\\xd1\\x81\\xd0\\xb0\\xd0\\xbd\\xd0\\xb8\\xd1\\x8f\\\\\",\\\\\"service\\\\\":\\\\\"rasp\\\\\",\\\\\"url\\\\\":\\\\\"https://rasp.yandex.ru/?utm_source=main_stripe_big\\\\\",\\\\\"icon\\\\\":\\\\\"rasp\\\\\"},{\\\\\"text\\\\\":\\\\\"\\xd0\\xa0\\xd0\\xb5\\xd0\\xbf\\xd0\\xb5\\xd1\\x82\\xd0\\xb8\\xd1\\x82\\xd0\\xbe\\xd1\\x80\\\\\",\\\\\"service\\\\\":\\\\\"tutor\\\\\",\\\\\"url\\\\\":\\\\\"https://yandex.ru/tutor/?utm_source=main_stripe_big\\\\\",\\\\\"icon\\\\\":\\\\\"repetitor\\\\\"},{\\\\\"text\\\\\":\\\\\"\\xd0\\xa1\\xd0\\xbf\\xd0\\xbe\\xd1\\x80\\xd1\\x82\\\\\",\\\\\"service\\\\\":\\\\\"sport\\\\\",\\\\\"url\\\\\":\\\\\"https://yandex.ru/sport/?utm_source=main_stripe_big\\\\\",\\\\\"icon\\\\\":\\\\\"sport\\\\\"},{\\\\\"text\\\\\":\\\\\"\\xd0\\xa1\\xd1\\x87\\xd1\\x91\\xd1\\x82 \\xd0\\xb2 \\xd0\\x9f\\xd0\\xbb\\xd1\\x8e\\xd1\\x81\\xd0\\xb5\\\\\",\\\\\"service\\\\\":\\\\\"plus_invest\\\\\",\\\\\"url\\\\\":\\\\\"https://plus.yandex.ru/invest/?utm_source=main_stripe_big\\\\\",\\\\\"icon\\\\\":\\\\\"pluscount\\\\\"},{\\\\\"text\\\\\":\\\\\"\\xd0\\xa2\\xd0\\xb0\\xd0\\xba\\xd1\\x81\\xd0\\xb8\\\\\",\\\\\"service\\\\\":\\\\\"taxi\\\\\",\\\\\"url\\\\\":\\\\\"https://taxi.yandex.ru/?utm_source=main_stripe_big\\\\\",\\\\\"icon\\\\\":\\\\\"taxi\\\\\"},{\\\\\"text\\\\\":\\\\\"\\xd0\\xa2\\xd0\\xb0\\xd0\\xbb\\xd0\\xb0\\xd0\\xbd\\xd1\\x82\\xd1\\x8b\\\\\",\\\\\"service\\\\\":\\\\\"talents\\\\\",\\\\\"url\\\\\":\\\\\"https://talents.yandex.ru/?utm_source=main_stripe_big\\\\\",\\\\\"icon\\\\\":\\\\\"talants\\\\\"},{\\\\\"text\\\\\":\\\\\"\\xd0\\xa2\\xd0\\xbe\\xd0\\xbb\\xd0\\xbe\\xd0\\xba\\xd0\\xb0\\\\\",\\\\\"service\\\\\":\\\\\"toloka\\\\\",\\\\\"url\\\\\":\\\\\"https://toloka.yandex.ru/?utm_source=main_stripe_big\\\\\",\\\\\"icon\\\\\":\\\\\"toloka\\\\\"},{\\\\\"text\\\\\":\\\\\"\\xd0\\xa3\\xd1\\x81\\xd0\\xbb\\xd1\\x83\\xd0\\xb3\\xd0\\xb8\\\\\",\\\\\"service\\\\\":\\\\\"uslugi\\\\\",\\\\\"url\\\\\":\\\\\"https://yandex.ru/uslugi/?utm_source=main_stripe_big\\\\\",\\\\\"icon\\\\\":\\\\\"uslugi1\\\\\"},{\\\\\"text\\\\\":\\\\\"\\xd0\\xa8\\xd0\\xba\\xd0\\xbe\\xd0\\xbb\\xd0\\xb0\\\\\",\\\\\"service\\\\\":\\\\\"school\\\\\",\\\\\"url\\\\\":\\\\\"https://school.yandex.ru/?utm_source=main_stripe_big\\\\\",\\\\\"icon\\\\\":\\\\\"school\\\\\"},{\\\\\"text\\\\\":\\\\\"\\xd0\\xad\\xd1\\x84\\xd0\\xb8\\xd1\\x80\\\\\",\\\\\"service\\\\\":\\\\\"tvonline\\\\\",\\\\\"url\\\\\":\\\\\"https://yandex.ru/efir?utm_source=yamain\\\\\\\\u0026utm_medium=service-bar\\\\\\\\u0026utm_campaign=general_ru_desktop_no_all\\\\\\\\u0026from_block=main_stripe_big\\\\\",\\\\\"icon\\\\\":\\\\\"efir\\\\\"}],\\\\\"bottomLinks\\\\\":[{\\\\\"url\\\\\":\\\\\"//mobile.yandex.ru/?from=desktop_morda_more\\\\\",\\\\\"text\\\\\":\\\\\"\\xd0\\x94\\xd0\\xbb\\xd1\\x8f\\\\\\\\u0026nbsp;\\xd0\\xbc\\xd0\\xbe\\xd0\\xb1\\xd0\\xb8\\xd0\\xbb\\xd1\\x8c\\xd0\\xbd\\xd0\\xbe\\xd0\\xb3\\xd0\\xbe\\\\\"},{\\\\\"text\\\\\":\\\\\"\\xd0\\x9f\\xd1\\x80\\xd0\\xbe\\xd0\\xb3\\xd1\\x80\\xd0\\xb0\\xd0\\xbc\\xd0\\xbc\\xd1\\x8b\\\\\",\\\\\"url\\\\\":\\\\\"https://yandex.ru/soft/?from=prov_all\\\\\"},{\\\\\"text\\\\\":\\\\\"\\xd0\\x92\\xd1\\x81\\xd0\\xb5\\\\\\\\u0026nbsp;\\xd1\\x81\\xd0\\xb5\\xd1\\x80\\xd0\\xb2\\xd0\\xb8\\xd1\\x81\\xd1\\x8b\\\\\",\\\\\"url\\\\\":\\\\\"//yandex.ru/all\\\\\"}]}},\\\\\"widgets\\\\\":{\\\\\"alt\\\\\":1},\\\\\"rows\\\\\":{\\\\\"first_screen_height\\\\\":1},\\\\\"stream\\\\\":{\\\\\"disabled\\\\\":1},\\\\\"rtb-inserts\\\\\":{\\\\\"data\\\\\":{\\\\\"nonce\\\\\":\\\\\"\\\\\",\\\\\"blockId\\\\\":\\\\\"N-I-265882-287\\\\\",\\\\\"additionalClasses\\\\\":[],\\\\\"pcodever\\\\\":\\\\\"13062\\\\\",\\\\\"contextUrl\\\\\":\\\\\"https://an.yandex.ru/system/context.js\\\\\",\\\\\"shouldGetAdvManagerFromZenLib\\\\\":\\\\\"\\\\\",\\\\\"nativeExp\\\\\":true,\\\\\"isTablet\\\\\":\\\\\"\\\\\"}}}\");home.dataCallbacks&&home.dataCallbacks.forEach(function(callback){callback();});</script><script src=\"//yastatic.net/jquery/2.1.4/jquery.min.js\" crossorigin=\"anonymous\"></script><script src=\"//yastatic.net/s3/home-static/_/I/l/cGGIg3zqx0A3V9CM1WOtUG_Rk.js\" crossorigin=\"anonymous\"></script><script>if(window.Ya&&Ya.Rum){Ya.Rum.sendTimeMark(\"2095.2154\");}home.loadManager.subscribe(\"js\",(function(){var e;!function(e){var t={};function i(s){if(t[s])return t[s].exports;var a=t[s]={i:s,l:!1,exports:{}};return e[s].call(a.exports,a,a.exports,i),a.l=!0,a.exports}i.m=e,i.c=t,i.d=function(e,t,s){i.o(e,t)||Object.defineProperty(e,t,{enumerable:!0,get:s})},i.r=function(e){\"undefined\"!=typeof Symbol&&Symbol.toStringTag&&Object.defineProperty(e,Symbol.toStringTag,{value:\"Module\"}),Object.defineProperty(e,\"__esModule\",{value:!0})},i.t=function(e,t){if(1&t&&(e=i(e)),8&t)return e;if(4&t&&\"object\"==typeof e&&e&&e.__esModule)return e;var s=Object.create(null);if(i.r(s),Object.defineProperty(s,\"default\",{enumerable:!0,value:e}),2&t&&\"string\"!=typeof e)for(var a in e)i.d(s,a,function(t){return e[t]}.bind(null,a));return s},i.n=function(e){var t=e&&e.__esModule?function(){return e[\"default\"]}:function(){return e};return i.d(t,\"a\",t),t},i.o=function(e,t){return Object.prototype.hasOwnProperty.call(e,t)},i.p=\"//yastatic.net/s3/home-static/_/\",i(i.s=\"aaDN\")}({aaDN:function(e,t,i){\"use strict\";function s(e,t){try{if(window.CSS&&CSS.supports)return CSS.supports(e,t);if(window.supportsCSS)return window.supportsCSS(e,t)}catch(i){}}function a(e){if(!(\"getAttribute\"in e)&&\"length\"in e){for(var t=new Array(e.length),i=0;i<e.length;++i)t[i]=e[i];return t}return[e]}i.r(t);var n,o,r=/(\\xe2\\x80\\xa6|\\\\.\\\\.\\\\.)$/,l=!(s(\"-webkit-line-clamp\",\"1\")||s(\"text-overflow\",\"-o-ellipsis-lastline\"))&&\"querySelectorAll\"in document,d={};function _(){n||((n=document.createElement(\"div\")).style.position=\"absolute\",n.style.left=\"-1000px\",n.style.top=\"0\",n.style.visibility=\"hidden\",n.setAttribute(\"aria-hidden\",\"true\"),document.body.appendChild(n))}function c(e,t){return _(),n?(n.textContent=e,n.offsetHeight/parseFloat(t.lineHeight)):0}function h(e,t,i){var s,a=0,l=e.length;if(function(e){if(_(),n)for(var t in e)if(e.hasOwnProperty(t)){var i=t;o&&o[i]===e[i]||(n.style[i]=e[i])}o=e}(i),c(e,i)<=t+.5)return e;for(e=e.replace(r,\"\");a<l;)s=Math.ceil((a+l)/2),c(e.substr(0,s)+\"\\xe2\\x80\\xa6\",i)>t+.5?l=s-1:a=s;return e.substr(0,a).replace(/[-\\xe2\\x80\\x93:;,.\\\\s]+$/,\"\")+\"\\xe2\\x80\\xa6\"}function m(e,t,i){l&&t&&a(e).forEach((function(e){if(e.offsetWidth&&!(e.innerHTML.indexOf(\"<\")>-1)){var s=a(e.querySelectorAll(\".i-multiline-overflow\"));e.className.indexOf(\"i-multiline-overflow\")>-1&&s.push(e),s.forEach((function(e){if(e.textContent){var s=i&&d[i];s||(s=function(e){var t,i=getComputedStyle(e),s=i.lineHeight,a=i.fontSize;t=\"normal\"===s?1.2*parseFloat(a):parseFloat(s);for(var n=e;n&&\"inline\"===getComputedStyle(n).display&&n!==document;)n=n.parentNode;return{width:String(n.offsetWidth)+\"px\",lineHeight:String(t)+\"px\",fontFamily:i.fontFamily,fontWeight:i.fontWeight,fontSize:a,wordWrap:i.wordWrap,whiteSpace:i.whiteSpace,hyphens:i.hyphens,wordBreak:i.wordBreak}}(e),i&&(d[i]=s)),e.textContent=h(e.textContent,t,s)}}))}}))}BEM.DOM.decl({name:\"zen\",baseBlock:\"media-service\"},{onSetMod:{js:function(){this._list=this.findBlockInside(\"list-wrapper\",\"arrowed-list\"),this._lsKeys={ttl:this.__self._lsTTLPrefix+this.params.login,data:this.__self._lsDataPrefix+this.params.login},this._statRoot=null,this._sessionsCards=[],this._countOfLoads=0,this._packCounters={ice:0,personal:0},this._cachedData=null,this._storeTimer=null,this._logZenShowsDebounced=$.debounce(this._logZenShows,this.__self._zenShowDebounce,this),this._dataReady=$.Deferred(),this._mediaGrid=this.findBlockOutside(\"media-grid\"),this.bindTo(\"retry-button\",\"click\",this._onRetryClick),this.channel(\"sys\").on(\"visibilitychange\",this._onVisibilityChange,this),this._imageloader=this.findBlockInside(\"imageloader\"),this._imageloader.on(\"sightChange\",this._onSightChange,this),this._loadCards(),this._mediaGrid.hasMod(\"collapsed\",\"yes\")&&this._mediaGrid.onFirst(\"expanded\",(function(){this._sessionsCards.length&&this.afterCurrentEvent((function(){this._showCards(),this._imageloader.updateItems()}))}),this),this._initMenuEvents()},visible:{yes:function(){home.stat.logDOMShow(this.domElem)}},recommend:function(e,t){this.elem(\"desc\").html(\"ice\"===t?home.l10n(\"media.zen.desc_ice\"):home.l10n(\"media.zen.desc\"))}},getPromoItems:function(){return this._dataReady},scrollTo:function(e){var t=this.elem(\"item\").filter(\"[data-id=\"+e+\"]\"),i=t.prop(\"offsetLeft\"),s=this.elem(\"list\").width(),a=t.width();this.elem(\"wrap\").stop().animate({scrollLeft:i-(s-a)/2},\"slow\")},_onSightChange:function(e,t){this._prevVisible=this._prevVisible||0;var i=[this._prevVisible,t];this._logZenShowsDebounced(this._getVisibleCards(i)),this._prevVisible=t},_getVisibleCards:function(e){return this._sessionsCards.slice(e[0],e[1])},_listenListOutOn:function(){this._countOfLoads<this.__self._maxCountOfLoads&&this._list.on(\"listOut\",this._onListOut,this)},_listenListOutOff:function(){this._list.un(\"listOut\",this._onListOut,this)},_onListOut:function(e,t){\"right\"===t&&(this._listenListOutOff(),this._loadCardsByAjax())},_loadCards:function(){var e=this._loadCardsFromLS();e?(this._onSuccess(e.data),e.forceAjax?this._loadCardsByAjax():this.hasMod(\"recommend\",\"ice\")?this._dataReady.reject():this._dataReady.resolve(this._sessionsCards)):this._loadCardsByAjax()},_loadCardsByAjax:function(){var e=this;return this._countOfLoads||this.setMod(this.elem(\"loader\"),\"state\",\"loading\"),$.ajax({url:this.params.zenUrl+(this._countOfLoads?\"\":\"&cache=1\"),xhrFields:{withCredentials:!0},context:this,success:this._onSuccess,error:this._onError,timeout:this.__self._timeoutZen}).then(function(){this.hasMod(\"recommend\",\"ice\")?e._dataReady.reject():e._dataReady.resolve(e._sessionsCards)}.bind(this))},_loadCardsFromLS:function(){var e,t,i=home.localStorage.getItem(this._lsKeys.ttl),s=(new Date).getTime();try{if(!(e=JSON.parse(home.localStorage.getItem(this._lsKeys.data))).storeTs||e.storeTs<s)return void this._cleanLS();if(e&&e.items&&e.items.length)return t={data:e},(e.items.length<=this.__self._minCountOfCards||i<s)&&(t.forceAjax=!0),t}catch(a){}this._cleanLS()},_cleanLS:function(){[this._lsKeys.ttl,this._lsKeys.data].forEach(home.localStorage.removeItem)},_onSuccess:function(e){this._checkData(e)?(this.setMod(\"recommend\",e.context.ice_start?\"ice\":\"personal\"),this._countOfLoads+=1,this._prepareData(e),this._recommendType=e.context.ice_start?\"ice\":\"personal\",this._statRoot=\"mediafooter.zen.\"+this._recommendType+\".pack\",this._packCounters[this._recommendType]+=1,e.items=this._moveDirectCards(e.items),this._appendCards(e.items),this._cachedData=e,this._setStoreTimeout(this._getStoreTTL()),this._sessionsCards=this._sessionsCards.concat(e.items),this._imageloader.updateItems(),this._listenListOutOn(),this._createCache(e.ttlTs,e)):this._onError()},_onError:function(e,t){t&&this._logEvent(\"Request failed: \"+t+(this._countOfLoads?\"\":\" - empty feed\")),this._countOfLoads?this.delMod(this.elem(\"loader\"),\"state\"):(this.setMod(this.elem(\"loader\"),\"state\",\"retry\"),home.stat.logDOMShow(this.domElem)),this._dataReady.reject()},_onRetryClick:function(){this._loadCardsByAjax()},_prepareData:function(e){if(!e.prepared){var t=e.stats.bulk,i=1e3*(e.ttl||this.__self._defaultZenTTL),s=1e3*(e.store_ttl||this.__self._defaultZenStoreTTL);e.ttlTs=(new Date).getTime()+i,e.storeTs=(new Date).getTime()+s,e.items.forEach((function(e){return e.id=Number(Math.random().toString().substr(2,8)),e.bulk_url=t,e}),this),e.prepared=1}},_createCache:function(e,t){t.ls||(t.ls=1,home.localStorage.setItem(this._lsKeys.ttl,e),home.localStorage.setItem(this._lsKeys.data,JSON.stringify(t)))},_updateCache:function(e){home.localStorage.setItem(this._lsKeys.data,JSON.stringify(e))},_cleanCards:function(){this._countOfLoads=0,this.elem(\"list\").html(\"\"),this._list.onScroll(),this._cachedData=null,this._sessionsCards=[],this._packCounters={ice:0,personal:0},clearTimeout(this._storeTimer),this._storeTimer=null,this._cleanLS()},_getStoreTTL:function(){return this._cachedData?this._cachedData.storeTs-(new Date).getTime():0},_setStoreTimeout:function(e){e>0&&(clearTimeout(this._storeTimer),this._storeTimer=setTimeout(this._handleStoredCards.bind(this),e))},_handleStoredCards:function(){if(this._cachedData){var e=this._getStoreTTL();e>0?this._setStoreTimeout(e):(this._cleanCards(),this._loadCardsByAjax())}else this._loadCardsByAjax()},_onVisibilityChange:function(e,t){t.hidden?(clearTimeout(this._storeTimer),this._storeTimer=null):this._handleStoredCards()},_onClick:function(e){var t=e.data.domElem.parent(\".zen__item\").data(\"id\"),i=this._selectCardById(this._sessionsCards,t);i&&\"ad\"===i.data.type?this._logZenEvent(i.data.bulk_url,{event:i.data.items[0].stat_events.click,data:i.data.items[0].bulk_params}):i&&this._logZenEvent(i.data.bulk_url,{event:i.data.stat_events.click,data:i.data.bulk_params})},_onLikeClick:function(e){var t=e.data.domElem,i=t.parent(\".zen__item\").data(\"id\"),s=this._selectCardById(this._sessionsCards,i),a=Boolean(s.data.liked);s&&(s.data.liked=!a,this._logZenEvent(s.data.bulk_url,{event:s.data.stat_events[s.data.liked?\"feedback:more\":\"feedback:cancel_more\"],data:s.data.bulk_params})),this.toggleMod(t,\"liked\",\"yes\"),this.setMod(t,\"scaled\",\"yes\"),setTimeout(function(){this.delMod(t,\"scaled\")}.bind(this),this.__self._scaleDuration)},_onDislikeClick:function(e){var t,i=e.data.domElem.parent(\".zen__item\"),s=i.data(\"id\"),a=this._selectCardById(this._sessionsCards,s);a&&(this._sessionsCards.splice(a.index,1),t=[{event:a.data.stat_events[\"feedback:less\"],data:a.data.bulk_params}],a.data.liked&&t.push({event:a.data.stat_events[\"feedback:cancel_more\"],data:a.data.bulk_params}),this._logZenEvent(a.data.bulk_url,t),this._sessionsCards.length<=this.__self._minCountOfCards&&this._loadCardsByAjax()),this.setMod(i,\"disliked\",\"yes\"),this._removeDislikedCards()},_selectCardById:function(e,t){for(var i=0;i<e.length;i+=1)if(e[i].id===t)return{data:e[i],index:i}},_removeDislikedCards:function(){clearTimeout(this._timerGC),this._timerGC=setTimeout(function(){this.findElem(\"item\",\"disliked\",\"yes\").remove(),this._imageloader.updateItems()}.bind(this),this.__self._timeoutDislikeGC)},_moveDirectCards:function(e){var t,i,s,a=[],n=0,o=[];for(t=0,i=e.length;t<i;t++)\"ad\"===e[t].type&&a.push(t);if(!a.length||a[0]>=4)return e;for(s=4-a[0],t=0,i=e.length;t<i;t++)\"ad\"!==e[t].type&&o.push(e[t]),n<a.length&&t===a[n]+s&&(o.push(e[a[n]]),n++);return o},_renderCard:function(e){if(\"ad\"===e.type){var t=e.items[0];return t.id=e.id,t&&\"direct\"===t.provider?this._renderCardDirect(t):\"\"}var i,s,a=\"#FFFFFF\"===e.text_color?\"black\":\"white\",n=e.background_color,o=this.__self._getTransparentPairColor(n),r=e.logo&&(\"black\"===a?e.logo.w:e.logo.b),l={type:e.type,theme:a},d={title:home.ltgtFilter(e.title),mods:{}},_={mods:{}},c={},h={},m=this._packCounters[this._recommendType],u=this._getLongestWordLength(d.title);return r?(h.style=\"background-image: url(\"+r+\")\",_.mods.logo=\"yes\"):_.title=e.domain_title,d.title.length<43&&u<13?(d.mix=\"i-multiline-overflow_lines_4\",d.mods.size=\"l\"):d.title.length<76&&u<17?(d.mix=\"i-multiline-overflow_lines_5\",d.mods.size=\"m\"):(d.mix=\"i-multiline-overflow_lines_6\",d.mods.size=\"s\"),e.image&&(c[\"data-image\"]=home.getBEMParams({1:e.image[\"1x\"],2:e.image[\"2x\"]})),e.stat_events[\"feedback:more\"]&&(i=home.view(\"zen__item-control\",{mix:\"zen__item-like\",attrs:{\"data-statlog\":this._statRoot+\".like.\"+m,title:home.l10n(\"media.zen.like\")}})),e.stat_events[\"feedback:less\"]&&(s=home.view(\"zen__item-control\",{mix:\"zen__item-dislike\",attrs:{\"data-statlog\":this._statRoot+\".dislike.\"+m,title:home.l10n(\"media.zen.dislike\")}})),(i||s)&&(_.mods.fadeout=\"yes\"),home.view(\"zen__item\",{id:e.id,title:d,text:\"text\"===e.type?home.ltgtFilter(e.text):\"\",mods:l,mix:\"media-service__item media-service__shadow imageloader__card\",attrs:{rel:e.feed_link?\"noopener\":\"noreferrer noopener\",href:e.feed_link||e.link,target:\"_blank\",\"data-statlog\":this._statRoot+\".card.\"+m,\"data-statlog-precise\":1,style:[\"color:\"+e.text_color,\"background-color:\"+n].join(\";\")},from_color:o,to_color:n,imageAttrs:c,domain:_,domainAttrs:h,like:i,dislike:s})},_renderCardDirect:function(e){var t=this._packCounters[this._recommendType],i={type:\"small\",footer:\"none\"},s={},a={},n={mix:\"i-multiline-overflow_lines_5\",title:home.ltgtFilter(e.content.title),mods:{size:\"m\"}};return e.content.big_image?(i.type=\"big\",s[\"data-image\"]=e.content.big_image[0]):e.content.small_image&&(i.type=\"small\",a[\"data-image\"]=e.content.small_image[0],a.style=[\"width:\"+e.content.small_image[1]+\"px\",\"height:\"+e.content.small_image[2]+\"px\"].join(\";\")),e.content.warning&&e.content.age?i.footer=\"both\":e.content.warning?i.footer=\"warning\":e.content.age&&(i.footer=\"age\"),home.view(\"zen__direct\",{id:e.id,label:{text:home.l10n(\"media.direct.title\"),href:this.params.directUrl},title:n,domain:e.content.domain,text:home.ltgtFilter(e.content.body),mods:i,attrs:{href:e.content.url,rel:\"noopener\",target:\"_blank\",\"data-statlog-redir\":0,\"data-statlog\":this._statRoot+\".direct.\"+t},from_color:\"rgba(255,255,255, 0)\",to_color:\"rgba(255,255,255, 1)\",bigImageAttrs:s,smallImage:a[\"data-image\"]?home.view(\"zen__direct-type_small-img\",{smallImageAttrs:a}):\"\",warning:e.content.warning,age:e.content.age})},_getLongestWordLength:function(e){return Math.max.apply(null,e.split(\" \").map((function(e){return e.length})))},_appendCards:function(e){var t=e.map(this._renderCard,this).join(\"\");this.elem(\"list\").append(t),home.subscribeData(this._showCards.bind(this))},_calcOverflow:function(){var e=this.__self._textContentHeight,t=this.__self._textLineHeight;this.findElem(\"item\",\"type\",\"text\").each((function(){var i=$(this),s=i.find(\".zen__item-title\").height(),a=Math.floor((e-s)/t);i.find(\".zen__item-text\").addClass(\"zen__item-text_lines_\"+a),m(i,a,\"zen\")}))},_showCards:function(){this._mediaGrid.hasMod(\"collapsed\",\"yes\")||(this._calcOverflow(),this.delMod(this.elem(\"loader\"),\"state\"),this.setMod(this.elem(\"list\"),\"visibility\",\"visible\"),this._list.onScroll(),this.hasMod(\"visible\",\"yes\")&&home.stat.logDOMShow(this.domElem))},_checkData:function(e){var t;return!(!(e&&e.items&&e.items.length&&e.stats&&e.stats.bulk)&&(e?e.items?e.items.length?e.stats&&e.stats.bulk||(t=\"emptystats\"):t=\"emptyitems\":t=\"noitems\":t=\"nodata\",t))||(this._cleanLS(),this._logEvent(\"Data error: \"+t+(this._countOfLoads?\"\":\" - empty feed\")),!1)},_filterShowedCards:function(e){return e.filter((function(e){return\"ad\"===e.type&&e.items[0]?e.items[0].stat_events.show:e.stat_events.show}))},_logEvent:function(e){this.params.logDisabled||home.error.logError({block:\"zen\",message:e})},_logZenEvent:function(e,t){$.ajax({method:\"POST\",url:e,timeout:this.__self._timeoutZen,xhrFields:{withCredentials:!0},data:JSON.stringify({stats:Array.isArray(t)?t:[t]})})},_logZenShows:function(e){var t=!1,i=e.reduce((function(e,t){if(e[t.bulk_url]||(e[t.bulk_url]=[]),\"ad\"===t.type){var i=t.items?t.items[0]:null;i&&i.stat_events&&i.stat_events.show&&(e[t.bulk_url].push({event:i.stat_events.show,data:i.bulk_params}),delete i.stat_events.show,(new Image).src=i.content.linkHead+i.content.linkTail)}else t.stat_events&&t.stat_events.show&&(e[t.bulk_url].push({event:t.stat_events.show,data:t.bulk_params}),delete t.stat_events.show);return e}),{});Object.keys(i).forEach((function(e){i[e].length&&(t=!0,this._logZenEvent(e,i[e]))}),this),t&&(this._cachedData.items=this._filterShowedCards(this._cachedData.items),this._updateCache(this._cachedData))}},{live:function(){return this.__base.apply(this,arguments),this.liveBindKey(\"item-link\",\"space enter\",(function(e){this._onClick(e)})),this.liveBindTo(\"item-link\",\"click\",(function(e){this._onClick(e)})),this.liveBindKey(\"item-like\",\"space enter\",(function(e){this._onLikeClick(e)})),this.liveBindTo(\"item-like\",\"click\",(function(e){this._onLikeClick(e)})),this.liveBindKey(\"item-dislike\",\"space enter\",(function(e){this._onDislikeClick(e)})),this.liveBindTo(\"item-dislike\",\"click\",(function(e){this._onDislikeClick(e)})),!1},_getTransparentPairColor:function(e){return\"rgba(\"+[e.slice(1,3),e.slice(3,5),e.slice(5,7)].map((function(e){return parseInt(e,16)})).join(\",\")+\", 0)\"},_clearLS:function(){[this._lsTTLPrefix,this._lsDataPrefix].forEach(home.localStorage.removeItem)},_minCountOfCards:6,_maxCountOfLoads:3,_textLineHeight:17,_textContentHeight:195,_updateThrottle:200,_timeoutDislikeGC:300,_scaleDuration:260,_lsTTLPrefix:\"home:zen-desktop-ttl-\",_lsDataPrefix:\"home:zen-desktop-data-\",_zenShowDebounce:600,_defaultZenTTL:3600,_defaultZenStoreTTL:432e3,_timeoutZen:3e4})}}),e={media:{direct:{title:\"\\xd0\\xaf\\xd0\\xbd\\xd0\\xb4\\xd0\\xb5\\xd0\\xba\\xd1\\x81.\\xd0\\x94\\xd0\\xb8\\xd1\\x80\\xd0\\xb5\\xd0\\xba\\xd1\\x82\"},zen:{desc:\"\\xd0\\x9b\\xd0\\xb5\\xd0\\xbd\\xd1\\x82\\xd0\\xb0 \\xd1\\x80\\xd0\\xb5\\xd0\\xba\\xd0\\xbe\\xd0\\xbc\\xd0\\xb5\\xd0\\xbd\\xd0\\xb4\\xd0\\xb0\\xd1\\x86\\xd0\\xb8\\xd0\\xb9\",desc_ice:\"\\xd0\\x9f\\xd0\\xbe\\xd0\\xbf\\xd1\\x83\\xd0\\xbb\\xd1\\x8f\\xd1\\x80\\xd0\\xbd\\xd0\\xbe\\xd0\\xb5 \\xd0\\xb2&nbsp;\\xd0\\xb8\\xd0\\xbd\\xd1\\x82\\xd0\\xb5\\xd1\\x80\\xd0\\xbd\\xd0\\xb5\\xd1\\x82\\xd0\\xb5\",dislike:\"\\xd0\\x9d\\xd0\\xb5 \\xd0\\xbd\\xd1\\x80\\xd0\\xb0\\xd0\\xb2\\xd0\\xb8\\xd1\\x82\\xd1\\x81\\xd1\\x8f\",like:\"\\xd0\\x9d\\xd1\\x80\\xd0\\xb0\\xd0\\xb2\\xd0\\xb8\\xd1\\x82\\xd1\\x81\\xd1\\x8f\"}}},home.lang=home.lang&&\"undefined\"!=typeof jQuery?jQuery.extend(!0,home.lang,e):e,function(){var e=home.view.define;home.view;e(\"zen__direct-type\",(function(e,t,i){return i(\"zen__direct_type_\"+e.mods.type,e)})),e(\"zen__item-content\",(function(e,t,i){return i(\"zen__item_type_\"+e.mods.type,e)})),e(\"zen__direct-type_small-img\",(function(e,t,i){return\\'<span class=\"media-service__image zen__direct-image_type_small imageloader__image\" \\'+home.parseRules.bem(e,t,\"smallImageAttrs.attrs\")+\"></span>\"})),e(\"zen__direct-age\",(function(e,t,i){return\\'<div class=\"zen__direct-age\">\\'+(void 0!==e.age?e.age:\"\")+\"</div>\"})),e(\"zen__direct-warning\",(function(e,t,i){return\\'<div class=\"zen__direct-warning\">\\'+(void 0!==e.warning?e.warning:\"\")+\"</div>\"})),e(\"zen__direct-footer\",(function(e,t,i){var s,a;return\\'<div class=\"zen__direct-footer\">\\'+((s=i(\"zen__direct-warning\",e))!==a?s:\"\")+(((s=i(\"zen__direct-age\",e))!==a?s:\"\")+\"</div>\")})),e(\"zen__direct-body\",(function(e,t,i){var s,a;return\\'<span class=\"zen__direct-title \\'+home.parseRules.bem(e,t,\"title.zen__item-title.class\")+\\' i-multiline-overflow\">\\'+((s=e.title)&&(s=s.title),(s!==a?s:\"\")+\\'</span><span class=\"zen__direct-domain\">\\')+(e.domain!==a?e.domain:\"\")+\\'</span><div class=\"zen__direct-body\"><span class=\"zen__direct-text\">\\'+(e.smallImage!==a?e.smallImage:\"\")+(e.text!==a?e.text:\"\")+\"</span></div>\"})),e(\"zen__direct_type_small\",(function(e,t,i){var s,a;return\\'<div class=\"zen__direct-content\">\\'+(((s=i(\"zen__direct-body\",e))!==a?s:\"\")+\"</div>\")+((s=i(\"zen__direct-footer\",e))!==a?s:\"\")})),e(\"zen__direct_type_big\",(function(e,t,i){var s,a;return\\'<span class=\"media-service__image zen__item-image imageloader__image\" \\'+home.parseRules.bem(e,t,\"bigImageAttrs.attrs\")+\\'></span><span class=\"zen__item-curtain\" style=\"background-image:-webkit-linear-gradient(\\'+(e.from_color!==a?e.from_color:\"\")+\", \"+(e.to_color!==a?e.to_color:\"\")+\" 50%);background-image:linear-gradient(\"+(e.from_color!==a?e.from_color:\"\")+\", \"+(e.to_color!==a?e.to_color:\"\")+\\' 50%);\"></span><div class=\"zen__direct-content\">\\'+((s=i(\"zen__direct-body\",e))!==a?s:\"\")+(((s=i(\"zen__direct-footer\",e))!==a?s:\"\")+\"</div>\")})),e(\"zen__direct\",(function(e,t,i){var s,a;return\\'<div class=\"zen__item \\'+home.parseRules.bem(e,t,\"zen__direct.class\")+\\'\" role=\"listitem\" data-id=\"\\'+(e.id!==a?e.id:\"\")+\\'\"><a class=\"zen__item-link\" \\'+home.parseRules.bem(e,t,\"attrs\")+\\'><object><a class=\"zen__direct-label\" href=\"\\'+((s=e.label)&&(s=s.href),(s!==a?s:\"\")+\\'\" target=\"_blank\" rel=\"noopener\">\\')+((s=e.label)&&(s=s.text),(s!==a?s:\"\")+\"</a></object>\")+(((s=i(\"zen__direct-type\",e))!==a?s:\"\")+\"</a></div>\")})),e(\"zen__item_type_text\",(function(e,t,i){var s,a;return\\'<span class=\"zen__item-text-content\"><span class=\"\\'+home.parseRules.bem(e,t,\"title.zen__item-title.class\")+\\' i-multiline-overflow\">\\'+((s=e.title)&&(s=s.title),(s!==a?s:\"\")+\\'</span><span class=\"zen__item-text i-multiline-overflow\">\\')+(e.text!==a?e.text:\"\")+\"</span></span>\"})),e(\"zen__item_type_image\",(function(e,t,i){var s,a;return\\'<span class=\"\\'+home.parseRules.bem(e,t,\"title.zen__item-title.class\")+\\' i-multiline-overflow\">\\'+((s=e.title)&&(s=s.title),(s!==a?s:\"\")+\\'</span><span class=\"media-service__image zen__item-image imageloader__image\" \\')+home.parseRules.bem(e,t,\"imageAttrs.attrs\")+\\'></span><span class=\"zen__item-curtain\" style=\"background-image:-webkit-linear-gradient(\\'+(e.from_color!==a?e.from_color:\"\")+\", \"+(e.to_color!==a?e.to_color:\"\")+\" 50%);background-image:linear-gradient(\"+(e.from_color!==a?e.from_color:\"\")+\", \"+(e.to_color!==a?e.to_color:\"\")+\\' 50%);\"></span>\\'})),e(\"zen__item-control\",(function(e,t,i){return\\'<span class=\"zen__item-control \\'+(void 0!==e.mix?e.mix:\"\")+\\'\" role=\"button\" tabindex=\"0\" \\'+home.parseRules.bem(e,t,\"attrs\")+\"></span>\"})),e(\"zen__item\",(function(e,t,i){var s,a;return\\'<div class=\"\\'+home.parseRules.bem(e,t,\"zen__item.class\")+\\'\" role=\"listitem\" data-id=\"\\'+(e.id!==a?e.id:\"\")+\\'\"><a class=\"zen__item-link\" \\'+home.parseRules.bem(e,t,\"attrs\")+\">\"+(((s=i(\"zen__item-content\",e))!==a?s:\"\")+\\'<span class=\"\\')+home.parseRules.bem(e,t,\"domain.zen__item-domain.class\")+\\'\" \\'+home.parseRules.bem(e,t,\"domainAttrs.attrs\")+\">\"+((s=e.domain)&&(s=s.title),(s!==a?s:\"\")+\\'<span class=\"zen__item-domain-fadeout\" style=\"background-image:-webkit-linear-gradient(left, \\')+(e.from_color!==a?e.from_color:\"\")+\", \"+(e.to_color!==a?e.to_color:\"\")+\" 20%);background-image:linear-gradient(to right, \"+(e.from_color!==a?e.from_color:\"\")+\", \"+(e.to_color!==a?e.to_color:\"\")+\\' 20%);\"></span></span></a>\\'+(e.like!==a?e.like:\"\")+(e.dislike!==a?e.dislike:\"\")+\"</div>\"}))}(),home.bundles.notify(\"old-zen\")}));if(window.Ya&&Ya.Rum){Ya.Rum.sendTimeMark(\"2095.1428\");}</script><script>home.loadManager.subscribe(\\'js\\', function() {BEM.DOM.scope=$(\\'body\\');Lego.init({\"locale\":\"ru\",\"geohelperHost\":\"yandex.ru\",\"geoid\":\"43\",\"mailHost\":\"https://mail.yandex.ru/\",\"mordaZone\":\"ru\",\"msid\":\"1613830656.44549.97810.5072\",\"mda-auth-url\":\"https://yandex.ru/portal/set/any/?sk=yf4dc55d218a48f5e62a0f327f72795b5&mda=0&empty=1\",\"social-host\":\"//social.yandex.ru\",\"social-retpath\":\"https://yandex.ru/i-social__closer.html\",\"social-providers\":\"[{\\\\\"id\\\\\":\\\\\"1\\\\\",\\\\\"primary\\\\\":1,\\\\\"display_name\\\\\":\\\\\"\\xd0\\x92\\xd0\\x9a\\xd0\\xbe\\xd0\\xbd\\xd1\\x82\\xd0\\xb0\\xd0\\xba\\xd1\\x82\\xd0\\xb5\\\\\",\\\\\"code\\\\\":\\\\\"vk\\\\\",\\\\\"enabled\\\\\":1},{\\\\\"id\\\\\":\\\\\"2\\\\\",\\\\\"primary\\\\\":1,\\\\\"display_name\\\\\":\\\\\"Facebook\\\\\",\\\\\"code\\\\\":\\\\\"fb\\\\\",\\\\\"enabled\\\\\":1},{\\\\\"display_name\\\\\":\\\\\"Twitter\\\\\",\\\\\"id\\\\\":\\\\\"3\\\\\",\\\\\"primary\\\\\":1,\\\\\"enabled\\\\\":1,\\\\\"code\\\\\":\\\\\"tw\\\\\"},{\\\\\"id\\\\\":\\\\\"4\\\\\",\\\\\"primary\\\\\":0,\\\\\"display_name\\\\\":\\\\\"Mail.ru\\\\\",\\\\\"code\\\\\":\\\\\"mr\\\\\",\\\\\"enabled\\\\\":1},{\\\\\"display_name\\\\\":\\\\\"Google\\\\\",\\\\\"id\\\\\":\\\\\"5\\\\\",\\\\\"primary\\\\\":0,\\\\\"enabled\\\\\":1,\\\\\"code\\\\\":\\\\\"gg\\\\\"},{\\\\\"primary\\\\\":0,\\\\\"id\\\\\":\\\\\"6\\\\\",\\\\\"display_name\\\\\":\\\\\"\\xd0\\x9e\\xd0\\xb4\\xd0\\xbd\\xd0\\xbe\\xd0\\xba\\xd0\\xbb\\xd0\\xb0\\xd1\\x81\\xd1\\x81\\xd0\\xbd\\xd0\\xb8\\xd0\\xba\\xd0\\xb8\\\\\",\\\\\"code\\\\\":\\\\\"ok\\\\\",\\\\\"enabled\\\\\":1}]\",\"social-sprites\":{\"16\":\"//yastatic.net/social/current/sprites/ico-16.png\"},\"lego-static-host\":\"//yastatic.net/lego/2.10-169/\",\"retpath\":\"https://mail.yandex.ru/\",\"statRoot\":\"\",\"statEnabled\":false,\"click-host\":\"//yandex.ru/clck\",\"click-href\":\"https://yandex.ru/clck/\",\"keyboard-path\":\"//yastatic.net/s3/home-static/2021-02-19-1/common/blocks/\",\"reqid\":\"1613830656.44549.97810.5072\"});BEM.channel(\\'i-bem\\').trigger(\\'start-init\\');BEM.DOM.init(function() {BEM.channel(\\'i-bem\\').trigger(\\'init\\');});});</script><div class=\"resources__bem-init-wrapper\"><script>home.loadManager.subscribe(\\'js\\', function() { getcss(\\'//yastatic.net/s3/home-static/_/U/B/kakKySEPrF25zgtvI5JjqYwg.css\\'); });</script><noscript><link type=\"text/css\" rel=\"stylesheet\" href=\"//yastatic.net/s3/home-static/_/U/B/kakKySEPrF25zgtvI5JjqYwg.css\"></noscript><script>window.$&&$.fn&&$.fn.jquery?home.loadManager.trigger(\"jquery\"):document.querySelector(\\'script[src*=\"yastatic.net/jquery/\"]\\').onload=function(){home.loadManager.trigger(\"jquery\")};</script><script>var cb=function(){if(!home.disabledLS&&home&&home.getData){var a=home.localStorage,e=home.getData(\"i-yandexuid.data\")||{},l=e.cb_url,s=function(e){if(e.ls){var s,o,t=\"yandexuid\"===e.ls.key?\"yu\":e.ls.key,d=e.ls.value,i=a.getItem(t)||null,n=(s=e.ls.key,(o=document.cookie.match(new RegExp(s+\"=(\\\\\\\\d+)\")))&&o[1]);if(i&&e.prefix+n!==i.split(\":\")[0]||e.ls.force||!n){var u=e.ls;u.old=n,e.ls.force||(u.value=i),$.ajax({url:l,data:u,type:\"POST\",dataType:\"json\",crossDomain:!0,xhrFields:{withCredentials:!0},success:function(e){e.jsmda_url&&BEM&&BEM.blocks&&BEM.blocks[\"i-mda-auth\"]&&(window.Lego||(window.Lego={}),window.Lego.params||(window.Lego.params={}),Lego.params[\"mda-auth-url\"]=e.jsmda_url,BEM.blocks[\"i-mda-auth\"].authenticate()),e.clean_ls&&a.setItem(t,\"\"),e.update_ls&&a.setItem(t,d)}})}else a.setItem(t,d)}};!e.ls&&e.ls_data_url?$.ajax({dataType:\"jsonp\",url:e.ls_data_url}).then((function(a){e.ls=a,s(e)})):s(e)}};\"home\"in window&&home.loadManager?home.loadManager.subscribe(\"js\",cb):$(cb);</script><script>!function(){\"use strict\";\"undefined\"!=typeof window?window:\"undefined\"!=typeof global?global:\"undefined\"!=typeof self&&self;var e,t=(function(e,t){var n,i,o,s,a,r;e.exports=(n=\"sans-serif\",i=\"serif\",o={tolerance:2,delay:100,glyphs:\"\",success:function(){},error:function(){},timeout:5e3,weight:\"400\",style:\"normal\",window:window},s=[\"display:block\",\"position:absolute\",\"top:-999px\",\"left:-999px\",\"font-size:48px\",\"width:auto\",\"height:auto\",\"line-height:normal\",\"margin:0\",\"padding:0\",\"font-variant:normal\",\"white-space:nowrap\"],a=\\'<div style=\"%s\" aria-hidden=\"true\">AxmTYklsjo190QW</div>\\',(r=function(){this.fontFamily=\"\",this.appended=!1,this.serif=void 0,this.sansSerif=void 0,this.parent=void 0,this.options={}}).prototype.getMeasurements=function(){return{sansSerif:{width:this.sansSerif.offsetWidth,height:this.sansSerif.offsetHeight},serif:{width:this.serif.offsetWidth,height:this.serif.offsetHeight}}},r.prototype.load=function(){var e,t=new Date,o=this,r=o.serif,f=o.sansSerif,c=o.parent,d=o.appended,l=o.options,h=l.reference;function u(e){return s.concat([\"font-weight:\"+l.weight,\"font-style:\"+l.style]).concat(\"font-family:\"+e).join(\";\")}var p=a.replace(/\\\\%s/,u(n)),m=a.replace(/\\\\%s/,u(i));function w(e,t,n){return Math.abs(e.width-t.offsetWidth)>n||Math.abs(e.height-t.offsetHeight)>n}c||(c=o.parent=l.window.document.createElement(\"div\")),c.innerHTML=p+m,f=o.sansSerif=c.firstChild,r=o.serif=f.nextSibling,l.glyphs&&(f.innerHTML+=l.glyphs,r.innerHTML+=l.glyphs),function g(){h||(h=l.window.document.body),!d&&h&&(h.appendChild(c),d=o.appended=!0,e=o.getMeasurements(),f.style.fontFamily=o.fontFamily+\", \"+n,r.style.fontFamily=o.fontFamily+\", \"+i),d&&e&&(w(e.sansSerif,f,l.tolerance)||w(e.serif,r,l.tolerance))?l.success():(new Date).getTime()-t.getTime()>l.timeout?l.error():!d&&\"requestAnimationFrame\"in l.window?l.window.requestAnimationFrame(g):l.window.setTimeout(g,l.delay)}()},r.prototype.cleanFamilyName=function(e){return e.replace(/[\\\\\\'\\\\\"]/g,\"\").toLowerCase()},r.prototype.cleanWeight=function(e){return\"\"+({normal:\"400\",bold:\"700\"}[e]||e)},r.prototype.checkFontFaces=function(e){var t=this;t.options.window.document.fonts.forEach((function(n){t.cleanFamilyName(n.family)===t.cleanFamilyName(t.fontFamily)&&t.cleanWeight(n.weight)===t.cleanWeight(t.options.weight)&&n.style===t.options.style&&n.load().then((function(){t.options.success(n),t.options.window.clearTimeout(e)}))}))},r.prototype.init=function(e,t){var n;for(var i in o)t.hasOwnProperty(i)||(t[i]=o[i]);this.options=t,this.fontFamily=e,!t.glyphs&&\"fonts\"in t.window.document?(t.timeout&&(n=t.window.setTimeout((function(){t.error()}),t.timeout)),this.checkFontFaces(n)):this.load()},function(e,t){var n=new r;return n.init(e,t),n})}(e={exports:{}}),e.exports),n=\"YSv1\";function i(){document.documentElement.className+=\" font_loaded\"}var o,s=\"hidden\",a=\"\";function r(){document.cookie=\"font_loaded=YSv1; path=/; Max-Age=315360000\",function(){for(var e,t=[\"\",\"moz\",\"webkit\",\"ms\"],n=0;n<t.length;n++)if((e=t[n])&&(s=e+\"Hidden\"),s in document)return a=e+\"visibilitychange\",!0}()&&(document[s]?i():document.addEventListener(a,f))}function f(){document[s]&&(i(),document.removeEventListener(a,f))}((o=document.cookie.match(new RegExp(\"(?:^|; )\"+\"font_loaded\".replace(/([\\\\.$?*|{}\\\\(\\\\)\\\\[\\\\]\\\\\\\\\\\\/\\\\+^])/g,\"\\\\\\\\$1\")+\"=([^;]*)\")))?o[1]:void 0)===n?i():function(){for(var e=[{weight:400},{weight:500},{weight:700}],n=0,i=0;i<e.length;++i)t(\"YS Text\",{weight:e[i].weight,timeout:1e4,success:function(){++n===e.length&&r()}})}()}();</script><script>home.loadManager.subscribe(\\'js\\', function() {BEM && BEM.blocks[\\'i-mda-auth\\'] && BEM.blocks[\\'i-mda-auth\\'].authenticate(function(){});});</script><script>home.loadManager.subscribe(\\'js\\', function() {setTimeout(function(){var bannerData={\"banner_id\":3732128,\"source\":\"html5_hidpi_desktop_banner\",\"win_notice\":[\"https://awaps.yandex.net/0/c1/tx21lszVAoU5vGvVMTT5HdbOhvZCc57hEVjKX7rvleTBH0VR-3+nAWt5ZhJr4_tV4g-wJKScp7dFxNsWFCtGGzcuI+zLOuABewZ5LV1+zKmqK-vjwHdWKSgOdjE_tbd-OELFsgZcSJ9TzRPe6C3aQTibVYHdrIocXXlU+9PAvXMfLv4VWlNWkO9uI_tcvOc5ob03uCiCtVNVrO4qnvPfL5xgBiBy3I8Cz9x6wesqF85REzz07fHJ3AJ_tTjsgMDUrdQ1Q6nc2+2aIvpZZXaxt7iN89sVHOcruGaOB5cGox3rI9TuQqgpb_tJ1d1YdjN8LYHuceueQzBIYdQzJ1hd92NdShZJ8nfBE4fboq6OcyHOAaDEvGm_tphY30VlOqBYpP3i5u0QYuRlWll7UhPIyNqw9zDwFZsrVlPAyFR+bqkDMYKBh_FT2LFbg4A_A_.gif\"],\"hidpi_image\":\"https://awaps.yandex.net/0/c1/tVK-Oiz0m0j1k6YASgcYXr1mbqELijlfJJFhYGiJhI81vDHccLPzPD8xLHGgy_t4d+r6JA7kzBEqp+leCV1DtdK4cb-4fHC0rCJMI9OeACpfQ4vGIX09rif4E96_tCF+Taq4d38FOXbjrOjr4d9Jp2PiAY7-0JbNChSzlTJCe15j4-t+kZYTCGdWx_t6UvjLUvCzImkAeAR1EaU0+4x-dkB5hhlHGg1LGgPt4qJshuZaDj-3O6Tlw60_tgAU1ZbiSLmvgKucSFOtH12cRI4c7O5C9n9JDL0DZOGM6Ap7-nL4DXzM4Meto_todndiHL+vij8FBCsmRmfHLs9kLuihj1plBl2jtZ79EnOISiuzz8Dfe0Eaxnq_Kh0-s38t-PmVidwAA_A_.jpg\",\"bnCounts\":[\"https://awaps.yandex.net/0/c1/tx21lszVAoU5vGvVMTT5HdbOhvZCc57hEVjKX7rvleTBH0VR-3+nAWt5ZhJr4_tV4g-wJKScp7dFxNsWFCtGGzcuI+zLOuABewZ5LV1+zKmqK-vjwHdWKSgOdjE_tbd-OELFsgZcSJ9TzRPe6C3aQTibVYO8lvRiqpAmxtsyNZszcEGtcT1brRS3O_tGRcpOZ8xGEeX2auBu--pfBrPFw+JLDqZSNvvCXqGAwi42aWNU7k8GzCMTlI0_tCoCWyk2hOw-s-NXiWuGlsm8xpX6NGY8O26PQkXqFjr-o5pn+tPDhJqz7Uy5K_tyGMrnNO3U7mJRXhhQojiS6dI5tIXEl3sChDpDgGJ-afTrBeBWzUb1cNKuBGY_qUZramOJiTBITVLGyJnAjjxpHchrnKI+nD2KRmIeMEWNS0GQPBHF43SKs_A_.gif?locale=ru\\\\u0026morda_rid=1613830656.44549.97810.5072\\\\u0026pageview_id=1613830656.44549.97810.5072\\\\u0026slots=325902%2C0%2C85%3B329923%2C0%2C31\"],\"pl_priority\":3,\"image_alt\":\"\\xd0\\x98\\xd1\\x89\\xd0\\xb8\\xd1\\x82\\xd0\\xb5 \\xd0\\xbc\\xd0\\xb0\\xd1\\x81\\xd1\\x82\\xd0\\xb5\\xd1\\x80\\xd0\\xbe\\xd0\\xb2 \\xd0\\xbd\\xd0\\xb0 \\xd0\\xaf\\xd0\\xbd\\xd0\\xb4\\xd0\\xb5\\xd0\\xba\\xd1\\x81.\\xd0\\xa3\\xd1\\x81\\xd0\\xbb\\xd1\\x83\\xd0\\xb3\\xd0\\xb0\\xd1\\x85\",\"html5_iframe_src\":\"\",\"stat_delay_sec\":2,\"click_url\":\"https://awaps.yandex.net/1/c1/tx21lszVAoU5Fo8Pyi8d5uwMobm1xsX-ZsCyvQ4lCiXo62ckqhoOcTAdLWRtY_tsa45G71X9vdXH1OdlBHuNItO-GPOmoDIt65-OA4ym3ggbiv2pvVEAqrMJZ0F_thzAD8GIh8pA-BDCDLakM3vcW1XWR09WFuS+sJr1LSwdHi8Wqpo-BH54komFz_tWBXdgZ9nVpytBJB3ZSbwhXwZzWhbq1oK2lpR3aeOgHE4Ik+I4n75eqeSYdSF_tOg3rqKbOGnNoE7b3tz3qYydfh89AXwjgY21Q6rtvcGgXEH6RRhW2sOdLWLQm_t1Ze2+wL48HSQRnU9E3-QbacLd4hbMQoIHFOw1EqD445eHvslOu0tjMz36Tk5_albNTkxinLy5rctiGbdHLIiBJOfIeylRXL3MA_A_.htm\",\"height\":90,\"image\":\"https://awaps.yandex.net/0/c1/tVK-Oiz0m0j1k6YASgcYXr1mbqELijlfJ0Z4fu68PmriLa8rXmdkEiIGzdTMt_t8IDR-x+HdPdrEW2P9BUnF7XbCrX9FIpd+WZm2k5cAcK3zxO0rMV3AHhj4Qxj_tEO-5aiA3uJDZ77ozLnL4lwD3tus5icDaSAoN5nv4ZN677sqXZWHUIj90D2rj_tIbDpXaNH5KTcKnGUnPWa1dILWItU76W7rZgudYFo8+L3yjgxFg17xC9pDP3h_tlKa3AinNr+Xx6VnAInYx5MR3MbbJT6i0n-hyATjSe2evdbTnQ88KmrFMsAml_tzIBUg7wLwWkIDTPBqGgPcSaXZVGMWLgSH-c2arOMKJ7-HtrL9oU9H9VQ+Cf3_KOUiBBrqeOu6-sgAA_A_.jpg\",\"not_show_stat_url\":\"https://awaps.yandex.net/99/c1/tx21lszVAoU5vGvVMTT5HdZERv2r9iSDrNklH+KEivNF1O+Ztueyx3z5gIPtk_t5ZlpA94Bj5c1CqSXJYvKzBj-hUpJbQdV4vp2v8Y+VE0MMhbuYfWYl-lyxgYD_tFHBfPch-GJrlP5tzShnzfRSCbyFXJDTWr1Xm1NO+56WZkjXBOlhL9t+Tr2KQ_t7wc0CLh4eJYzKhQTnC-0ZrwIwAie10JeT+0AXwgM0nfD4hQ2MUlxEbg9Oyil_tIlJy1QPHLLZ8BjZ+bNLx3M2ZIG7k7kVZuK14xdyHT3sVpot2bMDvLejEo-7e_thQ8HewiA-HCPQlVMSP9DkMO-b9JBazkYQtVbG35vrvG2TjtmuXqwnjYckTfR_S2ItshCjbcn9vsKL283B6RTJS_A_.gif?aa_reject=1\",\"width\":728,\"flexExp\":true,\"contentCls\":\"b-banner__content\",\"_refresh\":{\"mock\":0,\"refresh_url\":\"/bUb37PWT2MmDsHF/GfesfU6zOyenSyh\",\"flex\":true,\"refresh_counts\":\"10\",\"tab_timeout\":\"10\",\"watch_timeout\":\"90\",\"overlapping_timeout\":\"10\"},\"darkTheme\":\"\",\"minFlashVersion\":\"\"}, bannerElem=document.querySelectorAll(\\'.b-banner__wrap\\')[0]; AwapsJsonAPI.Json.prototype.initBanner(bannerElem, bannerData); AwapsJsonAPI.Json.prototype.initExpandableBanner(bannerData);}, 100);});</script></div><script src=\"https://mc.yandex.ru/metrika/watch.js\"  type=\"text/javascript\"></script><script type=\"text/javascript\">!function(t){\"use strict\";try{var e=[{\"id\":722545,\"accurateTrackBounce\":10000,\"trackLinks\":true,\"experiments\":\"VrmJuBPZ7wMPhcicSaGTKTq676n9esJX\"}];t.metrikaCounterInstances={};for(var r=0;r<e.length;r++){var a=e[r],n=t[\"yaCounter\"+a.id]=new Ya.Metrika(a);r||(t.defaultMetrikaCounter=n),t.metrikaCounterInstances[a.id]=n}}catch(i){}}(window);</script><noscript><img class=\"image a11y-hidden\" src=\"https://mc.yandex.ru/watch/722545\"/></noscript><script>(function(d){var s=d.visibilityState;if(s&&s!==\"visible\"){d.addEventListener(\"visibilitychange\",function c(){if(d.visibilityState===\"visible\"){d.removeEventListener(\"visibilitychange\",c,false);i()}},false)}else{i()}function i(){(new Image).src=\"https://yabs.yandex.ru/count/WFOejI_zO4u0PGS0L0j5IFHZDdZ4J0K0JW4GWX0n01enO000000useqKy0A-meRx0_050Q06Lia6008fivUjKrnVFv7WAO1WxWcg2n1UyFutFv400Dgf0Jl5k_0B1U0DWe20G9WEW8IacVkowwbS-13h__y1W17gg170X3tm4jWLmOhsxAEFlFnZyCaMy3-15wWN2PaOq1W1-1Y06R0Pk1d__m7I6H9vOM9pNtDbSdPbSYzoDJ0pBJFe6O320_0PWC834W1tP7mo1OE2koeQ9j4jX1mI0xjiMJGXTc3KjXDp0QrHEjOOrWk3LRHprege7WQNZJbq67i0~1=WLqejI_zOBW0dGe0r16R4odWk05094W2ODOOSC2QtfJblDtLgG600GcG0QAAzAauc07aaFYdHxW1Z8Ef-n_O0SYzbI7e0Ou2i0C2w0Iv0uW5eEnTa0MWx5sm1Vlj5xW5--qNm0N0ZRS1u0K5g0PMi0U0W9Wik0V-Cz074k07XWhn1m00oGgulbRhbcRWFzaBFv7WAO1WxWde2w3iNQaCJAbvjKuhnx_e39EW3i24FTaFW134ZuOQ29WJ0U0J--qNe1JxxHUe5A3iNUWKZ0BO5S6AzkoZZxpyOv0MtG6W5j3ai846oHQ15vWNykcBAS0Nj0BO5y24FR0Owex4WGRu6ENupDJgiDtuiG606Ha1e1bMk1d___y1w1c0mWFm6O320u4Q__-76Qy4UQyG02fa63vXlnR19WAf9SF1lioESPE44dwjWO0Va78e7ytM5UKJwe2nGNl922P2ZFQiDpjc~1=WNyejI_zOCS0hGi0v1DZbhjxnm5014WGOCGISBx-buUE9O012P01sfBpgJYOk06-_fU73jW1igAC8UW1g0AG0_33W6-m0xe3Y0M_oge1a0M_oge1m0MCwLVW1GMe1bQm1u20c2ou1-u9q0SIyGS00828We01-0YS_yk3nnA02W712YVmT4B-4_y_oGgulbRhbcRWFzaBFv7WAO1WxWde2x_AgW6f34ofURLEAyU_w0oJFw0Em8GzW12PaSOGmA8GeQWHm8Gzu1A1W1YO4m7W4x_AgW6W5B_AgW6e5B_AgW7G5AJ0vZtO5EZOy_a5w1IC0j0LwDZp-GNO5S6AzkoZZxpyOv0MUA0MqEImWGR95e4Nm1Uq0jWNm8Gzi1ZgZiI11lWOvVZCrEgmtVYn0O0P6G6W6LQu6Vy1w1c0mWFm6O320u4Q__zR2AFo4p0H03ZX8c6x5i44OCWfCXplEg_8r4kMgQiG511GWM1_ExWRj6PUijTi4DYQtfD5WL8wupMKF000~1?wmode=0\"}})(document);</script><noscript><img src=\"https://yabs.yandex.ru/count/WFOejI_zO4u0PGS0L0j5IFHZDdZ4J0K0JW4GWX0n01enO000000useqKy0A-meRx0_050Q06Lia6008fivUjKrnVFv7WAO1WxWcg2n1UyFutFv400Dgf0Jl5k_0B1U0DWe20G9WEW8IacVkowwbS-13h__y1W17gg170X3tm4jWLmOhsxAEFlFnZyCaMy3-15wWN2PaOq1W1-1Y06R0Pk1d__m7I6H9vOM9pNtDbSdPbSYzoDJ0pBJFe6O320_0PWC834W1tP7mo1OE2koeQ9j4jX1mI0xjiMJGXTc3KjXDp0QrHEjOOrWk3LRHprege7WQNZJbq67i0~1=WLqejI_zOBW0dGe0r16R4odWk05094W2ODOOSC2QtfJblDtLgG600GcG0QAAzAauc07aaFYdHxW1Z8Ef-n_O0SYzbI7e0Ou2i0C2w0Iv0uW5eEnTa0MWx5sm1Vlj5xW5--qNm0N0ZRS1u0K5g0PMi0U0W9Wik0V-Cz074k07XWhn1m00oGgulbRhbcRWFzaBFv7WAO1WxWde2w3iNQaCJAbvjKuhnx_e39EW3i24FTaFW134ZuOQ29WJ0U0J--qNe1JxxHUe5A3iNUWKZ0BO5S6AzkoZZxpyOv0MtG6W5j3ai846oHQ15vWNykcBAS0Nj0BO5y24FR0Owex4WGRu6ENupDJgiDtuiG606Ha1e1bMk1d___y1w1c0mWFm6O320u4Q__-76Qy4UQyG02fa63vXlnR19WAf9SF1lioESPE44dwjWO0Va78e7ytM5UKJwe2nGNl922P2ZFQiDpjc~1=WNyejI_zOCS0hGi0v1DZbhjxnm5014WGOCGISBx-buUE9O012P01sfBpgJYOk06-_fU73jW1igAC8UW1g0AG0_33W6-m0xe3Y0M_oge1a0M_oge1m0MCwLVW1GMe1bQm1u20c2ou1-u9q0SIyGS00828We01-0YS_yk3nnA02W712YVmT4B-4_y_oGgulbRhbcRWFzaBFv7WAO1WxWde2x_AgW6f34ofURLEAyU_w0oJFw0Em8GzW12PaSOGmA8GeQWHm8Gzu1A1W1YO4m7W4x_AgW6W5B_AgW6e5B_AgW7G5AJ0vZtO5EZOy_a5w1IC0j0LwDZp-GNO5S6AzkoZZxpyOv0MUA0MqEImWGR95e4Nm1Uq0jWNm8Gzi1ZgZiI11lWOvVZCrEgmtVYn0O0P6G6W6LQu6Vy1w1c0mWFm6O320u4Q__zR2AFo4p0H03ZX8c6x5i44OCWfCXplEg_8r4kMgQiG511GWM1_ExWRj6PUijTi4DYQtfD5WL8wupMKF000~1?wmode=0\" style=\"display:none;position:absolute;\"/></noscript><!--noindex--><div style=\"display:none\" data-nosnippet class=\"page-info\">{&quot;static&quot;:&quot;2021-02-19-1&quot;,&quot;skins&quot;:&quot;2021-02-19-1&quot;,&quot;content&quot;:&quot;big&quot;,&quot;domain&quot;:&quot;ru&quot;}</div><!--/noindex--><!--prestable-morda-vla-yp-231.vla.yp-c.yandex.net--></div></body></html>'\n"
     ]
    }
   ],
   "source": [
    "# Internet Access\n",
    "from urllib.request import urlopen\n",
    "with urlopen(\"http://yandex.ru\") as response:\n",
    "    for line in response:\n",
    "        print(line)"
   ]
  },
  {
   "cell_type": "code",
   "execution_count": 111,
   "id": "greek-player",
   "metadata": {},
   "outputs": [
    {
     "name": "stdout",
     "output_type": "stream",
     "text": [
      "2021-02-20\n",
      "02-20-21. 20 Feb 2021 is a Saturday on the 20 day of February\n",
      "Days:  12233\n"
     ]
    }
   ],
   "source": [
    "# Date and Time\n",
    "from datetime import date\n",
    "\n",
    "today = date.today()\n",
    "print(today)\n",
    "print(today.strftime(\"%m-%d-%y. %d %b %Y is a %A on the %d day of %B\"))\n",
    "\n",
    "birthday = date(1987, 8, 25)\n",
    "age = today - birthday\n",
    "print(\"Days: \", age.days)"
   ]
  },
  {
   "cell_type": "code",
   "execution_count": 120,
   "id": "equivalent-mailman",
   "metadata": {},
   "outputs": [
    {
     "name": "stdout",
     "output_type": "stream",
     "text": [
      "Length:  41\n",
      "Compressed length:  37\n",
      "b'witch which has which witches wrist watch'\n",
      "226805979\n"
     ]
    }
   ],
   "source": [
    "# Data compression\n",
    "import zlib\n",
    "\n",
    "s = b\"witch which has which witches wrist watch\"\n",
    "print(\"Length: \", len(s))\n",
    "\n",
    "t = zlib.compress(s)\n",
    "print(\"Compressed length: \", len(t))\n",
    "\n",
    "s = zlib.decompress(t)\n",
    "print(s)\n",
    "\n",
    "crc = zlib.crc32(s)\n",
    "print(crc)"
   ]
  },
  {
   "cell_type": "code",
   "execution_count": 124,
   "id": "minor-prior",
   "metadata": {},
   "outputs": [
    {
     "name": "stdout",
     "output_type": "stream",
     "text": [
      "0.05350948999694083\n",
      "0.052498771001410205\n"
     ]
    }
   ],
   "source": [
    "# Performance Measurement\n",
    "from timeit import Timer\n",
    "print(Timer(\"t=a; a=b; b=t\", \"a=1; b=2\").timeit())\n",
    "print(Timer(\"a, b = b, a\", \"a = 1; b = 2\").timeit())"
   ]
  },
  {
   "cell_type": "code",
   "execution_count": 129,
   "id": "empirical-police",
   "metadata": {},
   "outputs": [
    {
     "data": {
      "text/plain": [
       "TestResults(failed=0, attempted=1)"
      ]
     },
     "execution_count": 129,
     "metadata": {},
     "output_type": "execute_result"
    }
   ],
   "source": [
    "# Test Modules\n",
    "def average(values):\n",
    "    \"\"\"Computes the mean of a list of numbers\n",
    "    \n",
    "    >>> print(average([20, 30, 70]))\n",
    "    40.0\n",
    "    \"\"\"\n",
    "    return sum(values) / len(values)\n",
    "\n",
    "import doctest\n",
    "doctest.testmod()"
   ]
  },
  {
   "cell_type": "code",
   "execution_count": 133,
   "id": "instrumental-provider",
   "metadata": {},
   "outputs": [
    {
     "name": "stderr",
     "output_type": "stream",
     "text": [
      "E\n",
      "======================================================================\n",
      "ERROR: /home/konstantin/ (unittest.loader._FailedTest)\n",
      "----------------------------------------------------------------------\n",
      "AttributeError: module '__main__' has no attribute '/home/konstantin/'\n",
      "\n",
      "----------------------------------------------------------------------\n",
      "Ran 1 test in 0.001s\n",
      "\n",
      "FAILED (errors=1)\n"
     ]
    },
    {
     "ename": "SystemExit",
     "evalue": "True",
     "output_type": "error",
     "traceback": [
      "An exception has occurred, use %tb to see the full traceback.\n",
      "\u001b[0;31mSystemExit\u001b[0m\u001b[0;31m:\u001b[0m True\n"
     ]
    },
    {
     "name": "stderr",
     "output_type": "stream",
     "text": [
      "/home/konstantin/.local/lib/python3.8/site-packages/IPython/core/interactiveshell.py:3435: UserWarning: To exit: use 'exit', 'quit', or Ctrl-D.\n",
      "  warn(\"To exit: use 'exit', 'quit', or Ctrl-D.\", stacklevel=1)\n"
     ]
    }
   ],
   "source": [
    "import unittest\n",
    "\n",
    "class TestStatisticalFunctions(unittest.TestCase):\n",
    "    def test_average(self):\n",
    "        self.assertEqual(average([20, 30, 70]), 40.0)\n",
    "        self.assertEqual(round(average([1, 5, 7]), 1), 4.3)\n",
    "        with self.assertRaises(ZeroDivisionError):\n",
    "            average([])\n",
    "        with self.assertRaises(TypeError):\n",
    "            average(20, 30, 70)\n",
    "        \n",
    "unittest.main()"
   ]
  },
  {
   "cell_type": "code",
   "execution_count": 134,
   "id": "romantic-steam",
   "metadata": {},
   "outputs": [
    {
     "data": {
      "text/plain": [
       "\"{'a', 'c', 'd', 'e', 'f', 'g', ...}\""
      ]
     },
     "execution_count": 134,
     "metadata": {},
     "output_type": "execute_result"
    }
   ],
   "source": [
    "import reprlib\n",
    "reprlib.repr(set(\"supercalifragilisticexpialidocious\"))"
   ]
  },
  {
   "cell_type": "code",
   "execution_count": 137,
   "id": "olympic-progressive",
   "metadata": {},
   "outputs": [
    {
     "name": "stdout",
     "output_type": "stream",
     "text": [
      "[[[['black', 'cyan'],\n",
      "   'white',\n",
      "   ['green', 'red']],\n",
      "  [['magenta', 'yellow'],\n",
      "   'blue']]]\n"
     ]
    }
   ],
   "source": [
    "import pprint\n",
    "t = [[[[\"black\", \"cyan\"], \"white\", [\"green\", \"red\"]], [[\"magenta\", \"yellow\"], \"blue\"]]]\n",
    "pprint.pprint(t, width = 30)"
   ]
  },
  {
   "cell_type": "code",
   "execution_count": 138,
   "id": "impressed-switch",
   "metadata": {},
   "outputs": [
    {
     "name": "stdout",
     "output_type": "stream",
     "text": [
      "The wrap() method is just like\n",
      "fill() except that it returns\n",
      "a list of strings instead of\n",
      "one big string with newlines\n",
      "to separate the wrapped lines.\n"
     ]
    }
   ],
   "source": [
    "import textwrap\n",
    "doc = \"\"\"The wrap() method is just like fill() except that it returns a list of strings instead of one big string with newlines to separate the wrapped lines.\"\"\"\n",
    "print(textwrap.fill(doc, width = 30))"
   ]
  },
  {
   "cell_type": "code",
   "execution_count": 147,
   "id": "young-plenty",
   "metadata": {},
   "outputs": [
    {
     "name": "stdout",
     "output_type": "stream",
     "text": [
      "1234567\n",
      "1234567.8000000000465661287307739257812500000000000000000000000000000000000000000000000000000000000000000000000000000000000000000000000\n"
     ]
    }
   ],
   "source": [
    "import locale\n",
    "x = 1234567.8\n",
    "print(locale.format_string(\"%d\", x, grouping = True))\n",
    "print(locale.format_string(\"%s%.*f\", (conv[\"currency_symbol\"], conv[\"frac_digits\"], x), grouping = True))"
   ]
  },
  {
   "cell_type": "code",
   "execution_count": 161,
   "id": "still-velvet",
   "metadata": {},
   "outputs": [
    {
     "name": "stdout",
     "output_type": "stream",
     "text": [
      "Nottingham folk send $10 to the ditch fund\n",
      "Return the unladen swallow to $owner.\n"
     ]
    }
   ],
   "source": [
    "# Template\n",
    "from string import Template\n",
    "\n",
    "t = Template(\"${village} folk send $$10 to $cause\")\n",
    "print(t.substitute(village = \"Nottingham\", cause = \"the ditch fund\"))\n",
    "\n",
    "t = Template(\"Return the $item to $owner.\")\n",
    "d = dict(item = \"unladen swallow\")\n",
    "print(t.safe_substitute(d))"
   ]
  },
  {
   "cell_type": "code",
   "execution_count": 181,
   "id": "anonymous-exhibition",
   "metadata": {},
   "outputs": [
    {
     "name": "stdout",
     "output_type": "stream",
     "text": [
      "b'[0, 1, 2, 3, 4, 5, 6, 7, 8, 9][0, 1, 2, 3, 4, 5, 6, 7, 8, 9][0, 1, 2, 3, 4, 5, 6, 7, 8, 9][0, 1, 2, 3, 4, 5, 6, 7, 8, 9][0, 1, 2, 3, 4, 5, 6, 7, 8, 9][0, 1, 2, 3, 4, 5, 6, 7, 8, 9][0, 1, 2, 3, 4, 5, 6, 7, 8, 9][0, 1, 2, 3, 4, 5, 6, 7, 8, 9][0, 1, 2, 3, 4, 5, 6, 7, 8, 9][0, 1, 2, 3, 4, 5, 6, 7, 8, 9]'\n"
     ]
    }
   ],
   "source": [
    "# Working with Binary Data\n",
    "import zipfile\n",
    "import random as rnd\n",
    "\n",
    "N = 10\n",
    "M = 3\n",
    "\n",
    "dt = [el for el in range(N)]\n",
    "with open(\"datafile.dat\", \"w\") as fp:\n",
    "    for el in dt:\n",
    "        fp.write(str(dt))\n",
    "    \n",
    "zf = zipfile.ZipFile(\"zipfile.zip\", \"w\")\n",
    "zf.write(\"datafile.dat\") \n",
    "zf.close()\n",
    "\n",
    "zf = zipfile.ZipFile(\"zipfile.zip\", \"r\")\n",
    "data = zf.read(\"datafile.dat\")\n",
    "zf.close()\n",
    "\n",
    "print(data)"
   ]
  },
  {
   "cell_type": "code",
   "execution_count": 184,
   "id": "sixth-charity",
   "metadata": {},
   "outputs": [
    {
     "name": "stdout",
     "output_type": "stream",
     "text": [
      "The main program continues to run in foregreound.\n",
      "Finished background zip of: datafile.dat\n",
      "Main program waited until background was done\n"
     ]
    }
   ],
   "source": [
    "# Multi-Threading\n",
    "import threading, zipfile\n",
    "\n",
    "class AsyncZip(threading.Thread):\n",
    "    def __init__(self, infile, outfile):\n",
    "        threading.Thread.__init__(self)\n",
    "        self.infile = infile\n",
    "        self.outfile = outfile\n",
    "    \n",
    "    def run(self):\n",
    "        f = zipfile.ZipFile(self.outfile, \"w\", zipfile.ZIP_DEFLATED)\n",
    "        f.write(self.infile)\n",
    "        f.close()\n",
    "        print(\"Finished background zip of:\", self.infile)\n",
    "\n",
    "bg = AsyncZip(\"datafile.dat\", \"myarchive.zip\")\n",
    "bg.start()\n",
    "print(\"The main program continues to run in foregreound.\")\n",
    "\n",
    "bg.join()\n",
    "print(\"Main program waited until background was done\")"
   ]
  },
  {
   "cell_type": "code",
   "execution_count": 188,
   "id": "chicken-functionality",
   "metadata": {},
   "outputs": [
    {
     "name": "stderr",
     "output_type": "stream",
     "text": [
      "ERROR:root:Error occurred\n",
      "CRITICAL:root:Critical error -- shutting down\n"
     ]
    }
   ],
   "source": [
    "# Logging\n",
    "import logging as lg\n",
    "\n",
    "#lg.debug(\"Debugging information\")\n",
    "#lg.info(\"Informational message\")\n",
    "#lg.warning(\"Warning: config file $s not found\", \"server.conf\")\n",
    "lg.error(\"Error occurred\")\n",
    "lg.critical(\"Critical error -- shutting down\")"
   ]
  },
  {
   "cell_type": "code",
   "execution_count": 190,
   "id": "removable-pillow",
   "metadata": {},
   "outputs": [
    {
     "name": "stdout",
     "output_type": "stream",
     "text": [
      "[(100, 'perl'), (200, 'tcl'), (300, 'ruby'), (400, 'lua'), (500, 'python')]\n"
     ]
    }
   ],
   "source": [
    "# Bisect\n",
    "import bisect\n",
    "\n",
    "scores = [(100, \"perl\"), (200, \"tcl\"), (400, \"lua\"), (500, \"python\")]\n",
    "bisect.insort(scores, (300, \"ruby\"))\n",
    "print(scores)"
   ]
  },
  {
   "cell_type": "code",
   "execution_count": null,
   "id": "inclusive-sierra",
   "metadata": {},
   "outputs": [],
   "source": []
  }
 ],
 "metadata": {
  "kernelspec": {
   "display_name": "Python 3",
   "language": "python",
   "name": "python3"
  },
  "language_info": {
   "codemirror_mode": {
    "name": "ipython",
    "version": 3
   },
   "file_extension": ".py",
   "mimetype": "text/x-python",
   "name": "python",
   "nbconvert_exporter": "python",
   "pygments_lexer": "ipython3",
   "version": "3.8.5"
  }
 },
 "nbformat": 4,
 "nbformat_minor": 5
}
