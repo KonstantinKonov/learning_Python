{
 "cells": [
  {
   "cell_type": "code",
   "execution_count": 1,
   "id": "fossil-bible",
   "metadata": {},
   "outputs": [
    {
     "data": {
      "application/vnd.jupyter.widget-view+json": {
       "model_id": "50dd8cb509ee4c1a946c0a9812706fcf",
       "version_major": 2,
       "version_minor": 0
      },
      "text/plain": [
       "interactive(children=(IntSlider(value=10, description='x', max=30, min=-10), Output()), _dom_classes=('widget-…"
      ]
     },
     "metadata": {},
     "output_type": "display_data"
    },
    {
     "data": {
      "application/vnd.jupyter.widget-view+json": {
       "model_id": "f2bb981a8a384c08994141bdf0928900",
       "version_major": 2,
       "version_minor": 0
      },
      "text/plain": [
       "interactive(children=(Checkbox(value=True, description='x'), Output()), _dom_classes=('widget-interact',))"
      ]
     },
     "metadata": {},
     "output_type": "display_data"
    },
    {
     "data": {
      "application/vnd.jupyter.widget-view+json": {
       "model_id": "05e8152ea8414df9b08e9d47d8be938d",
       "version_major": 2,
       "version_minor": 0
      },
      "text/plain": [
       "interactive(children=(Dropdown(description='x', options=(1, 2, 3), value=1), Output()), _dom_classes=('widget-…"
      ]
     },
     "metadata": {},
     "output_type": "display_data"
    },
    {
     "data": {
      "application/vnd.jupyter.widget-view+json": {
       "model_id": "791d65415a7c4c9eb6ec6821ddee210d",
       "version_major": 2,
       "version_minor": 0
      },
      "text/plain": [
       "interactive(children=(Dropdown(description='x', options=(('one', 1), ('two', 2)), value=1), Output()), _dom_cl…"
      ]
     },
     "metadata": {},
     "output_type": "display_data"
    },
    {
     "data": {
      "application/vnd.jupyter.widget-view+json": {
       "model_id": "54e33d372bb34a67a9f1cd9b4632a3e5",
       "version_major": 2,
       "version_minor": 0
      },
      "text/plain": [
       "interactive(children=(Dropdown(description='x', options={'one': 1, 'two': 2}, value=1), Output()), _dom_classe…"
      ]
     },
     "metadata": {},
     "output_type": "display_data"
    },
    {
     "data": {
      "application/vnd.jupyter.widget-view+json": {
       "model_id": "2d046357599d499083dd48a63dfaa8bf",
       "version_major": 2,
       "version_minor": 0
      },
      "text/plain": [
       "interactive(children=(IntSlider(value=0, description='x', max=5, min=-5), Output()), _dom_classes=('widget-int…"
      ]
     },
     "metadata": {},
     "output_type": "display_data"
    },
    {
     "data": {
      "application/vnd.jupyter.widget-view+json": {
       "model_id": "5378770f44694d3baec128243a4bb6c6",
       "version_major": 2,
       "version_minor": 0
      },
      "text/plain": [
       "interactive(children=(IntSlider(value=0, description='x', max=10, min=-10, step=2), Output()), _dom_classes=('…"
      ]
     },
     "metadata": {},
     "output_type": "display_data"
    },
    {
     "data": {
      "application/vnd.jupyter.widget-view+json": {
       "model_id": "bd97324a8a0d4d1e926b6bf7be75dffd",
       "version_major": 2,
       "version_minor": 0
      },
      "text/plain": [
       "interactive(children=(FloatSlider(value=0.0, description='x', max=5.0, min=-5.0), Output()), _dom_classes=('wi…"
      ]
     },
     "metadata": {},
     "output_type": "display_data"
    },
    {
     "data": {
      "application/vnd.jupyter.widget-view+json": {
       "model_id": "ab7a8d95f36f44d3a2fbcd7c3f3aeb53",
       "version_major": 2,
       "version_minor": 0
      },
      "text/plain": [
       "interactive(children=(Text(value='Hello World', description='x'), Output()), _dom_classes=('widget-interact',)…"
      ]
     },
     "metadata": {},
     "output_type": "display_data"
    },
    {
     "data": {
      "application/vnd.jupyter.widget-view+json": {
       "model_id": "d0dca546d1044645a853ca1815476c94",
       "version_major": 2,
       "version_minor": 0
      },
      "text/plain": [
       "interactive(children=(FloatSlider(value=4.5, description='x', max=5.0, min=-5.0), Output()), _dom_classes=('wi…"
      ]
     },
     "metadata": {},
     "output_type": "display_data"
    },
    {
     "data": {
      "application/vnd.jupyter.widget-view+json": {
       "model_id": "4940cf96305a40cd843eae8757f422b1",
       "version_major": 2,
       "version_minor": 0
      },
      "text/plain": [
       "interactive(children=(Checkbox(value=False, description='x'), FloatSlider(value=1.0, description='y', max=3.0,…"
      ]
     },
     "metadata": {},
     "output_type": "display_data"
    },
    {
     "data": {
      "application/vnd.jupyter.widget-view+json": {
       "model_id": "b87f13d8252847d0ba6ae8c56d97367a",
       "version_major": 2,
       "version_minor": 0
      },
      "text/plain": [
       "interactive(children=(IntSlider(value=5, description='p', max=15, min=-5), Output()), _dom_classes=('widget-in…"
      ]
     },
     "metadata": {},
     "output_type": "display_data"
    },
    {
     "data": {
      "application/vnd.jupyter.widget-view+json": {
       "model_id": "7fe07ebd45e0446999bd9a8551e0e0a9",
       "version_major": 2,
       "version_minor": 0
      },
      "text/plain": [
       "interactive(children=(FloatSlider(value=10.0, description='x', max=20.0, min=-10.0, step=2.0), Output()), _dom…"
      ]
     },
     "metadata": {},
     "output_type": "display_data"
    },
    {
     "data": {
      "text/plain": [
       "<function __main__.f(x)>"
      ]
     },
     "execution_count": 1,
     "metadata": {},
     "output_type": "execute_result"
    }
   ],
   "source": [
    "# Using Interact\n",
    "from __future__ import print_function\n",
    "from ipywidgets import interact, interactive, fixed, interact_manual\n",
    "import ipywidgets as widgets\n",
    "\n",
    "def f(x):\n",
    "    return x\n",
    "\n",
    "interact(f, x = 10)\n",
    "interact(f, x = True)\n",
    "interact(f, x = [1, 2, 3])\n",
    "interact(f, x = [(\"one\", 1), (\"two\", 2)])\n",
    "interact(f, x = {\"one\":1, \"two\":2})\n",
    "interact(f, x = (-5, 5))\n",
    "interact(f, x = (-10, 10, 2))\n",
    "interact(f, x = (-5.0, 5.0, 0.1))\n",
    "interact(f, x = \"Hello World\")\n",
    "\n",
    "@interact(x = (-5.0, 5.0, 0.1))\n",
    "def h(x = 4.5):\n",
    "    return x\n",
    "\n",
    "@interact(x = False, y = 1.0)\n",
    "def g(x, y):\n",
    "    return (x, y)\n",
    "\n",
    "def h(p, q):\n",
    "    return (p, q)\n",
    "interact(h, p = 5, q = fixed(20));\n",
    "\n",
    "interact(f, x = widgets.FloatSlider(min = -10, max = 20, step = 2, value = 10))"
   ]
  },
  {
   "cell_type": "code",
   "execution_count": 2,
   "id": "blank-morning",
   "metadata": {},
   "outputs": [
    {
     "data": {
      "application/vnd.jupyter.widget-view+json": {
       "model_id": "8ddfdd5b32f74f1ea6135860041ac3fc",
       "version_major": 2,
       "version_minor": 0
      },
      "text/plain": [
       "interactive(children=(IntSlider(value=10, description='a', max=30, min=-10), IntSlider(value=20, description='…"
      ]
     },
     "metadata": {},
     "output_type": "display_data"
    }
   ],
   "source": [
    "# Interactive\n",
    "from IPython.display import display\n",
    "def f(a, b):\n",
    "    display(a + b)\n",
    "    return a + b\n",
    "\n",
    "wdg = interactive(f, a = 10, b = 20)\n",
    "display(wdg)"
   ]
  },
  {
   "cell_type": "code",
   "execution_count": 3,
   "id": "external-still",
   "metadata": {},
   "outputs": [
    {
     "data": {
      "application/vnd.jupyter.widget-view+json": {
       "model_id": "2a1103ffc4bb47798c81546fa2387e25",
       "version_major": 2,
       "version_minor": 0
      },
      "text/plain": [
       "interactive(children=(FloatSlider(value=100000.0, description='i', max=10000000.0, min=100000.0, step=100000.0…"
      ]
     },
     "metadata": {},
     "output_type": "display_data"
    }
   ],
   "source": [
    "# Disabling Continious Update: The Problem\n",
    "\n",
    "import time\n",
    "\n",
    "def slow_function(i):\n",
    "    tic = time.perf_counter()\n",
    "    print(int(i), list(x for x in range(int(i)) if str(x) == str(x)[::-1] and str(x ** 2) == str(x ** 2)[::-1]))\n",
    "    toc = time.perf_counter()\n",
    "    print(\"{:.3f} ms\".format(1000 * (toc - tic)))\n",
    "    return\n",
    "\n",
    "from ipywidgets import FloatSlider\n",
    "\n",
    "interact(slow_function, i = FloatSlider(min = 1e5, max = 1e7, step = 1e5));\n"
   ]
  },
  {
   "cell_type": "code",
   "execution_count": 4,
   "id": "burning-transcript",
   "metadata": {},
   "outputs": [
    {
     "data": {
      "application/vnd.jupyter.widget-view+json": {
       "model_id": "50473bcd00b84e96a42648d29ce1b352",
       "version_major": 2,
       "version_minor": 0
      },
      "text/plain": [
       "interactive(children=(FloatSlider(value=100000.0, description='i', max=10000000.0, min=100000.0, step=100000.0…"
      ]
     },
     "metadata": {},
     "output_type": "display_data"
    },
    {
     "data": {
      "text/plain": [
       "<function __main__.slow_function(i)>"
      ]
     },
     "execution_count": 4,
     "metadata": {},
     "output_type": "execute_result"
    }
   ],
   "source": [
    "# Solution 1: interact_manual\n",
    "interact_manual(slow_function, i = FloatSlider(min = 1e5, max = 1e7, step = 1e5))"
   ]
  },
  {
   "cell_type": "code",
   "execution_count": 5,
   "id": "still-strap",
   "metadata": {},
   "outputs": [
    {
     "data": {
      "application/vnd.jupyter.widget-view+json": {
       "model_id": "abd157e74d574ff3b1aa8a272d169e92",
       "version_major": 2,
       "version_minor": 0
      },
      "text/plain": [
       "interactive(children=(FloatSlider(value=10000.0, description='i', max=1000000.0, min=10000.0, step=10000.0), B…"
      ]
     },
     "metadata": {},
     "output_type": "display_data"
    }
   ],
   "source": [
    "# Solution 2: imteractive\n",
    "slow = interactive(slow_function, {\"manual\": True}, i = widgets.FloatSlider(min = 1e4, max = 1e6, step = 1e4))\n",
    "slow"
   ]
  },
  {
   "cell_type": "code",
   "execution_count": 6,
   "id": "narrative-ministry",
   "metadata": {},
   "outputs": [
    {
     "data": {
      "application/vnd.jupyter.widget-view+json": {
       "model_id": "0b4fcad0db1b478e8f81b8dcb6082a68",
       "version_major": 2,
       "version_minor": 0
      },
      "text/plain": [
       "HBox(children=(IntSlider(value=0), IntSlider(value=0), IntSlider(value=0)))"
      ]
     },
     "metadata": {},
     "output_type": "display_data"
    },
    {
     "data": {
      "application/vnd.jupyter.widget-view+json": {
       "model_id": "8ce1d265617349ecb4d77e3a74253875",
       "version_major": 2,
       "version_minor": 0
      },
      "text/plain": [
       "Output()"
      ]
     },
     "metadata": {},
     "output_type": "display_data"
    }
   ],
   "source": [
    "# interactive_output\n",
    "from ipywidgets import interact, interactive, fixed, interact_manual\n",
    "import ipywidgets as widgets\n",
    "\n",
    "a = widgets.IntSlider()\n",
    "b = widgets.IntSlider()\n",
    "c = widgets.IntSlider()\n",
    "ui = widgets.HBox([a, b, c])\n",
    "\n",
    "def fun(a, b, c):\n",
    "    print((a, b, c))\n",
    "    \n",
    "out = widgets.interactive_output(fun, {'a':a, 'b':b, 'c':c})\n",
    "display(ui, out)"
   ]
  },
  {
   "cell_type": "code",
   "execution_count": 7,
   "id": "normal-religion",
   "metadata": {},
   "outputs": [
    {
     "data": {
      "application/vnd.jupyter.widget-view+json": {
       "model_id": "f93ce60396574f1c93cc52e09fa2a683",
       "version_major": 2,
       "version_minor": 0
      },
      "text/plain": [
       "interactive(children=(FloatSlider(value=0.0, description='x', max=10.0, step=0.05), FloatSlider(value=5.0, des…"
      ]
     },
     "metadata": {},
     "output_type": "display_data"
    },
    {
     "data": {
      "text/plain": [
       "<function __main__.printer(x, y)>"
      ]
     },
     "execution_count": 7,
     "metadata": {},
     "output_type": "execute_result"
    }
   ],
   "source": [
    "# Dependent Arguments\n",
    "from ipywidgets import interact, interactive, fixed, interact_manual\n",
    "import ipywidgets as widgets\n",
    "\n",
    "x_widget = FloatSlider(min = 0.0, max = 10.0, step = 0.05)\n",
    "y_widget = FloatSlider(min = 0.0, max = 10.0, step = 0.05, value = 5.0)\n",
    "\n",
    "def update_x_range(*args):\n",
    "    x_widget.max = 2.0 * y_widget.value\n",
    "y_widget.observe(update_x_range, \"value\")\n",
    "\n",
    "def printer(x, y):\n",
    "    print(x, y)\n",
    "interact(printer, x = x_widget, y = y_widget)"
   ]
  },
  {
   "cell_type": "code",
   "execution_count": 8,
   "id": "ahead-present",
   "metadata": {},
   "outputs": [
    {
     "data": {
      "application/vnd.jupyter.widget-view+json": {
       "model_id": "a0d0f2c13e4046f89859be2c5d74088d",
       "version_major": 2,
       "version_minor": 0
      },
      "text/plain": [
       "interactive(children=(FloatSlider(value=0.0, description='m', max=2.0, min=-2.0), FloatSlider(value=0.0, descr…"
      ]
     },
     "metadata": {},
     "output_type": "display_data"
    }
   ],
   "source": [
    "# MatPlotLib Interactive 1\n",
    "%matplotlib inline\n",
    "from ipywidgets import interactive\n",
    "import matplotlib.pyplot as plt\n",
    "import numpy as np\n",
    "\n",
    "def fun(m, b):\n",
    "    plt.figure(2)\n",
    "    x = np.linspace(-10, 10, num = 1000)\n",
    "    plt.plot(x, m * x + b)\n",
    "    plt.ylim(-5, 5)\n",
    "    plt.show()\n",
    "\n",
    "interactive_plot = interactive(fun, m = (-2.0, 2.0), b = (-3, 3, .5))\n",
    "output = interactive_plot.children[-1]\n",
    "output.layout.height = \"350px\"\n",
    "interactive_plot"
   ]
  },
  {
   "cell_type": "code",
   "execution_count": 9,
   "id": "hollywood-india",
   "metadata": {},
   "outputs": [
    {
     "data": {
      "application/vnd.jupyter.widget-view+json": {
       "model_id": "ee0bf57b571c479f83a09d9256c99324",
       "version_major": 2,
       "version_minor": 0
      },
      "text/plain": [
       "interactive(children=(FloatSlider(value=50.00000000000001, description='amp', min=0.1), FloatSlider(value=5.0,…"
      ]
     },
     "metadata": {},
     "output_type": "display_data"
    }
   ],
   "source": [
    "# MatPlotLib Interactive 2\n",
    "%matplotlib inline\n",
    "from ipywidgets import interactive\n",
    "import numpy as np\n",
    "\n",
    "def fun(amp, freq, phase):\n",
    "    plt.figure(2)\n",
    "    x = np.linspace(-10, 10, 1000)\n",
    "    plt.plot(x, np.exp(- (x ** 2)/amp) * np.sin(x * freq + phase))\n",
    "    plt.ylim(- 2, 2)\n",
    "    plt.show()\n",
    "    \n",
    "    \n",
    "interactive_plot = interactive(fun, amp = (0.1, 100.0, 0.1), freq = (0.1, 10, 0.1), phase = (-np.pi, np.pi, np.pi/100.))\n",
    "output = interactive_plot.children[-1]\n",
    "output.layout.height = \"350px\"\n",
    "output.layout.width = \"500px\"\n",
    "interactive_plot"
   ]
  },
  {
   "cell_type": "code",
   "execution_count": 10,
   "id": "behind-street",
   "metadata": {},
   "outputs": [
    {
     "data": {
      "application/vnd.jupyter.widget-view+json": {
       "model_id": "68072e9682354df0a3192271cf02ea90",
       "version_major": 2,
       "version_minor": 0
      },
      "text/plain": [
       "IntSlider(value=0)"
      ]
     },
     "metadata": {},
     "output_type": "display_data"
    },
    {
     "data": {
      "application/vnd.jupyter.widget-view+json": {
       "model_id": "",
       "version_major": 2,
       "version_minor": 0
      },
      "text/plain": [
       "IntSlider(value=0)"
      ]
     },
     "metadata": {},
     "output_type": "display_data"
    },
    {
     "data": {
      "application/vnd.jupyter.widget-view+json": {
       "model_id": "",
       "version_major": 2,
       "version_minor": 0
      },
      "text/plain": [
       "IntSlider(value=0)"
      ]
     },
     "metadata": {},
     "output_type": "display_data"
    }
   ],
   "source": [
    "# Widgets: Basics 1\n",
    "import ipywidgets as wgts\n",
    "\n",
    "display(wgts.IntSlider())\n",
    "\n",
    "sldr = wgts.IntSlider()\n",
    "display(sldr)\n",
    "display(sldr)\n",
    "\n",
    "import time\n",
    "import random as rnd\n",
    "i = 0\n",
    "while i < 10:\n",
    "    time.sleep(0.25)\n",
    "    sldr.value = rnd.randint(0, 100)\n",
    "    i += 1\n",
    "time.sleep(3)\n",
    "sldr.layout.visibility = \"hidden\"\n",
    "time.sleep(3)\n",
    "sldr.layout.visibility = \"visible\"\n",
    "time.sleep(3)\n",
    "sldr.layout.disabled = True\n",
    "time.sleep(3)\n",
    "sldr.close()\n",
    "\n"
   ]
  },
  {
   "cell_type": "code",
   "execution_count": 11,
   "id": "enhanced-choice",
   "metadata": {},
   "outputs": [
    {
     "data": {
      "application/vnd.jupyter.widget-view+json": {
       "model_id": "e6549426927c4f95a336e15521eeda05",
       "version_major": 2,
       "version_minor": 0
      },
      "text/plain": [
       "BoundedFloatText(value=5.0, max=10.0, min=-10.0)"
      ]
     },
     "metadata": {},
     "output_type": "display_data"
    },
    {
     "data": {
      "application/vnd.jupyter.widget-view+json": {
       "model_id": "538f2542e8714e8ea132f79f49684922",
       "version_major": 2,
       "version_minor": 0
      },
      "text/plain": [
       "FloatText(value=0.0)"
      ]
     },
     "metadata": {},
     "output_type": "display_data"
    },
    {
     "data": {
      "application/vnd.jupyter.widget-view+json": {
       "model_id": "c4d6ddd573434979875e14cce0144983",
       "version_major": 2,
       "version_minor": 0
      },
      "text/plain": [
       "FloatSlider(value=0.0, max=10.0, min=-10.0)"
      ]
     },
     "metadata": {},
     "output_type": "display_data"
    },
    {
     "data": {
      "application/vnd.jupyter.widget-view+json": {
       "model_id": "3e18dc38b39a444ba2f0491264e65864",
       "version_major": 2,
       "version_minor": 0
      },
      "text/plain": [
       "FloatProgress(value=0.0, max=10.0, min=-10.0)"
      ]
     },
     "metadata": {},
     "output_type": "display_data"
    },
    {
     "data": {
      "application/vnd.jupyter.widget-view+json": {
       "model_id": "0aa1b3a6836c4d4ab95afcbf31ebd9f1",
       "version_major": 2,
       "version_minor": 0
      },
      "text/plain": [
       "HBox(children=(Label(value='The $m$ in $E=mc^2$:'), FloatSlider(value=0.0)))"
      ]
     },
     "metadata": {},
     "output_type": "display_data"
    }
   ],
   "source": [
    "# Widgets: Basics 2 - Linking\n",
    "import ipywidgets as wgts\n",
    "\n",
    "a = wgts.BoundedFloatText(min = -10, max = 10, value = \"5\")\n",
    "b = wgts.FloatText()\n",
    "c = wgts.FloatSlider(min = -10, max = 10, step = 0.1)\n",
    "d = wgts.FloatProgress(min = -10, max = 10, step = 5)\n",
    "e = wgts.HBox([wgts.Label(value=\"The $m$ in $E=mc^2$:\"), wgts.FloatSlider()])\n",
    "display(a, b, c, d, e)\n",
    "\n",
    "lnk_1 = wgts.jslink((a, \"value\"), (b, \"value\"))\n",
    "lnk_2 = wgts.jslink((a, \"value\"), (c, \"value\"))\n",
    "lnk_3 = wgts.jslink((a, \"value\"), (d, \"value\"))\n",
    "\n",
    "# Unlinking\n",
    "import time\n",
    "time.sleep(5)\n",
    "#lnk_1.unlink()\n",
    "#lnk_2.unlink()"
   ]
  },
  {
   "cell_type": "code",
   "execution_count": 12,
   "id": "spread-logging",
   "metadata": {},
   "outputs": [
    {
     "data": {
      "application/vnd.jupyter.widget-view+json": {
       "model_id": "f867da647fea48859b64e6b38de9d6e0",
       "version_major": 2,
       "version_minor": 0
      },
      "text/plain": [
       "GridBox(children=(Button(description='Button 1', style=ButtonStyle()), Button(description='Button 2', style=Bu…"
      ]
     },
     "metadata": {},
     "output_type": "display_data"
    }
   ],
   "source": [
    "# Containers\n",
    "import ipywidgets as wgts\n",
    "\n",
    "items = [wgts.Button(description = \"Button \" + str(i)) for i in range(1, 6)]\n",
    "wgts.GridBox(items, layout = wgts.Layout(grid_template_rows = \"repeat(3, 50px)\", grid_template_columns = \"repeat(3, 200px)\"))"
   ]
  },
  {
   "cell_type": "code",
   "execution_count": 13,
   "id": "superb-seven",
   "metadata": {},
   "outputs": [
    {
     "data": {
      "application/vnd.jupyter.widget-view+json": {
       "model_id": "1428c9bc7bb34c538d7d1a4ffad3d008",
       "version_major": 2,
       "version_minor": 0
      },
      "text/plain": [
       "Output(layout=Layout(border='1px solid white'))"
      ]
     },
     "metadata": {},
     "output_type": "display_data"
    }
   ],
   "source": [
    "# Display System\n",
    "import ipywidgets as wgts\n",
    "\n",
    "out = wgts.Output(layout = {\"border\":\"1px solid white\"})\n",
    "\n",
    "with out:\n",
    "    for i in range(10):\n",
    "        print(i, \"Hello World\")\n",
    "display(out)\n",
    "\n",
    "sldr_1 = wgts.FloatSlider()\n",
    "with out:\n",
    "    display(sldr_1)"
   ]
  },
  {
   "cell_type": "code",
   "execution_count": 14,
   "id": "minute-national",
   "metadata": {},
   "outputs": [
    {
     "data": {
      "application/vnd.jupyter.widget-view+json": {
       "model_id": "ff36002e27a7476ba0b79e42ef1ddc0f",
       "version_major": 2,
       "version_minor": 0
      },
      "text/plain": [
       "Output()"
      ]
     },
     "metadata": {},
     "output_type": "display_data"
    }
   ],
   "source": [
    "# Embedding YouTube Video\n",
    "import ipywidgets as wgts\n",
    "from IPython.display import YouTubeVideo\n",
    "\n",
    "out = wgts.Output(laout = {\"border\":\"1px solid white\"})\n",
    "with out:\n",
    "    display(YouTubeVideo(\"eWzY2nGfkXk\"))\n",
    "out"
   ]
  },
  {
   "cell_type": "code",
   "execution_count": 15,
   "id": "widespread-plane",
   "metadata": {},
   "outputs": [
    {
     "data": {
      "application/vnd.jupyter.widget-view+json": {
       "model_id": "c0f60bebf946446b950fa9465be78853",
       "version_major": 2,
       "version_minor": 0
      },
      "text/plain": [
       "HBox(children=(VBox(children=(IntSlider(value=0, description='a'), IntSlider(value=0, description='b'), IntSli…"
      ]
     },
     "metadata": {},
     "output_type": "display_data"
    }
   ],
   "source": [
    "# Interactive Output\n",
    "a = widgets.IntSlider(description='a')\n",
    "b = widgets.IntSlider(description='b')\n",
    "c = widgets.IntSlider(description='c')\n",
    "def f(a, b, c):\n",
    "    print('{}*{}*{}={}'.format(a, b, c, a*b*c))\n",
    "\n",
    "out = widgets.interactive_output(f, {'a': a, 'b': b, 'c': c})\n",
    "\n",
    "widgets.HBox([widgets.VBox([a, b, c]), out])"
   ]
  },
  {
   "cell_type": "code",
   "execution_count": 16,
   "id": "valued-soviet",
   "metadata": {},
   "outputs": [
    {
     "data": {
      "application/vnd.jupyter.widget-view+json": {
       "model_id": "2741269e9b00437cbc93080a8aaf3db7",
       "version_major": 2,
       "version_minor": 0
      },
      "text/plain": [
       "Button(description='click me to raise an exception', layout=Layout(width='300px'), style=ButtonStyle())"
      ]
     },
     "metadata": {},
     "output_type": "display_data"
    }
   ],
   "source": [
    "debug_view = widgets.Output(layout={'border': '1px solid white'})\n",
    "\n",
    "@debug_view.capture(clear_output=True)\n",
    "def bad_callback(event):\n",
    "    print('This is about to explode')\n",
    "    return 1.0 / 0.0\n",
    "\n",
    "button = widgets.Button(\n",
    "    description='click me to raise an exception',\n",
    "    layout={'width': '300px'}\n",
    ")\n",
    "button.on_click(bad_callback)\n",
    "display(button)"
   ]
  },
  {
   "cell_type": "code",
   "execution_count": 17,
   "id": "peaceful-eight",
   "metadata": {},
   "outputs": [
    {
     "data": {
      "application/vnd.jupyter.widget-view+json": {
       "model_id": "3d714de378fc4fc2a17dd731999e4d6a",
       "version_major": 2,
       "version_minor": 0
      },
      "text/plain": [
       "Output(layout=Layout(border='1px solid white'))"
      ]
     },
     "metadata": {},
     "output_type": "display_data"
    }
   ],
   "source": [
    "debug_view"
   ]
  },
  {
   "cell_type": "code",
   "execution_count": 18,
   "id": "prescription-questionnaire",
   "metadata": {},
   "outputs": [],
   "source": [
    "import ipywidgets as widgets\n",
    "import logging\n",
    "\n",
    "class OutputWidgetHandler(logging.Handler):\n",
    "    \"\"\" Custom logging handler sending logs to an output widget \"\"\"\n",
    "\n",
    "    def __init__(self, *args, **kwargs):\n",
    "        super(OutputWidgetHandler, self).__init__(*args, **kwargs)\n",
    "        layout = {\n",
    "            'width': '100%',\n",
    "            'height': '160px',\n",
    "            'border': '1px solid black'\n",
    "        }\n",
    "        self.out = widgets.Output(layout=layout)\n",
    "\n",
    "    def emit(self, record):\n",
    "        \"\"\" Overload of logging.Handler method \"\"\"\n",
    "        formatted_record = self.format(record)\n",
    "        new_output = {\n",
    "            'name': 'stdout',\n",
    "            'output_type': 'stream',\n",
    "            'text': formatted_record+'\\n'\n",
    "        }\n",
    "        self.out.outputs = (new_output, ) + self.out.outputs\n",
    "\n",
    "    def show_logs(self):\n",
    "        \"\"\" Show the logs \"\"\"\n",
    "        display(self.out)\n",
    "\n",
    "    def clear_logs(self):\n",
    "        \"\"\" Clear the current logs \"\"\"\n",
    "        self.out.clear_output()\n",
    "\n",
    "\n",
    "logger = logging.getLogger(__name__)\n",
    "handler = OutputWidgetHandler()\n",
    "handler.setFormatter(logging.Formatter('%(asctime)s  - [%(levelname)s] %(message)s'))\n",
    "logger.addHandler(handler)\n",
    "logger.setLevel(logging.INFO)"
   ]
  },
  {
   "cell_type": "code",
   "execution_count": 19,
   "id": "silver-chorus",
   "metadata": {},
   "outputs": [
    {
     "data": {
      "application/vnd.jupyter.widget-view+json": {
       "model_id": "8289c5d42fff4ec0be49375acd27d58f",
       "version_major": 2,
       "version_minor": 0
      },
      "text/plain": [
       "Output(layout=Layout(border='1px solid black', height='160px', width='100%'))"
      ]
     },
     "metadata": {},
     "output_type": "display_data"
    }
   ],
   "source": [
    "handler.show_logs()"
   ]
  },
  {
   "cell_type": "code",
   "execution_count": 20,
   "id": "super-senegal",
   "metadata": {},
   "outputs": [],
   "source": [
    "handler.clear_logs()\n",
    "logger.info('Starting program')\n",
    "\n",
    "try:\n",
    "    logger.info('About to try something dangerous...')\n",
    "    1.0/0.0\n",
    "except Exception as e:\n",
    "    logger.exception('An error occurred!')"
   ]
  },
  {
   "cell_type": "code",
   "execution_count": 21,
   "id": "declared-being",
   "metadata": {},
   "outputs": [
    {
     "name": "stdout",
     "output_type": "stream",
     "text": [
      "Register a callback to execute when the button is clicked.\n",
      "\n",
      "        The callback will be called with one argument, the clicked button\n",
      "        widget instance.\n",
      "\n",
      "        Parameters\n",
      "        ----------\n",
      "        remove: bool (optional)\n",
      "            Set to true to remove the callback from the list of callbacks.\n",
      "        \n"
     ]
    }
   ],
   "source": [
    "# Events\n",
    "import ipywidgets as wgts\n",
    "print(wgts.Button.on_click.__doc__)"
   ]
  },
  {
   "cell_type": "code",
   "execution_count": 22,
   "id": "assigned-graph",
   "metadata": {},
   "outputs": [
    {
     "data": {
      "application/vnd.jupyter.widget-view+json": {
       "model_id": "425a5318a5cf4faea0cad1743e25e65f",
       "version_major": 2,
       "version_minor": 0
      },
      "text/plain": [
       "Button(description='Click Me', style=ButtonStyle())"
      ]
     },
     "metadata": {},
     "output_type": "display_data"
    },
    {
     "data": {
      "application/vnd.jupyter.widget-view+json": {
       "model_id": "f4b853cc7af649a098ac38e3f631d343",
       "version_major": 2,
       "version_minor": 0
      },
      "text/plain": [
       "Output()"
      ]
     },
     "metadata": {},
     "output_type": "display_data"
    }
   ],
   "source": [
    "import ipywidgets as wgts\n",
    "from IPython.display import display\n",
    "\n",
    "btn = wgts.Button(description = \"Click Me\")\n",
    "out = wgts.Output()\n",
    "\n",
    "display(btn, out)\n",
    "\n",
    "def on_button_clicked(b):\n",
    "    with out:\n",
    "        print(\"Button clicked\")\n",
    "\n",
    "btn.on_click(on_button_clicked)"
   ]
  },
  {
   "cell_type": "code",
   "execution_count": 23,
   "id": "parental-european",
   "metadata": {},
   "outputs": [
    {
     "data": {
      "application/vnd.jupyter.widget-view+json": {
       "model_id": "01343bf6ebf743798eb7d3d69d7f497a",
       "version_major": 2,
       "version_minor": 0
      },
      "text/plain": [
       "IntSlider(value=0)"
      ]
     },
     "metadata": {},
     "output_type": "display_data"
    },
    {
     "data": {
      "application/vnd.jupyter.widget-view+json": {
       "model_id": "00874b65fbdb453c8613f7c058418104",
       "version_major": 2,
       "version_minor": 0
      },
      "text/plain": [
       "IntText(value=0)"
      ]
     },
     "metadata": {},
     "output_type": "display_data"
    },
    {
     "data": {
      "application/vnd.jupyter.widget-view+json": {
       "model_id": "43a2ea335b6f4eada4085efb01727c7b",
       "version_major": 2,
       "version_minor": 0
      },
      "text/plain": [
       "Output()"
      ]
     },
     "metadata": {},
     "output_type": "display_data"
    }
   ],
   "source": [
    "# Using Observe\n",
    "import ipywidgets as wgts\n",
    "\n",
    "int_range = wgts.IntSlider()\n",
    "int_entry = wgts.IntText()\n",
    "out = wgts.Output()\n",
    "\n",
    "display(int_range, int_entry, out)\n",
    "\n",
    "def on_value_change(change):\n",
    "    out.clear_output()\n",
    "    int_entry.value = change[\"new\"]\n",
    "    with out:\n",
    "        print(change)\n",
    "\n",
    "int_range.observe(on_value_change, \"value\")"
   ]
  },
  {
   "cell_type": "code",
   "execution_count": 24,
   "id": "eastern-practice",
   "metadata": {},
   "outputs": [
    {
     "data": {
      "application/vnd.jupyter.widget-view+json": {
       "model_id": "831592e08d364e709a7514448c526124",
       "version_major": 2,
       "version_minor": 0
      },
      "text/plain": [
       "Label(value='Slider 1 and Slider 2 are synchronized')"
      ]
     },
     "metadata": {},
     "output_type": "display_data"
    },
    {
     "data": {
      "application/vnd.jupyter.widget-view+json": {
       "model_id": "3fb6949baaa5417ab5cf3b7724e7b5ea",
       "version_major": 2,
       "version_minor": 0
      },
      "text/plain": [
       "IntSlider(value=0, description='Slider 1')"
      ]
     },
     "metadata": {},
     "output_type": "display_data"
    },
    {
     "data": {
      "application/vnd.jupyter.widget-view+json": {
       "model_id": "271d7f4bd78e4c3ca04b52a2968f3496",
       "version_major": 2,
       "version_minor": 0
      },
      "text/plain": [
       "IntSlider(value=0, description='Slider 2')"
      ]
     },
     "metadata": {},
     "output_type": "display_data"
    }
   ],
   "source": [
    "# Linking\n",
    "import ipywidgets as wgts\n",
    "\n",
    "lbl_caption = wgts.Label(value = \"Slider 1 and Slider 2 are synchronized\")\n",
    "sldr_1, sldr_2 = wgts.IntSlider(description = \"Slider 1\"), wgts.IntSlider(description = \"Slider 2\")\n",
    "\n",
    "lnk_1 = wgts.link( (sldr_1, \"value\"), (sldr_2, \"value\") )\n",
    "display(lbl_caption, sldr_1, sldr_2)"
   ]
  },
  {
   "cell_type": "code",
   "execution_count": 25,
   "id": "advised-thousand",
   "metadata": {},
   "outputs": [
    {
     "data": {
      "application/vnd.jupyter.widget-view+json": {
       "model_id": "0985826443c14f178e5dfda3e2ac3b32",
       "version_major": 2,
       "version_minor": 0
      },
      "text/plain": [
       "Label(value='The values of range 1 and range 2 are synchronized')"
      ]
     },
     "metadata": {},
     "output_type": "display_data"
    },
    {
     "data": {
      "application/vnd.jupyter.widget-view+json": {
       "model_id": "62aa8bc152b74ea497b5c096e1646e4f",
       "version_major": 2,
       "version_minor": 0
      },
      "text/plain": [
       "IntSlider(value=0, description='Range 1')"
      ]
     },
     "metadata": {},
     "output_type": "display_data"
    },
    {
     "data": {
      "application/vnd.jupyter.widget-view+json": {
       "model_id": "93a38918c61e4312b2d62ba4e6213ba7",
       "version_major": 2,
       "version_minor": 0
      },
      "text/plain": [
       "IntSlider(value=0, description='Range 2')"
      ]
     },
     "metadata": {},
     "output_type": "display_data"
    }
   ],
   "source": [
    "# Linking in Client Side\n",
    "import ipywidgets as wgts\n",
    "\n",
    "lbl_caption = wgts.Label(value = \"The values of range 1 and range 2 are synchronized\")\n",
    "range_1, range_2 = wgts.IntSlider(description = \"Range 1\"), wgts.IntSlider(description = \"Range 2\")\n",
    "lnk_1 = wgts.jslink((range_1, \"value\"), (range_2, \"value\"))\n",
    "display(lbl_caption, range_1, range_2)"
   ]
  },
  {
   "cell_type": "code",
   "execution_count": 41,
   "id": "threaded-border",
   "metadata": {},
   "outputs": [
    {
     "data": {
      "application/vnd.jupyter.widget-view+json": {
       "model_id": "2cde97a5a83646b9a8b1f0ceb915662e",
       "version_major": 2,
       "version_minor": 0
      },
      "text/plain": [
       "Button(description='(50% width, 80px height) button', layout=Layout(height='80px', width='50%'), style=ButtonS…"
      ]
     },
     "metadata": {},
     "output_type": "display_data"
    },
    {
     "data": {
      "application/vnd.jupyter.widget-view+json": {
       "model_id": "8e8bcc8075104b298c18de36e3dfa981",
       "version_major": 2,
       "version_minor": 0
      },
      "text/plain": [
       "Button(layout=Layout(height='80px', width='50%'), style=ButtonStyle())"
      ]
     },
     "metadata": {},
     "output_type": "display_data"
    },
    {
     "data": {
      "application/vnd.jupyter.widget-view+json": {
       "model_id": "28a565ddb1024830a13f2aaa4b2c353b",
       "version_major": 2,
       "version_minor": 0
      },
      "text/plain": [
       "IntSlider(value=0, description='A too long description', layout=Layout(width='450px'), style=SliderStyle(descr…"
      ]
     },
     "metadata": {},
     "output_type": "display_data"
    }
   ],
   "source": [
    "# Layout 1\n",
    "import ipywidgets as wgts\n",
    "\n",
    "btn_1 = wgts.Button(description=\"(50% width, 80px height) button\", layout = wgts.Layout(width = \"50%\", height = \"80px\"))\n",
    "btn_2 = wgts.Button(layout = btn_1.layout)\n",
    "\n",
    "stl = {\"description_width\": \"initial\"}\n",
    "sldr_1 = wgts.IntSlider(description = \"A too long description\", layout = wgts.Layout(width = \"450px\"), style = stl)\n",
    "\n",
    "display(btn_1, btn_2, sldr_1)"
   ]
  },
  {
   "cell_type": "code",
   "execution_count": 43,
   "id": "british-tsunami",
   "metadata": {},
   "outputs": [
    {
     "data": {
      "application/vnd.jupyter.widget-view+json": {
       "model_id": "1ca02f1db29f45bf989faf000109b024",
       "version_major": 2,
       "version_minor": 0
      },
      "text/plain": [
       "HBox(children=(VBox(children=(Button(description='correct', style=ButtonStyle()), Button(description='horse', …"
      ]
     },
     "metadata": {},
     "output_type": "display_data"
    }
   ],
   "source": [
    "# Layout 2\n",
    "import ipywidgets as wgts\n",
    "\n",
    "words = [\"correct\", \"horse\", \"battery\", \"staple\"]\n",
    "items = [wgts.Button(description = _) for _ in words]\n",
    "left_box = wgts.VBox([items[0], items[1]])\n",
    "right_box = wgts.VBox([items[2], items[3]])\n",
    "all_box = wgts.HBox([left_box, right_box])\n",
    "\n",
    "display(all_box)"
   ]
  },
  {
   "cell_type": "code",
   "execution_count": 47,
   "id": "obvious-promotion",
   "metadata": {},
   "outputs": [
    {
     "data": {
      "application/vnd.jupyter.widget-view+json": {
       "model_id": "59e0e7aad923400a896f91752019dfb7",
       "version_major": 2,
       "version_minor": 0
      },
      "text/plain": [
       "IntSlider(value=0, description='\\\\(\\\\int_0^t f(x) dx\\\\)')"
      ]
     },
     "metadata": {},
     "output_type": "display_data"
    }
   ],
   "source": [
    "# Layout 3 - LaTeX\n",
    "import ipywidgets as wgts\n",
    "\n",
    "sldr_1 = wgts.IntSlider(description = r\"\\(\\int_0^t f(x) dx\\)\")\n",
    "\n",
    "display(sldr_1)"
   ]
  },
  {
   "cell_type": "code",
   "execution_count": 53,
   "id": "handled-profile",
   "metadata": {},
   "outputs": [
    {
     "data": {
      "application/vnd.jupyter.widget-view+json": {
       "model_id": "bc0c6fc1cabd43fd95d69cebc47a603f",
       "version_major": 2,
       "version_minor": 0
      },
      "text/plain": [
       "Box(children=(Button(description='correct', layout=Layout(width='auto'), style=ButtonStyle()), Button(descript…"
      ]
     },
     "metadata": {},
     "output_type": "display_data"
    }
   ],
   "source": [
    "# Layout 4\n",
    "import ipywidgets as wgts\n",
    "\n",
    "items_layout = wgts.Layout(width = \"auto\")\n",
    "\n",
    "box_layout = wgts.Layout(display = \"flex\",\n",
    "                        flex_flow = \"column\",\n",
    "                        align_items = \"stretch\",\n",
    "                        border = \"solid\", \n",
    "                        width = \"50%\")\n",
    "words = [\"correct\", \"horse\", \"battery\", \"staple\"]\n",
    "items = [wgts.Button(description = word, layout = items_layout, button_style = \"\") for word in words]\n",
    "box = wgts.Box(children = items, layout = box_layout)\n",
    "\n",
    "display(box)"
   ]
  },
  {
   "cell_type": "code",
   "execution_count": 57,
   "id": "convertible-account",
   "metadata": {},
   "outputs": [
    {
     "data": {
      "application/vnd.jupyter.widget-view+json": {
       "model_id": "ba9130cfb8a542b28737e976a9a2b0d9",
       "version_major": 2,
       "version_minor": 0
      },
      "text/plain": [
       "Box(children=(Box(children=(Label(value='Age of the captain'), IntSlider(value=40, max=60, min=40)), layout=La…"
      ]
     },
     "metadata": {},
     "output_type": "display_data"
    }
   ],
   "source": [
    "import ipywidgets as wgts\n",
    "\n",
    "form_item_layout = wgts.Layout(\n",
    "    display='flex',\n",
    "    flex_flow='row',\n",
    "    justify_content='space-between'\n",
    ")\n",
    "\n",
    "form_items = [\n",
    "    wgts.Box([wgts.Label(value='Age of the captain'), wgts.IntSlider(min=40, max=60)], layout=form_item_layout),\n",
    "    wgts.Box([wgts.Label(value='Egg style'),\n",
    "         wgts.Dropdown(options=['Scrambled', 'Sunny side up', 'Over easy'])], layout=form_item_layout),\n",
    "    wgts.Box([wgts.Label(value='Ship size'),\n",
    "         wgts.FloatText()], layout=form_item_layout),\n",
    "    wgts.Box([wgts.Label(value='Information'),\n",
    "         wgts.Textarea()], layout=form_item_layout)\n",
    "]\n",
    "\n",
    "form = wgts.Box(form_items, layout=wgts.Layout(\n",
    "    display='flex',\n",
    "    flex_flow='column',\n",
    "    border='solid 2px',\n",
    "    align_items='stretch',\n",
    "    width='50%'\n",
    "))\n",
    "\n",
    "display(form)"
   ]
  },
  {
   "cell_type": "code",
   "execution_count": 59,
   "id": "right-marina",
   "metadata": {},
   "outputs": [
    {
     "data": {
      "application/vnd.jupyter.widget-view+json": {
       "model_id": "6455374bc03e40179841f6511f14f625",
       "version_major": 2,
       "version_minor": 0
      },
      "text/plain": [
       "VBox(children=(Label(value='Scroll horizontally:'), Box(children=(Button(button_style='warning', description='…"
      ]
     },
     "metadata": {},
     "output_type": "display_data"
    }
   ],
   "source": [
    "from ipywidgets import Layout, Button, VBox, Label, Box\n",
    "\n",
    "item_layout = Layout(height='100px', min_width='40px')\n",
    "items = [Button(layout=item_layout, description=str(i), button_style='warning') for i in range(40)]\n",
    "box_layout = Layout(overflow='scroll hidden',\n",
    "                    border='3px solid black',\n",
    "                    width='500px',\n",
    "                    height='',\n",
    "                    flex_flow='row',\n",
    "                    display='flex')\n",
    "carousel = Box(children=items, layout=box_layout)\n",
    "VBox([Label('Scroll horizontally:'), carousel])"
   ]
  },
  {
   "cell_type": "code",
   "execution_count": 64,
   "id": "substantial-ground",
   "metadata": {},
   "outputs": [
    {
     "data": {
      "application/vnd.jupyter.widget-view+json": {
       "model_id": "e6fbff2ed83b410a9757de3941a87dcc",
       "version_major": 2,
       "version_minor": 0
      },
      "text/plain": [
       "IntSlider(value=0, description='Blue Handle', style=SliderStyle(handle_color='lightblue'))"
      ]
     },
     "metadata": {},
     "output_type": "display_data"
    }
   ],
   "source": [
    "import ipywidgets as wgts\n",
    "\n",
    "sldr_1 = wgts.IntSlider(description = \"Blue Handle\")\n",
    "sldr_1.style.handle_color = \"lightblue\"\n",
    "\n",
    "display(sldr_1)"
   ]
  },
  {
   "cell_type": "code",
   "execution_count": 77,
   "id": "bored-circumstances",
   "metadata": {},
   "outputs": [
    {
     "data": {
      "application/vnd.jupyter.widget-view+json": {
       "model_id": "a566717d1e2b40c1b27520c91ee331e0",
       "version_major": 2,
       "version_minor": 0
      },
      "text/plain": [
       "Figure(axes=[Axis(scale=OrdinalScale()), Axis(orientation='vertical', scale=LinearScale(), tick_format='0.2f')…"
      ]
     },
     "metadata": {},
     "output_type": "display_data"
    }
   ],
   "source": [
    "import bqplot as bq\n",
    "import numpy as np\n",
    "import ipywidgets as wgts\n",
    "\n",
    "size = 100\n",
    "np.random.seed(0)\n",
    "\n",
    "x_data = range(size)\n",
    "y_data = np.random.randn(size)\n",
    "y_data_2 = np.random.randn(size)\n",
    "y_data_3 = np.cumsum(np.random.randn(size) * 100.)\n",
    "\n",
    "x_ord = bq.OrdinalScale()\n",
    "y_sc = bq.LinearScale()\n",
    "\n",
    "bar = bq.Bars(x=np.arange(10), y=np.random.rand(10), scales={'x': x_ord, 'y': y_sc})\n",
    "ax_x = bq.Axis(scale=x_ord)\n",
    "ax_y = bq.Axis(scale=y_sc, tick_format='0.2f', orientation='vertical')\n",
    "\n",
    "fig = bq.Figure(marks=[bar], axes=[ax_x, ax_y], padding_x=0.025, padding_y=0.025,\n",
    "                layout=Layout(width='auto', height='90%'))\n",
    "\n",
    "display(fig)"
   ]
  },
  {
   "cell_type": "code",
   "execution_count": 74,
   "id": "solar-carrier",
   "metadata": {},
   "outputs": [
    {
     "data": {
      "application/vnd.jupyter.widget-view+json": {
       "model_id": "c7a8ad7decc14ab4b746d91ac4ead47a",
       "version_major": 2,
       "version_minor": 0
      },
      "text/plain": [
       "TwoByTwoLayout(children=(FloatSlider(value=0.0, description='Min: ', layout=Layout(grid_area='top-left', heigh…"
      ]
     },
     "metadata": {},
     "output_type": "display_data"
    }
   ],
   "source": [
    "from ipywidgets import *\n",
    "\n",
    "max_slider = FloatSlider(min=0, max=10, default_value=2, description=\"Max: \",\n",
    "                         layout=Layout(width='auto', height='auto'))\n",
    "min_slider = FloatSlider(min=-1, max=10, description=\"Min: \",\n",
    "                         layout=Layout(width='auto', height='auto'))\n",
    "app = TwoByTwoLayout(top_left=min_slider,\n",
    "                     bottom_left=max_slider,\n",
    "                     bottom_right=fig,\n",
    "                     align_items=\"center\",\n",
    "                     height='700px')\n",
    "\n",
    "jslink((y_sc, 'max'), (max_slider, 'value'))\n",
    "jslink((y_sc, 'min'), (min_slider, 'value'))\n",
    "jslink((min_slider, 'max'), (max_slider, 'value'))\n",
    "jslink((max_slider, 'min'), (min_slider, 'value'))\n",
    "\n",
    "max_slider.value = 1.5\n",
    "app\n"
   ]
  },
  {
   "cell_type": "code",
   "execution_count": 84,
   "id": "hybrid-girlfriend",
   "metadata": {},
   "outputs": [
    {
     "data": {
      "application/vnd.jupyter.widget-view+json": {
       "model_id": "03227d3afa9e43a79f31f67a8fd6dd52",
       "version_major": 2,
       "version_minor": 0
      },
      "text/plain": [
       "GridspecLayout(children=(Button(description='Button 0 - 0', layout=Layout(grid_area='widget001', height='auto'…"
      ]
     },
     "metadata": {},
     "output_type": "display_data"
    }
   ],
   "source": [
    "# Grid Layout\n",
    "import ipywidgets as wgts\n",
    "\n",
    "def create_expanded_button(description, button_style):\n",
    "    return wgts.Button(description = description, button_style = button_style, layout = wgts.Layout(height = \"auto\", width = \"auto\"))\n",
    "\n",
    "grd = wgts.GridspecLayout(4, 3)\n",
    "\n",
    "for i in range(4):\n",
    "    for j in range(3):\n",
    "        grd[i, j] = create_expanded_button(\"Button {} - {}\".format(i, j), \"\")\n",
    "\n",
    "display(grd)"
   ]
  },
  {
   "cell_type": "code",
   "execution_count": 90,
   "id": "adapted-accounting",
   "metadata": {},
   "outputs": [
    {
     "data": {
      "application/vnd.jupyter.widget-view+json": {
       "model_id": "a94708a900074b5392ff2b82b1b62bb8",
       "version_major": 2,
       "version_minor": 0
      },
      "text/plain": [
       "GridspecLayout(children=(Button(button_style='success', description='One', layout=Layout(grid_area='widget001'…"
      ]
     },
     "metadata": {},
     "output_type": "display_data"
    }
   ],
   "source": [
    "import ipywidgets as wgts\n",
    "\n",
    "grd = wgts.GridspecLayout(4, 3, height = \"300px\")\n",
    "\n",
    "grd[:3, 1:] = create_expanded_button(\"One\", \"success\")\n",
    "grd[:, 0] = create_expanded_button(\"Two\", \"info\")\n",
    "grd[3, 1] = create_expanded_button(\"Three\", \"warning\")\n",
    "grd[3, 2] = create_expanded_button(\"Four\", \"danger\")\n",
    "\n",
    "grd[0, 0].description = \"Blue\"\n",
    "\n",
    "display(grd)"
   ]
  },
  {
   "cell_type": "code",
   "execution_count": null,
   "id": "decimal-hello",
   "metadata": {},
   "outputs": [],
   "source": []
  }
 ],
 "metadata": {
  "kernelspec": {
   "display_name": "Python 3",
   "language": "python",
   "name": "python3"
  },
  "language_info": {
   "codemirror_mode": {
    "name": "ipython",
    "version": 3
   },
   "file_extension": ".py",
   "mimetype": "text/x-python",
   "name": "python",
   "nbconvert_exporter": "python",
   "pygments_lexer": "ipython3",
   "version": "3.8.5"
  }
 },
 "nbformat": 4,
 "nbformat_minor": 5
}
