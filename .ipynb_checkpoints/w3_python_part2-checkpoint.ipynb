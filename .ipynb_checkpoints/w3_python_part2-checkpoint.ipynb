{
 "cells": [
  {
   "cell_type": "code",
   "execution_count": 1,
   "id": "protected-solution",
   "metadata": {},
   "outputs": [
    {
     "name": "stdout",
     "output_type": "stream",
     "text": [
      "False\n"
     ]
    }
   ],
   "source": [
    "#1\n",
    "import random as rnd\n",
    "rnd.seed()\n",
    "\n",
    "N = 5\n",
    "\n",
    "lst = [rnd.randint(0, 10) for i in range(N)]\n",
    "print(len(lst) == len(set(lst)))"
   ]
  },
  {
   "cell_type": "code",
   "execution_count": 2,
   "id": "infectious-female",
   "metadata": {
    "collapsed": true,
    "jupyter": {
     "outputs_hidden": true
    }
   },
   "outputs": [
    {
     "name": "stdout",
     "output_type": "stream",
     "text": [
      "aeiou\n",
      "aeiuo\n",
      "aeoiu\n",
      "aeoui\n",
      "aeuio\n",
      "aeuoi\n",
      "aieou\n",
      "aieuo\n",
      "aioeu\n",
      "aioue\n",
      "aiueo\n",
      "aiuoe\n",
      "aoeiu\n",
      "aoeui\n",
      "aoieu\n",
      "aoiue\n",
      "aouei\n",
      "aouie\n",
      "aueio\n",
      "aueoi\n",
      "auieo\n",
      "auioe\n",
      "auoei\n",
      "auoie\n",
      "eaiou\n",
      "eaiuo\n",
      "eaoiu\n",
      "eaoui\n",
      "eauio\n",
      "eauoi\n",
      "eiaou\n",
      "eiauo\n",
      "eioau\n",
      "eioua\n",
      "eiuao\n",
      "eiuoa\n",
      "eoaiu\n",
      "eoaui\n",
      "eoiau\n",
      "eoiua\n",
      "eouai\n",
      "eouia\n",
      "euaio\n",
      "euaoi\n",
      "euiao\n",
      "euioa\n",
      "euoai\n",
      "euoia\n",
      "iaeou\n",
      "iaeuo\n",
      "iaoeu\n",
      "iaoue\n",
      "iaueo\n",
      "iauoe\n",
      "ieaou\n",
      "ieauo\n",
      "ieoau\n",
      "ieoua\n",
      "ieuao\n",
      "ieuoa\n",
      "ioaeu\n",
      "ioaue\n",
      "ioeau\n",
      "ioeua\n",
      "iouae\n",
      "iouea\n",
      "iuaeo\n",
      "iuaoe\n",
      "iueao\n",
      "iueoa\n",
      "iuoae\n",
      "iuoea\n",
      "oaeiu\n",
      "oaeui\n",
      "oaieu\n",
      "oaiue\n",
      "oauei\n",
      "oauie\n",
      "oeaiu\n",
      "oeaui\n",
      "oeiau\n",
      "oeiua\n",
      "oeuai\n",
      "oeuia\n",
      "oiaeu\n",
      "oiaue\n",
      "oieau\n",
      "oieua\n",
      "oiuae\n",
      "oiuea\n",
      "ouaei\n",
      "ouaie\n",
      "oueai\n",
      "oueia\n",
      "ouiae\n",
      "ouiea\n",
      "uaeio\n",
      "uaeoi\n",
      "uaieo\n",
      "uaioe\n",
      "uaoei\n",
      "uaoie\n",
      "ueaio\n",
      "ueaoi\n",
      "ueiao\n",
      "ueioa\n",
      "ueoai\n",
      "ueoia\n",
      "uiaeo\n",
      "uiaoe\n",
      "uieao\n",
      "uieoa\n",
      "uioae\n",
      "uioea\n",
      "uoaei\n",
      "uoaie\n",
      "uoeai\n",
      "uoeia\n",
      "uoiae\n",
      "uoiea\n"
     ]
    },
    {
     "data": {
      "text/plain": [
       "[None,\n",
       " None,\n",
       " None,\n",
       " None,\n",
       " None,\n",
       " None,\n",
       " None,\n",
       " None,\n",
       " None,\n",
       " None,\n",
       " None,\n",
       " None,\n",
       " None,\n",
       " None,\n",
       " None,\n",
       " None,\n",
       " None,\n",
       " None,\n",
       " None,\n",
       " None,\n",
       " None,\n",
       " None,\n",
       " None,\n",
       " None,\n",
       " None,\n",
       " None,\n",
       " None,\n",
       " None,\n",
       " None,\n",
       " None,\n",
       " None,\n",
       " None,\n",
       " None,\n",
       " None,\n",
       " None,\n",
       " None,\n",
       " None,\n",
       " None,\n",
       " None,\n",
       " None,\n",
       " None,\n",
       " None,\n",
       " None,\n",
       " None,\n",
       " None,\n",
       " None,\n",
       " None,\n",
       " None,\n",
       " None,\n",
       " None,\n",
       " None,\n",
       " None,\n",
       " None,\n",
       " None,\n",
       " None,\n",
       " None,\n",
       " None,\n",
       " None,\n",
       " None,\n",
       " None,\n",
       " None,\n",
       " None,\n",
       " None,\n",
       " None,\n",
       " None,\n",
       " None,\n",
       " None,\n",
       " None,\n",
       " None,\n",
       " None,\n",
       " None,\n",
       " None,\n",
       " None,\n",
       " None,\n",
       " None,\n",
       " None,\n",
       " None,\n",
       " None,\n",
       " None,\n",
       " None,\n",
       " None,\n",
       " None,\n",
       " None,\n",
       " None,\n",
       " None,\n",
       " None,\n",
       " None,\n",
       " None,\n",
       " None,\n",
       " None,\n",
       " None,\n",
       " None,\n",
       " None,\n",
       " None,\n",
       " None,\n",
       " None,\n",
       " None,\n",
       " None,\n",
       " None,\n",
       " None,\n",
       " None,\n",
       " None,\n",
       " None,\n",
       " None,\n",
       " None,\n",
       " None,\n",
       " None,\n",
       " None,\n",
       " None,\n",
       " None,\n",
       " None,\n",
       " None,\n",
       " None,\n",
       " None,\n",
       " None,\n",
       " None,\n",
       " None,\n",
       " None,\n",
       " None,\n",
       " None]"
      ]
     },
     "execution_count": 2,
     "metadata": {},
     "output_type": "execute_result"
    }
   ],
   "source": [
    "#2\n",
    "from itertools import permutations\n",
    "\n",
    "tested_string = \"aeiou\"\n",
    "\n",
    "lst = list(permutations(tested_string, len(tested_string)))\n",
    "\n",
    "[print(\"\".join(el)) for el in lst]\n"
   ]
  },
  {
   "cell_type": "code",
   "execution_count": 3,
   "id": "formal-humanitarian",
   "metadata": {},
   "outputs": [
    {
     "name": "stdout",
     "output_type": "stream",
     "text": [
      "3 6 9 4 8 5 2 7 1 "
     ]
    }
   ],
   "source": [
    "#3\n",
    "import random as rnd\n",
    "rnd.seed()\n",
    "\n",
    "lst = list(range(1, 10))\n",
    "\n",
    "i = 0\n",
    "delta = 2\n",
    "while len(lst) > 0:\n",
    "    i = (i + delta) % len(lst)\n",
    "    print(lst.pop(i), end = ' ')"
   ]
  },
  {
   "cell_type": "code",
   "execution_count": 8,
   "id": "informative-fever",
   "metadata": {},
   "outputs": [
    {
     "name": "stdout",
     "output_type": "stream",
     "text": [
      "[(8391, -3023, -5368), (8391, -5368, -3023), (8391, -559, -7832), (8391, -7832, -559), (3346, -5149, 1803), (3346, 1803, -5149), (-3023, 8391, -5368), (-3023, -5368, 8391), (-1793, 5694, -3901), (-1793, -3901, 5694), (-5368, 8391, -3023), (-5368, -3023, 8391), (7879, -4539, -3340), (7879, -3340, -4539), (-545, 5694, -5149), (-545, -5149, 5694), (80, 891, -971), (80, -971, 891), (891, 80, -971), (891, -971, 80), (-4539, 7879, -3340), (-4539, -3340, 7879), (-559, 8391, -7832), (-559, -7832, 8391), (-971, 80, 891), (-971, 891, 80), (5694, -1793, -3901), (5694, -545, -5149), (5694, -3901, -1793), (5694, -5149, -545), (-3901, -1793, 5694), (-3901, 5694, -1793), (-7832, 8391, -559), (-7832, -559, 8391), (-5149, 3346, 1803), (-5149, -545, 5694), (-5149, 5694, -545), (-5149, 1803, 3346), (-3340, 7879, -4539), (-3340, -4539, 7879), (1803, 3346, -5149), (1803, -5149, 3346)]\n"
     ]
    }
   ],
   "source": [
    "#4\n",
    "import random as rnd\n",
    "from itertools import permutations\n",
    "rnd.seed()\n",
    "\n",
    "lst = [rnd.randint(-10000, 10000) for i in range(100)]\n",
    "\n",
    "triplets = list(filter(lambda x : sum(x) == 0, list(permutations(lst, 3))))\n",
    "\n",
    "print(triplets)"
   ]
  },
  {
   "cell_type": "code",
   "execution_count": 9,
   "id": "respiratory-ordinary",
   "metadata": {},
   "outputs": [],
   "source": [
    "#5\n",
    "#lame"
   ]
  },
  {
   "cell_type": "code",
   "execution_count": 18,
   "id": "moral-depression",
   "metadata": {},
   "outputs": [
    {
     "name": "stdout",
     "output_type": "stream",
     "text": [
      "{'It': 1, 'is': 4, 'not': 2, 'the': 12, 'critic': 1, 'who': 12, 'counts;': 1, 'man': 3, 'points': 1, 'out': 1, 'how': 1, 'strong': 1, 'stumbles,': 1, 'or': 1, 'where': 1, 'doer': 1, 'of': 2, 'deeds': 1, 'could': 1, 'have': 1, 'done': 1, 'them': 1, 'better.': 1, 'The': 1, 'credit': 1, 'belongs': 1, 'to': 2, 'actually': 2, 'in': 3, 'arena,': 1, 'whose': 1, 'face': 1, 'marred': 1, 'by': 1, 'dust': 1, 'and': 6, 'sweat': 1, 'blood;': 1, 'strives': 1, 'valiantly;': 1, 'errs,': 1, 'comes': 1, 'short': 1, 'again': 1, 'again,': 1, 'because': 1, 'there': 1, 'no': 1, 'effort': 1, 'without': 1, 'error': 1, 'shortcoming;': 1, 'but': 1, 'does': 1, 'strive': 1, 'do': 1, 'deeds;': 1, 'knows': 2, 'great': 2, 'enthusiasms,': 1, 'devotions;': 1, 'spends': 1, 'himself': 1, 'a': 1, 'worthy': 1, 'cause;': 1, 'at': 3, 'best': 1, 'end': 1, 'triumph': 1, 'high': 1, 'achievement,': 1, 'worst,': 1, 'if': 1, 'he': 1, 'fails,': 1, 'least': 1, 'fails': 1, 'while': 1, 'daring': 1, 'greatly,': 1, 'so': 1, 'that': 1, 'his': 1, 'place': 1, 'shall': 1, 'never': 1, 'be': 1, 'with': 1, 'those': 1, 'cold': 1, 'timid': 1, 'souls': 1, 'neither': 1, 'know': 1, 'victory': 1, 'nor': 1, 'defeat.': 1}\n"
     ]
    }
   ],
   "source": [
    "#6\n",
    "filename = \"man_in_the_arena.txt\"\n",
    "fp = open(filename, \"r\")\n",
    "s = fp.read()\n",
    "fp.close()\n",
    "\n",
    "lst = s.split()\n",
    "\n",
    "freq = [lst.count(el) for el in lst]\n",
    "\n",
    "dict_1 = {}\n",
    "for i in range(len(lst)):\n",
    "    dict_1[lst[i]] = freq[i]\n",
    "print(dict_1)\n"
   ]
  },
  {
   "cell_type": "code",
   "execution_count": 7,
   "id": "registered-buying",
   "metadata": {},
   "outputs": [
    {
     "name": "stdout",
     "output_type": "stream",
     "text": [
      "Counter({' ': 139, 'e': 69, 't': 64, 'o': 54, 'h': 49, 's': 45, 'a': 44, 'n': 37, 'i': 36, 'r': 32, 'd': 26, 'w': 24, 'l': 21, 'c': 16, 'u': 14, 'm': 13, 'g': 10, 'f': 10, 'b': 9, ',': 9, 'v': 8, ';': 7, 'y': 7, 'p': 4, 'k': 3, '.': 2})\n"
     ]
    }
   ],
   "source": [
    "#7\n",
    "import collections\n",
    "filename = \"man_in_the_arena.txt\"\n",
    "fp = open(filename, \"r\")\n",
    "s = fp.read()\n",
    "fp.close()\n",
    "\n",
    "lst = list(s)\n",
    "\n",
    "freq = collections.Counter(s.lower())\n",
    "\n",
    "print(freq)"
   ]
  },
  {
   "cell_type": "code",
   "execution_count": 19,
   "id": "vocational-portable",
   "metadata": {},
   "outputs": [],
   "source": [
    "#8\n",
    "#Soup"
   ]
  },
  {
   "cell_type": "code",
   "execution_count": 20,
   "id": "competent-boulder",
   "metadata": {},
   "outputs": [
    {
     "data": {
      "text/plain": [
       "512"
      ]
     },
     "execution_count": 20,
     "metadata": {},
     "output_type": "execute_result"
    }
   ],
   "source": [
    "#9\n"
   ]
  },
  {
   "cell_type": "code",
   "execution_count": 21,
   "id": "swiss-abortion",
   "metadata": {},
   "outputs": [],
   "source": [
    "#10"
   ]
  },
  {
   "cell_type": "code",
   "execution_count": 15,
   "id": "herbal-protection",
   "metadata": {},
   "outputs": [
    {
     "name": "stdout",
     "output_type": "stream",
     "text": [
      "5 0 0\n",
      "3 0 2\n"
     ]
    }
   ],
   "source": [
    "#11\n",
    "import numpy as np\n",
    "np.random.seed()\n",
    "\n",
    "target_value = 5\n",
    "\n",
    "arr1 = np.random.randint(0, 10, 5)\n",
    "arr2 = np.random.randint(0, 10, 5)\n",
    "arr3 = np.random.randint(0, 10, 5)\n",
    "\n",
    "for i in arr1:\n",
    "    for j in arr2:\n",
    "        for k in arr3:\n",
    "            if i + j + k == target_value:\n",
    "                print(i, j, k)"
   ]
  },
  {
   "cell_type": "code",
   "execution_count": 10,
   "id": "appreciated-bundle",
   "metadata": {},
   "outputs": [],
   "source": [
    "#11\n",
    "import itertools\n",
    "from functools import partial\n",
    "\n",
    "X = [1, 2, 2, 2]\n",
    "Y = [1, 2, 3, 4]\n",
    "Z = [1, 3, 4, 2]\n",
    "T = 7\n",
    "\n",
    "def check_sum_array(N, *nums):\n",
    "    if sum(x for x in nums) == N:\n",
    "        return (True, nums)\n",
    "    else:\n",
    "        return (False, nums)\n",
    "    \n",
    "pro = itertools.product(X, Y, Z) # equivalent to nested \"for\" loop\n",
    "func = partial(check_sum_array, T)\n",
    "    "
   ]
  },
  {
   "cell_type": "code",
   "execution_count": 8,
   "id": "commercial-isolation",
   "metadata": {},
   "outputs": [
    {
     "name": "stdout",
     "output_type": "stream",
     "text": [
      "(2, 9, 2)\n",
      "(2, 2, 9)\n",
      "(9, 2, 2)\n",
      "(9, 2, 2)\n",
      "(2, 2, 9)\n",
      "(2, 9, 2)\n"
     ]
    }
   ],
   "source": [
    "#12\n",
    "import itertools\n",
    "import random as rnd\n",
    "rnd.seed()\n",
    "\n",
    "N = 3\n",
    "\n",
    "lst = [rnd.randint(0, 10) for _ in range(N)]\n",
    "lst_perm = list(itertools.permutations(lst))\n",
    "for i in range(len(lst_perm)):\n",
    "    print(lst_perm[i])"
   ]
  },
  {
   "cell_type": "code",
   "execution_count": 11,
   "id": "smooth-vancouver",
   "metadata": {},
   "outputs": [],
   "source": [
    "#13"
   ]
  },
  {
   "cell_type": "code",
   "execution_count": 37,
   "id": "starting-cooperation",
   "metadata": {},
   "outputs": [
    {
     "name": "stdout",
     "output_type": "stream",
     "text": [
      "2 4\n",
      "6\n"
     ]
    }
   ],
   "source": [
    "#14\n",
    "import random as rnd\n",
    "rnd.seed()\n",
    "\n",
    "def add_two_num(n, m):\n",
    "    while m != 0:\n",
    "        data = n & m\n",
    "        n = n ^ m\n",
    "        m = data << 1\n",
    "    return n\n",
    "\n",
    "n = rnd.randint(1, 9)\n",
    "m = rnd.randint(1, 9)\n",
    "print(n, m)\n",
    "print(add_two_num(n, m))\n",
    "    "
   ]
  },
  {
   "cell_type": "code",
   "execution_count": 38,
   "id": "professional-compatibility",
   "metadata": {},
   "outputs": [],
   "source": [
    "#15\n",
    "#lame"
   ]
  },
  {
   "cell_type": "code",
   "execution_count": 39,
   "id": "positive-imaging",
   "metadata": {},
   "outputs": [],
   "source": [
    "#16\n",
    "#lame"
   ]
  },
  {
   "cell_type": "code",
   "execution_count": 40,
   "id": "informed-oasis",
   "metadata": {},
   "outputs": [],
   "source": [
    "#17\n",
    "#lame"
   ]
  },
  {
   "cell_type": "code",
   "execution_count": 55,
   "id": "monetary-fellow",
   "metadata": {},
   "outputs": [
    {
     "name": "stdout",
     "output_type": "stream",
     "text": [
      "1\n"
     ]
    }
   ],
   "source": [
    "#18\n",
    "import random as rnd\n",
    "rnd.seed()\n",
    "\n",
    "N = 3\n",
    "\n",
    "lst = [rnd.randint(1, 9) for _ in range(N)]\n",
    "print(sorted(lst)[1])"
   ]
  },
  {
   "cell_type": "code",
   "execution_count": 59,
   "id": "primary-handbook",
   "metadata": {},
   "outputs": [
    {
     "name": "stdout",
     "output_type": "stream",
     "text": [
      "6\n"
     ]
    }
   ],
   "source": [
    "#19\n",
    "s = \"248163264\"\n",
    "num = 0\n",
    "while str(pow(2, num + 1)) in s:\n",
    "    num += 1\n",
    "print(num)"
   ]
  },
  {
   "cell_type": "code",
   "execution_count": 72,
   "id": "combined-bradford",
   "metadata": {},
   "outputs": [
    {
     "name": "stdin",
     "output_type": "stream",
     "text": [
      " 100000\n"
     ]
    },
    {
     "name": "stdout",
     "output_type": "stream",
     "text": [
      "24999\n"
     ]
    }
   ],
   "source": [
    "#20\n",
    "import math\n",
    "\n",
    "n = int(input())\n",
    "f = math.factorial(n)\n",
    "lst = list(str(f))\n",
    "\n",
    "counter = 0\n",
    "idx = len(lst) - 1\n",
    "while lst[idx] == '0':\n",
    "    counter += 1\n",
    "    idx -= 1\n",
    "print(counter)"
   ]
  },
  {
   "cell_type": "code",
   "execution_count": 73,
   "id": "specialized-ocean",
   "metadata": {},
   "outputs": [],
   "source": [
    "#20\n"
   ]
  },
  {
   "cell_type": "code",
   "execution_count": 79,
   "id": "accessory-context",
   "metadata": {},
   "outputs": [
    {
     "name": "stdin",
     "output_type": "stream",
     "text": [
      " 123456\n"
     ]
    },
    {
     "name": "stdout",
     "output_type": "stream",
     "text": [
      "500 : 246\n",
      "200 : 2\n",
      "100 : 0\n",
      "50 : 1\n",
      "20 : 0\n",
      "10 : 0\n",
      "remainder 6\n"
     ]
    }
   ],
   "source": [
    "#21\n",
    "notes = [500, 200, 100, 50, 20, 10]\n",
    "\n",
    "num = int(input())\n",
    "\n",
    "for note in notes:\n",
    "    print(note, ':', num//note)\n",
    "    num %= note\n",
    "print(\"remainder\", num)"
   ]
  },
  {
   "cell_type": "code",
   "execution_count": 80,
   "id": "finite-billion",
   "metadata": {},
   "outputs": [],
   "source": [
    "#22\n"
   ]
  },
  {
   "cell_type": "code",
   "execution_count": 91,
   "id": "entire-strike",
   "metadata": {},
   "outputs": [
    {
     "name": "stdin",
     "output_type": "stream",
     "text": [
      " 122\n"
     ]
    },
    {
     "name": "stdout",
     "output_type": "stream",
     "text": [
      "117, diff = 5\n",
      "108, diff = 9\n",
      "99, diff = 9\n",
      "81, diff = 18\n",
      "72, diff = 9\n",
      "63, diff = 9\n",
      "54, diff = 9\n",
      "45, diff = 9\n",
      "36, diff = 9\n",
      "27, diff = 9\n",
      "18, diff = 9\n",
      "9, diff = 9\n",
      "0, diff = 9\n"
     ]
    }
   ],
   "source": [
    "#23\n",
    "num = int(input())\n",
    "\n",
    "while num > 0:\n",
    "    s = str(num)\n",
    "    lst = [int(s[i]) for i in range(len(s))]\n",
    "    diff = sum(lst)\n",
    "    num -= diff\n",
    "    print(\"%d, diff = %d\" % (num, diff))"
   ]
  },
  {
   "cell_type": "code",
   "execution_count": null,
   "id": "legendary-craft",
   "metadata": {},
   "outputs": [],
   "source": []
  }
 ],
 "metadata": {
  "kernelspec": {
   "display_name": "Python 3",
   "language": "python",
   "name": "python3"
  },
  "language_info": {
   "codemirror_mode": {
    "name": "ipython",
    "version": 3
   },
   "file_extension": ".py",
   "mimetype": "text/x-python",
   "name": "python",
   "nbconvert_exporter": "python",
   "pygments_lexer": "ipython3",
   "version": "3.8.5"
  }
 },
 "nbformat": 4,
 "nbformat_minor": 5
}
