{
 "cells": [
  {
   "cell_type": "code",
   "execution_count": 7,
   "id": "monetary-treasure",
   "metadata": {},
   "outputs": [],
   "source": [
    "import random as rnd\n",
    "rnd.seed()\n",
    "\n",
    "N = 100\n",
    "\n",
    "filename = \"numbers.txt\"\n",
    "with open(filename, \"w\") as fp:\n",
    "    for n in range(N):\n",
    "        num = rnd.randint(0, 100)\n",
    "        fp.write(str(num) + '\\n')"
   ]
  },
  {
   "cell_type": "code",
   "execution_count": 14,
   "id": "prostate-eight",
   "metadata": {},
   "outputs": [
    {
     "data": {
      "text/plain": [
       "4925"
      ]
     },
     "execution_count": 14,
     "metadata": {},
     "output_type": "execute_result"
    }
   ],
   "source": [
    "def sum_numbers(filename):\n",
    "    s = 0\n",
    "    with open(filename, \"r\") as fp:\n",
    "        for line in fp:\n",
    "            s += int(line.strip())\n",
    "    return s\n",
    "sum_numbers(\"numbers.txt\")"
   ]
  },
  {
   "cell_type": "code",
   "execution_count": 20,
   "id": "strange-appliance",
   "metadata": {},
   "outputs": [
    {
     "name": "stdout",
     "output_type": "stream",
     "text": [
      "4925\n"
     ]
    }
   ],
   "source": [
    "def sum_numbers(filename):\n",
    "    with open(filename) as fp:\n",
    "        return sum(map(int, fp))\n",
    "print(sum_numbers(\"numbers.txt\"))"
   ]
  },
  {
   "cell_type": "code",
   "execution_count": 41,
   "id": "critical-british",
   "metadata": {},
   "outputs": [
    {
     "name": "stdout",
     "output_type": "stream",
     "text": [
      "WRONG\n"
     ]
    }
   ],
   "source": [
    "def check_string(s):\n",
    "    open_par = list(\"({[\")\n",
    "    close_par = list(\")}]\")\n",
    "    opened_par = []\n",
    "    for el in s:\n",
    "        if el in close_par:\n",
    "            #print(*opened_par)\n",
    "            if len(opened_par) < 1:\n",
    "                return \"WRONG\"\n",
    "            else:\n",
    "                if open_par.index(opened_par[-1]) == close_par.index(el):\n",
    "                    #close opened parenthesis\n",
    "                    del opened_par[-1]\n",
    "                else:\n",
    "                    return \"WRONG\"\n",
    "        if el in open_par:\n",
    "            opened_par.append(el)\n",
    "    # check if stack is not empty\n",
    "    if len(opened_par) > 0:\n",
    "        return \"WRONG\"\n",
    "    else:\n",
    "        return \"CORRECT\"\n",
    "\n",
    "#print(check_string(\"{A}\"))\n",
    "#print(check_string(\"()(){[]{[()]}}\"))\n",
    "#print(check_string(\"}(A)\"))\n",
    "#print(check_string(\"({)}\"))\n",
    "print(check_string(\"(((()))\"))\n",
    "#print(check_string(\"abcdef\"))\n",
    "#print(check_string(\"()()\\n{{[]}}\"))\n",
    "        \n",
    "            "
   ]
  },
  {
   "cell_type": "code",
   "execution_count": null,
   "id": "centered-gabriel",
   "metadata": {},
   "outputs": [],
   "source": [
    "#Single-sided Linked List\n",
    "class llist():\n",
    "    def __init__(self, val = None):\n",
    "        self.val = val\n",
    "        self.next = None\n",
    "    def last(self):\n",
    "        while self.next != None:\n",
    "            self = self.next\n",
    "    def append(self, val):\n",
    "        "
   ]
  }
 ],
 "metadata": {
  "kernelspec": {
   "display_name": "Python 3",
   "language": "python",
   "name": "python3"
  },
  "language_info": {
   "codemirror_mode": {
    "name": "ipython",
    "version": 3
   },
   "file_extension": ".py",
   "mimetype": "text/x-python",
   "name": "python",
   "nbconvert_exporter": "python",
   "pygments_lexer": "ipython3",
   "version": "3.8.5"
  }
 },
 "nbformat": 4,
 "nbformat_minor": 5
}
