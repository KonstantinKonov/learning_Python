{
 "cells": [
  {
   "cell_type": "code",
   "execution_count": 14,
   "id": "surprised-victim",
   "metadata": {},
   "outputs": [
    {
     "name": "stdout",
     "output_type": "stream",
     "text": [
      "{'name': 'Konstantin'}\n"
     ]
    },
    {
     "data": {
      "text/plain": [
       "True"
      ]
     },
     "execution_count": 14,
     "metadata": {},
     "output_type": "execute_result"
    }
   ],
   "source": [
    "def foo(name, /, **kwds):\n",
    "    print(kwds)\n",
    "    return \"name\" in kwds\n",
    "foo(1, **{\"name\":\"Konstantin\"})"
   ]
  },
  {
   "cell_type": "code",
   "execution_count": 21,
   "id": "better-austria",
   "metadata": {},
   "outputs": [
    {
     "name": "stdout",
     "output_type": "stream",
     "text": [
      "name1\n",
      "name2\n",
      "name3\n",
      "name4\n"
     ]
    }
   ],
   "source": [
    "def print_all(name1, *args):\n",
    "    print(name1)\n",
    "    for el in args:\n",
    "        print(el)\n",
    "print_all(\"name1\", \"name2\", \"name3\", \"name4\")"
   ]
  },
  {
   "cell_type": "code",
   "execution_count": 46,
   "id": "frank-engineer",
   "metadata": {},
   "outputs": [
    {
     "name": "stdout",
     "output_type": "stream",
     "text": [
      "/home/konstantin/Yandex.Disk/Notes\n",
      "one, two, three\n"
     ]
    }
   ],
   "source": [
    "def concat(*args, sep = '/'):\n",
    "   return sep.join(args) \n",
    "print( concat(\"/home\", \"konstantin\", \"Yandex.Disk\", \"Notes\") )\n",
    "print( concat(\"one\", \"two\", \"three\", sep = \", \") )"
   ]
  },
  {
   "cell_type": "code",
   "execution_count": 45,
   "id": "limiting-moisture",
   "metadata": {},
   "outputs": [
    {
     "name": "stdout",
     "output_type": "stream",
     "text": [
      "Hello.darkness.my.old.friend\n"
     ]
    }
   ],
   "source": [
    "# join method\n",
    "s = \".\"\n",
    "lst = [\"Hello\", \"darkness\", \"my\", \"old\", \"friend\"]\n",
    "print(s.join(lst))"
   ]
  },
  {
   "cell_type": "code",
   "execution_count": 61,
   "id": "victorian-target",
   "metadata": {},
   "outputs": [
    {
     "data": {
      "text/plain": [
       "[3, 4, 5]"
      ]
     },
     "execution_count": 61,
     "metadata": {},
     "output_type": "execute_result"
    }
   ],
   "source": [
    "# unpack list\n",
    "args = [3, 6]\n",
    "list( range(*args) )"
   ]
  },
  {
   "cell_type": "code",
   "execution_count": 78,
   "id": "danish-antique",
   "metadata": {},
   "outputs": [
    {
     "name": "stdout",
     "output_type": "stream",
     "text": [
      "name age profession\n",
      "Konstantin 33 data scientist\n"
     ]
    }
   ],
   "source": [
    "# unpach dictionary\n",
    "def print_unpacked(name, age, profession = \"unemployed\"):\n",
    "    print(name, age, profession)\n",
    "    \n",
    "dict1 = {\"name\":\"Konstantin\", \"age\":33, \"profession\":\"data scientist\"}\n",
    "print_unpacked(*dict1)\n",
    "print_unpacked(**dict1)"
   ]
  },
  {
   "cell_type": "code",
   "execution_count": 87,
   "id": "chief-pacific",
   "metadata": {},
   "outputs": [
    {
     "data": {
      "text/plain": [
       "15"
      ]
     },
     "execution_count": 87,
     "metadata": {},
     "output_type": "execute_result"
    }
   ],
   "source": [
    "#lambda expressions\n",
    "def make_incrementor(n):\n",
    "    return lambda x : x + n\n",
    "f = make_incrementor(10)\n",
    "\n",
    "f(5)"
   ]
  },
  {
   "cell_type": "code",
   "execution_count": 2,
   "id": "appointed-journalism",
   "metadata": {},
   "outputs": [
    {
     "data": {
      "text/plain": [
       "[(4, 'four'), (1, 'one'), (3, 'three'), (2, 'two')]"
      ]
     },
     "execution_count": 2,
     "metadata": {},
     "output_type": "execute_result"
    }
   ],
   "source": [
    "pairs = [(1, \"one\"), (2, \"two\"), (3, \"three\"), (4, \"four\")]\n",
    "pairs.sort(key = lambda pair : pair[1], reverse = False)\n",
    "pairs"
   ]
  },
  {
   "cell_type": "code",
   "execution_count": 59,
   "id": "seeing-cotton",
   "metadata": {},
   "outputs": [
    {
     "name": "stdout",
     "output_type": "stream",
     "text": [
      "4 7 7 4 4 0 3 5 8 0 5 2 7 7 3 7 2 1 7 7 9 6 2 3 5 8 0 1 0 6 5 3 4 7 1 5 8 7 1 8 4 0 9 6 3 2 0 3 3 1 6 0 4 7 9 5 0 1 0 8 7 8 9 0 9 6 8 3 5 4 4 7 1 9 5 5 2 1 2 1 0 3 3 0 7 3 3 6 2 2 3 7 6 0 4 2 5 5 1 3 \n",
      "4 7 7 4 4 0 3 5 8 0 5 2 7 7 3 7 2 1 7 7 9 6 2 3 5 8 0 1 0 6 5 3 4 7 1 5 8 7 1 8 4 0 9 6 3 2 0 3 3 1 6 0 4 7 9 5 0 1 0 8 7 8 9 0 9 6 8 3 5 4 4 7 1 9 5 5 2 1 2 1 0 3 3 0 7 3 3 6 2 2 3 7 6 0 4 2 5 5 1 3 99 \n",
      "4 7 7 4 4 0 3 5 8 0 5 2 7 7 3 7 2 1 7 7 9 6 2 3 5 8 0 1 0 6 5 3 4 7 1 5 8 7 1 8 4 0 9 6 3 2 0 3 3 1 6 0 4 7 9 5 0 1 0 8 7 8 9 0 9 6 8 3 5 4 4 7 1 9 5 5 2 1 2 1 0 3 3 0 7 3 3 6 2 2 3 7 6 0 4 2 5 5 1 3 99 1 2 3 4 5 \n",
      "4 7 7 4 4 100 0 3 5 8 0 5 2 7 7 3 7 2 1 7 7 9 6 2 3 5 8 0 1 0 6 5 3 4 7 1 5 8 7 1 8 4 0 9 6 3 2 0 3 3 1 6 0 4 7 9 5 0 1 0 8 7 8 9 0 9 6 8 3 5 4 4 7 1 9 5 5 2 1 2 1 0 3 3 0 7 3 3 6 2 2 3 7 6 0 4 2 5 5 1 3 99 1 2 3 4 5 \n",
      "\n",
      "all 5 are removed\n",
      "4 7 7 4 4 100 0 3 8 0 2 7 7 3 7 2 1 7 7 9 6 2 3 8 0 1 0 6 3 4 7 1 8 7 1 8 4 0 9 6 3 2 0 3 3 1 6 0 4 7 9 0 1 0 8 7 8 9 0 9 6 8 3 4 4 7 1 9 2 1 2 1 0 3 3 0 7 3 3 6 2 2 3 7 6 0 4 2 1 3 99 1 2 3 4 \n",
      "4 7 7 4 4 100 0 3 8 0 2 7 7 3 7 2 1 7 7 9 6 2 3 8 0 1 0 6 3 4 7 1 8 7 1 8 4 0 9 6 3 2 0 3 3 1 6 0 4 7 9 0 1 0 8 7 8 9 0 9 6 8 3 4 4 7 1 9 2 1 2 1 0 3 3 0 7 3 3 6 2 2 3 7 6 0 4 2 1 3 99 1 2 3 \n",
      "7 7 4 4 100 0 3 8 0 2 7 7 3 7 2 1 7 7 9 6 2 3 8 0 1 0 6 3 4 7 1 8 7 1 8 4 0 9 6 3 2 0 3 3 1 6 0 4 7 9 0 1 0 8 7 8 9 0 9 6 8 3 4 4 7 1 9 2 1 2 1 0 3 3 0 7 3 3 6 2 2 3 7 6 0 4 2 1 3 99 1 2 3 \n",
      "100 99 9 9 9 9 9 9 8 8 8 8 8 8 8 7 7 7 7 7 7 7 7 7 7 7 7 7 7 6 6 6 6 6 6 6 4 4 4 4 4 4 4 4 3 3 3 3 3 3 3 3 3 3 3 3 3 3 3 2 2 2 2 2 2 2 2 2 2 1 1 1 1 1 1 1 1 1 1 1 0 0 0 0 0 0 0 0 0 0 0 0 0 \n",
      "Eric\n",
      "Graham\n"
     ]
    }
   ],
   "source": [
    "# 5 - Data Structures\n",
    "# List\n",
    "import random as rnd\n",
    "rnd.seed()\n",
    "\n",
    "N = 100\n",
    "\n",
    "def print_list(lst, *, sep = ' '):\n",
    "    for el in lst:\n",
    "        print(el, end = sep)\n",
    "    print()\n",
    "\n",
    "lst = [rnd.randint(0, 9) for _ in range(N)]\n",
    "print_list(lst)\n",
    "\n",
    "#lst.append(99)\n",
    "lst[len(lst):] = [99]\n",
    "print_list(lst)\n",
    "\n",
    "new_lst = [1, 2, 3, 4, 5]\n",
    "lst.extend(new_lst)\n",
    "print_list(lst)\n",
    "\n",
    "lst.insert(5, 100)\n",
    "print_list(lst)\n",
    "\n",
    "# remove all elements equal to 5\n",
    "while True:\n",
    "    try:\n",
    "        lst.remove(5)\n",
    "    except ValueError:\n",
    "        print(\"\\nall 5 are removed\")\n",
    "        break\n",
    "print_list(lst)\n",
    "\n",
    "# pop\n",
    "lst.pop()\n",
    "print_list(lst)\n",
    "\n",
    "lst.pop(0)\n",
    "print_list(lst)\n",
    "\n",
    "# clear\n",
    "# lst.clear()\n",
    "\n",
    "# index\n",
    "lst.index(0, 50 ,100)\n",
    "\n",
    "# count\n",
    "lst.count(5)\n",
    "\n",
    "# sort\n",
    "lst.sort(key = None, reverse = False)\n",
    "\n",
    "# reverse\n",
    "lst.reverse()\n",
    "print_list(lst)\n",
    "\n",
    "# copy\n",
    "new_lst = lst.copy()\n",
    "\n",
    "# list as stack\n",
    "st = [3, 4, 5]\n",
    "st.append(6)\n",
    "st.append(7)\n",
    "st.pop()\n",
    "st\n",
    "\n",
    "# queue (fifo)\n",
    "from collections import deque\n",
    "queue = deque([\"Eric\", \"John\", \"Michael\"])\n",
    "queue.append(\"Terry\")\n",
    "queue.append(\"Graham\")\n",
    "print(queue.popleft())\n",
    "print(queue.pop())"
   ]
  },
  {
   "cell_type": "code",
   "execution_count": 78,
   "id": "photographic-vulnerability",
   "metadata": {},
   "outputs": [
    {
     "name": "stdout",
     "output_type": "stream",
     "text": [
      "0 1 4 9 16 25 36 49 64 81 100\n",
      "0 1 4 9 16 25 36 49 64 81 100\n",
      "0 1 4 9 16 25 36 49 64 81 100\n",
      "[(1, 3), (1, 4), (2, 3), (2, 1), (2, 4), (3, 1), (3, 4)]\n",
      "-8 -4 0 4 8\n",
      "0 4 8\n",
      "(0, 0) (1, 1) (2, 4) (3, 9) (4, 16) (5, 25) (6, 36) (7, 49) (8, 64) (9, 81) (10, 100)\n",
      "3.0 3.1 3.14 3.142 3.1416 3.14159 3.141593 3.1415927 3.14159265 3.141592654 3.1415926536\n"
     ]
    }
   ],
   "source": [
    "# list comprehensions\n",
    "squares = []\n",
    "for x in range(11):\n",
    "    squares.append( x ** 2 )\n",
    "print(*squares)\n",
    "\n",
    "# \n",
    "squares = list( map(lambda x : x ** 2, range(11)) )\n",
    "print(*squares)\n",
    "\n",
    "# \n",
    "squares = [x ** 2 for x in range(11)]\n",
    "print(*squares)\n",
    "\n",
    "# \n",
    "lst = [(x, y) for x in [1, 2, 3] for y in [3, 1, 4] if x != y]\n",
    "print(lst)\n",
    "\n",
    "lst_pre = [-4, -2, 0, 2, 4]\n",
    "lst = [x * 2 for x in lst_pre]\n",
    "print(*lst)\n",
    "\n",
    "lst = [x*2 for x in lst_pre if x >= 0]\n",
    "print(*lst)\n",
    "\n",
    "lst = [(x, x ** 2) for x in range(11)]\n",
    "print(*lst)\n",
    "\n",
    "from math import pi\n",
    "lst = [str(round(pi, i)) for i in range(11)]\n",
    "print(*lst)"
   ]
  },
  {
   "cell_type": "code",
   "execution_count": 89,
   "id": "pacific-meeting",
   "metadata": {},
   "outputs": [
    {
     "name": "stdout",
     "output_type": "stream",
     "text": [
      "1 2 3 4\n",
      "5 6 7 8\n",
      "9 10 11 12\n"
     ]
    },
    {
     "data": {
      "text/plain": [
       "[(0, 10, 20, 30, 40, 50, 60, 70, 80, 90),\n",
       " (1, 11, 21, 31, 41, 51, 61, 71, 81, 91),\n",
       " (2, 12, 22, 32, 42, 52, 62, 72, 82, 92),\n",
       " (3, 13, 23, 33, 43, 53, 63, 73, 83, 93),\n",
       " (4, 14, 24, 34, 44, 54, 64, 74, 84, 94),\n",
       " (5, 15, 25, 35, 45, 55, 65, 75, 85, 95),\n",
       " (6, 16, 26, 36, 46, 56, 66, 76, 86, 96),\n",
       " (7, 17, 27, 37, 47, 57, 67, 77, 87, 97),\n",
       " (8, 18, 28, 38, 48, 58, 68, 78, 88, 98),\n",
       " (9, 19, 29, 39, 49, 59, 69, 79, 89, 99)]"
      ]
     },
     "execution_count": 89,
     "metadata": {},
     "output_type": "execute_result"
    }
   ],
   "source": [
    "# list as 2D array\n",
    "matrix = [\n",
    "    [1, 2, 3, 4],\n",
    "    [5, 6, 7, 8],\n",
    "    [9, 10, 11, 12]\n",
    "]\n",
    "\n",
    "for row in matrix:\n",
    "    print(*row)\n",
    "\n",
    "# make from plain array\n",
    "arr = list(range(100))\n",
    "matrix = []\n",
    "for row in range(10):\n",
    "    matrix.append(arr[row * 10:row * 10 + 10])\n",
    "    \n",
    "# zip\n",
    "list(zip(*matrix))\n"
   ]
  },
  {
   "cell_type": "code",
   "execution_count": 93,
   "id": "preceding-refrigerator",
   "metadata": {},
   "outputs": [
    {
     "name": "stdout",
     "output_type": "stream",
     "text": [
      "((1234, 4321, 'hello!'), (1234, 4321, 'hello!'))\n"
     ]
    }
   ],
   "source": [
    "# tuples\n",
    "t = 1234, 4321, \"hello!\"\n",
    "u = t, t\n",
    "print(u)\n",
    "\n"
   ]
  },
  {
   "cell_type": "code",
   "execution_count": 105,
   "id": "annual-woman",
   "metadata": {},
   "outputs": [
    {
     "name": "stdout",
     "output_type": "stream",
     "text": [
      "a =  d s f a\n",
      "b =  c m a z l\n",
      "a - b =  d s f\n",
      "b - a =  l c z m\n",
      "b | a =  d c m a f z s l\n",
      "b & a =  a\n",
      "b ^ a =  d c m f z s l\n"
     ]
    }
   ],
   "source": [
    "# sets\n",
    "# from string to set\n",
    "a = set(\"asdfa\")\n",
    "b = set(\"alacazam\")\n",
    "print(\"a = \", *a)\n",
    "print(\"b = \", *b)\n",
    "print(\"a - b = \", *(a - b))\n",
    "print(\"b - a = \", *(b - a))\n",
    "print(\"b | a = \", *(b | a))\n",
    "print(\"b & a = \", *(b & a))\n",
    "print(\"b ^ a = \", *(b ^ a))\n"
   ]
  },
  {
   "cell_type": "code",
   "execution_count": 108,
   "id": "narrative-premises",
   "metadata": {},
   "outputs": [
    {
     "name": "stdout",
     "output_type": "stream",
     "text": [
      "d r\n"
     ]
    }
   ],
   "source": [
    "# set comprehension\n",
    "a = {x for x in \"abracadabra\" if x not in \"abc\"}\n",
    "print(*a)"
   ]
  },
  {
   "cell_type": "code",
   "execution_count": 112,
   "id": "extreme-alabama",
   "metadata": {},
   "outputs": [
    {
     "name": "stdout",
     "output_type": "stream",
     "text": [
      "{'name': 'Konstantin', 'age': 33, 'profession': 'data scientist'}\n",
      "{2: 4, 4: 16, 6: 36}\n",
      "{'vga': 640, 'hd': 720, 'full_hd': 1080}\n"
     ]
    }
   ],
   "source": [
    "# Dictionaries\n",
    "# make dictionaries from list\n",
    "lst = [(\"name\", \"Konstantin\"), (\"age\", 33), (\"profession\", \"data scientist\")]\n",
    "dict1 = dict(lst)\n",
    "print(dict1)\n",
    "\n",
    "# dict comprehensions\n",
    "dict1 = {x : x ** 2 for x in (2, 4, 6)}\n",
    "print(dict1)\n",
    "\n",
    "# dict \n",
    "dict1 = dict(vga = 640, hd = 720, full_hd = 1080)\n",
    "print(dict1)"
   ]
  },
  {
   "cell_type": "code",
   "execution_count": 128,
   "id": "threaded-portal",
   "metadata": {},
   "outputs": [
    {
     "name": "stdout",
     "output_type": "stream",
     "text": [
      "0 tic\n",
      "1 tac\n",
      "2 toe\n",
      "name lancelot\n",
      "quest the holy grail\n",
      "color blue\n",
      "9 7 5 3 1 \n",
      "83.2 nan 3.8 70.3 56.7 nan 47.6 47.0 90.1 1.3 31.7 37.1 52.2 27.7 15.1 16.9 46.4 24.3 91.2 58.2 30.2 80.3 31.9 12.3 17.0 30.5 31.6 46.7 12.4 47.1 nan 46.2 58.6 68.6 30.3 51.9 nan 52.0 44.0 95.3 48.3 89.4 17.0 56.0 65.9 38.9 25.4 85.4 8.9 61.5 77.7 91.7 77.5 15.8 58.5 16.2 nan 1.9 93.8 21.6 67.6 56.5 53.4 27.6 nan 36.1 23.3 16.4 59.8 31.7 89.0 nan nan 86.2 69.3 nan 91.9 78.9 74.5 3.5 36.6 95.0 54.8 3.8 69.6 42.6 92.4 23.4 56.8 54.2 37.2 14.3 47.8 10.7 22.2 48.3 70.1 86.7 11.7 nan\n",
      "\n",
      "83.2 3.8 70.3 56.7 47.6 47.0 90.1 1.3 31.7 37.1 52.2 27.7 15.1 16.9 46.4 24.3 91.2 58.2 30.2 80.3 31.9 12.3 17.0 30.5 31.6 46.7 12.4 47.1 46.2 58.6 68.6 30.3 51.9 52.0 44.0 95.3 48.3 89.4 17.0 56.0 65.9 38.9 25.4 85.4 8.9 61.5 77.7 91.7 77.5 15.8 58.5 16.2 1.9 93.8 21.6 67.6 56.5 53.4 27.6 36.1 23.3 16.4 59.8 31.7 89.0 86.2 69.3 91.9 78.9 74.5 3.5 36.6 95.0 54.8 3.8 69.6 42.6 92.4 23.4 56.8 54.2 37.2 14.3 47.8 10.7 22.2 48.3 70.1 86.7 11.7\n",
      "\n",
      "83.2 3.8 70.3 56.7 47.6 47.0 90.1 1.3 31.7 37.1 52.2 27.7 15.1 16.9 46.4 24.3 91.2 58.2 30.2 80.3 31.9 12.3 17.0 30.5 31.6 46.7 12.4 47.1 46.2 58.6 68.6 30.3 51.9 52.0 44.0 95.3 48.3 89.4 17.0 56.0 65.9 38.9 25.4 85.4 8.9 61.5 77.7 91.7 77.5 15.8 58.5 16.2 1.9 93.8 21.6 67.6 56.5 53.4 27.6 36.1 23.3 16.4 59.8 31.7 89.0 86.2 69.3 91.9 78.9 74.5 3.5 36.6 95.0 54.8 3.8 69.6 42.6 92.4 23.4 56.8 54.2 37.2 14.3 47.8 10.7 22.2 48.3 70.1 86.7 11.7\n"
     ]
    }
   ],
   "source": [
    "# looping through iterables\n",
    "# enumerate\n",
    "for i, v in enumerate( [\"tic\", \"tac\", \"toe\"] ):\n",
    "    print(i, v)\n",
    "\n",
    "# zip\n",
    "questions = [\"name\", \"quest\", \"color\"]\n",
    "answers = [\"lancelot\", \"the holy grail\", \"blue\"]\n",
    "\n",
    "for q, a in zip(questions, answers):\n",
    "    print(q, a)\n",
    "\n",
    "for i in reversed( range(1, 10, 2) ):\n",
    "    print(i, end = ' ')\n",
    "print()\n",
    "\n",
    "# list of 100 randoms with 10 nans and then filter them out\n",
    "import math\n",
    "import random as rnd\n",
    "rnd.seed()\n",
    "\n",
    "raw_data = [round(100 * rnd.random(), 1) for _ in range(100)]\n",
    "for i in range(10):\n",
    "    raw_data[rnd.randint(0, 99)] = float(\"NaN\")\n",
    "    \n",
    "print(*raw_data, end = \"\\n\\n\")\n",
    "\n",
    "filtered_data = []\n",
    "for el in raw_data:\n",
    "    if not math.isnan(el):\n",
    "        filtered_data.append(el)\n",
    "        \n",
    "print(*filtered_data, end = \"\\n\\n\")\n",
    "\n",
    "# with list comprehension\n",
    "filtered_data = [el for el in raw_data if not math.isnan(el)]\n",
    "print(*filtered_data)"
   ]
  },
  {
   "cell_type": "code",
   "execution_count": 8,
   "id": "integral-advantage",
   "metadata": {},
   "outputs": [
    {
     "name": "stdout",
     "output_type": "stream",
     "text": [
      "Linus\n",
      "False\n"
     ]
    }
   ],
   "source": [
    "s1, s2, s3 = \"\", \"Linus\", \"Torvalds\"\n",
    "non_null = s1 or s2 or s3\n",
    "print(non_null)\n",
    "non_null = s1 and s2 and s3\n",
    "print(bool(non_null))"
   ]
  },
  {
   "cell_type": "code",
   "execution_count": 15,
   "id": "rotary-filing",
   "metadata": {},
   "outputs": [
    {
     "name": "stdout",
     "output_type": "stream",
     "text": [
      "True\n",
      "False\n"
     ]
    }
   ],
   "source": [
    "res = (1, 2, 3) < (1, 2, 4)\n",
    "print(res)\n",
    "res = ('a', 'b', 'c') > ('a', \"bb\", 'c')\n",
    "print(res)"
   ]
  },
  {
   "cell_type": "code",
   "execution_count": 21,
   "id": "constant-agreement",
   "metadata": {},
   "outputs": [
    {
     "name": "stdout",
     "output_type": "stream",
     "text": [
      "0 1 1 2 3 5 8 13 21 34 55 89\n"
     ]
    }
   ],
   "source": [
    "# Modules\n",
    "import fib\n",
    "print(*fib.fib_list(100))"
   ]
  },
  {
   "cell_type": "code",
   "execution_count": 23,
   "id": "divided-clarity",
   "metadata": {},
   "outputs": [
    {
     "name": "stdout",
     "output_type": "stream",
     "text": [
      "['/home/konstantin/Yandex.Disk/Notes/learning_Python', '/usr/lib/python38.zip', '/usr/lib/python3.8', '/usr/lib/python3.8/lib-dynload', '', '/home/konstantin/.local/lib/python3.8/site-packages', '/usr/local/lib/python3.8/dist-packages', '/usr/lib/python3/dist-packages', '/home/konstantin/.local/lib/python3.8/site-packages/IPython/extensions', '/home/konstantin/.ipython']\n",
      "In : \n",
      "...: \n"
     ]
    }
   ],
   "source": [
    "import sys\n",
    "print(sys.path)\n",
    "print(sys.ps1)\n",
    "print(sys.ps2)"
   ]
  },
  {
   "cell_type": "code",
   "execution_count": 24,
   "id": "hundred-pearl",
   "metadata": {},
   "outputs": [
    {
     "name": "stdout",
     "output_type": "stream",
     "text": [
      "['__builtins__', '__cached__', '__doc__', '__file__', '__loader__', '__name__', '__package__', '__spec__', 'fib', 'fib_list']\n"
     ]
    }
   ],
   "source": [
    "# dir\n",
    "import sys, fib\n",
    "print(dir(fib))"
   ]
  },
  {
   "cell_type": "code",
   "execution_count": 56,
   "id": "dutch-property",
   "metadata": {},
   "outputs": [
    {
     "name": "stdout",
     "output_type": "stream",
     "text": [
      "Result of the year 2016 Ph.D., [1, 2, 3, 4, 5]\n",
      "                  20 YES votes 100.00%\n",
      "The value of pi is approximately 3.142\n",
      "  1          1          1\n",
      "  2          4          8\n",
      "  3          9         27\n",
      "  4         16         64\n",
      "  5         25        125\n",
      "  6         36        216\n",
      "  7         49        343\n",
      "  8         64        512\n",
      "  9         81        729\n",
      " 10        100       1000\n"
     ]
    }
   ],
   "source": [
    "# Input and Output\n",
    "year = 2016\n",
    "event = \"Ph.D.\"\n",
    "lst = [1, 2, 3, 4, 5]\n",
    "print(f\"Result of the year {year} {event}, {lst}\")\n",
    "votes_yes = 20\n",
    "votes_no = 0\n",
    "votes_rate = votes_yes / (votes_yes + votes_no)\n",
    "print(\"{:-20} YES votes {:2.2%}\".format(votes_yes, votes_rate))\n",
    "\n",
    "import math\n",
    "print(f\"The value of pi is approximately {math.pi:.3f}\")\n",
    "\n",
    "for x in range(1, 11):\n",
    "    print(repr(x).rjust(3), repr(x * x).rjust(10), repr(x ** 3).rjust(10))"
   ]
  },
  {
   "cell_type": "code",
   "execution_count": 62,
   "id": "behind-floor",
   "metadata": {},
   "outputs": [
    {
     "name": "stdout",
     "output_type": "stream",
     "text": [
      "  1         1         1\n",
      "  2         4         8\n",
      "  3         9        27\n",
      "  4        16        64\n",
      "  5        25       125\n",
      "  6        36       216\n",
      "  7        49       343\n",
      "  8        64       512\n",
      "  9        81       729\n",
      " 10       100      1000\n",
      "\n"
     ]
    }
   ],
   "source": [
    "# Reading and Writing text files\n",
    "s = \"\"\n",
    "for x in range(1, 11):\n",
    "    s += repr(x).rjust(3) + repr(x ** 2).rjust(10) + repr(x ** 3).rjust(10) + '\\n'\n",
    "filename = \"test.txt\"\n",
    "fp = open(filename, \"w\")\n",
    "fp.write(s)\n",
    "fp.close()\n",
    "\n",
    "fp = open(filename, \"r\")\n",
    "s_new = fp.read()\n",
    "fp.close()\n",
    "print(s_new)\n"
   ]
  },
  {
   "cell_type": "code",
   "execution_count": 71,
   "id": "dramatic-occasions",
   "metadata": {},
   "outputs": [
    {
     "name": "stdout",
     "output_type": "stream",
     "text": [
      "  1         1         1\n",
      "  2         4         8\n",
      "  3         9        27\n",
      "  4        16        64\n",
      "  5        25       125\n",
      "  6        36       216\n",
      "  7        49       343\n",
      "  8        64       512\n",
      "  9        81       729\n",
      " 10       100      1000\n",
      "\n",
      "Is file closed: True\n"
     ]
    }
   ],
   "source": [
    "# Using with to working with files\n",
    "filename = \"test.txt\"\n",
    "with open(filename) as fp:\n",
    "    s_new = fp.read()\n",
    "print(s_new)\n",
    "print(f\"Is file closed: {fp.closed:}\")"
   ]
  },
  {
   "cell_type": "code",
   "execution_count": 90,
   "id": "finished-house",
   "metadata": {},
   "outputs": [
    {
     "name": "stdout",
     "output_type": "stream",
     "text": [
      "  1         1         1\n",
      "   2         4         8\n",
      "   3         9        27\n",
      "   4        16        64\n",
      "   5        25       125\n",
      "   6        36       216\n",
      "   7        49       343\n",
      "   8        64       512\n",
      "   9        81       729\n",
      "  10       100      1000\n",
      " \n"
     ]
    }
   ],
   "source": [
    "# Read line by line\n",
    "lines = []\n",
    "filename = \"test.txt\"\n",
    "with open(filename) as fp:\n",
    "    line = fp.readline()\n",
    "    while line:\n",
    "        lines.append(line)\n",
    "        line = fp.readline()\n",
    "    \n",
    "for line in lines:\n",
    "    print(line, end = ' ')\n",
    "print()"
   ]
  },
  {
   "cell_type": "code",
   "execution_count": 93,
   "id": "resident-disorder",
   "metadata": {},
   "outputs": [
    {
     "name": "stdout",
     "output_type": "stream",
     "text": [
      "  1         1         1\n",
      "   2         4         8\n",
      "   3         9        27\n",
      "   4        16        64\n",
      "   5        25       125\n",
      "   6        36       216\n",
      "   7        49       343\n",
      "   8        64       512\n",
      "   9        81       729\n",
      "  10       100      1000\n",
      " \n"
     ]
    }
   ],
   "source": [
    "# Read all lines\n",
    "filename = \"test.txt\"\n",
    "with open(filename) as fp:\n",
    "    lines = fp.readlines()\n",
    "\n",
    "for line in lines:\n",
    "    print(line, end = ' ')\n",
    "print()"
   ]
  },
  {
   "cell_type": "code",
   "execution_count": 98,
   "id": "judicial-florist",
   "metadata": {},
   "outputs": [
    {
     "name": "stdout",
     "output_type": "stream",
     "text": [
      "       25       125\n",
      "  6        36       216\n",
      "  7        49       343\n",
      "  8        64       512\n",
      "  9     \n"
     ]
    }
   ],
   "source": [
    "# Navigate the file\n",
    "filename = \"test.txt\"\n",
    "with open(filename, \"r\") as fp:\n",
    "    fp.seek(100)\n",
    "    s = fp.read(100)\n",
    "    print(s)"
   ]
  },
  {
   "cell_type": "code",
   "execution_count": 142,
   "id": "imposed-chest",
   "metadata": {},
   "outputs": [
    {
     "name": "stdout",
     "output_type": "stream",
     "text": [
      "\n",
      "[1, 1, 1, 2, 4, 8, 3, 9, 27, 4, 16, 64, 5, 25, 125, 6, 36, 216, 7, 49, 343, 8, 64, 512, 9, 81, 729, 10, 100, 1000]\n"
     ]
    }
   ],
   "source": [
    "# Save and Read Binary Files\n",
    "N = 10\n",
    "M = 3\n",
    "\n",
    "lst = [(el, el ** 2, el ** 3) for el in range(1, N+1)]\n",
    "filename = \"test_binary.bin\"\n",
    "with open(filename, \"wb\") as fp:\n",
    "    for i in range(N):\n",
    "        for j in range(M):\n",
    "            fp.write( lst[i][j].to_bytes(4, byteorder = \"big\", signed = True) )\n",
    "\n",
    "lst_new = []\n",
    "with open(filename, \"rb\") as fp:\n",
    "    # EOF: read returns b''\n",
    "    i = fp.read(4)\n",
    "    while i:\n",
    "        lst_new.append( int.from_bytes(i, byteorder = \"big\", signed = True) )\n",
    "        i = fp.read(4)\n",
    "    lst_structured = []\n",
    "    for i in range(N):\n",
    "        lst_structured.append( lst_new[i:i+M] )\n",
    "        \n",
    "        \n",
    "        \n",
    "print()\n",
    "print(lst_new)"
   ]
  },
  {
   "cell_type": "code",
   "execution_count": null,
   "id": "british-industry",
   "metadata": {},
   "outputs": [],
   "source": []
  }
 ],
 "metadata": {
  "kernelspec": {
   "display_name": "Python 3",
   "language": "python",
   "name": "python3"
  },
  "language_info": {
   "codemirror_mode": {
    "name": "ipython",
    "version": 3
   },
   "file_extension": ".py",
   "mimetype": "text/x-python",
   "name": "python",
   "nbconvert_exporter": "python",
   "pygments_lexer": "ipython3",
   "version": "3.8.5"
  }
 },
 "nbformat": 4,
 "nbformat_minor": 5
}
