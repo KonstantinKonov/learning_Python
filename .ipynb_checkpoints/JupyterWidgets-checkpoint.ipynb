{
 "cells": [
  {
   "cell_type": "code",
   "execution_count": 43,
   "id": "challenging-senate",
   "metadata": {},
   "outputs": [
    {
     "data": {
      "application/vnd.jupyter.widget-view+json": {
       "model_id": "8e9f55110c3d475aabf34e91526753c4",
       "version_major": 2,
       "version_minor": 0
      },
      "text/plain": [
       "interactive(children=(IntSlider(value=10, description='x', max=30, min=-10), Output()), _dom_classes=('widget-…"
      ]
     },
     "metadata": {},
     "output_type": "display_data"
    },
    {
     "data": {
      "application/vnd.jupyter.widget-view+json": {
       "model_id": "6cef2636e86241a79306bcd6c586b307",
       "version_major": 2,
       "version_minor": 0
      },
      "text/plain": [
       "interactive(children=(Checkbox(value=True, description='x'), Output()), _dom_classes=('widget-interact',))"
      ]
     },
     "metadata": {},
     "output_type": "display_data"
    },
    {
     "data": {
      "application/vnd.jupyter.widget-view+json": {
       "model_id": "cb69679791e04c9b8dc4b3cae226a8bf",
       "version_major": 2,
       "version_minor": 0
      },
      "text/plain": [
       "interactive(children=(Dropdown(description='x', options=(1, 2, 3), value=1), Output()), _dom_classes=('widget-…"
      ]
     },
     "metadata": {},
     "output_type": "display_data"
    },
    {
     "data": {
      "application/vnd.jupyter.widget-view+json": {
       "model_id": "22938a2aedcc46caa773115be1835136",
       "version_major": 2,
       "version_minor": 0
      },
      "text/plain": [
       "interactive(children=(Dropdown(description='x', options=(('one', 1), ('two', 2)), value=1), Output()), _dom_cl…"
      ]
     },
     "metadata": {},
     "output_type": "display_data"
    },
    {
     "data": {
      "application/vnd.jupyter.widget-view+json": {
       "model_id": "e61a655182d04c57a13bafd9acf8c423",
       "version_major": 2,
       "version_minor": 0
      },
      "text/plain": [
       "interactive(children=(Dropdown(description='x', options={'one': 1, 'two': 2}, value=1), Output()), _dom_classe…"
      ]
     },
     "metadata": {},
     "output_type": "display_data"
    },
    {
     "data": {
      "application/vnd.jupyter.widget-view+json": {
       "model_id": "7ae575daa4fd4c5ea80e4b21c8119440",
       "version_major": 2,
       "version_minor": 0
      },
      "text/plain": [
       "interactive(children=(IntSlider(value=0, description='x', max=5, min=-5), Output()), _dom_classes=('widget-int…"
      ]
     },
     "metadata": {},
     "output_type": "display_data"
    },
    {
     "data": {
      "application/vnd.jupyter.widget-view+json": {
       "model_id": "b59af4ab8d84422fb8cb4994644f365f",
       "version_major": 2,
       "version_minor": 0
      },
      "text/plain": [
       "interactive(children=(IntSlider(value=0, description='x', max=10, min=-10, step=2), Output()), _dom_classes=('…"
      ]
     },
     "metadata": {},
     "output_type": "display_data"
    },
    {
     "data": {
      "application/vnd.jupyter.widget-view+json": {
       "model_id": "7fd40f7d97e444e3b9411038e92e43f4",
       "version_major": 2,
       "version_minor": 0
      },
      "text/plain": [
       "interactive(children=(FloatSlider(value=0.0, description='x', max=5.0, min=-5.0), Output()), _dom_classes=('wi…"
      ]
     },
     "metadata": {},
     "output_type": "display_data"
    },
    {
     "data": {
      "application/vnd.jupyter.widget-view+json": {
       "model_id": "4f27022d3ef444b48b905274adecdd38",
       "version_major": 2,
       "version_minor": 0
      },
      "text/plain": [
       "interactive(children=(Text(value='Hello World', description='x'), Output()), _dom_classes=('widget-interact',)…"
      ]
     },
     "metadata": {},
     "output_type": "display_data"
    },
    {
     "data": {
      "application/vnd.jupyter.widget-view+json": {
       "model_id": "3736a4dfa83d42e393827f41b138f2f2",
       "version_major": 2,
       "version_minor": 0
      },
      "text/plain": [
       "interactive(children=(FloatSlider(value=4.5, description='x', max=5.0, min=-5.0), Output()), _dom_classes=('wi…"
      ]
     },
     "metadata": {},
     "output_type": "display_data"
    },
    {
     "data": {
      "application/vnd.jupyter.widget-view+json": {
       "model_id": "892b5f0ed34141ddb9aa720e68bf182e",
       "version_major": 2,
       "version_minor": 0
      },
      "text/plain": [
       "interactive(children=(Checkbox(value=False, description='x'), FloatSlider(value=1.0, description='y', max=3.0,…"
      ]
     },
     "metadata": {},
     "output_type": "display_data"
    },
    {
     "data": {
      "application/vnd.jupyter.widget-view+json": {
       "model_id": "c1b3b36faaae4d1bbe457ead6b3b7349",
       "version_major": 2,
       "version_minor": 0
      },
      "text/plain": [
       "interactive(children=(IntSlider(value=5, description='p', max=15, min=-5), Output()), _dom_classes=('widget-in…"
      ]
     },
     "metadata": {},
     "output_type": "display_data"
    },
    {
     "data": {
      "application/vnd.jupyter.widget-view+json": {
       "model_id": "e2d3037977f14ca1b1489ccaba1e0fbd",
       "version_major": 2,
       "version_minor": 0
      },
      "text/plain": [
       "interactive(children=(FloatSlider(value=10.0, description='x', max=20.0, min=-10.0, step=2.0), Output()), _dom…"
      ]
     },
     "metadata": {},
     "output_type": "display_data"
    },
    {
     "data": {
      "text/plain": [
       "<function __main__.f(x)>"
      ]
     },
     "execution_count": 43,
     "metadata": {},
     "output_type": "execute_result"
    }
   ],
   "source": [
    "# Using Interact\n",
    "from __future__ import print_function\n",
    "from ipywidgets import interact, interactive, fixed, interact_manual\n",
    "import ipywidgets as widgets\n",
    "\n",
    "def f(x):\n",
    "    return x\n",
    "\n",
    "interact(f, x = 10)\n",
    "interact(f, x = True)\n",
    "interact(f, x = [1, 2, 3])\n",
    "interact(f, x = [(\"one\", 1), (\"two\", 2)])\n",
    "interact(f, x = {\"one\":1, \"two\":2})\n",
    "interact(f, x = (-5, 5))\n",
    "interact(f, x = (-10, 10, 2))\n",
    "interact(f, x = (-5.0, 5.0, 0.1))\n",
    "interact(f, x = \"Hello World\")\n",
    "\n",
    "@interact(x = (-5.0, 5.0, 0.1))\n",
    "def h(x = 4.5):\n",
    "    return x\n",
    "\n",
    "@interact(x = False, y = 1.0)\n",
    "def g(x, y):\n",
    "    return (x, y)\n",
    "\n",
    "def h(p, q):\n",
    "    return (p, q)\n",
    "interact(h, p = 5, q = fixed(20));\n",
    "\n",
    "interact(f, x = widgets.FloatSlider(min = -10, max = 20, step = 2, value = 10))"
   ]
  },
  {
   "cell_type": "code",
   "execution_count": 50,
   "id": "united-alliance",
   "metadata": {},
   "outputs": [
    {
     "data": {
      "application/vnd.jupyter.widget-view+json": {
       "model_id": "aaed37390ff84095bcc4307fd861c97d",
       "version_major": 2,
       "version_minor": 0
      },
      "text/plain": [
       "interactive(children=(IntSlider(value=10, description='a', max=30, min=-10), IntSlider(value=20, description='…"
      ]
     },
     "metadata": {},
     "output_type": "display_data"
    }
   ],
   "source": [
    "# Interactive\n",
    "from IPython.display import display\n",
    "def f(a, b):\n",
    "    display(a + b)\n",
    "    return a + b\n",
    "\n",
    "wdg = interactive(f, a = 10, b = 20)\n",
    "display(wdg)"
   ]
  },
  {
   "cell_type": "code",
   "execution_count": 71,
   "id": "nuclear-medicine",
   "metadata": {},
   "outputs": [
    {
     "data": {
      "application/vnd.jupyter.widget-view+json": {
       "model_id": "b0661be7163643c7b880cba87762da64",
       "version_major": 2,
       "version_minor": 0
      },
      "text/plain": [
       "interactive(children=(FloatSlider(value=100000.0, description='i', max=10000000.0, min=100000.0, step=100000.0…"
      ]
     },
     "metadata": {},
     "output_type": "display_data"
    }
   ],
   "source": [
    "# Disabling Continious Update: The Problem\n",
    "\n",
    "import time\n",
    "\n",
    "def slow_function(i):\n",
    "    tic = time.perf_counter()\n",
    "    print(int(i), list(x for x in range(int(i)) if str(x) == str(x)[::-1] and str(x ** 2) == str(x ** 2)[::-1]))\n",
    "    toc = time.perf_counter()\n",
    "    print(\"{:.3f} ms\".format(1000 * (toc - tic)))\n",
    "    return\n",
    "\n",
    "from ipywidgets import FloatSlider\n",
    "\n",
    "interact(slow_function, i = FloatSlider(min = 1e5, max = 1e7, step = 1e5));\n"
   ]
  },
  {
   "cell_type": "code",
   "execution_count": 72,
   "id": "stable-accident",
   "metadata": {},
   "outputs": [
    {
     "data": {
      "application/vnd.jupyter.widget-view+json": {
       "model_id": "7c15b7887af84a0bac0b72955e5c09f1",
       "version_major": 2,
       "version_minor": 0
      },
      "text/plain": [
       "interactive(children=(FloatSlider(value=100000.0, description='i', max=10000000.0, min=100000.0, step=100000.0…"
      ]
     },
     "metadata": {},
     "output_type": "display_data"
    },
    {
     "data": {
      "text/plain": [
       "<function __main__.slow_function(i)>"
      ]
     },
     "execution_count": 72,
     "metadata": {},
     "output_type": "execute_result"
    }
   ],
   "source": [
    "# Solution 1: interact_manual\n",
    "interact_manual(slow_function, i = FloatSlider(min = 1e5, max = 1e7, step = 1e5))"
   ]
  },
  {
   "cell_type": "code",
   "execution_count": 74,
   "id": "viral-amber",
   "metadata": {},
   "outputs": [
    {
     "data": {
      "application/vnd.jupyter.widget-view+json": {
       "model_id": "51cd24267e4d4dd99b90369a21d6aff4",
       "version_major": 2,
       "version_minor": 0
      },
      "text/plain": [
       "interactive(children=(FloatSlider(value=10000.0, description='i', max=1000000.0, min=10000.0, step=10000.0), B…"
      ]
     },
     "metadata": {},
     "output_type": "display_data"
    }
   ],
   "source": [
    "# Solution 2: imteractive\n",
    "slow = interactive(slow_function, {\"manual\": True}, i = widgets.FloatSlider(min = 1e4, max = 1e6, step = 1e4))\n",
    "slow"
   ]
  },
  {
   "cell_type": "code",
   "execution_count": 83,
   "id": "possible-pressure",
   "metadata": {},
   "outputs": [
    {
     "data": {
      "application/vnd.jupyter.widget-view+json": {
       "model_id": "25516f61ae6c4a8baaf845f54e6cd1fb",
       "version_major": 2,
       "version_minor": 0
      },
      "text/plain": [
       "HBox(children=(IntSlider(value=0), IntSlider(value=0), IntSlider(value=0)))"
      ]
     },
     "metadata": {},
     "output_type": "display_data"
    },
    {
     "data": {
      "application/vnd.jupyter.widget-view+json": {
       "model_id": "f4128faae51847c7a74133757d260752",
       "version_major": 2,
       "version_minor": 0
      },
      "text/plain": [
       "Output()"
      ]
     },
     "metadata": {},
     "output_type": "display_data"
    }
   ],
   "source": [
    "# interactive_output\n",
    "from ipywidgets import interact, interactive, fixed, interact_manual\n",
    "import ipywidgets as widgets\n",
    "\n",
    "a = widgets.IntSlider()\n",
    "b = widgets.IntSlider()\n",
    "c = widgets.IntSlider()\n",
    "ui = widgets.HBox([a, b, c])\n",
    "\n",
    "def fun(a, b, c):\n",
    "    print((a, b, c))\n",
    "    \n",
    "out = widgets.interactive_output(fun, {'a':a, 'b':b, 'c':c})\n",
    "display(ui, out)"
   ]
  },
  {
   "cell_type": "code",
   "execution_count": 84,
   "id": "manufactured-percentage",
   "metadata": {},
   "outputs": [
    {
     "data": {
      "application/vnd.jupyter.widget-view+json": {
       "model_id": "db5879ff199847e5bd14b8b0e7560792",
       "version_major": 2,
       "version_minor": 0
      },
      "text/plain": [
       "interactive(children=(FloatSlider(value=0.0, description='x', max=10.0, step=0.05), FloatSlider(value=5.0, des…"
      ]
     },
     "metadata": {},
     "output_type": "display_data"
    },
    {
     "data": {
      "text/plain": [
       "<function __main__.printer(x, y)>"
      ]
     },
     "execution_count": 84,
     "metadata": {},
     "output_type": "execute_result"
    }
   ],
   "source": [
    "# Dependent Arguments\n",
    "from ipywidgets import interact, interactive, fixed, interact_manual\n",
    "import ipywidgets as widgets\n",
    "\n",
    "x_widget = FloatSlider(min = 0.0, max = 10.0, step = 0.05)\n",
    "y_widget = FloatSlider(min = 0.0, max = 10.0, step = 0.05, value = 5.0)\n",
    "\n",
    "def update_x_range(*args):\n",
    "    x_widget.max = 2.0 * y_widget.value\n",
    "y_widget.observe(update_x_range, \"value\")\n",
    "\n",
    "def printer(x, y):\n",
    "    print(x, y)\n",
    "interact(printer, x = x_widget, y = y_widget)"
   ]
  },
  {
   "cell_type": "code",
   "execution_count": 90,
   "id": "growing-albania",
   "metadata": {},
   "outputs": [
    {
     "data": {
      "application/vnd.jupyter.widget-view+json": {
       "model_id": "1c0e3dfd5f45429bba50bc58d0033344",
       "version_major": 2,
       "version_minor": 0
      },
      "text/plain": [
       "interactive(children=(FloatSlider(value=0.0, description='m', max=2.0, min=-2.0), FloatSlider(value=0.0, descr…"
      ]
     },
     "metadata": {},
     "output_type": "display_data"
    }
   ],
   "source": [
    "# MatPlotLib Interactive 1\n",
    "%matplotlib inline\n",
    "from ipywidgets import interactive\n",
    "import matplotlib.pyplot as plt\n",
    "import numpy as np\n",
    "\n",
    "def fun(m, b):\n",
    "    plt.figure(2)\n",
    "    x = np.linspace(-10, 10, num = 1000)\n",
    "    plt.plot(x, m * x + b)\n",
    "    plt.ylim(-5, 5)\n",
    "    plt.show()\n",
    "\n",
    "interactive_plot = interactive(fun, m = (-2.0, 2.0), b = (-3, 3, .5))\n",
    "output = interactive_plot.children[-1]\n",
    "output.layout.height = \"350px\"\n",
    "interactive_plot"
   ]
  },
  {
   "cell_type": "code",
   "execution_count": 102,
   "id": "comfortable-stuart",
   "metadata": {},
   "outputs": [
    {
     "data": {
      "application/vnd.jupyter.widget-view+json": {
       "model_id": "2716a7b0ebc94d5385403a84b948ef4b",
       "version_major": 2,
       "version_minor": 0
      },
      "text/plain": [
       "interactive(children=(FloatSlider(value=50.00000000000001, description='amp', min=0.1), FloatSlider(value=5.0,…"
      ]
     },
     "metadata": {},
     "output_type": "display_data"
    }
   ],
   "source": [
    "# MatPlotLib Interactive 2\n",
    "%matplotlib inline\n",
    "from ipywidgets import interactive\n",
    "import numpy as np\n",
    "\n",
    "def fun(amp, freq, phase):\n",
    "    plt.figure(2)\n",
    "    x = np.linspace(-10, 10, 1000)\n",
    "    plt.plot(x, np.exp(- (x ** 2)/amp) * np.sin(x * freq + phase))\n",
    "    plt.ylim(- 2, 2)\n",
    "    plt.show()\n",
    "    \n",
    "    \n",
    "interactive_plot = interactive(fun, amp = (0.1, 100.0, 0.1), freq = (0.1, 10, 0.1), phase = (-np.pi, np.pi, np.pi/100.))\n",
    "output = interactive_plot.children[-1]\n",
    "output.layout.height = \"350px\"\n",
    "output.layout.width = \"500px\"\n",
    "interactive_plot"
   ]
  },
  {
   "cell_type": "code",
   "execution_count": 128,
   "id": "tight-salad",
   "metadata": {},
   "outputs": [
    {
     "data": {
      "application/vnd.jupyter.widget-view+json": {
       "model_id": "147d07264dcf44fb9953ced93eec4f56",
       "version_major": 2,
       "version_minor": 0
      },
      "text/plain": [
       "IntSlider(value=0)"
      ]
     },
     "metadata": {},
     "output_type": "display_data"
    },
    {
     "data": {
      "application/vnd.jupyter.widget-view+json": {
       "model_id": "",
       "version_major": 2,
       "version_minor": 0
      },
      "text/plain": [
       "IntSlider(value=0)"
      ]
     },
     "metadata": {},
     "output_type": "display_data"
    },
    {
     "data": {
      "application/vnd.jupyter.widget-view+json": {
       "model_id": "",
       "version_major": 2,
       "version_minor": 0
      },
      "text/plain": [
       "IntSlider(value=0)"
      ]
     },
     "metadata": {},
     "output_type": "display_data"
    }
   ],
   "source": [
    "# Widgets: Basics 1\n",
    "import ipywidgets as wgts\n",
    "\n",
    "display(wgts.IntSlider())\n",
    "\n",
    "sldr = wgts.IntSlider()\n",
    "display(sldr)\n",
    "display(sldr)\n",
    "\n",
    "import time\n",
    "import random as rnd\n",
    "i = 0\n",
    "while i < 10:\n",
    "    time.sleep(0.25)\n",
    "    sldr.value = rnd.randint(0, 100)\n",
    "    i += 1\n",
    "time.sleep(3)\n",
    "sldr.layout.visibility = \"hidden\"\n",
    "time.sleep(3)\n",
    "sldr.layout.visibility = \"visible\"\n",
    "time.sleep(3)\n",
    "sldr.layout.disabled = True\n",
    "time.sleep(3)\n",
    "sldr.close()\n",
    "\n"
   ]
  },
  {
   "cell_type": "code",
   "execution_count": 139,
   "id": "extraordinary-ottawa",
   "metadata": {},
   "outputs": [
    {
     "data": {
      "application/vnd.jupyter.widget-view+json": {
       "model_id": "7b82a36405994e9998cfa35bf999b16f",
       "version_major": 2,
       "version_minor": 0
      },
      "text/plain": [
       "IntText(value=5)"
      ]
     },
     "metadata": {},
     "output_type": "display_data"
    },
    {
     "data": {
      "application/vnd.jupyter.widget-view+json": {
       "model_id": "0f2b0ce7943c49ff98e40e26e569897b",
       "version_major": 2,
       "version_minor": 0
      },
      "text/plain": [
       "FloatText(value=0.0)"
      ]
     },
     "metadata": {},
     "output_type": "display_data"
    },
    {
     "data": {
      "application/vnd.jupyter.widget-view+json": {
       "model_id": "b5d7c89471bd4be8bc7a86a0da08b15c",
       "version_major": 2,
       "version_minor": 0
      },
      "text/plain": [
       "FloatSlider(value=0.0, max=10.0, min=-10.0)"
      ]
     },
     "metadata": {},
     "output_type": "display_data"
    }
   ],
   "source": [
    "# Widgets: Basics 2 - Linking\n",
    "import ipywidgets as wgts\n",
    "\n",
    "a = wgts.BoundedIntText(min = -10, max = 10, value = \"5\")\n",
    "b = wgts.FloatText()\n",
    "c = wgts.FloatSlider(min = -10, max = 10, step = 0.1)\n",
    "display(a, b, c)\n",
    "\n",
    "lnk_1 = wgts.jslink((a, \"value\"), (b, \"value\"))\n",
    "lnk_2 = wgts.jslink((a, \"value\"), (c, \"value\"))\n",
    "\n",
    "# Unlinking\n",
    "import time\n",
    "time.sleep(5)\n",
    "#lnk_1.unlink()\n",
    "#lnk_2.unlink()"
   ]
  },
  {
   "cell_type": "code",
   "execution_count": null,
   "id": "nonprofit-addiction",
   "metadata": {},
   "outputs": [],
   "source": []
  }
 ],
 "metadata": {
  "kernelspec": {
   "display_name": "Python 3",
   "language": "python",
   "name": "python3"
  },
  "language_info": {
   "codemirror_mode": {
    "name": "ipython",
    "version": 3
   },
   "file_extension": ".py",
   "mimetype": "text/x-python",
   "name": "python",
   "nbconvert_exporter": "python",
   "pygments_lexer": "ipython3",
   "version": "3.8.5"
  }
 },
 "nbformat": 4,
 "nbformat_minor": 5
}
